{
 "cells": [
  {
   "cell_type": "code",
   "execution_count": 69,
   "metadata": {},
   "outputs": [],
   "source": [
    "# %load_ext autoreload\n",
    "# %autoreload"
   ]
  },
  {
   "cell_type": "code",
   "execution_count": 70,
   "metadata": {},
   "outputs": [
    {
     "name": "stdout",
     "output_type": "stream",
     "text": [
      "/home/raid1/drose/PhD/12_NMM_Framework/PyRates\n"
     ]
    }
   ],
   "source": [
    "cd ../PyRates"
   ]
  },
  {
   "cell_type": "code",
   "execution_count": 71,
   "metadata": {},
   "outputs": [
    {
     "name": "stdout",
     "output_type": "stream",
     "text": [
      "\u001b[0m\u001b[01;34mdocumentation\u001b[0m/  \u001b[01;34mmodels\u001b[0m/   PyRates_logo.png  setup.py  \u001b[01;34mtests\u001b[0m/\r\n",
      "LICENSE         \u001b[01;34mpyrates\u001b[0m/  README.md         \u001b[01;34mstubs\u001b[0m/\r\n"
     ]
    }
   ],
   "source": [
    "ls"
   ]
  },
  {
   "cell_type": "code",
   "execution_count": null,
   "metadata": {},
   "outputs": [],
   "source": []
  },
  {
   "cell_type": "code",
   "execution_count": 72,
   "metadata": {},
   "outputs": [],
   "source": [
    "from pyrates.circuit import CircuitTemplate"
   ]
  },
  {
   "cell_type": "code",
   "execution_count": 73,
   "metadata": {},
   "outputs": [],
   "source": [
    "circuit = CircuitTemplate.from_yaml(\"pyrates.circuit.templates.JansenRitCircuit\").apply()"
   ]
  },
  {
   "cell_type": "code",
   "execution_count": 74,
   "metadata": {},
   "outputs": [
    {
     "data": {
      "text/plain": [
       "<pyrates.circuit.circuit.Circuit at 0x7fd364bd8278>"
      ]
     },
     "execution_count": 74,
     "metadata": {},
     "output_type": "execute_result"
    }
   ],
   "source": [
    "circuit"
   ]
  },
  {
   "cell_type": "code",
   "execution_count": 75,
   "metadata": {},
   "outputs": [
    {
     "name": "stdout",
     "output_type": "stream",
     "text": [
      "{'node': {'inputs': {'m_in'},\n",
      "          'operators': {...},\n",
      "          'output': 'm_out',\n",
      "          'template': <NodeTemplate 'pyrates.population.templates.JansenRitPC'>}}\n"
     ]
    }
   ],
   "source": [
    "from pprint import pprint\n",
    "pprint(circuit.nodes[\"JR_PC\"], indent=1, depth=2)"
   ]
  },
  {
   "cell_type": "code",
   "execution_count": 76,
   "metadata": {},
   "outputs": [
    {
     "name": "stdout",
     "output_type": "stream",
     "text": [
      "{('pyrates.axon.templates.JansenRitPRO', None): {'operator': {...}, 'values': {...}},\n",
      " ('pyrates.population.templates.JansenRitCPO', None): {'operator': {...}, 'values': {...}},\n",
      " ('pyrates.synapse.templates.JansenRitExcitatorySynapseRCO', None): {'operator': {...},\n",
      "                                                                     'values': {...}},\n",
      " ('pyrates.synapse.templates.JansenRitInhibitorySynapseRCO', None): {'operator': {...},\n",
      "                                                                     'values': {...}}}\n"
     ]
    }
   ],
   "source": [
    "pprint(circuit.nodes[\"JR_PC\"][\"node\"][\"operators\"], indent=1, depth=2, width=100)"
   ]
  },
  {
   "cell_type": "code",
   "execution_count": 77,
   "metadata": {},
   "outputs": [],
   "source": [
    "operators = circuit.nodes[\"JR_PC\"][\"node\"][\"operators\"]"
   ]
  },
  {
   "cell_type": "code",
   "execution_count": 78,
   "metadata": {},
   "outputs": [
    {
     "name": "stdout",
     "output_type": "stream",
     "text": [
      "{'operator': {'equation': ['d/dt * I = I_t',\n",
      "                           'd/dt * I_t =  h/tau * m_in - (1/tau)^2 * I - 2 * 1/tau * I_t'],\n",
      "              'inputs': ['m_in'],\n",
      "              'output': 'I',\n",
      "              'variables': {'I': {'data_type': 'float32',\n",
      "                                  'description': 'Electric current across synaptic membrane '\n",
      "                                                 'reflecting synaptic activation due to a '\n",
      "                                                 'pre-synaptic firing rate.\\n',\n",
      "                                  'name': 'synaptic_current',\n",
      "                                  'unit': 'A',\n",
      "                                  'variable_type': 'state_var'},\n",
      "                            'I_t': {'data_type': 'float32',\n",
      "                                    'description': 'integration variable',\n",
      "                                    'variable_type': 'state_var'},\n",
      "                            'h': {'data_type': 'float32',\n",
      "                                  'description': 'Synaptic efficacy. Scales the synaptic '\n",
      "                                                 'activation.',\n",
      "                                  'name': 'efficacy',\n",
      "                                  'unit': 'A',\n",
      "                                  'variable_type': 'constant'},\n",
      "                            'm_in': {'data_type': 'float32',\n",
      "                                     'description': 'Mean incoming firing rate at a specific '\n",
      "                                                    'synapse type',\n",
      "                                     'name': 'incoming_firing_rate',\n",
      "                                     'unit': '1/s',\n",
      "                                     'variable_type': 'state_var'},\n",
      "                            'tau': {'data_type': 'float32',\n",
      "                                    'description': 'Synaptic time constant. Determining the '\n",
      "                                                   'lag/shape of the exponential convolution '\n",
      "                                                   'kernel.',\n",
      "                                    'unit': 's',\n",
      "                                    'variable_type': 'constant'}}},\n",
      " 'values': {'h': -0.022, 'tau': 0.02}}\n"
     ]
    }
   ],
   "source": [
    "pprint(operators[('pyrates.synapse.templates.JansenRitExcitatorySynapseRCO', None)], width=100)"
   ]
  },
  {
   "cell_type": "code",
   "execution_count": 79,
   "metadata": {},
   "outputs": [
    {
     "name": "stdout",
     "output_type": "stream",
     "text": [
      "[('JR_PC',\n",
      "  {'node': {'inputs': {'m_in'},\n",
      "            'operators': {...},\n",
      "            'output': 'm_out',\n",
      "            'template': <NodeTemplate 'pyrates.population.templates.JansenRitPC'>}}),\n",
      " ('JR_IIN',\n",
      "  {'node': {'inputs': {'m_in'},\n",
      "            'operators': {...},\n",
      "            'output': 'm_out',\n",
      "            'template': <NodeTemplate 'pyrates.population.templates.JansenRitIN'>}}),\n",
      " ('JR_EIN',\n",
      "  {'node': {'inputs': {'m_in'},\n",
      "            'operators': {...},\n",
      "            'output': 'm_out',\n",
      "            'template': <NodeTemplate 'pyrates.population.templates.JansenRitIN'>}})]\n"
     ]
    }
   ],
   "source": [
    "pprint(list(circuit.nodes(data=True)), depth=4)"
   ]
  },
  {
   "cell_type": "code",
   "execution_count": 80,
   "metadata": {},
   "outputs": [
    {
     "name": "stdout",
     "output_type": "stream",
     "text": [
      "{'operator': {'equation': ['d/dt * I = I_t',\n",
      "                           'd/dt * I_t =  h/tau * m_in - (1/tau)^2 * I - 2 * '\n",
      "                           '1/tau * I_t'],\n",
      "              'inputs': ['m_in'],\n",
      "              'output': 'I',\n",
      "              'variables': {'I': {'data_type': 'float32',\n",
      "                                  'description': 'Electric current across '\n",
      "                                                 'synaptic membrane reflecting '\n",
      "                                                 'synaptic activation due to a '\n",
      "                                                 'pre-synaptic firing rate.\\n',\n",
      "                                  'name': 'synaptic_current',\n",
      "                                  'unit': 'A',\n",
      "                                  'variable_type': 'state_var'},\n",
      "                            'I_t': {'data_type': 'float32',\n",
      "                                    'description': 'integration variable',\n",
      "                                    'variable_type': 'state_var'},\n",
      "                            'h': {'data_type': 'float32',\n",
      "                                  'description': 'Synaptic efficacy. Scales '\n",
      "                                                 'the synaptic activation.',\n",
      "                                  'name': 'efficacy',\n",
      "                                  'unit': 'A',\n",
      "                                  'variable_type': 'constant'},\n",
      "                            'm_in': {'data_type': 'float32',\n",
      "                                     'description': 'Mean incoming firing rate '\n",
      "                                                    'at a specific synapse '\n",
      "                                                    'type',\n",
      "                                     'name': 'incoming_firing_rate',\n",
      "                                     'unit': '1/s',\n",
      "                                     'variable_type': 'state_var'},\n",
      "                            'tau': {'data_type': 'float32',\n",
      "                                    'description': 'Synaptic time constant. '\n",
      "                                                   'Determining the lag/shape '\n",
      "                                                   'of the exponential '\n",
      "                                                   'convolution kernel.',\n",
      "                                    'unit': 's',\n",
      "                                    'variable_type': 'constant'}}},\n",
      " 'values': {'h': -0.022, 'tau': 0.02}}\n"
     ]
    }
   ],
   "source": [
    "pprint(circuit.nodes[\"JR_PC\"][\"node\"][\"operators\"][('pyrates.synapse.templates.JansenRitExcitatorySynapseRCO',\n",
    "  None)])"
   ]
  },
  {
   "cell_type": "code",
   "execution_count": 81,
   "metadata": {},
   "outputs": [
    {
     "name": "stdout",
     "output_type": "stream",
     "text": [
      "{'node': {'inputs': {'m_in'},\n",
      "          'operators': {(...): {...}, (...): {...}, (...): {...}, (...): {...}},\n",
      "          'output': 'm_out',\n",
      "          'template': <NodeTemplate 'pyrates.population.templates.JansenRitPC'>}}\n"
     ]
    }
   ],
   "source": [
    "pprint(circuit.nodes[\"JR_PC\"], depth=3, width=120)"
   ]
  },
  {
   "cell_type": "code",
   "execution_count": 82,
   "metadata": {},
   "outputs": [
    {
     "name": "stdout",
     "output_type": "stream",
     "text": [
      "[('JR_PC',\n",
      "  'JR_IIN',\n",
      "  {'operators': {'LC': {...}},\n",
      "   'target_operator': 'pyrates.synapse.templates.JansenRitExcitatorySynapseRCO',\n",
      "   'values': {'c': 33.75}}),\n",
      " ('JR_PC',\n",
      "  'JR_EIN',\n",
      "  {'operators': {'LC': {...}},\n",
      "   'target_operator': 'pyrates.synapse.templates.JansenRitExcitatorySynapseRCO',\n",
      "   'values': {'c': 135.0}}),\n",
      " ('JR_IIN',\n",
      "  'JR_PC',\n",
      "  {'operators': {'LC': {...}},\n",
      "   'target_operator': 'pyrates.synapse.templates.JansenRitInhibitorySynapseRCO',\n",
      "   'values': {'c': 33.75}}),\n",
      " ('JR_EIN',\n",
      "  'JR_PC',\n",
      "  {'operators': {'LC': {...}},\n",
      "   'target_operator': 'pyrates.synapse.templates.JansenRitExcitatorySynapseRCO',\n",
      "   'values': {'c': 108.0}})]\n"
     ]
    }
   ],
   "source": [
    "pprint(list(circuit.edges(data=True)), depth=4)"
   ]
  },
  {
   "cell_type": "code",
   "execution_count": 83,
   "metadata": {},
   "outputs": [
    {
     "name": "stdout",
     "output_type": "stream",
     "text": [
      "{'operators': {'LC': {'equation': ['m_in = c * m_out'],\n",
      "                      'inputs': ['m_out'],\n",
      "                      'output': 'm_in',\n",
      "                      'variables': {'c': {...},\n",
      "                                    'm_in': {...},\n",
      "                                    'm_out': {...}}}},\n",
      " 'target_operator': 'pyrates.synapse.templates.JansenRitExcitatorySynapseRCO',\n",
      " 'values': {'c': 33.75}}\n"
     ]
    }
   ],
   "source": [
    "pprint(circuit.edges[('JR_PC','JR_IIN', 0)], depth=4)"
   ]
  },
  {
   "cell_type": "code",
   "execution_count": 84,
   "metadata": {},
   "outputs": [],
   "source": [
    "# %pdb"
   ]
  },
  {
   "cell_type": "code",
   "execution_count": 91,
   "metadata": {},
   "outputs": [],
   "source": [
    "nd = circuit.network_def()"
   ]
  },
  {
   "cell_type": "code",
   "execution_count": 92,
   "metadata": {},
   "outputs": [
    {
     "name": "stdout",
     "output_type": "stream",
     "text": [
      "[('JR_PC:0', {'inputs': {...}, 'operator_args': {...}, 'operators': {...}}),\n",
      " ('JR_IIN:0', {'inputs': {...}, 'operator_args': {...}, 'operators': {...}}),\n",
      " ('JR_EIN:0', {'inputs': {...}, 'operator_args': {...}, 'operators': {...}})]\n"
     ]
    }
   ],
   "source": [
    "pprint(list(nd.nodes(data=True)),depth=3, width=120)"
   ]
  },
  {
   "cell_type": "code",
   "execution_count": 93,
   "metadata": {},
   "outputs": [
    {
     "name": "stdout",
     "output_type": "stream",
     "text": [
      "{'JansenRitCPO:0/I': {'dtype': 'float32', 'shape': (), 'vtype': 'state_var'},\n",
      " 'JansenRitCPO:0/V': {'dtype': 'float32', 'shape': (), 'vtype': 'state_var'},\n",
      " 'JansenRitCPO:0/k': {'dtype': 'float32', 'shape': (), 'value': 1.0, 'vtype': 'constant'},\n",
      " 'JansenRitExcitatorySynapseRCO:0/I': {'dtype': 'float32', 'shape': (), 'vtype': 'state_var'},\n",
      " 'JansenRitExcitatorySynapseRCO:0/I_t': {'dtype': 'float32', 'shape': (), 'vtype': 'state_var'},\n",
      " 'JansenRitExcitatorySynapseRCO:0/h': {'dtype': 'float32', 'shape': (), 'value': -0.022, 'vtype': 'constant'},\n",
      " 'JansenRitExcitatorySynapseRCO:0/m_in': {'dtype': 'float32', 'shape': (), 'vtype': 'state_var'},\n",
      " 'JansenRitExcitatorySynapseRCO:0/tau': {'dtype': 'float32', 'shape': (), 'value': 0.02, 'vtype': 'constant'},\n",
      " 'JansenRitInhibitorySynapseRCO:0/I': {'dtype': 'float32', 'shape': (), 'vtype': 'state_var'},\n",
      " 'JansenRitInhibitorySynapseRCO:0/I_t': {'dtype': 'float32', 'shape': (), 'vtype': 'state_var'},\n",
      " 'JansenRitInhibitorySynapseRCO:0/h': {'dtype': 'float32', 'shape': (), 'value': -0.022, 'vtype': 'constant'},\n",
      " 'JansenRitInhibitorySynapseRCO:0/m_in': {'dtype': 'float32', 'shape': (), 'vtype': 'state_var'},\n",
      " 'JansenRitInhibitorySynapseRCO:0/tau': {'dtype': 'float32', 'shape': (), 'value': 0.02, 'vtype': 'constant'},\n",
      " 'JansenRitPRO:0/V': {'dtype': 'float32', 'shape': (), 'vtype': 'state_var'},\n",
      " 'JansenRitPRO:0/V_thr': {'dtype': 'float32', 'shape': (), 'value': 0.006, 'vtype': 'constant'},\n",
      " 'JansenRitPRO:0/m_max': {'allowed_range': '>= 0', 'dtype': 'float32', 'shape': (), 'value': 5.0, 'vtype': 'constant'},\n",
      " 'JansenRitPRO:0/m_out': {'dtype': 'float32', 'shape': (), 'vtype': 'state_var'},\n",
      " 'JansenRitPRO:0/r': {'dtype': 'int32', 'shape': (), 'value': 1, 'vtype': 'constant'},\n",
      " 'JansenRitPRO:0/s': {'dtype': 'float32', 'shape': (), 'value': 560.0, 'vtype': 'constant'}}\n"
     ]
    }
   ],
   "source": [
    "pprint(nd.nodes['JR_PC:0'][\"operator_args\"], depth=2, width=120)"
   ]
  },
  {
   "cell_type": "code",
   "execution_count": 94,
   "metadata": {},
   "outputs": [
    {
     "name": "stdout",
     "output_type": "stream",
     "text": [
      "{('JR_EIN:0', 'JR_PC:0', 0): {'operator_args': {'LC/c': {...}, 'LC/m_in': {...}, 'LC/m_out': {...}},\n",
      "                              'operators': {'LC': {...}}},\n",
      " ('JR_IIN:0', 'JR_PC:0', 0): {'operator_args': {'LC/c': {...}, 'LC/m_in': {...}, 'LC/m_out': {...}},\n",
      "                              'operators': {'LC': {...}}},\n",
      " ('JR_PC:0', 'JR_EIN:0', 0): {'operator_args': {'LC/c': {...}, 'LC/m_in': {...}, 'LC/m_out': {...}},\n",
      "                              'operators': {'LC': {...}}},\n",
      " ('JR_PC:0', 'JR_IIN:0', 0): {'operator_args': {'LC/c': {...}, 'LC/m_in': {...}, 'LC/m_out': {...}},\n",
      "                              'operators': {'LC': {...}}}}\n"
     ]
    }
   ],
   "source": [
    "pprint(dict(nd.edges), depth=3, width=120)"
   ]
  },
  {
   "cell_type": "code",
   "execution_count": 95,
   "metadata": {},
   "outputs": [
    {
     "name": "stdout",
     "output_type": "stream",
     "text": [
      "{'operator_args': {'LC/c': {'dtype': 'int32', 'shape': (), 'value': 108.0, 'vtype': 'constant'},\n",
      "                   'LC/m_in': {'name': 'JansenRitExcitatorySynapseRCO:0/m_in', 'vtype': 'target_var'},\n",
      "                   'LC/m_out': {'name': 'JansenRitExcitatorySynapseRCO:0/m_out', 'vtype': 'source_var'}},\n",
      " 'operators': {'LC': {'equation': ['m_in = c * m_out'], 'inputs': ['m_out'], 'output': 'm_in'}}}\n"
     ]
    }
   ],
   "source": [
    "pprint(dict(nd.edges[('JR_EIN:0', 'JR_PC:0', 0)]), depth=4, width=120)"
   ]
  },
  {
   "cell_type": "code",
   "execution_count": 96,
   "metadata": {},
   "outputs": [],
   "source": [
    "{}.pop(\"a\", None)"
   ]
  }
 ],
 "metadata": {
  "kernelspec": {
   "display_name": "Python 3",
   "language": "python",
   "name": "python3"
  },
  "language_info": {
   "codemirror_mode": {
    "name": "ipython",
    "version": 3
   },
   "file_extension": ".py",
   "mimetype": "text/x-python",
   "name": "python",
   "nbconvert_exporter": "python",
   "pygments_lexer": "ipython3",
   "version": "3.6.6"
  }
 },
 "nbformat": 4,
 "nbformat_minor": 2
}
