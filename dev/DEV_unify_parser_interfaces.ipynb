{
 "cells": [
  {
   "cell_type": "code",
   "execution_count": 1,
   "metadata": {},
   "outputs": [],
   "source": [
    "%load_ext autoreload\n",
    "%autoreload"
   ]
  },
  {
   "cell_type": "code",
   "execution_count": 2,
   "metadata": {},
   "outputs": [
    {
     "name": "stdout",
     "output_type": "stream",
     "text": [
      "/home/raid1/drose/PhD/12_NMM_Framework/PyRates\n"
     ]
    }
   ],
   "source": [
    "cd ../"
   ]
  },
  {
   "cell_type": "code",
   "execution_count": 3,
   "metadata": {},
   "outputs": [
    {
     "name": "stdout",
     "output_type": "stream",
     "text": [
      "\u001b[0m\u001b[01;34mdev\u001b[0m/            LICENSE  \u001b[01;34mpyrates\u001b[0m/          README.md  \u001b[01;34mtests\u001b[0m/\r\n",
      "\u001b[01;34mdocumentation\u001b[0m/  \u001b[01;34mmodels\u001b[0m/  PyRates_logo.png  setup.py\r\n"
     ]
    }
   ],
   "source": [
    "ls"
   ]
  },
  {
   "cell_type": "code",
   "execution_count": 4,
   "metadata": {},
   "outputs": [],
   "source": [
    "from pprint import pprint"
   ]
  },
  {
   "cell_type": "code",
   "execution_count": 5,
   "metadata": {},
   "outputs": [
    {
     "name": "stderr",
     "output_type": "stream",
     "text": [
      "/nobackup/jamaika1/drose/anaconda3/envs/nmm/lib/python3.6/site-packages/h5py/__init__.py:36: FutureWarning: Conversion of the second argument of issubdtype from `float` to `np.floating` is deprecated. In future, it will be treated as `np.float64 == np.dtype(float).type`.\n",
      "  from ._conv import register_converters as _register_converters\n"
     ]
    }
   ],
   "source": [
    "from pyrates.circuit import CircuitTemplate"
   ]
  },
  {
   "cell_type": "code",
   "execution_count": 6,
   "metadata": {},
   "outputs": [],
   "source": [
    "circuit = CircuitTemplate.from_yaml(\"pyrates.circuit.templates.JansenRitCircuit\").apply()"
   ]
  },
  {
   "cell_type": "code",
   "execution_count": 7,
   "metadata": {},
   "outputs": [
    {
     "data": {
      "text/plain": [
       "<pyrates.circuit.circuit.Circuit at 0x7f88c58f8b38>"
      ]
     },
     "execution_count": 7,
     "metadata": {},
     "output_type": "execute_result"
    }
   ],
   "source": [
    "circuit"
   ]
  },
  {
   "cell_type": "code",
   "execution_count": 8,
   "metadata": {},
   "outputs": [
    {
     "name": "stdout",
     "output_type": "stream",
     "text": [
      "[('JR_PC:0',\n",
      "  {'node': {'operators': <networkx.classes.digraph.DiGraph object at 0x7f8868adec50>,\n",
      "            'template': <NodeTemplate 'pyrates.population.templates.JansenRitPC'>}}),\n",
      " ('JR_IIN:0',\n",
      "  {'node': {'operators': <networkx.classes.digraph.DiGraph object at 0x7f8868aff518>,\n",
      "            'template': <NodeTemplate 'pyrates.population.templates.JansenRitIN'>}}),\n",
      " ('JR_EIN:0',\n",
      "  {'node': {'operators': <networkx.classes.digraph.DiGraph object at 0x7f8868a99cc0>,\n",
      "            'template': <NodeTemplate 'pyrates.population.templates.JansenRitIN'>}})]\n"
     ]
    }
   ],
   "source": [
    "pprint(list(circuit.nodes(data=True)), depth=4)"
   ]
  },
  {
   "cell_type": "code",
   "execution_count": 9,
   "metadata": {},
   "outputs": [
    {
     "name": "stdout",
     "output_type": "stream",
     "text": [
      "{'node': {'operators': <networkx.classes.digraph.DiGraph object at 0x7f8868adec50>,\n",
      "          'template': <NodeTemplate 'pyrates.population.templates.JansenRitPC'>}}\n"
     ]
    }
   ],
   "source": [
    "pprint(circuit.nodes[\"JR_PC:0\"], indent=1, depth=2)"
   ]
  },
  {
   "cell_type": "code",
   "execution_count": 10,
   "metadata": {},
   "outputs": [
    {
     "name": "stdout",
     "output_type": "stream",
     "text": [
      "<networkx.classes.digraph.DiGraph object at 0x7f8868adec50>\n"
     ]
    }
   ],
   "source": [
    "pprint(circuit.nodes[\"JR_PC:0\"][\"node\"][\"operators\"], indent=1, depth=2, width=100)"
   ]
  },
  {
   "cell_type": "code",
   "execution_count": 11,
   "metadata": {},
   "outputs": [
    {
     "name": "stdout",
     "output_type": "stream",
     "text": [
      "{'JansenRitCPO:0': {'operator': {'equation': [...],\n",
      "                                 'inputs': {...},\n",
      "                                 'output': 'V',\n",
      "                                 'variables': {...}},\n",
      "                    'values': {'k': 1.0}},\n",
      " 'JansenRitExcitatorySynapseRCO:0': {'operator': {'equation': [...],\n",
      "                                                  'inputs': {...},\n",
      "                                                  'output': 'I',\n",
      "                                                  'variables': {...}},\n",
      "                                     'values': {'h': -0.022, 'tau': 0.02}},\n",
      " 'JansenRitInhibitorySynapseRCO:0': {'operator': {'equation': [...],\n",
      "                                                  'inputs': {...},\n",
      "                                                  'output': 'I',\n",
      "                                                  'variables': {...}},\n",
      "                                     'values': {'h': -0.022, 'tau': 0.02}},\n",
      " 'JansenRitPRO:0': {'operator': {'equation': [...],\n",
      "                                 'inputs': {...},\n",
      "                                 'output': 'm_out',\n",
      "                                 'variables': {...}},\n",
      "                    'values': {'V_thr': 0.006,\n",
      "                               'm_max': 5.0,\n",
      "                               'r': 1,\n",
      "                               's': 560.0}}}\n"
     ]
    }
   ],
   "source": [
    "op_graph = circuit.nodes[\"JR_PC:0\"][\"node\"][\"operators\"]\n",
    "operators = dict(op_graph.nodes(data=True))\n",
    "pprint((operators), depth=3)"
   ]
  },
  {
   "cell_type": "code",
   "execution_count": 12,
   "metadata": {},
   "outputs": [
    {
     "name": "stdout",
     "output_type": "stream",
     "text": [
      "{'operator': {'equation': ['d/dt * I = I_t',\n",
      "                           'd/dt * I_t =  h/tau * m_in - (1/tau)^2 * I - 2 * 1/tau * I_t'],\n",
      "              'inputs': {'m_in': {'reduce_dim': True, 'source': []}},\n",
      "              'output': 'I',\n",
      "              'variables': {'I': {'data_type': 'float32',\n",
      "                                  'description': 'Electric current across synaptic membrane '\n",
      "                                                 'reflecting synaptic activation due to a '\n",
      "                                                 'pre-synaptic firing rate.\\n',\n",
      "                                  'name': 'synaptic_current',\n",
      "                                  'unit': 'A',\n",
      "                                  'variable_type': 'state_var'},\n",
      "                            'I_t': {'data_type': 'float32',\n",
      "                                    'description': 'integration variable',\n",
      "                                    'variable_type': 'state_var'},\n",
      "                            'h': {'data_type': 'float32',\n",
      "                                  'description': 'Synaptic efficacy. Scales the synaptic '\n",
      "                                                 'activation.',\n",
      "                                  'name': 'efficacy',\n",
      "                                  'unit': 'A',\n",
      "                                  'variable_type': 'constant'},\n",
      "                            'm_in': {'data_type': 'float32',\n",
      "                                     'description': 'Mean incoming firing rate at a specific '\n",
      "                                                    'synapse type',\n",
      "                                     'name': 'incoming_firing_rate',\n",
      "                                     'unit': '1/s',\n",
      "                                     'variable_type': 'state_var'},\n",
      "                            'tau': {'data_type': 'float32',\n",
      "                                    'description': 'Synaptic time constant. Determining the '\n",
      "                                                   'lag/shape of the exponential convolution '\n",
      "                                                   'kernel.',\n",
      "                                    'unit': 's',\n",
      "                                    'variable_type': 'constant'}}},\n",
      " 'values': {'h': -0.022, 'tau': 0.02}}\n"
     ]
    }
   ],
   "source": [
    "pprint(operators['JansenRitExcitatorySynapseRCO:0'], width=100)"
   ]
  },
  {
   "cell_type": "code",
   "execution_count": 13,
   "metadata": {},
   "outputs": [
    {
     "name": "stdout",
     "output_type": "stream",
     "text": [
      "{'operator': {'equation': ['d/dt * I = I_t',\n",
      "                           'd/dt * I_t =  h/tau * m_in - (1/tau)^2 * I - 2 * '\n",
      "                           '1/tau * I_t'],\n",
      "              'inputs': {'m_in': {'reduce_dim': True, 'source': []}},\n",
      "              'output': 'I',\n",
      "              'variables': {'I': {'data_type': 'float32',\n",
      "                                  'description': 'Electric current across '\n",
      "                                                 'synaptic membrane reflecting '\n",
      "                                                 'synaptic activation due to a '\n",
      "                                                 'pre-synaptic firing rate.\\n',\n",
      "                                  'name': 'synaptic_current',\n",
      "                                  'unit': 'A',\n",
      "                                  'variable_type': 'state_var'},\n",
      "                            'I_t': {'data_type': 'float32',\n",
      "                                    'description': 'integration variable',\n",
      "                                    'variable_type': 'state_var'},\n",
      "                            'h': {'data_type': 'float32',\n",
      "                                  'description': 'Synaptic efficacy. Scales '\n",
      "                                                 'the synaptic activation.',\n",
      "                                  'name': 'efficacy',\n",
      "                                  'unit': 'A',\n",
      "                                  'variable_type': 'constant'},\n",
      "                            'm_in': {'data_type': 'float32',\n",
      "                                     'description': 'Mean incoming firing rate '\n",
      "                                                    'at a specific synapse '\n",
      "                                                    'type',\n",
      "                                     'name': 'incoming_firing_rate',\n",
      "                                     'unit': '1/s',\n",
      "                                     'variable_type': 'state_var'},\n",
      "                            'tau': {'data_type': 'float32',\n",
      "                                    'description': 'Synaptic time constant. '\n",
      "                                                   'Determining the lag/shape '\n",
      "                                                   'of the exponential '\n",
      "                                                   'convolution kernel.',\n",
      "                                    'unit': 's',\n",
      "                                    'variable_type': 'constant'}}},\n",
      " 'values': {'h': -0.022, 'tau': 0.02}}\n"
     ]
    }
   ],
   "source": [
    "pprint(dict(circuit.nodes[\"JR_PC:0\"][\"node\"][\"operators\"].nodes['JansenRitExcitatorySynapseRCO:0']))"
   ]
  },
  {
   "cell_type": "code",
   "execution_count": 14,
   "metadata": {},
   "outputs": [
    {
     "name": "stdout",
     "output_type": "stream",
     "text": [
      "[('JR_PC:0',\n",
      "  'JR_IIN:0',\n",
      "  {'delay': 0,\n",
      "   'edge_type': {'operators': <networkx.classes.digraph.DiGraph object at 0x7f8868a99be0>,\n",
      "                 'template': <EdgeTemplate 'pyrates.edge.templates.LCEdge'>},\n",
      "   'source_var': 'JansenRitPRO:0/m_out',\n",
      "   'target_var': 'JansenRitExcitatorySynapseRCO:0/m_in',\n",
      "   'weight': 33.75}),\n",
      " ('JR_PC:0',\n",
      "  'JR_EIN:0',\n",
      "  {'delay': 0,\n",
      "   'edge_type': {'operators': <networkx.classes.digraph.DiGraph object at 0x7f8868a99e10>,\n",
      "                 'template': <EdgeTemplate 'pyrates.edge.templates.LCEdge'>},\n",
      "   'source_var': 'JansenRitPRO:0/m_out',\n",
      "   'target_var': 'JansenRitExcitatorySynapseRCO:0/m_in',\n",
      "   'weight': 135.0}),\n",
      " ('JR_IIN:0',\n",
      "  'JR_PC:0',\n",
      "  {'delay': 0,\n",
      "   'edge_type': {'operators': <networkx.classes.digraph.DiGraph object at 0x7f8868aff9e8>,\n",
      "                 'template': <EdgeTemplate 'pyrates.edge.templates.LCEdge'>},\n",
      "   'source_var': 'JansenRitPRO:0/m_out',\n",
      "   'target_var': 'JansenRitInhibitorySynapseRCO:0/m_in',\n",
      "   'weight': 33.75}),\n",
      " ('JR_EIN:0',\n",
      "  'JR_PC:0',\n",
      "  {'delay': 0,\n",
      "   'edge_type': {'operators': <networkx.classes.digraph.DiGraph object at 0x7f8868a99da0>,\n",
      "                 'template': <EdgeTemplate 'pyrates.edge.templates.LCEdge'>},\n",
      "   'source_var': 'JansenRitPRO:0/m_out',\n",
      "   'target_var': 'JansenRitExcitatorySynapseRCO:0/m_in',\n",
      "   'weight': 108.0})]\n"
     ]
    }
   ],
   "source": [
    "pprint(list(circuit.edges(data=True)), depth=4)"
   ]
  },
  {
   "cell_type": "code",
   "execution_count": 15,
   "metadata": {},
   "outputs": [
    {
     "name": "stdout",
     "output_type": "stream",
     "text": [
      "{'delay': 0,\n",
      " 'edge_type': {'operators': <networkx.classes.digraph.DiGraph object at 0x7f8868a99be0>,\n",
      "               'template': <EdgeTemplate 'pyrates.edge.templates.LCEdge'>},\n",
      " 'source_var': 'JansenRitPRO:0/m_out',\n",
      " 'target_var': 'JansenRitExcitatorySynapseRCO:0/m_in',\n",
      " 'weight': 33.75}\n"
     ]
    }
   ],
   "source": [
    "pprint(circuit.edges[('JR_PC:0','JR_IIN:0', 0)], depth=4)"
   ]
  },
  {
   "cell_type": "code",
   "execution_count": 16,
   "metadata": {},
   "outputs": [
    {
     "name": "stdout",
     "output_type": "stream",
     "text": [
      "{'LinearCouplingOperator:0': {'operator': {'equation': ['m_in = c * m_out'],\n",
      "                                           'inputs': {'m_out': {...}},\n",
      "                                           'output': 'm_in',\n",
      "                                           'variables': {'c': {...},\n",
      "                                                         'm_in': {...},\n",
      "                                                         'm_out': {...}}},\n",
      "                              'values': {'c': 1}}}\n"
     ]
    }
   ],
   "source": [
    "pprint(dict(circuit.edges[('JR_PC:0','JR_IIN:0', 0)][\"edge_type\"][\"operators\"].nodes(data=True)), depth=4)"
   ]
  },
  {
   "cell_type": "code",
   "execution_count": 17,
   "metadata": {},
   "outputs": [],
   "source": [
    "# %pdb"
   ]
  },
  {
   "cell_type": "code",
   "execution_count": 18,
   "metadata": {},
   "outputs": [],
   "source": [
    "nd = circuit.network_def()"
   ]
  },
  {
   "cell_type": "code",
   "execution_count": 19,
   "metadata": {},
   "outputs": [
    {
     "name": "stdout",
     "output_type": "stream",
     "text": [
      "[('JR_PC:0',\n",
      "  {'inputs': {},\n",
      "   'operator_args': {'JansenRitCPO:0/I': {...},\n",
      "                     'JansenRitCPO:0/V': {...},\n",
      "                     'JansenRitCPO:0/k': {...},\n",
      "                     'JansenRitExcitatorySynapseRCO:0/I': {...},\n",
      "                     'JansenRitExcitatorySynapseRCO:0/I_t': {...},\n",
      "                     'JansenRitExcitatorySynapseRCO:0/h': {...},\n",
      "                     'JansenRitExcitatorySynapseRCO:0/m_in': {...},\n",
      "                     'JansenRitExcitatorySynapseRCO:0/tau': {...},\n",
      "                     'JansenRitInhibitorySynapseRCO:0/I': {...},\n",
      "                     'JansenRitInhibitorySynapseRCO:0/I_t': {...},\n",
      "                     'JansenRitInhibitorySynapseRCO:0/h': {...},\n",
      "                     'JansenRitInhibitorySynapseRCO:0/m_in': {...},\n",
      "                     'JansenRitInhibitorySynapseRCO:0/tau': {...},\n",
      "                     'JansenRitPRO:0/V': {...},\n",
      "                     'JansenRitPRO:0/V_thr': {...},\n",
      "                     'JansenRitPRO:0/m_max': {...},\n",
      "                     'JansenRitPRO:0/m_out': {...},\n",
      "                     'JansenRitPRO:0/r': {...},\n",
      "                     'JansenRitPRO:0/s': {...},\n",
      "                     'LinearCouplingOperator:0/c': {...},\n",
      "                     'LinearCouplingOperator:0/m_in': {...},\n",
      "                     'LinearCouplingOperator:0/m_out': {...}},\n",
      "   'operator_order': ['JansenRitExcitatorySynapseRCO:0',\n",
      "                      'JansenRitInhibitorySynapseRCO:0',\n",
      "                      'JansenRitCPO:0',\n",
      "                      'JansenRitPRO:0',\n",
      "                      'LinearCouplingOperator:0'],\n",
      "   'operators': {'JansenRitCPO:0': {...},\n",
      "                 'JansenRitExcitatorySynapseRCO:0': {...},\n",
      "                 'JansenRitInhibitorySynapseRCO:0': {...},\n",
      "                 'JansenRitPRO:0': {...},\n",
      "                 'LinearCouplingOperator:0': {...}}}),\n",
      " ('JR_IIN:0',\n",
      "  {'inputs': {},\n",
      "   'operator_args': {'JansenRitCPO:0/I': {...},\n",
      "                     'JansenRitCPO:0/V': {...},\n",
      "                     'JansenRitCPO:0/k': {...},\n",
      "                     'JansenRitExcitatorySynapseRCO:0/I': {...},\n",
      "                     'JansenRitExcitatorySynapseRCO:0/I_t': {...},\n",
      "                     'JansenRitExcitatorySynapseRCO:0/h': {...},\n",
      "                     'JansenRitExcitatorySynapseRCO:0/m_in': {...},\n",
      "                     'JansenRitExcitatorySynapseRCO:0/tau': {...},\n",
      "                     'JansenRitPRO:0/V': {...},\n",
      "                     'JansenRitPRO:0/V_thr': {...},\n",
      "                     'JansenRitPRO:0/m_max': {...},\n",
      "                     'JansenRitPRO:0/m_out': {...},\n",
      "                     'JansenRitPRO:0/r': {...},\n",
      "                     'JansenRitPRO:0/s': {...},\n",
      "                     'LinearCouplingOperator:0/c': {...},\n",
      "                     'LinearCouplingOperator:0/m_in': {...},\n",
      "                     'LinearCouplingOperator:0/m_out': {...}},\n",
      "   'operator_order': ['JansenRitExcitatorySynapseRCO:0',\n",
      "                      'JansenRitCPO:0',\n",
      "                      'JansenRitPRO:0',\n",
      "                      'LinearCouplingOperator:0'],\n",
      "   'operators': {'JansenRitCPO:0': {...},\n",
      "                 'JansenRitExcitatorySynapseRCO:0': {...},\n",
      "                 'JansenRitPRO:0': {...},\n",
      "                 'LinearCouplingOperator:0': {...}}}),\n",
      " ('JR_EIN:0',\n",
      "  {'inputs': {},\n",
      "   'operator_args': {'JansenRitCPO:0/I': {...},\n",
      "                     'JansenRitCPO:0/V': {...},\n",
      "                     'JansenRitCPO:0/k': {...},\n",
      "                     'JansenRitExcitatorySynapseRCO:0/I': {...},\n",
      "                     'JansenRitExcitatorySynapseRCO:0/I_t': {...},\n",
      "                     'JansenRitExcitatorySynapseRCO:0/h': {...},\n",
      "                     'JansenRitExcitatorySynapseRCO:0/m_in': {...},\n",
      "                     'JansenRitExcitatorySynapseRCO:0/tau': {...},\n",
      "                     'JansenRitPRO:0/V': {...},\n",
      "                     'JansenRitPRO:0/V_thr': {...},\n",
      "                     'JansenRitPRO:0/m_max': {...},\n",
      "                     'JansenRitPRO:0/m_out': {...},\n",
      "                     'JansenRitPRO:0/r': {...},\n",
      "                     'JansenRitPRO:0/s': {...},\n",
      "                     'LinearCouplingOperator:0/c': {...},\n",
      "                     'LinearCouplingOperator:0/m_in': {...},\n",
      "                     'LinearCouplingOperator:0/m_out': {...}},\n",
      "   'operator_order': ['JansenRitExcitatorySynapseRCO:0',\n",
      "                      'JansenRitCPO:0',\n",
      "                      'JansenRitPRO:0',\n",
      "                      'LinearCouplingOperator:0'],\n",
      "   'operators': {'JansenRitCPO:0': {...},\n",
      "                 'JansenRitExcitatorySynapseRCO:0': {...},\n",
      "                 'JansenRitPRO:0': {...},\n",
      "                 'LinearCouplingOperator:0': {...}}})]\n"
     ]
    }
   ],
   "source": [
    "pprint(list(nd.nodes(data=True)),depth=4, width=120)"
   ]
  },
  {
   "cell_type": "code",
   "execution_count": 20,
   "metadata": {},
   "outputs": [
    {
     "name": "stdout",
     "output_type": "stream",
     "text": [
      "{'JansenRitCPO:0/I': {'dtype': 'float32', 'shape': (), 'vtype': 'state_var'},\n",
      " 'JansenRitCPO:0/V': {'dtype': 'float32', 'shape': (), 'vtype': 'state_var'},\n",
      " 'JansenRitCPO:0/k': {'dtype': 'float32', 'shape': (), 'value': 1.0, 'vtype': 'constant'},\n",
      " 'JansenRitExcitatorySynapseRCO:0/I': {'dtype': 'float32', 'shape': (), 'vtype': 'state_var'},\n",
      " 'JansenRitExcitatorySynapseRCO:0/I_t': {'dtype': 'float32', 'shape': (), 'vtype': 'state_var'},\n",
      " 'JansenRitExcitatorySynapseRCO:0/h': {'dtype': 'float32', 'shape': (), 'value': -0.022, 'vtype': 'constant'},\n",
      " 'JansenRitExcitatorySynapseRCO:0/m_in': {'dtype': 'float32', 'shape': (), 'vtype': 'state_var'},\n",
      " 'JansenRitExcitatorySynapseRCO:0/tau': {'dtype': 'float32', 'shape': (), 'value': 0.02, 'vtype': 'constant'},\n",
      " 'JansenRitInhibitorySynapseRCO:0/I': {'dtype': 'float32', 'shape': (), 'vtype': 'state_var'},\n",
      " 'JansenRitInhibitorySynapseRCO:0/I_t': {'dtype': 'float32', 'shape': (), 'vtype': 'state_var'},\n",
      " 'JansenRitInhibitorySynapseRCO:0/h': {'dtype': 'float32', 'shape': (), 'value': -0.022, 'vtype': 'constant'},\n",
      " 'JansenRitInhibitorySynapseRCO:0/m_in': {'dtype': 'float32', 'shape': (), 'vtype': 'state_var'},\n",
      " 'JansenRitInhibitorySynapseRCO:0/tau': {'dtype': 'float32', 'shape': (), 'value': 0.02, 'vtype': 'constant'},\n",
      " 'JansenRitPRO:0/V': {'dtype': 'float32', 'shape': (), 'vtype': 'state_var'},\n",
      " 'JansenRitPRO:0/V_thr': {'dtype': 'float32', 'shape': (), 'value': 0.006, 'vtype': 'constant'},\n",
      " 'JansenRitPRO:0/m_max': {'allowed_range': '>= 0', 'dtype': 'float32', 'shape': (), 'value': 5.0, 'vtype': 'constant'},\n",
      " 'JansenRitPRO:0/m_out': {'dtype': 'float32', 'shape': (), 'vtype': 'state_var'},\n",
      " 'JansenRitPRO:0/r': {'dtype': 'int32', 'shape': (), 'value': 1, 'vtype': 'constant'},\n",
      " 'JansenRitPRO:0/s': {'dtype': 'float32', 'shape': (), 'value': 560.0, 'vtype': 'constant'},\n",
      " 'LinearCouplingOperator:0/c': {'dtype': 'int32', 'shape': (), 'value': 1, 'vtype': 'constant'},\n",
      " 'LinearCouplingOperator:0/m_in': {'dtype': 'float32', 'shape': (), 'vtype': 'state_var'},\n",
      " 'LinearCouplingOperator:0/m_out': {'dtype': 'float32', 'shape': (), 'vtype': 'state_var'}}\n"
     ]
    }
   ],
   "source": [
    "pprint(nd.nodes['JR_PC:0'][\"operator_args\"], depth=2, width=120)"
   ]
  },
  {
   "cell_type": "code",
   "execution_count": 21,
   "metadata": {},
   "outputs": [
    {
     "name": "stdout",
     "output_type": "stream",
     "text": [
      "{('JR_EIN:0', 'JR_PC:0', 0): {'delay': 0,\n",
      "                              'source_var': 'LinearCouplingOperator:0/m_in',\n",
      "                              'target_var': 'JansenRitExcitatorySynapseRCO:0/m_in',\n",
      "                              'weight': 108.0},\n",
      " ('JR_IIN:0', 'JR_PC:0', 0): {'delay': 0,\n",
      "                              'source_var': 'LinearCouplingOperator:0/m_in',\n",
      "                              'target_var': 'JansenRitInhibitorySynapseRCO:0/m_in',\n",
      "                              'weight': 33.75},\n",
      " ('JR_PC:0', 'JR_EIN:0', 0): {'delay': 0,\n",
      "                              'source_var': 'LinearCouplingOperator:0/m_in',\n",
      "                              'target_var': 'JansenRitExcitatorySynapseRCO:0/m_in',\n",
      "                              'weight': 135.0},\n",
      " ('JR_PC:0', 'JR_IIN:0', 0): {'delay': 0,\n",
      "                              'source_var': 'LinearCouplingOperator:0/m_in',\n",
      "                              'target_var': 'JansenRitExcitatorySynapseRCO:0/m_in',\n",
      "                              'weight': 33.75}}\n"
     ]
    }
   ],
   "source": [
    "pprint(dict(nd.edges), depth=3, width=120)"
   ]
  },
  {
   "cell_type": "code",
   "execution_count": 22,
   "metadata": {},
   "outputs": [
    {
     "name": "stdout",
     "output_type": "stream",
     "text": [
      "{'delay': 0,\n",
      " 'source_var': 'LinearCouplingOperator:0/m_in',\n",
      " 'target_var': 'JansenRitExcitatorySynapseRCO:0/m_in',\n",
      " 'weight': 108.0}\n"
     ]
    }
   ],
   "source": [
    "pprint(dict(nd.edges[('JR_EIN:0', 'JR_PC:0', 0)]), depth=5, width=120)"
   ]
  },
  {
   "cell_type": "code",
   "execution_count": 23,
   "metadata": {},
   "outputs": [
    {
     "name": "stdout",
     "output_type": "stream",
     "text": [
      "{'inputs': {},\n",
      " 'operator_args': {'JansenRitCPO:0/I': {...},\n",
      "                   'JansenRitCPO:0/V': {...},\n",
      "                   'JansenRitCPO:0/k': {...},\n",
      "                   'JansenRitExcitatorySynapseRCO:0/I': {...},\n",
      "                   'JansenRitExcitatorySynapseRCO:0/I_t': {...},\n",
      "                   'JansenRitExcitatorySynapseRCO:0/h': {...},\n",
      "                   'JansenRitExcitatorySynapseRCO:0/m_in': {...},\n",
      "                   'JansenRitExcitatorySynapseRCO:0/tau': {...},\n",
      "                   'JansenRitInhibitorySynapseRCO:0/I': {...},\n",
      "                   'JansenRitInhibitorySynapseRCO:0/I_t': {...},\n",
      "                   'JansenRitInhibitorySynapseRCO:0/h': {...},\n",
      "                   'JansenRitInhibitorySynapseRCO:0/m_in': {...},\n",
      "                   'JansenRitInhibitorySynapseRCO:0/tau': {...},\n",
      "                   'JansenRitPRO:0/V': {...},\n",
      "                   'JansenRitPRO:0/V_thr': {...},\n",
      "                   'JansenRitPRO:0/m_max': {...},\n",
      "                   'JansenRitPRO:0/m_out': {...},\n",
      "                   'JansenRitPRO:0/r': {...},\n",
      "                   'JansenRitPRO:0/s': {...},\n",
      "                   'LinearCouplingOperator:0/c': {...},\n",
      "                   'LinearCouplingOperator:0/m_in': {...},\n",
      "                   'LinearCouplingOperator:0/m_out': {...}},\n",
      " 'operator_order': ['JansenRitExcitatorySynapseRCO:0',\n",
      "                    'JansenRitInhibitorySynapseRCO:0',\n",
      "                    'JansenRitCPO:0',\n",
      "                    'JansenRitPRO:0',\n",
      "                    'LinearCouplingOperator:0'],\n",
      " 'operators': {'JansenRitCPO:0': {...},\n",
      "               'JansenRitExcitatorySynapseRCO:0': {...},\n",
      "               'JansenRitInhibitorySynapseRCO:0': {...},\n",
      "               'JansenRitPRO:0': {...},\n",
      "               'LinearCouplingOperator:0': {...}}}\n"
     ]
    }
   ],
   "source": [
    "pprint(dict(nd.nodes[\"JR_PC:0\"]), depth=2)"
   ]
  },
  {
   "cell_type": "code",
   "execution_count": 24,
   "metadata": {},
   "outputs": [],
   "source": [
    "from networkx import DiGraph"
   ]
  },
  {
   "cell_type": "code",
   "execution_count": 25,
   "metadata": {},
   "outputs": [],
   "source": [
    "g = DiGraph([(1,2),(3,4),(2,5),(4,5)])"
   ]
  },
  {
   "cell_type": "code",
   "execution_count": 26,
   "metadata": {},
   "outputs": [
    {
     "data": {
      "text/plain": [
       "[1, 3]"
      ]
     },
     "execution_count": 26,
     "metadata": {},
     "output_type": "execute_result"
    }
   ],
   "source": [
    "[node for node, in_degree in g.in_degree if in_degree == 0]"
   ]
  },
  {
   "cell_type": "code",
   "execution_count": 27,
   "metadata": {},
   "outputs": [],
   "source": [
    "import networkx as nx"
   ]
  },
  {
   "cell_type": "code",
   "execution_count": 28,
   "metadata": {},
   "outputs": [
    {
     "data": {
      "text/plain": [
       "'2.1'"
      ]
     },
     "execution_count": 28,
     "metadata": {},
     "output_type": "execute_result"
    }
   ],
   "source": [
    "nx.__version__"
   ]
  },
  {
   "cell_type": "code",
   "execution_count": 29,
   "metadata": {},
   "outputs": [],
   "source": [
    "from networkx.algorithms.cycles import find_cycle"
   ]
  },
  {
   "cell_type": "code",
   "execution_count": 30,
   "metadata": {},
   "outputs": [
    {
     "ename": "NetworkXNoCycle",
     "evalue": "No cycle found.",
     "output_type": "error",
     "traceback": [
      "\u001b[0;31m---------------------------------------------------------------------------\u001b[0m",
      "\u001b[0;31mNetworkXNoCycle\u001b[0m                           Traceback (most recent call last)",
      "\u001b[0;32m<ipython-input-30-7332c640aca8>\u001b[0m in \u001b[0;36m<module>\u001b[0;34m()\u001b[0m\n\u001b[0;32m----> 1\u001b[0;31m \u001b[0mfind_cycle\u001b[0m\u001b[0;34m(\u001b[0m\u001b[0mg\u001b[0m\u001b[0;34m)\u001b[0m\u001b[0;34m\u001b[0m\u001b[0m\n\u001b[0m",
      "\u001b[0;32m/nobackup/jamaika1/drose/anaconda3/envs/nmm/lib/python3.6/site-packages/networkx/algorithms/cycles.py\u001b[0m in \u001b[0;36mfind_cycle\u001b[0;34m(G, source, orientation)\u001b[0m\n\u001b[1;32m    459\u001b[0m     \u001b[0;32melse\u001b[0m\u001b[0;34m:\u001b[0m\u001b[0;34m\u001b[0m\u001b[0m\n\u001b[1;32m    460\u001b[0m         \u001b[0;32massert\u001b[0m\u001b[0;34m(\u001b[0m\u001b[0mlen\u001b[0m\u001b[0;34m(\u001b[0m\u001b[0mcycle\u001b[0m\u001b[0;34m)\u001b[0m \u001b[0;34m==\u001b[0m \u001b[0;36m0\u001b[0m\u001b[0;34m)\u001b[0m\u001b[0;34m\u001b[0m\u001b[0m\n\u001b[0;32m--> 461\u001b[0;31m         \u001b[0;32mraise\u001b[0m \u001b[0mnx\u001b[0m\u001b[0;34m.\u001b[0m\u001b[0mexception\u001b[0m\u001b[0;34m.\u001b[0m\u001b[0mNetworkXNoCycle\u001b[0m\u001b[0;34m(\u001b[0m\u001b[0;34m'No cycle found.'\u001b[0m\u001b[0;34m)\u001b[0m\u001b[0;34m\u001b[0m\u001b[0m\n\u001b[0m\u001b[1;32m    462\u001b[0m \u001b[0;34m\u001b[0m\u001b[0m\n\u001b[1;32m    463\u001b[0m     \u001b[0;31m# We now have a list of edges which ends on a cycle.\u001b[0m\u001b[0;34m\u001b[0m\u001b[0;34m\u001b[0m\u001b[0m\n",
      "\u001b[0;31mNetworkXNoCycle\u001b[0m: No cycle found."
     ]
    }
   ],
   "source": [
    "find_cycle(g)"
   ]
  },
  {
   "cell_type": "code",
   "execution_count": null,
   "metadata": {},
   "outputs": [],
   "source": [
    "nodes = list(g.nodes)\n",
    "i = 0\n",
    "while g.nodes:\n",
    "    g.remove_node(nodes[i])\n",
    "    i += 1"
   ]
  },
  {
   "cell_type": "code",
   "execution_count": null,
   "metadata": {},
   "outputs": [],
   "source": [
    "g.nodes"
   ]
  },
  {
   "cell_type": "code",
   "execution_count": null,
   "metadata": {},
   "outputs": [],
   "source": [
    "g.nodes"
   ]
  },
  {
   "cell_type": "code",
   "execution_count": null,
   "metadata": {},
   "outputs": [],
   "source": [
    "g.edges"
   ]
  },
  {
   "cell_type": "code",
   "execution_count": null,
   "metadata": {},
   "outputs": [],
   "source": [
    "op_order = []\n",
    "while g.nodes:\n",
    "    # noinspection PyTypeChecker\n",
    "    primary_nodes = [node for node, in_degree in g.in_degree if in_degree == 0]\n",
    "    op_order.extend(primary_nodes)\n",
    "    g.remove_nodes_from(primary_nodes)  "
   ]
  },
  {
   "cell_type": "code",
   "execution_count": null,
   "metadata": {},
   "outputs": [],
   "source": [
    "op_order"
   ]
  },
  {
   "cell_type": "code",
   "execution_count": null,
   "metadata": {},
   "outputs": [],
   "source": [
    "from ruamel.yaml import YAML"
   ]
  },
  {
   "cell_type": "code",
   "execution_count": null,
   "metadata": {},
   "outputs": [],
   "source": [
    "YAML.load(\"[JR_IIN, JR_PC, LC, *JRInhibitorySynapse, weight: 33.75]\")"
   ]
  },
  {
   "cell_type": "code",
   "execution_count": null,
   "metadata": {},
   "outputs": [],
   "source": [
    "yaml = YAML(typ=\"safe\", pure=True)"
   ]
  },
  {
   "cell_type": "code",
   "execution_count": null,
   "metadata": {},
   "outputs": [],
   "source": [
    "yaml.load(\"[JR_IIN, JR_PC, LC, JRInhibitorySynapse, weight: 33.75, delay: 0]\")"
   ]
  },
  {
   "cell_type": "code",
   "execution_count": null,
   "metadata": {},
   "outputs": [],
   "source": [
    "a = ({'weight': 33.75},\n",
    " {'delay': 0})"
   ]
  },
  {
   "cell_type": "code",
   "execution_count": null,
   "metadata": {},
   "outputs": [],
   "source": [
    "\"weight\" in a"
   ]
  },
  {
   "cell_type": "code",
   "execution_count": null,
   "metadata": {},
   "outputs": [],
   "source": [
    "b = [1]"
   ]
  },
  {
   "cell_type": "code",
   "execution_count": null,
   "metadata": {},
   "outputs": [],
   "source": [
    "b[1]"
   ]
  },
  {
   "cell_type": "code",
   "execution_count": null,
   "metadata": {},
   "outputs": [],
   "source": [
    "from networkx import MultiDiGraph"
   ]
  },
  {
   "cell_type": "code",
   "execution_count": null,
   "metadata": {},
   "outputs": [],
   "source": [
    "g = MultiDiGraph()\n",
    "edges = ((1,2,\"abc\",{\"a\":2}),(2,3,\"def\"))\n",
    "g.add_edges_from(edges)"
   ]
  },
  {
   "cell_type": "code",
   "execution_count": null,
   "metadata": {},
   "outputs": [],
   "source": [
    "g.edges"
   ]
  },
  {
   "cell_type": "code",
   "execution_count": null,
   "metadata": {},
   "outputs": [],
   "source": [
    "g.edges"
   ]
  },
  {
   "cell_type": "code",
   "execution_count": null,
   "metadata": {},
   "outputs": [],
   "source": [
    "g.edges(1)"
   ]
  },
  {
   "cell_type": "code",
   "execution_count": null,
   "metadata": {},
   "outputs": [],
   "source": [
    "g.add_edge(3,1)"
   ]
  },
  {
   "cell_type": "code",
   "execution_count": null,
   "metadata": {},
   "outputs": [],
   "source": [
    "g.edges(1, data=True)"
   ]
  },
  {
   "cell_type": "code",
   "execution_count": null,
   "metadata": {},
   "outputs": [],
   "source": [
    "lst = g.edges(1, data=True)"
   ]
  },
  {
   "cell_type": "code",
   "execution_count": null,
   "metadata": {},
   "outputs": [],
   "source": [
    "iter(lst)"
   ]
  },
  {
   "cell_type": "code",
   "execution_count": null,
   "metadata": {},
   "outputs": [],
   "source": [
    "for source, target, data in lst:\n",
    "    print(source, target, data)"
   ]
  },
  {
   "cell_type": "code",
   "execution_count": null,
   "metadata": {},
   "outputs": [],
   "source": [
    "for key, node in g.nodes(data=True):\n",
    "    print(key, node)"
   ]
  },
  {
   "cell_type": "code",
   "execution_count": null,
   "metadata": {},
   "outputs": [],
   "source": [
    "g.nodes[1]"
   ]
  },
  {
   "cell_type": "code",
   "execution_count": null,
   "metadata": {},
   "outputs": [],
   "source": [
    "from networkx import find_cycle"
   ]
  },
  {
   "cell_type": "code",
   "execution_count": null,
   "metadata": {},
   "outputs": [],
   "source": [
    "help(find_cycle)"
   ]
  },
  {
   "cell_type": "code",
   "execution_count": 31,
   "metadata": {},
   "outputs": [
    {
     "data": {
      "text/plain": [
       "['a']"
      ]
     },
     "execution_count": 31,
     "metadata": {},
     "output_type": "execute_result"
    }
   ],
   "source": [
    "list({\"a\":2})"
   ]
  },
  {
   "cell_type": "code",
   "execution_count": null,
   "metadata": {},
   "outputs": [],
   "source": []
  }
 ],
 "metadata": {
  "kernelspec": {
   "display_name": "Python 3",
   "language": "python",
   "name": "python3"
  },
  "language_info": {
   "codemirror_mode": {
    "name": "ipython",
    "version": 3
   },
   "file_extension": ".py",
   "mimetype": "text/x-python",
   "name": "python",
   "nbconvert_exporter": "python",
   "pygments_lexer": "ipython3",
   "version": "3.6.6"
  }
 },
 "nbformat": 4,
 "nbformat_minor": 2
}
