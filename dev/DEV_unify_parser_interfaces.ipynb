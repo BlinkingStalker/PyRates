{
 "cells": [
  {
   "cell_type": "code",
   "execution_count": 132,
   "metadata": {},
   "outputs": [
    {
     "name": "stdout",
     "output_type": "stream",
     "text": [
      "The autoreload extension is already loaded. To reload it, use:\n",
      "  %reload_ext autoreload\n"
     ]
    }
   ],
   "source": [
    "%load_ext autoreload\n",
    "%autoreload"
   ]
  },
  {
   "cell_type": "code",
   "execution_count": 133,
   "metadata": {},
   "outputs": [
    {
     "name": "stdout",
     "output_type": "stream",
     "text": [
      "/home/raid1\n"
     ]
    }
   ],
   "source": [
    "cd ../"
   ]
  },
  {
   "cell_type": "code",
   "execution_count": 134,
   "metadata": {},
   "outputs": [
    {
     "name": "stdout",
     "output_type": "stream",
     "text": [
      "\u001b[0m\u001b[01;34m00verwaisteVerzeichnisse\u001b[0m/  \u001b[01;34mgrigoryan\u001b[0m/   \u001b[01;34mkasse\u001b[0m/        \u001b[01;34mmuehlberg\u001b[0m/\r\n",
      "\u001b[01;34mafs-login-test\u001b[0m/            \u001b[01;34mgroba\u001b[0m/       \u001b[01;34mkauffmann\u001b[0m/    \u001b[01;34mnaethe\u001b[0m/\r\n",
      "\u001b[01;34mafs-matlabtest\u001b[0m/            \u001b[01;34mgrohmann\u001b[0m/    \u001b[01;34mkayhan\u001b[0m/       \u001b[01;34mnierhaus\u001b[0m/\r\n",
      "\u001b[01;34malange\u001b[0m/                    \u001b[01;34mgrothe\u001b[0m/      \u001b[01;34mkenville\u001b[0m/     \u001b[01;34mobrig\u001b[0m/\r\n",
      "aquota.user                \u001b[01;34mgugnowska\u001b[0m/   \u001b[01;34mketscher\u001b[0m/     \u001b[01;34mokonsinger\u001b[0m/\r\n",
      "\u001b[01;34mbazin\u001b[0m/                     \u001b[01;34mguidi\u001b[0m/       \u001b[01;34mkhalil\u001b[0m/       \u001b[01;34mordnung\u001b[0m/\r\n",
      "\u001b[01;34mbisenius\u001b[0m/                  \u001b[01;34mgundlach\u001b[0m/    \u001b[01;34mkharabian\u001b[0m/    \u001b[01;34motte\u001b[0m/\r\n",
      "\u001b[01;34mbpleger\u001b[0m/                   \u001b[01;34mhaake\u001b[0m/       \u001b[01;34mkiesel\u001b[0m/       \u001b[01;34movadia\u001b[0m/\r\n",
      "\u001b[01;34mcbarth\u001b[0m/                    \u001b[01;34mhalchin\u001b[0m/     \u001b[01;34mkirilina\u001b[0m/     \u001b[01;34mpaasche\u001b[0m/\r\n",
      "\u001b[01;34mdhital\u001b[0m/                    \u001b[01;34mhardikar\u001b[0m/    \u001b[01;34mkischarr\u001b[0m/     \u001b[01;34mprintadm\u001b[0m/\r\n",
      "\u001b[01;34mdkumral\u001b[0m/                   \u001b[01;34mhartwigsen\u001b[0m/  \u001b[01;34mkkhaled\u001b[0m/      \u001b[01;34mpueschl\u001b[0m/\r\n",
      "\u001b[01;34mdraganski\u001b[0m/                 \u001b[01;34mhaschulze\u001b[0m/   \u001b[01;34mklaus\u001b[0m/        \u001b[01;34mragert\u001b[0m/\r\n",
      "\u001b[01;34mdrose\u001b[0m/                     \u001b[01;34mhehartmann\u001b[0m/  \u001b[01;34mkleinpeters\u001b[0m/  \u001b[01;34mregenbrecht\u001b[0m/\r\n",
      "\u001b[01;34medv\u001b[0m/                       \u001b[01;34mhennebach\u001b[0m/   \u001b[01;34mklingebiel\u001b[0m/   \u001b[01;34mreimer\u001b[0m/\r\n",
      "\u001b[01;34mekaminski\u001b[0m/                 \u001b[01;34mherzig\u001b[0m/      \u001b[01;34mklotzsche\u001b[0m/    \u001b[01;34mreinelt\u001b[0m/\r\n",
      "\u001b[01;34mekelly\u001b[0m/                    \u001b[01;34mheyart\u001b[0m/      \u001b[01;34mkoziel\u001b[0m/       \u001b[01;34mrmueller\u001b[0m/\r\n",
      "\u001b[01;34merbey\u001b[0m/                     \u001b[01;34mhidalgo\u001b[0m/     \u001b[01;34mkpaul\u001b[0m/        \u001b[01;34mroebbig\u001b[0m/\r\n",
      "\u001b[01;34mesraal\u001b[0m/                    \u001b[01;34mhmri\u001b[0m/        \u001b[01;34mkpine\u001b[0m/        \u001b[01;34mrole_adipositas\u001b[0m/\r\n",
      "\u001b[01;34mfbeyer\u001b[0m/                    \u001b[01;34mhodapp\u001b[0m/      \u001b[01;34mkpodranski\u001b[0m/   \u001b[01;34mroswandowitz\u001b[0m/\r\n",
      "\u001b[01;34mfederbusch\u001b[0m/                \u001b[01;34mhoehne\u001b[0m/      \u001b[01;34mkranepuhl\u001b[0m/    \u001b[01;34mrullmann\u001b[0m/\r\n",
      "\u001b[01;34mfivos\u001b[0m/                     \u001b[01;34mhoff\u001b[0m/        \u001b[01;34mkriegstein\u001b[0m/   \u001b[01;34msacher\u001b[0m/\r\n",
      "\u001b[01;34mforschack\u001b[0m/                 \u001b[01;34mhringer\u001b[0m/     \u001b[01;34mkthierbach\u001b[0m/   \u001b[01;34mschaare\u001b[0m/\r\n",
      "\u001b[01;34mgaebler\u001b[0m/                   \u001b[01;34mhschloegl\u001b[0m/   \u001b[01;34mkthomas\u001b[0m/      \u001b[01;34mscharrer\u001b[0m/\r\n",
      "\u001b[01;34mgajiyeva\u001b[0m/                  \u001b[01;34mhschmidt\u001b[0m/    \u001b[01;34mkube\u001b[0m/         \u001b[01;34mschindlers\u001b[0m/\r\n",
      "\u001b[01;34mgallistel\u001b[0m/                 \u001b[01;34mhsingfen\u001b[0m/    \u001b[01;34mkueche\u001b[0m/       \u001b[01;34mschmorde\u001b[0m/\r\n",
      "\u001b[01;34mgallistl\u001b[0m/                  \u001b[01;34mhueser\u001b[0m/      \u001b[01;34mkuhnke\u001b[0m/       \u001b[01;34mschrimpf\u001b[0m/\r\n",
      "\u001b[01;34mgarvert\u001b[0m/                   \u001b[01;34mhuml\u001b[0m/        \u001b[01;34mkungl\u001b[0m/        \u001b[01;34mschuemberg\u001b[0m/\r\n",
      "\u001b[01;34mgatzsche\u001b[0m/                  \u001b[01;34mhwatanabe\u001b[0m/   \u001b[01;34mkunz\u001b[0m/         \u001b[01;34msehm\u001b[0m/\r\n",
      "\u001b[01;34mgavriilidis\u001b[0m/               \u001b[01;34miemi\u001b[0m/        \u001b[01;34mkweise\u001b[0m/       \u001b[01;34msgeyer\u001b[0m/\r\n",
      "\u001b[01;34mgeier\u001b[0m/                     \u001b[01;34mjaeger\u001b[0m/      \u001b[01;34mlampe\u001b[0m/        \u001b[01;34msinger\u001b[0m/\r\n",
      "\u001b[01;34mgeissler\u001b[0m/                  \u001b[01;34mjakubova\u001b[0m/    \u001b[01;34mlocktest\u001b[0m/     \u001b[01;34msmeyer\u001b[0m/\r\n",
      "\u001b[01;34mgendron\u001b[0m/                   \u001b[01;34mjalon\u001b[0m/       \u001b[01;34mlost+found\u001b[0m/   \u001b[01;34mstahl\u001b[0m/\r\n",
      "\u001b[01;34mgeorgescu\u001b[0m/                 \u001b[01;34mjamshidi\u001b[0m/    \u001b[01;34mmargulies\u001b[0m/    \u001b[01;34msteele\u001b[0m/\r\n",
      "\u001b[01;34mgerber\u001b[0m/                    \u001b[01;34mjanssen\u001b[0m/     \u001b[01;34mmarschner\u001b[0m/    \u001b[01;34mtaskin\u001b[0m/\r\n",
      "\u001b[01;34mgerstenberger\u001b[0m/             \u001b[01;34mjerichter\u001b[0m/   \u001b[01;34mmartinez\u001b[0m/     \u001b[01;34mtest1\u001b[0m/\r\n",
      "\u001b[01;34mghazaryan\u001b[0m/                 \u001b[01;34mjeschke\u001b[0m/     \u001b[01;34mmdreyer\u001b[0m/      \u001b[01;34mtestfunctional1\u001b[0m/\r\n",
      "\u001b[01;34mghelms\u001b[0m/                    \u001b[01;34mjkammer\u001b[0m/     \u001b[01;34mmeemken\u001b[0m/      \u001b[01;34mthenmarkus\u001b[0m/\r\n",
      "\u001b[01;34mglance\u001b[0m/                    \u001b[01;34mjlang\u001b[0m/       \u001b[01;34mmehl\u001b[0m/         \u001b[01;34mthiel\u001b[0m/\r\n",
      "\u001b[01;34mglasewald\u001b[0m/                 \u001b[01;34mjonaswitt\u001b[0m/   \u001b[01;34mmehnert\u001b[0m/      \u001b[01;34mtlenich\u001b[0m/\r\n",
      "\u001b[01;34mglathe\u001b[0m/                    \u001b[01;34mjowaschke\u001b[0m/   \u001b[01;34mmendil\u001b[0m/       \u001b[01;34mtstreubel\u001b[0m/\r\n",
      "\u001b[01;34mglausch\u001b[0m/                   \u001b[01;34mjpark\u001b[0m/       \u001b[01;34mmetere\u001b[0m/       \u001b[01;34mtuxtest\u001b[0m/\r\n",
      "\u001b[01;34mgoldau\u001b[0m/                    \u001b[01;34mjschmidt\u001b[0m/    \u001b[01;34mmgrund\u001b[0m/       \u001b[01;34mvignotto\u001b[0m/\r\n",
      "\u001b[01;34mgong\u001b[0m/                      \u001b[01;34mjubelger\u001b[0m/    \u001b[01;34mmkoenig\u001b[0m/      \u001b[01;34mvillringeroffice\u001b[0m/\r\n",
      "\u001b[01;34mgovaart\u001b[0m/                   \u001b[01;34mkajakob\u001b[0m/     \u001b[01;34mmmartins\u001b[0m/     \u001b[01;34mweicker\u001b[0m/\r\n",
      "\u001b[01;34mgraessner\u001b[0m/                 \u001b[01;34mkalloch\u001b[0m/     \u001b[01;34mmorys\u001b[0m/        \u001b[01;34mwitte\u001b[0m/\r\n",
      "\u001b[01;34mgrandpierre\u001b[0m/               \u001b[01;34mkamil\u001b[0m/       \u001b[01;34mmrichter\u001b[0m/     \u001b[01;34mwladimirow\u001b[0m/\r\n",
      "\u001b[01;34mgrasser\u001b[0m/                   \u001b[01;34mkandia\u001b[0m/      \u001b[01;34mmtamrt3\u001b[0m/      \u001b[01;34mzhang\u001b[0m/\r\n"
     ]
    }
   ],
   "source": [
    "ls"
   ]
  },
  {
   "cell_type": "code",
   "execution_count": null,
   "metadata": {},
   "outputs": [],
   "source": []
  },
  {
   "cell_type": "code",
   "execution_count": 135,
   "metadata": {},
   "outputs": [],
   "source": [
    "from pyrates.circuit import CircuitTemplate"
   ]
  },
  {
   "cell_type": "code",
   "execution_count": 136,
   "metadata": {},
   "outputs": [],
   "source": [
    "circuit = CircuitTemplate.from_yaml(\"pyrates.circuit.templates.JansenRitCircuit\").apply()"
   ]
  },
  {
   "cell_type": "code",
   "execution_count": 137,
   "metadata": {},
   "outputs": [
    {
     "data": {
      "text/plain": [
       "<pyrates.circuit.circuit.Circuit at 0x7fd9323c60f0>"
      ]
     },
     "execution_count": 137,
     "metadata": {},
     "output_type": "execute_result"
    }
   ],
   "source": [
    "circuit"
   ]
  },
  {
   "cell_type": "code",
   "execution_count": 138,
   "metadata": {},
   "outputs": [
    {
     "name": "stdout",
     "output_type": "stream",
     "text": [
      "{'node': {'inputs': {'m_in'},\n",
      "          'operators': {...},\n",
      "          'output': 'm_out',\n",
      "          'template': <NodeTemplate 'pyrates.population.templates.JansenRitPC'>}}\n"
     ]
    }
   ],
   "source": [
    "from pprint import pprint\n",
    "pprint(circuit.nodes[\"JR_PC\"], indent=1, depth=2)"
   ]
  },
  {
   "cell_type": "code",
   "execution_count": 139,
   "metadata": {},
   "outputs": [
    {
     "name": "stdout",
     "output_type": "stream",
     "text": [
      "{('pyrates.axon.templates.JansenRitPRO', None): {'operator': {...}, 'values': {...}},\n",
      " ('pyrates.population.templates.JansenRitCPO', None): {'operator': {...}, 'values': {...}},\n",
      " ('pyrates.synapse.templates.JansenRitExcitatorySynapseRCO', None): {'operator': {...},\n",
      "                                                                     'values': {...}},\n",
      " ('pyrates.synapse.templates.JansenRitInhibitorySynapseRCO', None): {'operator': {...},\n",
      "                                                                     'values': {...}}}\n"
     ]
    }
   ],
   "source": [
    "pprint(circuit.nodes[\"JR_PC\"][\"node\"][\"operators\"], indent=1, depth=2, width=100)"
   ]
  },
  {
   "cell_type": "code",
   "execution_count": 140,
   "metadata": {},
   "outputs": [],
   "source": [
    "operators = circuit.nodes[\"JR_PC\"][\"node\"][\"operators\"]"
   ]
  },
  {
   "cell_type": "code",
   "execution_count": 141,
   "metadata": {},
   "outputs": [
    {
     "name": "stdout",
     "output_type": "stream",
     "text": [
      "{'operator': {'equation': ['d/dt * I = I_t',\n",
      "                           'd/dt * I_t =  h/tau * m_in - (1/tau)^2 * I - 2 * 1/tau * I_t'],\n",
      "              'inputs': ['m_in'],\n",
      "              'output': 'I',\n",
      "              'variables': {'I': {'data_type': 'float32',\n",
      "                                  'description': 'Electric current across synaptic membrane '\n",
      "                                                 'reflecting synaptic activation due to a '\n",
      "                                                 'pre-synaptic firing rate.\\n',\n",
      "                                  'name': 'synaptic_current',\n",
      "                                  'unit': 'A',\n",
      "                                  'variable_type': 'state_var'},\n",
      "                            'I_t': {'data_type': 'float32',\n",
      "                                    'description': 'integration variable',\n",
      "                                    'variable_type': 'state_var'},\n",
      "                            'h': {'data_type': 'float32',\n",
      "                                  'description': 'Synaptic efficacy. Scales the synaptic '\n",
      "                                                 'activation.',\n",
      "                                  'name': 'efficacy',\n",
      "                                  'unit': 'A',\n",
      "                                  'variable_type': 'constant'},\n",
      "                            'm_in': {'data_type': 'float32',\n",
      "                                     'description': 'Mean incoming firing rate at a specific '\n",
      "                                                    'synapse type',\n",
      "                                     'name': 'incoming_firing_rate',\n",
      "                                     'unit': '1/s',\n",
      "                                     'variable_type': 'state_var'},\n",
      "                            'tau': {'data_type': 'float32',\n",
      "                                    'description': 'Synaptic time constant. Determining the '\n",
      "                                                   'lag/shape of the exponential convolution '\n",
      "                                                   'kernel.',\n",
      "                                    'unit': 's',\n",
      "                                    'variable_type': 'constant'}}},\n",
      " 'values': {'h': -0.022, 'tau': 0.02}}\n"
     ]
    }
   ],
   "source": [
    "pprint(operators[('pyrates.synapse.templates.JansenRitExcitatorySynapseRCO', None)], width=100)"
   ]
  },
  {
   "cell_type": "code",
   "execution_count": 142,
   "metadata": {},
   "outputs": [
    {
     "name": "stdout",
     "output_type": "stream",
     "text": [
      "[('JR_PC',\n",
      "  {'node': {'inputs': {'m_in'},\n",
      "            'operators': {...},\n",
      "            'output': 'm_out',\n",
      "            'template': <NodeTemplate 'pyrates.population.templates.JansenRitPC'>}}),\n",
      " ('JR_IIN',\n",
      "  {'node': {'inputs': {'m_in'},\n",
      "            'operators': {...},\n",
      "            'output': 'm_out',\n",
      "            'template': <NodeTemplate 'pyrates.population.templates.JansenRitIN'>}}),\n",
      " ('JR_EIN',\n",
      "  {'node': {'inputs': {'m_in'},\n",
      "            'operators': {...},\n",
      "            'output': 'm_out',\n",
      "            'template': <NodeTemplate 'pyrates.population.templates.JansenRitIN'>}})]\n"
     ]
    }
   ],
   "source": [
    "pprint(list(circuit.nodes(data=True)), depth=4)"
   ]
  },
  {
   "cell_type": "code",
   "execution_count": 143,
   "metadata": {},
   "outputs": [
    {
     "name": "stdout",
     "output_type": "stream",
     "text": [
      "{'operator': {'equation': ['d/dt * I = I_t',\n",
      "                           'd/dt * I_t =  h/tau * m_in - (1/tau)^2 * I - 2 * '\n",
      "                           '1/tau * I_t'],\n",
      "              'inputs': ['m_in'],\n",
      "              'output': 'I',\n",
      "              'variables': {'I': {'data_type': 'float32',\n",
      "                                  'description': 'Electric current across '\n",
      "                                                 'synaptic membrane reflecting '\n",
      "                                                 'synaptic activation due to a '\n",
      "                                                 'pre-synaptic firing rate.\\n',\n",
      "                                  'name': 'synaptic_current',\n",
      "                                  'unit': 'A',\n",
      "                                  'variable_type': 'state_var'},\n",
      "                            'I_t': {'data_type': 'float32',\n",
      "                                    'description': 'integration variable',\n",
      "                                    'variable_type': 'state_var'},\n",
      "                            'h': {'data_type': 'float32',\n",
      "                                  'description': 'Synaptic efficacy. Scales '\n",
      "                                                 'the synaptic activation.',\n",
      "                                  'name': 'efficacy',\n",
      "                                  'unit': 'A',\n",
      "                                  'variable_type': 'constant'},\n",
      "                            'm_in': {'data_type': 'float32',\n",
      "                                     'description': 'Mean incoming firing rate '\n",
      "                                                    'at a specific synapse '\n",
      "                                                    'type',\n",
      "                                     'name': 'incoming_firing_rate',\n",
      "                                     'unit': '1/s',\n",
      "                                     'variable_type': 'state_var'},\n",
      "                            'tau': {'data_type': 'float32',\n",
      "                                    'description': 'Synaptic time constant. '\n",
      "                                                   'Determining the lag/shape '\n",
      "                                                   'of the exponential '\n",
      "                                                   'convolution kernel.',\n",
      "                                    'unit': 's',\n",
      "                                    'variable_type': 'constant'}}},\n",
      " 'values': {'h': -0.022, 'tau': 0.02}}\n"
     ]
    }
   ],
   "source": [
    "pprint(circuit.nodes[\"JR_PC\"][\"node\"][\"operators\"][('pyrates.synapse.templates.JansenRitExcitatorySynapseRCO',\n",
    "  None)])"
   ]
  },
  {
   "cell_type": "code",
   "execution_count": 144,
   "metadata": {},
   "outputs": [
    {
     "name": "stdout",
     "output_type": "stream",
     "text": [
      "{'node': {'inputs': {'m_in'},\n",
      "          'operators': {(...): {...}, (...): {...}, (...): {...}, (...): {...}},\n",
      "          'output': 'm_out',\n",
      "          'template': <NodeTemplate 'pyrates.population.templates.JansenRitPC'>}}\n"
     ]
    }
   ],
   "source": [
    "pprint(circuit.nodes[\"JR_PC\"], depth=3, width=120)"
   ]
  },
  {
   "cell_type": "code",
   "execution_count": 145,
   "metadata": {},
   "outputs": [
    {
     "name": "stdout",
     "output_type": "stream",
     "text": [
      "[('JR_PC',\n",
      "  'JR_IIN',\n",
      "  {'operators': {'LC': {...}},\n",
      "   'target_operator': 'pyrates.synapse.templates.JansenRitExcitatorySynapseRCO',\n",
      "   'values': {'c': 33.75}}),\n",
      " ('JR_PC',\n",
      "  'JR_EIN',\n",
      "  {'operators': {'LC': {...}},\n",
      "   'target_operator': 'pyrates.synapse.templates.JansenRitExcitatorySynapseRCO',\n",
      "   'values': {'c': 135.0}}),\n",
      " ('JR_IIN',\n",
      "  'JR_PC',\n",
      "  {'operators': {'LC': {...}},\n",
      "   'target_operator': 'pyrates.synapse.templates.JansenRitInhibitorySynapseRCO',\n",
      "   'values': {'c': 33.75}}),\n",
      " ('JR_EIN',\n",
      "  'JR_PC',\n",
      "  {'operators': {'LC': {...}},\n",
      "   'target_operator': 'pyrates.synapse.templates.JansenRitExcitatorySynapseRCO',\n",
      "   'values': {'c': 108.0}})]\n"
     ]
    }
   ],
   "source": [
    "pprint(list(circuit.edges(data=True)), depth=4)"
   ]
  },
  {
   "cell_type": "code",
   "execution_count": 146,
   "metadata": {},
   "outputs": [
    {
     "name": "stdout",
     "output_type": "stream",
     "text": [
      "{'operators': {'LC': {'equation': ['m_in = c * m_out'],\n",
      "                      'inputs': ['m_out'],\n",
      "                      'output': 'm_in',\n",
      "                      'variables': {'c': {...},\n",
      "                                    'm_in': {...},\n",
      "                                    'm_out': {...}}}},\n",
      " 'target_operator': 'pyrates.synapse.templates.JansenRitExcitatorySynapseRCO',\n",
      " 'values': {'c': 33.75}}\n"
     ]
    }
   ],
   "source": [
    "pprint(circuit.edges[('JR_PC','JR_IIN', 0)], depth=4)"
   ]
  },
  {
   "cell_type": "code",
   "execution_count": 147,
   "metadata": {},
   "outputs": [],
   "source": [
    "# %pdb"
   ]
  },
  {
   "cell_type": "code",
   "execution_count": 148,
   "metadata": {},
   "outputs": [],
   "source": [
    "nd = circuit.network_def()"
   ]
  },
  {
   "cell_type": "code",
   "execution_count": 149,
   "metadata": {},
   "outputs": [
    {
     "name": "stdout",
     "output_type": "stream",
     "text": [
      "[('JR_PC:0',\n",
      "  {'inputs': {},\n",
      "   'operator_args': {'JansenRitCPO:0/I': {...},\n",
      "                     'JansenRitCPO:0/V': {...},\n",
      "                     'JansenRitCPO:0/k': {...},\n",
      "                     'JansenRitExcitatorySynapseRCO:0/I': {...},\n",
      "                     'JansenRitExcitatorySynapseRCO:0/I_t': {...},\n",
      "                     'JansenRitExcitatorySynapseRCO:0/h': {...},\n",
      "                     'JansenRitExcitatorySynapseRCO:0/m_in': {...},\n",
      "                     'JansenRitExcitatorySynapseRCO:0/tau': {...},\n",
      "                     'JansenRitInhibitorySynapseRCO:0/I': {...},\n",
      "                     'JansenRitInhibitorySynapseRCO:0/I_t': {...},\n",
      "                     'JansenRitInhibitorySynapseRCO:0/h': {...},\n",
      "                     'JansenRitInhibitorySynapseRCO:0/m_in': {...},\n",
      "                     'JansenRitInhibitorySynapseRCO:0/tau': {...},\n",
      "                     'JansenRitPRO:0/V': {...},\n",
      "                     'JansenRitPRO:0/V_thr': {...},\n",
      "                     'JansenRitPRO:0/m_max': {...},\n",
      "                     'JansenRitPRO:0/m_out': {...},\n",
      "                     'JansenRitPRO:0/r': {...},\n",
      "                     'JansenRitPRO:0/s': {...}},\n",
      "   'operator_order': ['JansenRitExcitatorySynapseRCO:0',\n",
      "                      'JansenRitInhibitorySynapseRCO:0',\n",
      "                      'JansenRitCPO:0',\n",
      "                      'JansenRitPRO:0'],\n",
      "   'operators': {'JansenRitCPO:0': {...},\n",
      "                 'JansenRitExcitatorySynapseRCO:0': {...},\n",
      "                 'JansenRitInhibitorySynapseRCO:0': {...},\n",
      "                 'JansenRitPRO:0': {...}}}),\n",
      " ('JR_IIN:0',\n",
      "  {'inputs': {},\n",
      "   'operator_args': {'JansenRitCPO:0/I': {...},\n",
      "                     'JansenRitCPO:0/V': {...},\n",
      "                     'JansenRitCPO:0/k': {...},\n",
      "                     'JansenRitExcitatorySynapseRCO:0/I': {...},\n",
      "                     'JansenRitExcitatorySynapseRCO:0/I_t': {...},\n",
      "                     'JansenRitExcitatorySynapseRCO:0/h': {...},\n",
      "                     'JansenRitExcitatorySynapseRCO:0/m_in': {...},\n",
      "                     'JansenRitExcitatorySynapseRCO:0/tau': {...},\n",
      "                     'JansenRitPRO:0/V': {...},\n",
      "                     'JansenRitPRO:0/V_thr': {...},\n",
      "                     'JansenRitPRO:0/m_max': {...},\n",
      "                     'JansenRitPRO:0/m_out': {...},\n",
      "                     'JansenRitPRO:0/r': {...},\n",
      "                     'JansenRitPRO:0/s': {...}},\n",
      "   'operator_order': ['JansenRitExcitatorySynapseRCO:0', 'JansenRitCPO:0', 'JansenRitPRO:0'],\n",
      "   'operators': {'JansenRitCPO:0': {...}, 'JansenRitExcitatorySynapseRCO:0': {...}, 'JansenRitPRO:0': {...}}}),\n",
      " ('JR_EIN:0',\n",
      "  {'inputs': {},\n",
      "   'operator_args': {'JansenRitCPO:0/I': {...},\n",
      "                     'JansenRitCPO:0/V': {...},\n",
      "                     'JansenRitCPO:0/k': {...},\n",
      "                     'JansenRitExcitatorySynapseRCO:0/I': {...},\n",
      "                     'JansenRitExcitatorySynapseRCO:0/I_t': {...},\n",
      "                     'JansenRitExcitatorySynapseRCO:0/h': {...},\n",
      "                     'JansenRitExcitatorySynapseRCO:0/m_in': {...},\n",
      "                     'JansenRitExcitatorySynapseRCO:0/tau': {...},\n",
      "                     'JansenRitPRO:0/V': {...},\n",
      "                     'JansenRitPRO:0/V_thr': {...},\n",
      "                     'JansenRitPRO:0/m_max': {...},\n",
      "                     'JansenRitPRO:0/m_out': {...},\n",
      "                     'JansenRitPRO:0/r': {...},\n",
      "                     'JansenRitPRO:0/s': {...}},\n",
      "   'operator_order': ['JansenRitExcitatorySynapseRCO:0', 'JansenRitCPO:0', 'JansenRitPRO:0'],\n",
      "   'operators': {'JansenRitCPO:0': {...}, 'JansenRitExcitatorySynapseRCO:0': {...}, 'JansenRitPRO:0': {...}}})]\n"
     ]
    }
   ],
   "source": [
    "pprint(list(nd.nodes(data=True)),depth=4, width=120)"
   ]
  },
  {
   "cell_type": "code",
   "execution_count": 150,
   "metadata": {},
   "outputs": [
    {
     "name": "stdout",
     "output_type": "stream",
     "text": [
      "{'JansenRitCPO:0/I': {'dtype': 'float32', 'shape': (), 'vtype': 'state_var'},\n",
      " 'JansenRitCPO:0/V': {'dtype': 'float32', 'shape': (), 'vtype': 'state_var'},\n",
      " 'JansenRitCPO:0/k': {'dtype': 'float32', 'shape': (), 'value': 1.0, 'vtype': 'constant'},\n",
      " 'JansenRitExcitatorySynapseRCO:0/I': {'dtype': 'float32', 'shape': (), 'vtype': 'state_var'},\n",
      " 'JansenRitExcitatorySynapseRCO:0/I_t': {'dtype': 'float32', 'shape': (), 'vtype': 'state_var'},\n",
      " 'JansenRitExcitatorySynapseRCO:0/h': {'dtype': 'float32', 'shape': (), 'value': -0.022, 'vtype': 'constant'},\n",
      " 'JansenRitExcitatorySynapseRCO:0/m_in': {'dtype': 'float32', 'shape': (), 'vtype': 'state_var'},\n",
      " 'JansenRitExcitatorySynapseRCO:0/tau': {'dtype': 'float32', 'shape': (), 'value': 0.02, 'vtype': 'constant'},\n",
      " 'JansenRitInhibitorySynapseRCO:0/I': {'dtype': 'float32', 'shape': (), 'vtype': 'state_var'},\n",
      " 'JansenRitInhibitorySynapseRCO:0/I_t': {'dtype': 'float32', 'shape': (), 'vtype': 'state_var'},\n",
      " 'JansenRitInhibitorySynapseRCO:0/h': {'dtype': 'float32', 'shape': (), 'value': -0.022, 'vtype': 'constant'},\n",
      " 'JansenRitInhibitorySynapseRCO:0/m_in': {'dtype': 'float32', 'shape': (), 'vtype': 'state_var'},\n",
      " 'JansenRitInhibitorySynapseRCO:0/tau': {'dtype': 'float32', 'shape': (), 'value': 0.02, 'vtype': 'constant'},\n",
      " 'JansenRitPRO:0/V': {'dtype': 'float32', 'shape': (), 'vtype': 'state_var'},\n",
      " 'JansenRitPRO:0/V_thr': {'dtype': 'float32', 'shape': (), 'value': 0.006, 'vtype': 'constant'},\n",
      " 'JansenRitPRO:0/m_max': {'allowed_range': '>= 0', 'dtype': 'float32', 'shape': (), 'value': 5.0, 'vtype': 'constant'},\n",
      " 'JansenRitPRO:0/m_out': {'dtype': 'float32', 'shape': (), 'vtype': 'state_var'},\n",
      " 'JansenRitPRO:0/r': {'dtype': 'int32', 'shape': (), 'value': 1, 'vtype': 'constant'},\n",
      " 'JansenRitPRO:0/s': {'dtype': 'float32', 'shape': (), 'value': 560.0, 'vtype': 'constant'}}\n"
     ]
    }
   ],
   "source": [
    "pprint(nd.nodes['JR_PC:0'][\"operator_args\"], depth=2, width=120)"
   ]
  },
  {
   "cell_type": "code",
   "execution_count": 151,
   "metadata": {},
   "outputs": [
    {
     "name": "stdout",
     "output_type": "stream",
     "text": [
      "{('JR_EIN:0', 'JR_PC:0', 0): {'operator_args': {'LC/c': {...}, 'LC/m_in': {...}, 'LC/m_out': {...}},\n",
      "                              'operator_order': ['LC'],\n",
      "                              'operators': {'LC': {...}}},\n",
      " ('JR_IIN:0', 'JR_PC:0', 0): {'operator_args': {'LC/c': {...}, 'LC/m_in': {...}, 'LC/m_out': {...}},\n",
      "                              'operator_order': ['LC'],\n",
      "                              'operators': {'LC': {...}}},\n",
      " ('JR_PC:0', 'JR_EIN:0', 0): {'operator_args': {'LC/c': {...}, 'LC/m_in': {...}, 'LC/m_out': {...}},\n",
      "                              'operator_order': ['LC'],\n",
      "                              'operators': {'LC': {...}}},\n",
      " ('JR_PC:0', 'JR_IIN:0', 0): {'operator_args': {'LC/c': {...}, 'LC/m_in': {...}, 'LC/m_out': {...}},\n",
      "                              'operator_order': ['LC'],\n",
      "                              'operators': {'LC': {...}}}}\n"
     ]
    }
   ],
   "source": [
    "pprint(dict(nd.edges), depth=3, width=120)"
   ]
  },
  {
   "cell_type": "code",
   "execution_count": 153,
   "metadata": {},
   "outputs": [
    {
     "name": "stdout",
     "output_type": "stream",
     "text": [
      "{'operator_args': {'LC/c': {'dtype': 'int32', 'shape': (), 'value': 108.0, 'vtype': 'constant'},\n",
      "                   'LC/m_in': {'name': 'JansenRitExcitatorySynapseRCO:0/m_in', 'vtype': 'target_var'},\n",
      "                   'LC/m_out': {'name': 'JansenRitExcitatorySynapseRCO:0/m_out', 'vtype': 'source_var'}},\n",
      " 'operator_order': ['LC'],\n",
      " 'operators': {'LC': {'equation': ['m_in = c * m_out'],\n",
      "                      'inputs': {'m_out': {'reduce_dim': True, 'source': []}},\n",
      "                      'output': 'm_in'}}}\n"
     ]
    }
   ],
   "source": [
    "pprint(dict(nd.edges[('JR_EIN:0', 'JR_PC:0', 0)]), depth=5, width=120)"
   ]
  },
  {
   "cell_type": "code",
   "execution_count": 124,
   "metadata": {},
   "outputs": [
    {
     "name": "stdout",
     "output_type": "stream",
     "text": [
      "{'inputs': {},\n",
      " 'operator_args': {'JansenRitCPO:0/I': {...},\n",
      "                   'JansenRitCPO:0/V': {...},\n",
      "                   'JansenRitCPO:0/k': {...},\n",
      "                   'JansenRitExcitatorySynapseRCO:0/I': {...},\n",
      "                   'JansenRitExcitatorySynapseRCO:0/I_t': {...},\n",
      "                   'JansenRitExcitatorySynapseRCO:0/h': {...},\n",
      "                   'JansenRitExcitatorySynapseRCO:0/m_in': {...},\n",
      "                   'JansenRitExcitatorySynapseRCO:0/tau': {...},\n",
      "                   'JansenRitInhibitorySynapseRCO:0/I': {...},\n",
      "                   'JansenRitInhibitorySynapseRCO:0/I_t': {...},\n",
      "                   'JansenRitInhibitorySynapseRCO:0/h': {...},\n",
      "                   'JansenRitInhibitorySynapseRCO:0/m_in': {...},\n",
      "                   'JansenRitInhibitorySynapseRCO:0/tau': {...},\n",
      "                   'JansenRitPRO:0/V': {...},\n",
      "                   'JansenRitPRO:0/V_thr': {...},\n",
      "                   'JansenRitPRO:0/m_max': {...},\n",
      "                   'JansenRitPRO:0/m_out': {...},\n",
      "                   'JansenRitPRO:0/r': {...},\n",
      "                   'JansenRitPRO:0/s': {...}},\n",
      " 'operator_order': ['JansenRitExcitatorySynapseRCO:0',\n",
      "                    'JansenRitInhibitorySynapseRCO:0',\n",
      "                    'JansenRitCPO:0',\n",
      "                    'JansenRitPRO:0'],\n",
      " 'operators': {'JansenRitCPO:0': {...},\n",
      "               'JansenRitExcitatorySynapseRCO:0': {...},\n",
      "               'JansenRitInhibitorySynapseRCO:0': {...},\n",
      "               'JansenRitPRO:0': {...}}}\n"
     ]
    }
   ],
   "source": [
    "pprint(dict(nd.nodes[\"JR_PC:0\"]), depth=2)"
   ]
  },
  {
   "cell_type": "code",
   "execution_count": 125,
   "metadata": {},
   "outputs": [],
   "source": [
    "from networkx import DiGraph"
   ]
  },
  {
   "cell_type": "code",
   "execution_count": 126,
   "metadata": {},
   "outputs": [],
   "source": [
    "g = DiGraph([(1,2),(3,4),(2,5),(4,5)])"
   ]
  },
  {
   "cell_type": "code",
   "execution_count": 127,
   "metadata": {},
   "outputs": [
    {
     "data": {
      "text/plain": [
       "[1, 3]"
      ]
     },
     "execution_count": 127,
     "metadata": {},
     "output_type": "execute_result"
    }
   ],
   "source": [
    "[node for node, in_degree in g.in_degree if in_degree == 0]"
   ]
  },
  {
   "cell_type": "code",
   "execution_count": 128,
   "metadata": {},
   "outputs": [],
   "source": [
    "import networkx as nx"
   ]
  },
  {
   "cell_type": "code",
   "execution_count": 129,
   "metadata": {},
   "outputs": [
    {
     "data": {
      "text/plain": [
       "'2.1'"
      ]
     },
     "execution_count": 129,
     "metadata": {},
     "output_type": "execute_result"
    }
   ],
   "source": [
    "nx.__version__"
   ]
  },
  {
   "cell_type": "code",
   "execution_count": 130,
   "metadata": {},
   "outputs": [],
   "source": [
    "from networkx.algorithms.cycles import find_cycle"
   ]
  },
  {
   "cell_type": "code",
   "execution_count": 131,
   "metadata": {},
   "outputs": [
    {
     "ename": "NetworkXNoCycle",
     "evalue": "No cycle found.",
     "output_type": "error",
     "traceback": [
      "\u001b[0;31m---------------------------------------------------------------------------\u001b[0m",
      "\u001b[0;31mNetworkXNoCycle\u001b[0m                           Traceback (most recent call last)",
      "\u001b[0;32m<ipython-input-131-7332c640aca8>\u001b[0m in \u001b[0;36m<module>\u001b[0;34m()\u001b[0m\n\u001b[0;32m----> 1\u001b[0;31m \u001b[0mfind_cycle\u001b[0m\u001b[0;34m(\u001b[0m\u001b[0mg\u001b[0m\u001b[0;34m)\u001b[0m\u001b[0;34m\u001b[0m\u001b[0m\n\u001b[0m",
      "\u001b[0;32m/nobackup/jamaika1/drose/anaconda3/envs/nmm/lib/python3.6/site-packages/networkx/algorithms/cycles.py\u001b[0m in \u001b[0;36mfind_cycle\u001b[0;34m(G, source, orientation)\u001b[0m\n\u001b[1;32m    459\u001b[0m     \u001b[0;32melse\u001b[0m\u001b[0;34m:\u001b[0m\u001b[0;34m\u001b[0m\u001b[0m\n\u001b[1;32m    460\u001b[0m         \u001b[0;32massert\u001b[0m\u001b[0;34m(\u001b[0m\u001b[0mlen\u001b[0m\u001b[0;34m(\u001b[0m\u001b[0mcycle\u001b[0m\u001b[0;34m)\u001b[0m \u001b[0;34m==\u001b[0m \u001b[0;36m0\u001b[0m\u001b[0;34m)\u001b[0m\u001b[0;34m\u001b[0m\u001b[0m\n\u001b[0;32m--> 461\u001b[0;31m         \u001b[0;32mraise\u001b[0m \u001b[0mnx\u001b[0m\u001b[0;34m.\u001b[0m\u001b[0mexception\u001b[0m\u001b[0;34m.\u001b[0m\u001b[0mNetworkXNoCycle\u001b[0m\u001b[0;34m(\u001b[0m\u001b[0;34m'No cycle found.'\u001b[0m\u001b[0;34m)\u001b[0m\u001b[0;34m\u001b[0m\u001b[0m\n\u001b[0m\u001b[1;32m    462\u001b[0m \u001b[0;34m\u001b[0m\u001b[0m\n\u001b[1;32m    463\u001b[0m     \u001b[0;31m# We now have a list of edges which ends on a cycle.\u001b[0m\u001b[0;34m\u001b[0m\u001b[0;34m\u001b[0m\u001b[0m\n",
      "\u001b[0;31mNetworkXNoCycle\u001b[0m: No cycle found."
     ]
    }
   ],
   "source": [
    "find_cycle(g)"
   ]
  },
  {
   "cell_type": "code",
   "execution_count": null,
   "metadata": {},
   "outputs": [],
   "source": [
    "nodes = list(g.nodes)\n",
    "i = 0\n",
    "while g.nodes:\n",
    "    g.remove_node(nodes[i])\n",
    "    i += 1"
   ]
  },
  {
   "cell_type": "code",
   "execution_count": null,
   "metadata": {},
   "outputs": [],
   "source": [
    "g.nodes"
   ]
  },
  {
   "cell_type": "code",
   "execution_count": null,
   "metadata": {},
   "outputs": [],
   "source": [
    "g.nodes"
   ]
  },
  {
   "cell_type": "code",
   "execution_count": null,
   "metadata": {},
   "outputs": [],
   "source": [
    "g.edges"
   ]
  },
  {
   "cell_type": "code",
   "execution_count": null,
   "metadata": {},
   "outputs": [],
   "source": [
    "op_order = []\n",
    "while g.nodes:\n",
    "    # noinspection PyTypeChecker\n",
    "    primary_nodes = [node for node, in_degree in g.in_degree if in_degree == 0]\n",
    "    op_order.extend(primary_nodes)\n",
    "    g.remove_nodes_from(primary_nodes)  "
   ]
  },
  {
   "cell_type": "code",
   "execution_count": null,
   "metadata": {},
   "outputs": [],
   "source": [
    "op_order"
   ]
  },
  {
   "cell_type": "code",
   "execution_count": null,
   "metadata": {},
   "outputs": [],
   "source": []
  }
 ],
 "metadata": {
  "kernelspec": {
   "display_name": "Python 3",
   "language": "python",
   "name": "python3"
  },
  "language_info": {
   "codemirror_mode": {
    "name": "ipython",
    "version": 3
   },
   "file_extension": ".py",
   "mimetype": "text/x-python",
   "name": "python",
   "nbconvert_exporter": "python",
   "pygments_lexer": "ipython3",
   "version": "3.6.6"
  }
 },
 "nbformat": 4,
 "nbformat_minor": 2
}
