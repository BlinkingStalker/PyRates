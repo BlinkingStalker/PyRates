{
 "cells": [
  {
   "cell_type": "code",
   "execution_count": 1,
   "metadata": {
    "collapsed": true
   },
   "outputs": [],
   "source": [
    "import numpy as np\n",
    "import math\n",
    "\n",
    "import mne\n",
    "from mne.time_frequency import psd_multitaper\n",
    "from mne.connectivity import spectral_connectivity\n",
    "\n",
    "from core.circuit import CircuitFromCircuit\n",
    "from core.circuit import JansenRitLeakyCapacitorCircuit\n",
    "\n",
    "import matplotlib.pyplot as plt\n",
    "% matplotlib inline"
   ]
  },
  {
   "cell_type": "code",
   "execution_count": 2,
   "metadata": {},
   "outputs": [
    {
     "ename": "TypeError",
     "evalue": "__init__() missing 1 required positional argument: 'target_populations'",
     "output_type": "error",
     "traceback": [
      "\u001b[0;31m---------------------------------------------------------------------------\u001b[0m",
      "\u001b[0;31mTypeError\u001b[0m                                 Traceback (most recent call last)",
      "\u001b[0;32m<ipython-input-2-1a298709e872>\u001b[0m in \u001b[0;36m<module>\u001b[0;34m()\u001b[0m\n\u001b[1;32m     49\u001b[0m \u001b[0;34m\u001b[0m\u001b[0m\n\u001b[1;32m     50\u001b[0m \u001b[0;31m# combined network\u001b[0m\u001b[0;34m\u001b[0m\u001b[0;34m\u001b[0m\u001b[0m\n\u001b[0;32m---> 51\u001b[0;31m \u001b[0mjrc_comb\u001b[0m \u001b[0;34m=\u001b[0m \u001b[0mCircuitFromCircuit\u001b[0m\u001b[0;34m(\u001b[0m\u001b[0;34m[\u001b[0m\u001b[0mjrc1\u001b[0m\u001b[0;34m,\u001b[0m \u001b[0mjrc2\u001b[0m\u001b[0;34m]\u001b[0m\u001b[0;34m,\u001b[0m \u001b[0mconnectivity\u001b[0m\u001b[0;34m,\u001b[0m \u001b[0mdelays\u001b[0m\u001b[0;34m)\u001b[0m\u001b[0;34m\u001b[0m\u001b[0m\n\u001b[0m\u001b[1;32m     52\u001b[0m \u001b[0;34m\u001b[0m\u001b[0m\n\u001b[1;32m     53\u001b[0m \u001b[0;31m# simulate network behavior\u001b[0m\u001b[0;34m\u001b[0m\u001b[0;34m\u001b[0m\u001b[0m\n",
      "\u001b[0;31mTypeError\u001b[0m: __init__() missing 1 required positional argument: 'target_populations'"
     ]
    }
   ],
   "source": [
    "# simulation parametrization\n",
    "############################\n",
    "\n",
    "# base parameters\n",
    "step_size = 5e-4\n",
    "max_synaptic_delay = 0.5\n",
    "n_circuits = 2\n",
    "n_populations = 6\n",
    "n_synapses = 2\n",
    "\n",
    "# simulation parameters\n",
    "simulation_time = 10.\n",
    "simulation_steps = int(simulation_time/step_size)\n",
    "\n",
    "# synapse parameters\n",
    "synapse_params_e = {'efficacy':3.182e-13, 'tau_rise': 3e-4, 'tau_decay': 6e-3}\n",
    "synapse_params_i = {'efficacy':-1.273e-12, 'tau_rise': 6e-4, 'tau_decay': 2e-2}\n",
    "synapse_params = None\n",
    "\n",
    "# connectivity parameters\n",
    "c1 = 20.\n",
    "c2 = 20.\n",
    "connectivity = np.zeros((n_circuits, n_circuits, n_synapses))\n",
    "connectivity[0, 1, 0] = c1\n",
    "connectivity[1, 0, 0] = c2\n",
    "\n",
    "# delay parameters\n",
    "d1 = 0.\n",
    "d2 = 0.\n",
    "delays = np.zeros((n_circuits, n_circuits))\n",
    "delays[0, 1] = d1\n",
    "delays[1, 0] = d2\n",
    "\n",
    "# synaptic input\n",
    "min_input = 120\n",
    "max_input = 320\n",
    "synaptic_input = np.zeros((simulation_steps, n_populations, n_synapses))\n",
    "synaptic_input[:, 0, 0] = np.random.uniform(min_input, max_input, simulation_steps)\n",
    "synaptic_input[:, 3, 0] = np.random.uniform(min_input, max_input, simulation_steps)\n",
    "\n",
    "# initialize network\n",
    "####################\n",
    "\n",
    "# Jansen-Rit circuits\n",
    "jrc1 = JansenRitLeakyCapacitorCircuit(step_size=step_size, max_synaptic_delay=max_synaptic_delay, \n",
    "                                      synapse_params=synapse_params)\n",
    "jrc2 = JansenRitLeakyCapacitorCircuit(step_size=step_size, max_synaptic_delay=max_synaptic_delay, \n",
    "                                      synapse_params=synapse_params)\n",
    "\n",
    "# combined network\n",
    "jrc_comb = CircuitFromCircuit([jrc1, jrc2], connectivity, delays)\n",
    "\n",
    "# simulate network behavior\n",
    "###########################\n",
    "\n",
    "# run simulation\n",
    "jrc_comb.run(synaptic_input, simulation_time)\n",
    "\n",
    "# collect desired population states\n",
    "pops = [0, 1, 2, 3, 4, 5]\n",
    "states = jrc_comb.get_population_states(0, pops)\n",
    "\n",
    "# plot results\n",
    "jrc_comb.plot_population_states(pops, create_plot=False)"
   ]
  },
  {
   "cell_type": "code",
   "execution_count": 4,
   "metadata": {},
   "outputs": [
    {
     "name": "stdout",
     "output_type": "stream",
     "text": [
      "Creating RawArray with float64 data, n_channels=2, n_times=1000\n",
      "    Range : 0 ... 999 =      0.000 ...     0.499 secs\n",
      "Ready.\n",
      "1 matching events found\n",
      "0 projection items activated\n",
      "0 bad epochs dropped\n"
     ]
    },
    {
     "ename": "TypeError",
     "evalue": "%d format: a number is required, not NoneType",
     "output_type": "error",
     "traceback": [
      "\u001b[0;31m---------------------------------------------------------------------------\u001b[0m",
      "\u001b[0;31mTypeError\u001b[0m                                 Traceback (most recent call last)",
      "\u001b[0;32m<ipython-input-4-0d3c0079312c>\u001b[0m in \u001b[0;36m<module>\u001b[0;34m()\u001b[0m\n\u001b[1;32m     22\u001b[0m \u001b[0mepochs\u001b[0m \u001b[0;34m=\u001b[0m \u001b[0mmne\u001b[0m\u001b[0;34m.\u001b[0m\u001b[0mEpochsArray\u001b[0m\u001b[0;34m(\u001b[0m\u001b[0mdata_epochs\u001b[0m\u001b[0;34m,\u001b[0m \u001b[0minfo\u001b[0m\u001b[0;34m=\u001b[0m\u001b[0minfo\u001b[0m\u001b[0;34m,\u001b[0m \u001b[0mevents\u001b[0m\u001b[0;34m=\u001b[0m\u001b[0mevents\u001b[0m\u001b[0;34m,\u001b[0m \u001b[0mevent_id\u001b[0m\u001b[0;34m=\u001b[0m\u001b[0mevent_id\u001b[0m\u001b[0;34m)\u001b[0m\u001b[0;34m\u001b[0m\u001b[0m\n\u001b[1;32m     23\u001b[0m \u001b[0;34m\u001b[0m\u001b[0m\n\u001b[0;32m---> 24\u001b[0;31m \u001b[0mraw\u001b[0m\u001b[0;34m.\u001b[0m\u001b[0mapply_gradient_compensation\u001b[0m\u001b[0;34m(\u001b[0m\u001b[0;36m2\u001b[0m\u001b[0;34m)\u001b[0m\u001b[0;34m\u001b[0m\u001b[0m\n\u001b[0m\u001b[1;32m     25\u001b[0m \u001b[0;34m\u001b[0m\u001b[0m\n\u001b[1;32m     26\u001b[0m \u001b[0;31m# plot raw data\u001b[0m\u001b[0;34m\u001b[0m\u001b[0;34m\u001b[0m\u001b[0m\n",
      "\u001b[0;32m~/anaconda3/envs/mne_gpc/lib/python3.6/site-packages/mne/io/base.py\u001b[0m in \u001b[0;36mapply_gradient_compensation\u001b[0;34m(self, grade, verbose)\u001b[0m\n",
      "\u001b[0;32m~/anaconda3/envs/mne_gpc/lib/python3.6/site-packages/mne/utils.py\u001b[0m in \u001b[0;36mverbose\u001b[0;34m(function, *args, **kwargs)\u001b[0m\n\u001b[1;32m    726\u001b[0m         \u001b[0;32mwith\u001b[0m \u001b[0muse_log_level\u001b[0m\u001b[0;34m(\u001b[0m\u001b[0mverbose_level\u001b[0m\u001b[0;34m)\u001b[0m\u001b[0;34m:\u001b[0m\u001b[0;34m\u001b[0m\u001b[0m\n\u001b[1;32m    727\u001b[0m             \u001b[0;32mreturn\u001b[0m \u001b[0mfunction\u001b[0m\u001b[0;34m(\u001b[0m\u001b[0;34m*\u001b[0m\u001b[0margs\u001b[0m\u001b[0;34m,\u001b[0m \u001b[0;34m**\u001b[0m\u001b[0mkwargs\u001b[0m\u001b[0;34m)\u001b[0m\u001b[0;34m\u001b[0m\u001b[0m\n\u001b[0;32m--> 728\u001b[0;31m     \u001b[0;32mreturn\u001b[0m \u001b[0mfunction\u001b[0m\u001b[0;34m(\u001b[0m\u001b[0;34m*\u001b[0m\u001b[0margs\u001b[0m\u001b[0;34m,\u001b[0m \u001b[0;34m**\u001b[0m\u001b[0mkwargs\u001b[0m\u001b[0;34m)\u001b[0m\u001b[0;34m\u001b[0m\u001b[0m\n\u001b[0m\u001b[1;32m    729\u001b[0m \u001b[0;34m\u001b[0m\u001b[0m\n\u001b[1;32m    730\u001b[0m \u001b[0;34m\u001b[0m\u001b[0m\n",
      "\u001b[0;32m~/anaconda3/envs/mne_gpc/lib/python3.6/site-packages/mne/io/base.py\u001b[0m in \u001b[0;36mapply_gradient_compensation\u001b[0;34m(self, grade, verbose)\u001b[0m\n\u001b[1;32m    405\u001b[0m             \u001b[0;31m# Figure out what operator to use (varies depending on preload)\u001b[0m\u001b[0;34m\u001b[0m\u001b[0;34m\u001b[0m\u001b[0m\n\u001b[1;32m    406\u001b[0m             \u001b[0mfrom_comp\u001b[0m \u001b[0;34m=\u001b[0m \u001b[0mcurrent_comp\u001b[0m \u001b[0;32mif\u001b[0m \u001b[0mself\u001b[0m\u001b[0;34m.\u001b[0m\u001b[0mpreload\u001b[0m \u001b[0;32melse\u001b[0m \u001b[0mself\u001b[0m\u001b[0;34m.\u001b[0m\u001b[0m_read_comp_grade\u001b[0m\u001b[0;34m\u001b[0m\u001b[0m\n\u001b[0;32m--> 407\u001b[0;31m             \u001b[0mcomp\u001b[0m \u001b[0;34m=\u001b[0m \u001b[0mmake_compensator\u001b[0m\u001b[0;34m(\u001b[0m\u001b[0mself\u001b[0m\u001b[0;34m.\u001b[0m\u001b[0minfo\u001b[0m\u001b[0;34m,\u001b[0m \u001b[0mfrom_comp\u001b[0m\u001b[0;34m,\u001b[0m \u001b[0mgrade\u001b[0m\u001b[0;34m)\u001b[0m\u001b[0;34m\u001b[0m\u001b[0m\n\u001b[0m\u001b[1;32m    408\u001b[0m             logger.info('Compensator constructed to change %d -> %d'\n\u001b[1;32m    409\u001b[0m                         % (current_comp, grade))\n",
      "\u001b[0;32m~/anaconda3/envs/mne_gpc/lib/python3.6/site-packages/mne/io/compensator.py\u001b[0m in \u001b[0;36mmake_compensator\u001b[0;34m(info, from_, to, exclude_comp_chs)\u001b[0m\n\u001b[1;32m     94\u001b[0m     \u001b[0;31m#   s_to   = (I - C2)*(I + C1)*s_from = (I + C1 - C2 - C2*C1)*s_from\u001b[0m\u001b[0;34m\u001b[0m\u001b[0;34m\u001b[0m\u001b[0m\n\u001b[1;32m     95\u001b[0m     \u001b[0;32mif\u001b[0m \u001b[0mfrom_\u001b[0m \u001b[0;34m!=\u001b[0m \u001b[0;36m0\u001b[0m\u001b[0;34m:\u001b[0m\u001b[0;34m\u001b[0m\u001b[0m\n\u001b[0;32m---> 96\u001b[0;31m         \u001b[0mC1\u001b[0m \u001b[0;34m=\u001b[0m \u001b[0m_make_compensator\u001b[0m\u001b[0;34m(\u001b[0m\u001b[0minfo\u001b[0m\u001b[0;34m,\u001b[0m \u001b[0mfrom_\u001b[0m\u001b[0;34m)\u001b[0m\u001b[0;34m\u001b[0m\u001b[0m\n\u001b[0m\u001b[1;32m     97\u001b[0m         \u001b[0mcomp_from_0\u001b[0m \u001b[0;34m=\u001b[0m \u001b[0mlinalg\u001b[0m\u001b[0;34m.\u001b[0m\u001b[0minv\u001b[0m\u001b[0;34m(\u001b[0m\u001b[0mnp\u001b[0m\u001b[0;34m.\u001b[0m\u001b[0meye\u001b[0m\u001b[0;34m(\u001b[0m\u001b[0minfo\u001b[0m\u001b[0;34m[\u001b[0m\u001b[0;34m'nchan'\u001b[0m\u001b[0;34m]\u001b[0m\u001b[0;34m)\u001b[0m \u001b[0;34m-\u001b[0m \u001b[0mC1\u001b[0m\u001b[0;34m)\u001b[0m\u001b[0;34m\u001b[0m\u001b[0m\n\u001b[1;32m     98\u001b[0m     \u001b[0;32mif\u001b[0m \u001b[0mto\u001b[0m \u001b[0;34m!=\u001b[0m \u001b[0;36m0\u001b[0m\u001b[0;34m:\u001b[0m\u001b[0;34m\u001b[0m\u001b[0m\n",
      "\u001b[0;32m~/anaconda3/envs/mne_gpc/lib/python3.6/site-packages/mne/io/compensator.py\u001b[0m in \u001b[0;36m_make_compensator\u001b[0;34m(info, grade)\u001b[0m\n\u001b[1;32m     61\u001b[0m \u001b[0;34m\u001b[0m\u001b[0m\n\u001b[1;32m     62\u001b[0m     raise ValueError('Desired compensation matrix (grade = %d) not'\n\u001b[0;32m---> 63\u001b[0;31m                      ' found' % grade)\n\u001b[0m\u001b[1;32m     64\u001b[0m \u001b[0;34m\u001b[0m\u001b[0m\n\u001b[1;32m     65\u001b[0m \u001b[0;34m\u001b[0m\u001b[0m\n",
      "\u001b[0;31mTypeError\u001b[0m: %d format: a number is required, not NoneType"
     ]
    }
   ],
   "source": [
    "# create mne object\n",
    "###################\n",
    "\n",
    "# Definition of channel types and names.\n",
    "ch_types = ['eeg', 'eeg']\n",
    "ch_names = ['PC1', 'PC2']\n",
    "\n",
    "# create info object\n",
    "info = mne.create_info(ch_names=ch_names, sfreq=1./step_size, ch_types=ch_types)\n",
    "\n",
    "# specify events\n",
    "events = np.array([[200, 0, 1]])\n",
    "event_id={'Dummy': 1}\n",
    "\n",
    "# transform data\n",
    "data = states[:, [0, 3]].T # select only PCs\n",
    "data_epochs = np.reshape(data, (1, data.shape[0], data.shape[1])) # add first dimension (epochs)\n",
    "\n",
    "# create raw data object\n",
    "raw = mne.io.RawArray(data, info=info)\n",
    "epochs = mne.EpochsArray(data_epochs, info=info, events=events, event_id=event_id)\n",
    "\n",
    "# plot raw data\n",
    "###############\n",
    "\n",
    "# data scaling\n",
    "scalings = {'eeg': 0.005}\n",
    "\n",
    "# plotting\n",
    "fig = raw.plot(n_channels=2, scalings=scalings, title='Raw Simulation Data',\n",
    "               show=False, block=True)\n",
    "fig.set_size_inches(14, 4, forward=True)\n",
    "\n",
    "# plot PSD\n",
    "###########\n",
    "\n",
    "# frequency range\n",
    "fmin = 2.\n",
    "fmax = 100.\n",
    "\n",
    "# data range\n",
    "tmin = 1.\n",
    "tmax = 10.\n",
    "\n",
    "# FFT size\n",
    "nfft = 2048\n",
    "\n",
    "# select channels\n",
    "picks = mne.pick_types(raw.info, meg=False, eeg=True)\n",
    "\n",
    "# plot\n",
    "fig, axes = plt.subplots(1, 2, figsize=(14, 5))\n",
    "fig = raw.plot_psd(tmin=tmin, tmax=tmax, fmin=fmin, fmax=fmax, n_fft=nfft, n_jobs=1, \n",
    "                   proj=False, show=False, average=True, area_mode='range', picks=[0], ax=axes[0])\n",
    "axes[0]. set_title('PC1')\n",
    "axes[0].set_xlim(fmin, fmax)\n",
    "fig = raw.plot_psd(tmin=tmin, tmax=tmax, fmin=fmin, fmax=fmax, n_fft=nfft, n_jobs=1, \n",
    "                   proj=False, show=False, average=True, area_mode='range', picks=[1], ax=axes[1])\n",
    "axes[1].set_title('PC2')\n",
    "axes[1].set_xlim(fmin, fmax)"
   ]
  },
  {
   "cell_type": "code",
   "execution_count": 81,
   "metadata": {},
   "outputs": [
    {
     "name": "stdout",
     "output_type": "stream",
     "text": [
      "Connectivity computation...\n",
      "    computing connectivity for 2 connections\n",
      "    using t=0.000s..10.000s for estimation (20001 points)\n",
      "    frequencies: 8.1Hz..13.0Hz (50 points)\n",
      "    connectivity scores will be averaged for each band\n",
      "    using multitaper spectrum estimation with 7 DPSS windows\n",
      "    the following metrics will be computed: Coherence\n",
      "    computing connectivity for epoch 1\n",
      "[Connectivity computation done]\n",
      "Coherence between JRC1 and JRC2 between  8.09959502025  and  12.9993500325  Hz. =  [ 0.70060707]\n"
     ]
    }
   ],
   "source": [
    "# estimate coherence between Jansen-Rit circuits in specifiec frequency band\n",
    "############################################################################\n",
    "\n",
    "fmin = 8.\n",
    "fmax = 13.\n",
    "\n",
    "connections=(np.array([0, 1]), np.array([1, 0]))\n",
    "coh, freqs, times, n_epochs, n_tapers = spectral_connectivity(data_epochs, method='coh', mode='multitaper', sfreq=1/step_size,\n",
    "                                                              fmin=fmin, fmax=fmax, faverage=True, n_jobs=1, indices=connections)\n",
    "\n",
    "print('Coherence between JRC1 and JRC2 between ', freqs[0][0], ' and ', freqs[0][-1], ' Hz. = ', coh[0])"
   ]
  },
  {
   "cell_type": "code",
   "execution_count": 4,
   "metadata": {},
   "outputs": [
    {
     "ename": "ValueError",
     "evalue": "ch_types and ch_names must be the same length (1000 != 3)",
     "output_type": "error",
     "traceback": [
      "\u001b[0;31m---------------------------------------------------------------------------\u001b[0m",
      "\u001b[0;31mValueError\u001b[0m                                Traceback (most recent call last)",
      "\u001b[0;32m<ipython-input-4-f02e88ed673a>\u001b[0m in \u001b[0;36m<module>\u001b[0;34m()\u001b[0m\n\u001b[1;32m     13\u001b[0m \u001b[0mjrc\u001b[0m\u001b[0;34m.\u001b[0m\u001b[0mrun\u001b[0m\u001b[0;34m(\u001b[0m\u001b[0minp\u001b[0m\u001b[0;34m,\u001b[0m \u001b[0msimulation_time\u001b[0m\u001b[0;34m)\u001b[0m\u001b[0;34m\u001b[0m\u001b[0m\n\u001b[1;32m     14\u001b[0m \u001b[0;34m\u001b[0m\u001b[0m\n\u001b[0;32m---> 15\u001b[0;31m \u001b[0mmne_raw\u001b[0m \u001b[0;34m=\u001b[0m \u001b[0mmne_from_observer\u001b[0m\u001b[0;34m(\u001b[0m\u001b[0mobserver\u001b[0m\u001b[0;34m=\u001b[0m\u001b[0mjrc\u001b[0m\u001b[0;34m.\u001b[0m\u001b[0mobserver\u001b[0m\u001b[0;34m,\u001b[0m \u001b[0mepoch_duration\u001b[0m\u001b[0;34m=\u001b[0m\u001b[0;36m0.1\u001b[0m\u001b[0;34m,\u001b[0m \u001b[0mepoch_averaging\u001b[0m\u001b[0;34m=\u001b[0m\u001b[0;32mTrue\u001b[0m\u001b[0;34m,\u001b[0m \u001b[0mepoch_start\u001b[0m\u001b[0;34m=\u001b[0m\u001b[0;36m0.\u001b[0m\u001b[0;34m,\u001b[0m \u001b[0mepoch_end\u001b[0m\u001b[0;34m=\u001b[0m\u001b[0;36m0.7\u001b[0m\u001b[0;34m)\u001b[0m\u001b[0;34m\u001b[0m\u001b[0m\n\u001b[0m\u001b[1;32m     16\u001b[0m \u001b[0mmne_raw\u001b[0m\u001b[0;34m.\u001b[0m\u001b[0mplot\u001b[0m\u001b[0;34m(\u001b[0m\u001b[0;34m)\u001b[0m\u001b[0;34m\u001b[0m\u001b[0m\n",
      "\u001b[0;32m~/Documents/GitRepo/CBSMPG/PyRates/pyrates/utility/mne_wrapper.py\u001b[0m in \u001b[0;36mmne_from_observer\u001b[0;34m(observer, ch_types, ch_names, events, event_labels, epoch_start, epoch_end, epoch_duration, epoch_averaging)\u001b[0m\n\u001b[1;32m     59\u001b[0m \u001b[0;34m\u001b[0m\u001b[0m\n\u001b[1;32m     60\u001b[0m     \u001b[0;31m# create mne info object\u001b[0m\u001b[0;34m\u001b[0m\u001b[0;34m\u001b[0m\u001b[0m\n\u001b[0;32m---> 61\u001b[0;31m     \u001b[0minfo\u001b[0m \u001b[0;34m=\u001b[0m \u001b[0mmne\u001b[0m\u001b[0;34m.\u001b[0m\u001b[0mcreate_info\u001b[0m\u001b[0;34m(\u001b[0m\u001b[0mch_names\u001b[0m\u001b[0;34m=\u001b[0m\u001b[0mch_names\u001b[0m\u001b[0;34m,\u001b[0m \u001b[0mch_types\u001b[0m\u001b[0;34m=\u001b[0m\u001b[0mch_types\u001b[0m\u001b[0;34m,\u001b[0m \u001b[0msfreq\u001b[0m\u001b[0;34m=\u001b[0m\u001b[0msfreq\u001b[0m\u001b[0;34m)\u001b[0m\u001b[0;34m\u001b[0m\u001b[0m\n\u001b[0m\u001b[1;32m     62\u001b[0m \u001b[0;34m\u001b[0m\u001b[0m\n\u001b[1;32m     63\u001b[0m     \u001b[0;31m# create raw object from info and circuit data\u001b[0m\u001b[0;34m\u001b[0m\u001b[0;34m\u001b[0m\u001b[0m\n",
      "\u001b[0;32m~/anaconda3/envs/mne/lib/python3.6/site-packages/mne/io/meas_info.py\u001b[0m in \u001b[0;36mcreate_info\u001b[0;34m(ch_names, sfreq, ch_types, montage, verbose)\u001b[0m\n",
      "\u001b[0;32m~/anaconda3/envs/mne/lib/python3.6/site-packages/mne/utils.py\u001b[0m in \u001b[0;36mverbose\u001b[0;34m(function, *args, **kwargs)\u001b[0m\n\u001b[1;32m    726\u001b[0m         \u001b[0;32mwith\u001b[0m \u001b[0muse_log_level\u001b[0m\u001b[0;34m(\u001b[0m\u001b[0mverbose_level\u001b[0m\u001b[0;34m)\u001b[0m\u001b[0;34m:\u001b[0m\u001b[0;34m\u001b[0m\u001b[0m\n\u001b[1;32m    727\u001b[0m             \u001b[0;32mreturn\u001b[0m \u001b[0mfunction\u001b[0m\u001b[0;34m(\u001b[0m\u001b[0;34m*\u001b[0m\u001b[0margs\u001b[0m\u001b[0;34m,\u001b[0m \u001b[0;34m**\u001b[0m\u001b[0mkwargs\u001b[0m\u001b[0;34m)\u001b[0m\u001b[0;34m\u001b[0m\u001b[0m\n\u001b[0;32m--> 728\u001b[0;31m     \u001b[0;32mreturn\u001b[0m \u001b[0mfunction\u001b[0m\u001b[0;34m(\u001b[0m\u001b[0;34m*\u001b[0m\u001b[0margs\u001b[0m\u001b[0;34m,\u001b[0m \u001b[0;34m**\u001b[0m\u001b[0mkwargs\u001b[0m\u001b[0;34m)\u001b[0m\u001b[0;34m\u001b[0m\u001b[0m\n\u001b[0m\u001b[1;32m    729\u001b[0m \u001b[0;34m\u001b[0m\u001b[0m\n\u001b[1;32m    730\u001b[0m \u001b[0;34m\u001b[0m\u001b[0m\n",
      "\u001b[0;32m~/anaconda3/envs/mne/lib/python3.6/site-packages/mne/io/meas_info.py\u001b[0m in \u001b[0;36mcreate_info\u001b[0;34m(ch_names, sfreq, ch_types, montage, verbose)\u001b[0m\n\u001b[1;32m   1712\u001b[0m     \u001b[0;32mif\u001b[0m \u001b[0mlen\u001b[0m\u001b[0;34m(\u001b[0m\u001b[0mch_types\u001b[0m\u001b[0;34m)\u001b[0m \u001b[0;34m!=\u001b[0m \u001b[0mnchan\u001b[0m\u001b[0;34m:\u001b[0m\u001b[0;34m\u001b[0m\u001b[0m\n\u001b[1;32m   1713\u001b[0m         raise ValueError('ch_types and ch_names must be the same length '\n\u001b[0;32m-> 1714\u001b[0;31m                          '(%s != %s)' % (len(ch_types), nchan))\n\u001b[0m\u001b[1;32m   1715\u001b[0m     \u001b[0minfo\u001b[0m \u001b[0;34m=\u001b[0m \u001b[0m_empty_info\u001b[0m\u001b[0;34m(\u001b[0m\u001b[0msfreq\u001b[0m\u001b[0;34m)\u001b[0m\u001b[0;34m\u001b[0m\u001b[0m\n\u001b[1;32m   1716\u001b[0m     \u001b[0minfo\u001b[0m\u001b[0;34m[\u001b[0m\u001b[0;34m'meas_date'\u001b[0m\u001b[0;34m]\u001b[0m \u001b[0;34m=\u001b[0m \u001b[0mnp\u001b[0m\u001b[0;34m.\u001b[0m\u001b[0marray\u001b[0m\u001b[0;34m(\u001b[0m\u001b[0;34m[\u001b[0m\u001b[0;36m0\u001b[0m\u001b[0;34m,\u001b[0m \u001b[0;36m0\u001b[0m\u001b[0;34m]\u001b[0m\u001b[0;34m,\u001b[0m \u001b[0mnp\u001b[0m\u001b[0;34m.\u001b[0m\u001b[0mint32\u001b[0m\u001b[0;34m)\u001b[0m\u001b[0;34m\u001b[0m\u001b[0m\n",
      "\u001b[0;31mValueError\u001b[0m: ch_types and ch_names must be the same length (1000 != 3)"
     ]
    }
   ],
   "source": [
    "import numpy as np\n",
    "from pyrates.circuit import JansenRitCircuit\n",
    "from pyrates.utility import mne_from_observer\n",
    "\n",
    "step_size = 1e-3\n",
    "jrc = JansenRitCircuit(step_size=step_size)\n",
    "\n",
    "simulation_time = 1.\n",
    "steps = int(simulation_time / step_size)\n",
    "inp = np.zeros((steps, 3, 2))\n",
    "inp[:, 0, 0] = np.random.uniform(120, 320, steps)\n",
    "\n",
    "jrc.run(inp, simulation_time)\n",
    "\n",
    "mne_raw = mne_from_observer(observer=jrc.observer, epoch_duration=0.1, epoch_averaging=True, epoch_start=0., epoch_end=0.7)\n",
    "mne_raw.plot()"
   ]
  },
  {
   "cell_type": "code",
   "execution_count": null,
   "metadata": {
    "collapsed": true
   },
   "outputs": [],
   "source": []
  }
 ],
 "metadata": {
  "kernelspec": {
   "display_name": "Python 3",
   "language": "python",
   "name": "python3"
  },
  "language_info": {
   "codemirror_mode": {
    "name": "ipython",
    "version": 3
   },
   "file_extension": ".py",
   "mimetype": "text/x-python",
   "name": "python",
   "nbconvert_exporter": "python",
   "pygments_lexer": "ipython3",
   "version": "3.6.2"
  }
 },
 "nbformat": 4,
 "nbformat_minor": 2
}
