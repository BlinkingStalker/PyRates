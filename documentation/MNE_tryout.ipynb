{
 "cells": [
  {
   "cell_type": "code",
   "execution_count": 1,
   "metadata": {},
   "outputs": [
    {
     "ename": "ModuleNotFoundError",
     "evalue": "No module named 'core'",
     "output_type": "error",
     "traceback": [
      "\u001b[0;31m---------------------------------------------------------------------------\u001b[0m",
      "\u001b[0;31mModuleNotFoundError\u001b[0m                       Traceback (most recent call last)",
      "\u001b[0;32m<ipython-input-1-388d5258f2fd>\u001b[0m in \u001b[0;36m<module>\u001b[0;34m()\u001b[0m\n\u001b[1;32m     14\u001b[0m \u001b[0;32mfrom\u001b[0m \u001b[0mmne\u001b[0m\u001b[0;34m.\u001b[0m\u001b[0mtime_frequency\u001b[0m \u001b[0;32mimport\u001b[0m \u001b[0mpsd_multitaper\u001b[0m\u001b[0;34m\u001b[0m\u001b[0m\n\u001b[1;32m     15\u001b[0m \u001b[0;34m\u001b[0m\u001b[0m\n\u001b[0;32m---> 16\u001b[0;31m \u001b[0;32mfrom\u001b[0m \u001b[0mcore\u001b[0m\u001b[0;34m.\u001b[0m\u001b[0mcircuit\u001b[0m \u001b[0;32mimport\u001b[0m \u001b[0mCircuitFromCircuit\u001b[0m\u001b[0;34m\u001b[0m\u001b[0m\n\u001b[0m\u001b[1;32m     17\u001b[0m \u001b[0;32mfrom\u001b[0m \u001b[0mcore\u001b[0m\u001b[0;34m.\u001b[0m\u001b[0mcircuit\u001b[0m \u001b[0;32mimport\u001b[0m \u001b[0mJansenRitLeakyCapacitorCircuit\u001b[0m\u001b[0;34m\u001b[0m\u001b[0m\n",
      "\u001b[0;31mModuleNotFoundError\u001b[0m: No module named 'core'"
     ]
    }
   ],
   "source": [
    "import matplotlib.pyplot as plt\n",
    "import matplotlib as mpl\n",
    "% matplotlib inline\n",
    "plt.style.reload_library()\n",
    "plt.style.use('ggplot')\n",
    "mpl.rcParams['lines.linewidth'] = 3\n",
    "mpl.rcParams['axes.titlesize'] = 16\n",
    "mpl.rcParams['axes.labelsize'] = 14\n",
    "import numpy as np\n",
    "import math\n",
    "from scipy.ndimage.filters import gaussian_filter\n",
    "\n",
    "import mne\n",
    "from mne.time_frequency import psd_multitaper\n",
    "\n",
    "from core.circuit import CircuitFromCircuit\n",
    "from core.circuit import JansenRitLeakyCapacitorCircuit"
   ]
  },
  {
   "cell_type": "code",
   "execution_count": 3,
   "metadata": {},
   "outputs": [
    {
     "ename": "NameError",
     "evalue": "name 'JansenRitLeakyCapacitorCircuit' is not defined",
     "output_type": "error",
     "traceback": [
      "\u001b[0;31m---------------------------------------------------------------------------\u001b[0m",
      "\u001b[0;31mNameError\u001b[0m                                 Traceback (most recent call last)",
      "\u001b[0;32m<ipython-input-3-f02a1934ce45>\u001b[0m in \u001b[0;36m<module>\u001b[0;34m()\u001b[0m\n\u001b[1;32m     43\u001b[0m \u001b[0;34m\u001b[0m\u001b[0m\n\u001b[1;32m     44\u001b[0m \u001b[0;31m# Jansen-Rit circuits\u001b[0m\u001b[0;34m\u001b[0m\u001b[0;34m\u001b[0m\u001b[0m\n\u001b[0;32m---> 45\u001b[0;31m jrc1 = JansenRitLeakyCapacitorCircuit(step_size=step_size, max_synaptic_delay=max_synaptic_delay, \n\u001b[0m\u001b[1;32m     46\u001b[0m                                       synapse_params=synapse_params)\n\u001b[1;32m     47\u001b[0m jrc2 = JansenRitLeakyCapacitorCircuit(step_size=step_size, max_synaptic_delay=max_synaptic_delay, \n",
      "\u001b[0;31mNameError\u001b[0m: name 'JansenRitLeakyCapacitorCircuit' is not defined"
     ]
    }
   ],
   "source": [
    "# simulation parametrization\n",
    "############################\n",
    "\n",
    "# base parameters\n",
    "step_size = 5e-4\n",
    "max_synaptic_delay = 0.5\n",
    "n_circuits = 2\n",
    "n_populations = 6\n",
    "n_synapses = 2\n",
    "\n",
    "# simulation parameters\n",
    "simulation_time = 10.\n",
    "simulation_steps = int(simulation_time/step_size)\n",
    "\n",
    "# synapse parameters\n",
    "synapse_params_e = {'efficacy':3.182e-13, 'tau_rise': 3e-4, 'tau_decay': 6e-3}\n",
    "synapse_params_i = {'efficacy':-1.273e-12, 'tau_rise': 6e-4, 'tau_decay': 2e-2}\n",
    "synapse_params = [synapse_params_e, synapse_params_i]\n",
    "\n",
    "# connectivity parameters\n",
    "c1 = 10.\n",
    "c2 = 10.\n",
    "connectivity = np.zeros((n_circuits, n_circuits, n_synapses))\n",
    "connectivity[0, 1] = c1\n",
    "connectivity[1, 0] = c2\n",
    "\n",
    "# delay parameters\n",
    "d1 = 0.\n",
    "d2 = 0.\n",
    "delays = np.zeros((n_circuits, n_circuits))\n",
    "delays[0, 1] = d1\n",
    "delays[1, 0] = d2\n",
    "\n",
    "# synaptic input\n",
    "min_input = 120\n",
    "max_input = 320\n",
    "synaptic_input = np.zeros((simulation_steps, n_populations, n_synapses))\n",
    "synaptic_input[:, 0, 0] = np.random.uniform(min_input, max_input, simulation_steps)\n",
    "synaptic_input[:, 3, 0] = np.random.uniform(min_input, max_input, simulation_steps)\n",
    "\n",
    "# initialize network\n",
    "####################\n",
    "\n",
    "# Jansen-Rit circuits\n",
    "jrc1 = JansenRitLeakyCapacitorCircuit(step_size=step_size, max_synaptic_delay=max_synaptic_delay, \n",
    "                                      synapse_params=synapse_params)\n",
    "jrc2 = JansenRitLeakyCapacitorCircuit(step_size=step_size, max_synaptic_delay=max_synaptic_delay, \n",
    "                                      synapse_params=synapse_params)\n",
    "\n",
    "# combined network\n",
    "jrc_comb = CircuitFromCircuit([jrc1, jrc2], connectivity, delays)\n",
    "\n",
    "# simulate network behavior\n",
    "###########################\n",
    "\n",
    "# run simulation\n",
    "jrc_comb.run(synaptic_input, simulation_time)\n",
    "\n",
    "# collect desired population states\n",
    "pops = [0, 1, 2, 3, 4, 5]\n",
    "states = jrc_comb.get_population_states(pops)"
   ]
  },
  {
   "cell_type": "code",
   "execution_count": null,
   "metadata": {},
   "outputs": [],
   "source": []
  }
 ],
 "metadata": {
  "kernelspec": {
   "display_name": "Python 3",
   "language": "python",
   "name": "python3"
  },
  "language_info": {
   "codemirror_mode": {
    "name": "ipython",
    "version": 3
   },
   "file_extension": ".py",
   "mimetype": "text/x-python",
   "name": "python",
   "nbconvert_exporter": "python",
   "pygments_lexer": "ipython3",
   "version": "3.6.2"
  }
 },
 "nbformat": 4,
 "nbformat_minor": 2
}
