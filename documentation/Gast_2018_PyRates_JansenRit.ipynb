{
 "cells": [
  {
   "cell_type": "code",
   "execution_count": 1,
   "metadata": {},
   "outputs": [],
   "source": [
    "# pyrates imports\n",
    "from pyrates.utility import plot_timeseries, grid_search, plot_psd, plot_connectivity, create_cmap\n",
    "\n",
    "# additional imports\n",
    "import numpy as np\n",
    "import matplotlib.pyplot as plt\n",
    "import matplotlib as mpl\n",
    "plt.style.reload_library()\n",
    "plt.style.use('ggplot')\n",
    "mpl.rcParams['lines.linewidth'] = 2\n",
    "mpl.rcParams['axes.titlesize'] = 28\n",
    "mpl.rcParams['axes.titleweight'] = 'bold'\n",
    "mpl.rcParams['axes.labelsize'] = 28\n",
    "mpl.rcParams['axes.labelcolor'] = 'black'\n",
    "mpl.rcParams['axes.labelweight'] = 'bold'\n",
    "mpl.rcParams['xtick.labelsize'] = 28\n",
    "mpl.rcParams['ytick.labelsize'] = 28\n",
    "mpl.rcParams['xtick.color'] = 'black'\n",
    "mpl.rcParams['ytick.color'] = 'black'\n",
    "mpl.rcParams['legend.fontsize'] = 20\n",
    "\n",
    "%matplotlib inline"
   ]
  },
  {
   "cell_type": "markdown",
   "metadata": {},
   "source": [
    "PyRates Jansen-Rit Model Simulations\n",
    "====================================\n",
    "\n",
    "Below, you will find the code to run the Jansen-Rit model simulations described in detail in \"Gast, R. et al. (2018) PyRates - A Python framework for neural modeling and simulations on parallel hardware\". These simulations test the correct dynamic behavior of a single Jansen-Rit model for a number of different model parametrizations. The Jansen-Rit model is a simple 3-population neural mass model, initially proposed by Jansen and Rit in 1995: \"Jansen & Rit (1195) ....\". The PyRates model implementation can be found under templates/jansenrit.\n",
    "\n",
    "Simulation 1: Jansen-Rit model sensitivity to changes in the global coupling strength\n",
    "--------------------------------------------------------------------------------------\n",
    "\n",
    "In the following cells, we examine the relationship between changes in the global coupling strength c and the dynamic behavior of the Jansen-Rit model. Thereby, c scales the connections between the 3 populations of the Jansen-Rit model (pyramidal cells, excitatory interneurons, inhibitory interneurons). The dynamic behavior of the Jansen-Rit model is operationalized via the average membrane potential time traces of the pyramidal cells. Model parameters and simulation configuration follow Jansen & Rit (1995). \n",
    "\n",
    "1) Parameter definition:  In the following cell, the different conditions and basic simulation parameters are defined."
   ]
  },
  {
   "cell_type": "code",
   "execution_count": 2,
   "metadata": {},
   "outputs": [],
   "source": [
    "dt = 1e-4                                                       # integration step-size of the forward euler solver in s\n",
    "T = 3.                                                          # overall simulation time in s\n",
    "C = np.array([68., 128., 135., 270., 675., 1350.])              # global connection weight scaling\n",
    "inp = np.random.uniform(120., 320., (int(T/dt), 1))             # white noise input to the pyramidal cells in Hz.\n",
    "\n",
    "params = {'c_pe': [], 'c_pi': [], 'c_ep': [], 'c_ip': []}       # connection weights that should be changed in each condition\n",
    "param_map = {'c_pe': {'var': [(None, 'weight')],                # mapping between the variable names in params and the corresponding model parameters\n",
    "                      'edges': [('PC.0', 'EIN.0', 0)]},\n",
    "             'c_pi': {'var': [(None, 'weight')], \n",
    "                      'edges': [('PC.0', 'IIN.0', 0)]},\n",
    "             'c_ep': {'var': [(None, 'weight')], \n",
    "                      'edges': [('EIN.0', 'PC.0', 0)]},\n",
    "             'c_ip': {'var': [(None, 'weight')], \n",
    "                      'edges': [('IIN.0', 'PC.0', 0)]}}\n",
    "\n",
    "for c in C:\n",
    "    params['c_pe'].append(np.round(1.0 * c, decimals=2))\n",
    "    params['c_pi'].append(np.round(0.25 * c, decimals=2))\n",
    "    params['c_ep'].append(np.round(0.8 * c, decimals=2))\n",
    "    params['c_ip'].append(np.round(0.25 * c, decimals=2))"
   ]
  },
  {
   "cell_type": "markdown",
   "metadata": {},
   "source": [
    "2) In the following cell, all conditions will be evaluated in parallel using the grid_search functionality of PyRates"
   ]
  },
  {
   "cell_type": "code",
   "execution_count": 3,
   "metadata": {
    "scrolled": false
   },
   "outputs": [
    {
     "ename": "ValueError",
     "evalue": "operands could not be broadcast together with shapes (6,12) (6,) ",
     "output_type": "error",
     "traceback": [
      "\u001b[0;31m---------------------------------------------------------------------------\u001b[0m",
      "\u001b[0;31mValueError\u001b[0m                                Traceback (most recent call last)",
      "\u001b[0;32m<ipython-input-3-dc3834878ed4>\u001b[0m in \u001b[0;36m<module>\u001b[0;34m\u001b[0m\n\u001b[1;32m      2\u001b[0m                       \u001b[0mparam_grid\u001b[0m\u001b[0;34m=\u001b[0m\u001b[0mparams\u001b[0m\u001b[0;34m,\u001b[0m \u001b[0mparam_map\u001b[0m\u001b[0;34m=\u001b[0m\u001b[0mparam_map\u001b[0m\u001b[0;34m,\u001b[0m\u001b[0;34m\u001b[0m\u001b[0m\n\u001b[1;32m      3\u001b[0m                       \u001b[0minputs\u001b[0m\u001b[0;34m=\u001b[0m\u001b[0;34m{\u001b[0m\u001b[0;34m(\u001b[0m\u001b[0;34m\"PC\"\u001b[0m\u001b[0;34m,\u001b[0m \u001b[0;34m\"RPO_e_pc.0\"\u001b[0m\u001b[0;34m,\u001b[0m \u001b[0;34m\"u\"\u001b[0m\u001b[0;34m)\u001b[0m\u001b[0;34m:\u001b[0m \u001b[0minp\u001b[0m\u001b[0;34m}\u001b[0m\u001b[0;34m,\u001b[0m \u001b[0moutputs\u001b[0m\u001b[0;34m=\u001b[0m\u001b[0;34m{\u001b[0m\u001b[0;34m\"v\"\u001b[0m\u001b[0;34m:\u001b[0m \u001b[0;34m(\u001b[0m\u001b[0;34m\"PC\"\u001b[0m\u001b[0;34m,\u001b[0m \u001b[0;34m\"PRO.0\"\u001b[0m\u001b[0;34m,\u001b[0m \u001b[0;34m\"PSP\"\u001b[0m\u001b[0;34m)\u001b[0m\u001b[0;34m}\u001b[0m\u001b[0;34m,\u001b[0m\u001b[0;34m\u001b[0m\u001b[0m\n\u001b[0;32m----> 4\u001b[0;31m                       dt=dt, simulation_time=T, permute_grid=False, sampling_step_size=1e-3)\n\u001b[0m\u001b[1;32m      5\u001b[0m \u001b[0;34m\u001b[0m\u001b[0m\n\u001b[1;32m      6\u001b[0m \u001b[0;31m# order and rename columns\u001b[0m\u001b[0;34m\u001b[0m\u001b[0;34m\u001b[0m\u001b[0m\n",
      "\u001b[0;32m~/PycharmProjects/PyRates/pyrates/utility/grid_search.py\u001b[0m in \u001b[0;36mgrid_search\u001b[0;34m(circuit_template, param_grid, param_map, dt, simulation_time, inputs, outputs, sampling_step_size, permute_grid, **kwargs)\u001b[0m\n\u001b[1;32m    118\u001b[0m \u001b[0;34m\u001b[0m\u001b[0m\n\u001b[1;32m    119\u001b[0m     \u001b[0;31m# create backend graph\u001b[0m\u001b[0;34m\u001b[0m\u001b[0;34m\u001b[0m\u001b[0m\n\u001b[0;32m--> 120\u001b[0;31m     \u001b[0mnet\u001b[0m \u001b[0;34m=\u001b[0m \u001b[0mComputeGraph\u001b[0m\u001b[0;34m(\u001b[0m\u001b[0mcircuit\u001b[0m\u001b[0;34m,\u001b[0m \u001b[0mdt\u001b[0m\u001b[0;34m=\u001b[0m\u001b[0mdt\u001b[0m\u001b[0;34m,\u001b[0m \u001b[0;34m**\u001b[0m\u001b[0mkwargs\u001b[0m\u001b[0;34m)\u001b[0m\u001b[0;34m\u001b[0m\u001b[0m\n\u001b[0m\u001b[1;32m    121\u001b[0m \u001b[0;34m\u001b[0m\u001b[0m\n\u001b[1;32m    122\u001b[0m     \u001b[0;31m# adjust input of simulation to combined network\u001b[0m\u001b[0;34m\u001b[0m\u001b[0;34m\u001b[0m\u001b[0m\n",
      "\u001b[0;32m~/PycharmProjects/PyRates/pyrates/backend/computegraph.py\u001b[0m in \u001b[0;36m__init__\u001b[0;34m(self, net_config, dt, vectorization, name, build_in_place, backend, **kwargs)\u001b[0m\n\u001b[1;32m    266\u001b[0m             \u001b[0;31m# parse mapping\u001b[0m\u001b[0;34m\u001b[0m\u001b[0;34m\u001b[0m\u001b[0m\n\u001b[1;32m    267\u001b[0m             args = parse_equation_list([eq], args, backend=self.backend,\n\u001b[0;32m--> 268\u001b[0;31m                                        scope=f\"{self.name}/{source_node}/{target_node}/{edge_idx}\")\n\u001b[0m\u001b[1;32m    269\u001b[0m \u001b[0;34m\u001b[0m\u001b[0m\n\u001b[1;32m    270\u001b[0m             \u001b[0margs\u001b[0m\u001b[0;34m.\u001b[0m\u001b[0mpop\u001b[0m\u001b[0;34m(\u001b[0m\u001b[0;34m'lhs_evals'\u001b[0m\u001b[0;34m)\u001b[0m\u001b[0;34m\u001b[0m\u001b[0m\n",
      "\u001b[0;32m~/PycharmProjects/PyRates/pyrates/backend/parser.py\u001b[0m in \u001b[0;36mparse_equation_list\u001b[0;34m(equations, equation_args, backend, **kwargs)\u001b[0m\n\u001b[1;32m    824\u001b[0m \u001b[0;34m\u001b[0m\u001b[0m\n\u001b[1;32m    825\u001b[0m     \u001b[0;32mfor\u001b[0m \u001b[0mlhs\u001b[0m\u001b[0;34m,\u001b[0m \u001b[0mrhs\u001b[0m\u001b[0;34m,\u001b[0m \u001b[0madd_assign\u001b[0m \u001b[0;32min\u001b[0m \u001b[0mzip\u001b[0m\u001b[0;34m(\u001b[0m\u001b[0mleft_hand_sides\u001b[0m\u001b[0;34m,\u001b[0m \u001b[0mright_hand_sides\u001b[0m\u001b[0;34m,\u001b[0m \u001b[0mupdate_types\u001b[0m\u001b[0;34m)\u001b[0m\u001b[0;34m:\u001b[0m\u001b[0;34m\u001b[0m\u001b[0m\n\u001b[0;32m--> 826\u001b[0;31m         \u001b[0mequation_args\u001b[0m \u001b[0;34m=\u001b[0m \u001b[0mparse_equation\u001b[0m\u001b[0;34m(\u001b[0m\u001b[0mlhs\u001b[0m\u001b[0;34m,\u001b[0m \u001b[0mrhs\u001b[0m\u001b[0;34m,\u001b[0m \u001b[0mequation_args\u001b[0m\u001b[0;34m,\u001b[0m \u001b[0mbackend\u001b[0m\u001b[0;34m,\u001b[0m \u001b[0massign_add\u001b[0m\u001b[0;34m=\u001b[0m\u001b[0madd_assign\u001b[0m\u001b[0;34m,\u001b[0m \u001b[0;34m**\u001b[0m\u001b[0mkwargs\u001b[0m\u001b[0;34m)\u001b[0m\u001b[0;34m\u001b[0m\u001b[0m\n\u001b[0m\u001b[1;32m    827\u001b[0m \u001b[0;34m\u001b[0m\u001b[0m\n\u001b[1;32m    828\u001b[0m     \u001b[0;32mreturn\u001b[0m \u001b[0mequation_args\u001b[0m\u001b[0;34m\u001b[0m\u001b[0m\n",
      "\u001b[0;32m~/PycharmProjects/PyRates/pyrates/backend/parser.py\u001b[0m in \u001b[0;36mparse_equation\u001b[0;34m(lhs, rhs, equation_args, backend, solve, assign_add, **kwargs)\u001b[0m\n\u001b[1;32m    872\u001b[0m     \u001b[0;31m# parse rhs\u001b[0m\u001b[0;34m\u001b[0m\u001b[0;34m\u001b[0m\u001b[0m\n\u001b[1;32m    873\u001b[0m     \u001b[0mrhs_parser\u001b[0m \u001b[0;34m=\u001b[0m \u001b[0mExpressionParser\u001b[0m\u001b[0;34m(\u001b[0m\u001b[0mexpr_str\u001b[0m\u001b[0;34m=\u001b[0m\u001b[0mrhs\u001b[0m\u001b[0;34m,\u001b[0m \u001b[0margs\u001b[0m\u001b[0;34m=\u001b[0m\u001b[0mequation_args\u001b[0m\u001b[0;34m,\u001b[0m \u001b[0mbackend\u001b[0m\u001b[0;34m=\u001b[0m\u001b[0mbackend\u001b[0m\u001b[0;34m,\u001b[0m \u001b[0;34m**\u001b[0m\u001b[0mkwargs\u001b[0m\u001b[0;34m)\u001b[0m\u001b[0;34m\u001b[0m\u001b[0m\n\u001b[0;32m--> 874\u001b[0;31m     \u001b[0mequation_args\u001b[0m \u001b[0;34m=\u001b[0m \u001b[0mrhs_parser\u001b[0m\u001b[0;34m.\u001b[0m\u001b[0mparse_expr\u001b[0m\u001b[0;34m(\u001b[0m\u001b[0;34m)\u001b[0m\u001b[0;34m\u001b[0m\u001b[0m\n\u001b[0m\u001b[1;32m    875\u001b[0m \u001b[0;34m\u001b[0m\u001b[0m\n\u001b[1;32m    876\u001b[0m     \u001b[0;31m# parse lhs\u001b[0m\u001b[0;34m\u001b[0m\u001b[0;34m\u001b[0m\u001b[0m\n",
      "\u001b[0;32m~/PycharmProjects/PyRates/pyrates/backend/parser.py\u001b[0m in \u001b[0;36mparse_expr\u001b[0;34m(self)\u001b[0m\n\u001b[1;32m    263\u001b[0m             \u001b[0mself\u001b[0m\u001b[0;34m.\u001b[0m\u001b[0mparse\u001b[0m\u001b[0;34m(\u001b[0m\u001b[0mself\u001b[0m\u001b[0;34m.\u001b[0m\u001b[0mexpr_stack\u001b[0m\u001b[0;34m[\u001b[0m\u001b[0;34m:\u001b[0m\u001b[0;34m]\u001b[0m\u001b[0;34m)\u001b[0m\u001b[0;34m\u001b[0m\u001b[0m\n\u001b[1;32m    264\u001b[0m         \u001b[0;32melse\u001b[0m\u001b[0;34m:\u001b[0m\u001b[0;34m\u001b[0m\u001b[0m\n\u001b[0;32m--> 265\u001b[0;31m             \u001b[0mself\u001b[0m\u001b[0;34m.\u001b[0m\u001b[0margs\u001b[0m\u001b[0;34m[\u001b[0m\u001b[0;34m'rhs'\u001b[0m\u001b[0;34m]\u001b[0m \u001b[0;34m=\u001b[0m \u001b[0mself\u001b[0m\u001b[0;34m.\u001b[0m\u001b[0mparse\u001b[0m\u001b[0;34m(\u001b[0m\u001b[0mself\u001b[0m\u001b[0;34m.\u001b[0m\u001b[0mexpr_stack\u001b[0m\u001b[0;34m[\u001b[0m\u001b[0;34m:\u001b[0m\u001b[0;34m]\u001b[0m\u001b[0;34m)\u001b[0m\u001b[0;34m\u001b[0m\u001b[0m\n\u001b[0m\u001b[1;32m    266\u001b[0m \u001b[0;34m\u001b[0m\u001b[0m\n\u001b[1;32m    267\u001b[0m         \u001b[0;32mreturn\u001b[0m \u001b[0mself\u001b[0m\u001b[0;34m.\u001b[0m\u001b[0margs\u001b[0m\u001b[0;34m\u001b[0m\u001b[0m\n",
      "\u001b[0;32m~/PycharmProjects/PyRates/pyrates/backend/parser.py\u001b[0m in \u001b[0;36mparse\u001b[0;34m(self, expr_stack)\u001b[0m\n\u001b[1;32m    329\u001b[0m             \u001b[0;31m# combine elements via mathematical/boolean operator\u001b[0m\u001b[0;34m\u001b[0m\u001b[0;34m\u001b[0m\u001b[0m\n\u001b[1;32m    330\u001b[0m             \u001b[0mop1\u001b[0m\u001b[0;34m,\u001b[0m \u001b[0mop2\u001b[0m \u001b[0;34m=\u001b[0m \u001b[0mself\u001b[0m\u001b[0;34m.\u001b[0m\u001b[0mbackend\u001b[0m\u001b[0;34m.\u001b[0m\u001b[0mbroadcast\u001b[0m\u001b[0;34m(\u001b[0m\u001b[0mop1\u001b[0m\u001b[0;34m,\u001b[0m \u001b[0mop2\u001b[0m\u001b[0;34m,\u001b[0m \u001b[0;34m**\u001b[0m\u001b[0mself\u001b[0m\u001b[0;34m.\u001b[0m\u001b[0mparser_kwargs\u001b[0m\u001b[0;34m)\u001b[0m\u001b[0;34m\u001b[0m\u001b[0m\n\u001b[0;32m--> 331\u001b[0;31m             \u001b[0mself\u001b[0m\u001b[0;34m.\u001b[0m\u001b[0mexpr_op\u001b[0m \u001b[0;34m=\u001b[0m \u001b[0mself\u001b[0m\u001b[0;34m.\u001b[0m\u001b[0mbackend\u001b[0m\u001b[0;34m.\u001b[0m\u001b[0madd_op\u001b[0m\u001b[0;34m(\u001b[0m\u001b[0mop\u001b[0m\u001b[0;34m,\u001b[0m \u001b[0mop1\u001b[0m\u001b[0;34m,\u001b[0m \u001b[0mop2\u001b[0m\u001b[0;34m,\u001b[0m \u001b[0;34m**\u001b[0m\u001b[0mself\u001b[0m\u001b[0;34m.\u001b[0m\u001b[0mparser_kwargs\u001b[0m\u001b[0;34m)\u001b[0m\u001b[0;34m\u001b[0m\u001b[0m\n\u001b[0m\u001b[1;32m    332\u001b[0m \u001b[0;34m\u001b[0m\u001b[0m\n\u001b[1;32m    333\u001b[0m         \u001b[0;32melif\u001b[0m \u001b[0;34m\".T\"\u001b[0m \u001b[0;34m==\u001b[0m \u001b[0mop\u001b[0m \u001b[0;32mor\u001b[0m \u001b[0;34m\".I\"\u001b[0m \u001b[0;34m==\u001b[0m \u001b[0mop\u001b[0m\u001b[0;34m:\u001b[0m\u001b[0;34m\u001b[0m\u001b[0m\n",
      "\u001b[0;32m~/PycharmProjects/PyRates/pyrates/backend/backend_wrapper.py\u001b[0m in \u001b[0;36madd_op\u001b[0;34m(self, op, *args, **kwargs)\u001b[0m\n\u001b[1;32m   1770\u001b[0m             \u001b[0mop\u001b[0m \u001b[0;34m=\u001b[0m \u001b[0mPyRatesIndexOp\u001b[0m\u001b[0;34m(\u001b[0m\u001b[0mself\u001b[0m\u001b[0;34m.\u001b[0m\u001b[0mops\u001b[0m\u001b[0;34m[\u001b[0m\u001b[0mop\u001b[0m\u001b[0;34m]\u001b[0m\u001b[0;34m[\u001b[0m\u001b[0;34m'call'\u001b[0m\u001b[0;34m]\u001b[0m\u001b[0;34m,\u001b[0m \u001b[0mself\u001b[0m\u001b[0;34m.\u001b[0m\u001b[0mops\u001b[0m\u001b[0;34m[\u001b[0m\u001b[0mop\u001b[0m\u001b[0;34m]\u001b[0m\u001b[0;34m[\u001b[0m\u001b[0;34m'name'\u001b[0m\u001b[0;34m]\u001b[0m\u001b[0;34m,\u001b[0m \u001b[0;34m*\u001b[0m\u001b[0margs\u001b[0m\u001b[0;34m)\u001b[0m\u001b[0;34m\u001b[0m\u001b[0m\n\u001b[1;32m   1771\u001b[0m         \u001b[0;32melse\u001b[0m\u001b[0;34m:\u001b[0m\u001b[0;34m\u001b[0m\u001b[0m\n\u001b[0;32m-> 1772\u001b[0;31m             \u001b[0mop\u001b[0m \u001b[0;34m=\u001b[0m \u001b[0mPyRatesOp\u001b[0m\u001b[0;34m(\u001b[0m\u001b[0mself\u001b[0m\u001b[0;34m.\u001b[0m\u001b[0mops\u001b[0m\u001b[0;34m[\u001b[0m\u001b[0mop\u001b[0m\u001b[0;34m]\u001b[0m\u001b[0;34m[\u001b[0m\u001b[0;34m'call'\u001b[0m\u001b[0;34m]\u001b[0m\u001b[0;34m,\u001b[0m \u001b[0mself\u001b[0m\u001b[0;34m.\u001b[0m\u001b[0mops\u001b[0m\u001b[0;34m[\u001b[0m\u001b[0mop\u001b[0m\u001b[0;34m]\u001b[0m\u001b[0;34m[\u001b[0m\u001b[0;34m'name'\u001b[0m\u001b[0;34m]\u001b[0m\u001b[0;34m,\u001b[0m \u001b[0;34m*\u001b[0m\u001b[0margs\u001b[0m\u001b[0;34m)\u001b[0m\u001b[0;34m\u001b[0m\u001b[0m\n\u001b[0m\u001b[1;32m   1773\u001b[0m \u001b[0;34m\u001b[0m\u001b[0m\n\u001b[1;32m   1774\u001b[0m         \u001b[0;31m# remove op inputs from layers (need not be evaluated anymore)\u001b[0m\u001b[0;34m\u001b[0m\u001b[0;34m\u001b[0m\u001b[0m\n",
      "\u001b[0;32m~/PycharmProjects/PyRates/pyrates/backend/backend_wrapper.py\u001b[0m in \u001b[0;36m__init__\u001b[0;34m(self, op, name, *args)\u001b[0m\n\u001b[1;32m    125\u001b[0m         \u001b[0mself\u001b[0m\u001b[0;34m.\u001b[0m\u001b[0mname\u001b[0m \u001b[0;34m=\u001b[0m \u001b[0mname\u001b[0m\u001b[0;34m.\u001b[0m\u001b[0msplit\u001b[0m\u001b[0;34m(\u001b[0m\u001b[0;34m'/'\u001b[0m\u001b[0;34m)\u001b[0m\u001b[0;34m[\u001b[0m\u001b[0;34m-\u001b[0m\u001b[0;36m1\u001b[0m\u001b[0;34m]\u001b[0m\u001b[0;34m\u001b[0m\u001b[0m\n\u001b[1;32m    126\u001b[0m         \u001b[0mself\u001b[0m\u001b[0;34m.\u001b[0m\u001b[0munique_name\u001b[0m \u001b[0;34m=\u001b[0m \u001b[0mname\u001b[0m\u001b[0;34m\u001b[0m\u001b[0m\n\u001b[0;32m--> 127\u001b[0;31m         \u001b[0mop_dict\u001b[0m \u001b[0;34m=\u001b[0m \u001b[0mself\u001b[0m\u001b[0;34m.\u001b[0m\u001b[0mgenerate_op\u001b[0m\u001b[0;34m(\u001b[0m\u001b[0mself\u001b[0m\u001b[0;34m.\u001b[0m\u001b[0mname\u001b[0m\u001b[0;34m,\u001b[0m \u001b[0mop\u001b[0m\u001b[0;34m,\u001b[0m \u001b[0margs\u001b[0m\u001b[0;34m)\u001b[0m\u001b[0;34m\u001b[0m\u001b[0m\n\u001b[0m\u001b[1;32m    128\u001b[0m         \u001b[0mself\u001b[0m\u001b[0;34m.\u001b[0m\u001b[0mfunc\u001b[0m \u001b[0;34m=\u001b[0m \u001b[0mop_dict\u001b[0m\u001b[0;34m[\u001b[0m\u001b[0;34m'func'\u001b[0m\u001b[0;34m]\u001b[0m\u001b[0;34m\u001b[0m\u001b[0m\n\u001b[1;32m    129\u001b[0m         \u001b[0mself\u001b[0m\u001b[0;34m.\u001b[0m\u001b[0mcall\u001b[0m \u001b[0;34m=\u001b[0m \u001b[0mop_dict\u001b[0m\u001b[0;34m[\u001b[0m\u001b[0;34m'call'\u001b[0m\u001b[0;34m]\u001b[0m\u001b[0;34m\u001b[0m\u001b[0m\n",
      "\u001b[0;32m~/PycharmProjects/PyRates/pyrates/backend/backend_wrapper.py\u001b[0m in \u001b[0;36mgenerate_op\u001b[0;34m(cls, name, op, args)\u001b[0m\n\u001b[1;32m    289\u001b[0m         \u001b[0;31m# set shape and dtype of op according to result of eval\u001b[0m\u001b[0;34m\u001b[0m\u001b[0;34m\u001b[0m\u001b[0m\n\u001b[1;32m    290\u001b[0m         \u001b[0margs_tmp\u001b[0m \u001b[0;34m=\u001b[0m \u001b[0mdeepcopy\u001b[0m\u001b[0;34m(\u001b[0m\u001b[0mresults\u001b[0m\u001b[0;34m[\u001b[0m\u001b[0;34m'args'\u001b[0m\u001b[0;34m]\u001b[0m\u001b[0;34m)\u001b[0m\u001b[0;34m\u001b[0m\u001b[0m\n\u001b[0;32m--> 291\u001b[0;31m         \u001b[0mop_tmp\u001b[0m \u001b[0;34m=\u001b[0m \u001b[0mresults\u001b[0m\u001b[0;34m[\u001b[0m\u001b[0;34m'func'\u001b[0m\u001b[0;34m]\u001b[0m\u001b[0;34m(\u001b[0m\u001b[0;34m*\u001b[0m\u001b[0mresults\u001b[0m\u001b[0;34m[\u001b[0m\u001b[0;34m'args'\u001b[0m\u001b[0;34m]\u001b[0m\u001b[0;34m)\u001b[0m\u001b[0;34m\u001b[0m\u001b[0m\n\u001b[0m\u001b[1;32m    292\u001b[0m         \u001b[0mresults\u001b[0m\u001b[0;34m[\u001b[0m\u001b[0;34m'shape'\u001b[0m\u001b[0;34m]\u001b[0m \u001b[0;34m=\u001b[0m \u001b[0mop_tmp\u001b[0m\u001b[0;34m.\u001b[0m\u001b[0mshape\u001b[0m \u001b[0;32mif\u001b[0m \u001b[0mhasattr\u001b[0m\u001b[0;34m(\u001b[0m\u001b[0mop_tmp\u001b[0m\u001b[0;34m,\u001b[0m \u001b[0;34m'shape'\u001b[0m\u001b[0;34m)\u001b[0m \u001b[0;32melse\u001b[0m \u001b[0;34m(\u001b[0m\u001b[0;34m)\u001b[0m\u001b[0;34m\u001b[0m\u001b[0m\n\u001b[1;32m    293\u001b[0m         \u001b[0mresults\u001b[0m\u001b[0;34m[\u001b[0m\u001b[0;34m'dtype'\u001b[0m\u001b[0;34m]\u001b[0m \u001b[0;34m=\u001b[0m \u001b[0mop_tmp\u001b[0m\u001b[0;34m.\u001b[0m\u001b[0mdtype\u001b[0m \u001b[0;32mif\u001b[0m \u001b[0mhasattr\u001b[0m\u001b[0;34m(\u001b[0m\u001b[0mop_tmp\u001b[0m\u001b[0;34m,\u001b[0m \u001b[0;34m'dtype'\u001b[0m\u001b[0;34m)\u001b[0m \u001b[0;32melse\u001b[0m \u001b[0mtype\u001b[0m\u001b[0;34m(\u001b[0m\u001b[0mop_tmp\u001b[0m\u001b[0;34m)\u001b[0m\u001b[0;34m\u001b[0m\u001b[0m\n",
      "\u001b[0;32m~/PycharmProjects/PyRates/pyrates/backend/backend_wrapper.py\u001b[0m in \u001b[0;36mnumpy_multiply\u001b[0;34m(m_out, source_idx, weight)\u001b[0m\n",
      "\u001b[0;31mValueError\u001b[0m: operands could not be broadcast together with shapes (6,12) (6,) "
     ]
    }
   ],
   "source": [
    "results = grid_search(circuit_template=\"model_templates.jansen_rit.simple_jansenrit.JRC\",\n",
    "                      param_grid=params, param_map=param_map,\n",
    "                      inputs={(\"PC\", \"RPO_e_pc.0\", \"u\"): inp}, outputs={\"v\": (\"PC\", \"PRO.0\", \"PSP\")},\n",
    "                      dt=dt, simulation_time=T, permute_grid=False, sampling_step_size=1e-3)\n",
    "\n",
    "# order and rename columns\n",
    "vals = [col[0] for col in results.columns.values]\n",
    "idx = np.argsort(vals)\n",
    "vals = np.sort(vals)\n",
    "results = results.iloc[:, idx]\n",
    "results.columns = [f'C = {v}' for v in vals]"
   ]
  },
  {
   "cell_type": "markdown",
   "metadata": {},
   "source": [
    "3) Results visualization: For each condition, the time-series of the pyramidal cell's membrane potential will be plotted"
   ]
  },
  {
   "cell_type": "code",
   "execution_count": 9,
   "metadata": {},
   "outputs": [
    {
     "name": "stderr",
     "output_type": "stream",
     "text": [
      "/home/rgast/Software/anaconda3/envs/pyrates/lib/python3.6/site-packages/pandas-0.24.1-py3.6-linux-x86_64.egg/pandas/core/indexing.py:635: SettingWithCopyWarning: \n",
      "A value is trying to be set on a copy of a slice from a DataFrame.\n",
      "Try using .loc[row_indexer,col_indexer] = value instead\n",
      "\n",
      "See the caveats in the documentation: http://pandas.pydata.org/pandas-docs/stable/indexing.html#indexing-view-versus-copy\n",
      "  self.obj[item_labels[indexer[info_axis]]] = value\n",
      "/home/rgast/PycharmProjects/PyRates/pyrates/utility/visualization.py:184: SettingWithCopyWarning: \n",
      "A value is trying to be set on a copy of a slice from a DataFrame.\n",
      "Try using .loc[row_indexer,col_indexer] = value instead\n",
      "\n",
      "See the caveats in the documentation: http://pandas.pydata.org/pandas-docs/stable/indexing.html#indexing-view-versus-copy\n",
      "  data['time'] = data.index\n"
     ]
    },
    {
     "data": {
      "image/png": "[encoded data removed]",
      "text/plain": [
       "<Figure size 1152x792 with 6 Axes>"
      ]
     },
     "metadata": {},
     "output_type": "display_data"
    }
   ],
   "source": [
    "cm_red = create_cmap('pyrates_green', as_cmap=False, n_colors=16, reverse=True)\n",
    "plot_timeseries(results.iloc[results.index > 0.8, :], plot_style='ridge_plot', demean=True, hspace=-.01,\n",
    "                fontsize=28, aspect=10, height=2.0, cmap=cm_red)\n",
    "fig, ax = plt.gcf(), plt.gca()\n",
    "fig.axes[0].set_title('Pyramidal cell average membrane potential', pad=20.)\n",
    "fig.set_size_inches(16., 11.)\n",
    "ax.set_xlabel('time in s')\n",
    "plt.savefig('Gast_2018_PyRates_JansenRit_C.svg', format='svg')"
   ]
  },
  {
   "cell_type": "markdown",
   "metadata": {},
   "source": [
    "Simulation 2: Jansen-Rit model sensitivity to changes in the synaptic timescales\n",
    "---------------------------------------------------------------------------------\n",
    "\n",
    "In the following cells, we examine the relationship between changes in the synaptic timescales and the dynamic behavior of the Jansen-Rit model. Thereby, we systematically change the excitatory and inhibitory synaptic timescales and evaluate dynamic behavior of the Jansen-Rit model for each combination of the two. The dynamic behavior is operationalized as the response frequency band with the highest power-spectral density evaluated via the membrane potential itime traces of the pyramidal cell population. \n",
    "\n",
    "1) Parameter definition:  In the following cell, the different conditions and basic simulation parameters are defined."
   ]
  },
  {
   "cell_type": "code",
   "execution_count": 10,
   "metadata": {},
   "outputs": [],
   "source": [
    "# parameter definition\n",
    "dt = 5e-5                                                                       # integration step-size in s\n",
    "T = 10.                                                                         # simulation time in s\n",
    "tau_e = np.arange(1e-3, 63e-3, 3e-3)                                            # excitatory synaptic timescales\n",
    "tau_i = np.arange(1e-3, 63e-3, 3e-3)[::-1]                                      # inhibitory synaptuic timescales\n",
    "inp = 220. + np.random.randn(int(T/dt), 1) * 22.                                # white noise input delivered to the pyramidal cells\n",
    "params = {'tau_e': [], 'tau_i': [], 'H_e': [], 'H_i': []}                       # synaptic timescales tau and efficacies H\n",
    "for t_e in tau_e:\n",
    "    for t_i in tau_i:\n",
    "        params['tau_e'].append(t_e)                               \n",
    "        params['tau_i'].append(t_i)\n",
    "        params['H_e'].append(3.25e-3*10e-3/t_e)                                \n",
    "        params['H_i'].append(-22e-3*20e-3/t_i)\n",
    "\n",
    "param_map = {'tau_e': {'var': [('RPO_e_pc.0', 'tau'), ('RPO_e.0', 'tau')], \n",
    "                       'nodes': ['PC.0', 'EIN.0', 'IIN.0']},\n",
    "             'tau_i': {'var': [('RPO_i.0', 'tau')], \n",
    "                       'nodes': ['PC.0']},\n",
    "             'H_e': {'var': [('RPO_e_pc.0', 'h'), ('RPO_e.0', 'h')], \n",
    "                     'nodes': ['PC.0', 'EIN.0', 'IIN.0']},\n",
    "             'H_i': {'var': [('RPO_i.0', 'h')], \n",
    "                     'nodes': ['PC.0']}}"
   ]
  },
  {
   "cell_type": "markdown",
   "metadata": {},
   "source": [
    "2) In the following cell, all conditions will be evaluated in parallel using the grid_search functionality of PyRates"
   ]
  },
  {
   "cell_type": "code",
   "execution_count": 12,
   "metadata": {},
   "outputs": [],
   "source": [
    "results = grid_search(circuit_template=\"model_templates.jansen_rit.simple_jansenrit.JRC\",\n",
    "                      param_grid=params, param_map=param_map,\n",
    "                      inputs={(\"PC\", \"RPO_e_pc.0\", \"u\"): inp}, outputs={\"v\": (\"PC\", \"PRO.0\", \"PSP\")},\n",
    "                      dt=dt, simulation_time=T, permute_grid=False, sampling_step_size=1e-3)"
   ]
  },
  {
   "cell_type": "markdown",
   "metadata": {},
   "source": [
    "3) "
   ]
  },
  {
   "cell_type": "code",
   "execution_count": 13,
   "metadata": {},
   "outputs": [
    {
     "name": "stdout",
     "output_type": "stream",
     "text": [
      "Creating RawArray with float64 data, n_channels=1, n_times=10000\n",
      "    Range : 0 ... 9999 =      0.000 ...     9.999 secs\n",
      "Ready.\n",
      "Effective window size : 2.048 (s)\n",
      "Need more than one channel to make topography for eeg. Disabling interactivity.\n",
      "Creating RawArray with float64 data, n_channels=1, n_times=10000\n",
      "    Range : 0 ... 9999 =      0.000 ...     9.999 secs\n",
      "Ready.\n"
     ]
    },
    {
     "name": "stderr",
     "output_type": "stream",
     "text": [
      "/home/rgast/PycharmProjects/PyRates/pyrates/utility/visualization.py:508: RuntimeWarning: Channel locations not available. Disabling spatial colors.\n",
      "  return plot_raw_psd(raw, tmin=tmin, fmin=fmin, fmax=fmax, **kwargs).axes\n"
     ]
    },
    {
     "name": "stdout",
     "output_type": "stream",
     "text": [
      "Effective window size : 2.048 (s)\n",
      "Need more than one channel to make topography for eeg. Disabling interactivity.\n",
      "Creating RawArray with float64 data, n_channels=1, n_times=10000\n",
      "    Range : 0 ... 9999 =      0.000 ...     9.999 secs\n",
      "Ready.\n",
      "Effective window size : 2.048 (s)\n",
      "Need more than one channel to make topography for eeg. Disabling interactivity.\n",
      "Creating RawArray with float64 data, n_channels=1, n_times=10000\n",
      "    Range : 0 ... 9999 =      0.000 ...     9.999 secs\n",
      "Ready.\n"
     ]
    },
    {
     "name": "stderr",
     "output_type": "stream",
     "text": [
      "/home/rgast/PycharmProjects/PyRates/pyrates/utility/visualization.py:508: RuntimeWarning: Channel locations not available. Disabling spatial colors.\n",
      "  return plot_raw_psd(raw, tmin=tmin, fmin=fmin, fmax=fmax, **kwargs).axes\n",
      "/home/rgast/PycharmProjects/PyRates/pyrates/utility/visualization.py:508: RuntimeWarning: Channel locations not available. Disabling spatial colors.\n",
      "  return plot_raw_psd(raw, tmin=tmin, fmin=fmin, fmax=fmax, **kwargs).axes\n"
     ]
    },
    {
     "name": "stdout",
     "output_type": "stream",
     "text": [
      "Effective window size : 2.048 (s)\n",
      "Need more than one channel to make topography for eeg. Disabling interactivity.\n",
      "Creating RawArray with float64 data, n_channels=1, n_times=10000\n",
      "    Range : 0 ... 9999 =      0.000 ...     9.999 secs\n",
      "Ready.\n",
      "Effective window size : 2.048 (s)\n",
      "Need more than one channel to make topography for eeg. Disabling interactivity.\n",
      "Creating RawArray with float64 data, n_channels=1, n_times=10000\n"
     ]
    },
    {
     "name": "stderr",
     "output_type": "stream",
     "text": [
      "/home/rgast/PycharmProjects/PyRates/pyrates/utility/visualization.py:508: RuntimeWarning: Channel locations not available. Disabling spatial colors.\n",
      "  return plot_raw_psd(raw, tmin=tmin, fmin=fmin, fmax=fmax, **kwargs).axes\n",
      "/home/rgast/PycharmProjects/PyRates/pyrates/utility/visualization.py:508: RuntimeWarning: Channel locations not available. Disabling spatial colors.\n",
      "  return plot_raw_psd(raw, tmin=tmin, fmin=fmin, fmax=fmax, **kwargs).axes\n"
     ]
    },
    {
     "name": "stdout",
     "output_type": "stream",
     "text": [
      "    Range : 0 ... 9999 =      0.000 ...     9.999 secs\n",
      "Ready.\n",
      "Effective window size : 2.048 (s)\n",
      "Need more than one channel to make topography for eeg. Disabling interactivity.\n",
      "Creating RawArray with float64 data, n_channels=1, n_times=10000\n",
      "    Range : 0 ... 9999 =      0.000 ...     9.999 secs\n",
      "Ready.\n",
      "Effective window size : 2.048 (s)\n",
      "Need more than one channel to make topography for eeg. Disabling interactivity.\n",
      "Creating RawArray with float64 data, n_channels=1, n_times=10000\n",
      "    Range : 0 ... 9999 =      0.000 ...     9.999 secs\n",
      "Ready.\n"
     ]
    },
    {
     "name": "stderr",
     "output_type": "stream",
     "text": [
      "/home/rgast/PycharmProjects/PyRates/pyrates/utility/visualization.py:508: RuntimeWarning: Channel locations not available. Disabling spatial colors.\n",
      "  return plot_raw_psd(raw, tmin=tmin, fmin=fmin, fmax=fmax, **kwargs).axes\n",
      "/home/rgast/PycharmProjects/PyRates/pyrates/utility/visualization.py:508: RuntimeWarning: Channel locations not available. Disabling spatial colors.\n",
      "  return plot_raw_psd(raw, tmin=tmin, fmin=fmin, fmax=fmax, **kwargs).axes\n"
     ]
    },
    {
     "name": "stdout",
     "output_type": "stream",
     "text": [
      "Effective window size : 2.048 (s)\n",
      "Need more than one channel to make topography for eeg. Disabling interactivity.\n",
      "Creating RawArray with float64 data, n_channels=1, n_times=10000\n",
      "    Range : 0 ... 9999 =      0.000 ...     9.999 secs\n",
      "Ready.\n",
      "Effective window size : 2.048 (s)\n",
      "Need more than one channel to make topography for eeg. Disabling interactivity.\n",
      "Creating RawArray with float64 data, n_channels=1, n_times=10000\n"
     ]
    },
    {
     "name": "stderr",
     "output_type": "stream",
     "text": [
      "/home/rgast/PycharmProjects/PyRates/pyrates/utility/visualization.py:508: RuntimeWarning: Channel locations not available. Disabling spatial colors.\n",
      "  return plot_raw_psd(raw, tmin=tmin, fmin=fmin, fmax=fmax, **kwargs).axes\n",
      "/home/rgast/PycharmProjects/PyRates/pyrates/utility/visualization.py:508: RuntimeWarning: Channel locations not available. Disabling spatial colors.\n",
      "  return plot_raw_psd(raw, tmin=tmin, fmin=fmin, fmax=fmax, **kwargs).axes\n"
     ]
    },
    {
     "name": "stdout",
     "output_type": "stream",
     "text": [
      "    Range : 0 ... 9999 =      0.000 ...     9.999 secs\n",
      "Ready.\n",
      "Effective window size : 2.048 (s)\n",
      "Need more than one channel to make topography for eeg. Disabling interactivity.\n",
      "Creating RawArray with float64 data, n_channels=1, n_times=10000\n",
      "    Range : 0 ... 9999 =      0.000 ...     9.999 secs\n",
      "Ready.\n",
      "Effective window size : 2.048 (s)\n",
      "Need more than one channel to make topography for eeg. Disabling interactivity.\n"
     ]
    },
    {
     "name": "stderr",
     "output_type": "stream",
     "text": [
      "/home/rgast/PycharmProjects/PyRates/pyrates/utility/visualization.py:508: RuntimeWarning: Channel locations not available. Disabling spatial colors.\n",
      "  return plot_raw_psd(raw, tmin=tmin, fmin=fmin, fmax=fmax, **kwargs).axes\n",
      "/home/rgast/PycharmProjects/PyRates/pyrates/utility/visualization.py:508: RuntimeWarning: Channel locations not available. Disabling spatial colors.\n",
      "  return plot_raw_psd(raw, tmin=tmin, fmin=fmin, fmax=fmax, **kwargs).axes\n"
     ]
    },
    {
     "name": "stdout",
     "output_type": "stream",
     "text": [
      "Creating RawArray with float64 data, n_channels=1, n_times=10000\n",
      "    Range : 0 ... 9999 =      0.000 ...     9.999 secs\n",
      "Ready.\n",
      "Effective window size : 2.048 (s)\n",
      "Need more than one channel to make topography for eeg. Disabling interactivity.\n",
      "Creating RawArray with float64 data, n_channels=1, n_times=10000\n",
      "    Range : 0 ... 9999 =      0.000 ...     9.999 secs\n",
      "Ready.\n",
      "Effective window size : 2.048 (s)\n",
      "Need more than one channel to make topography for eeg. Disabling interactivity.\n",
      "Creating RawArray with float64 data, n_channels=1, n_times=10000\n"
     ]
    },
    {
     "name": "stderr",
     "output_type": "stream",
     "text": [
      "/home/rgast/PycharmProjects/PyRates/pyrates/utility/visualization.py:508: RuntimeWarning: Channel locations not available. Disabling spatial colors.\n",
      "  return plot_raw_psd(raw, tmin=tmin, fmin=fmin, fmax=fmax, **kwargs).axes\n",
      "/home/rgast/PycharmProjects/PyRates/pyrates/utility/visualization.py:508: RuntimeWarning: Channel locations not available. Disabling spatial colors.\n",
      "  return plot_raw_psd(raw, tmin=tmin, fmin=fmin, fmax=fmax, **kwargs).axes\n"
     ]
    },
    {
     "name": "stdout",
     "output_type": "stream",
     "text": [
      "    Range : 0 ... 9999 =      0.000 ...     9.999 secs\n",
      "Ready.\n",
      "Effective window size : 2.048 (s)\n",
      "Need more than one channel to make topography for eeg. Disabling interactivity.\n",
      "Creating RawArray with float64 data, n_channels=1, n_times=10000\n",
      "    Range : 0 ... 9999 =      0.000 ...     9.999 secs\n",
      "Ready.\n",
      "Effective window size : 2.048 (s)\n",
      "Need more than one channel to make topography for eeg. Disabling interactivity.\n",
      "Creating RawArray with float64 data, n_channels=1, n_times=10000\n",
      "    Range : 0 ... 9999 =      0.000 ...     9.999 secs\n",
      "Ready.\n",
      "Effective window size : 2.048 (s)\n"
     ]
    },
    {
     "name": "stderr",
     "output_type": "stream",
     "text": [
      "/home/rgast/PycharmProjects/PyRates/pyrates/utility/visualization.py:508: RuntimeWarning: Channel locations not available. Disabling spatial colors.\n",
      "  return plot_raw_psd(raw, tmin=tmin, fmin=fmin, fmax=fmax, **kwargs).axes\n",
      "/home/rgast/PycharmProjects/PyRates/pyrates/utility/visualization.py:508: RuntimeWarning: Channel locations not available. Disabling spatial colors.\n",
      "  return plot_raw_psd(raw, tmin=tmin, fmin=fmin, fmax=fmax, **kwargs).axes\n"
     ]
    },
    {
     "name": "stdout",
     "output_type": "stream",
     "text": [
      "Need more than one channel to make topography for eeg. Disabling interactivity.\n",
      "Creating RawArray with float64 data, n_channels=1, n_times=10000\n",
      "    Range : 0 ... 9999 =      0.000 ...     9.999 secs\n",
      "Ready.\n",
      "Effective window size : 2.048 (s)\n",
      "Need more than one channel to make topography for eeg. Disabling interactivity.\n"
     ]
    },
    {
     "name": "stderr",
     "output_type": "stream",
     "text": [
      "/home/rgast/PycharmProjects/PyRates/pyrates/utility/visualization.py:508: RuntimeWarning: Channel locations not available. Disabling spatial colors.\n",
      "  return plot_raw_psd(raw, tmin=tmin, fmin=fmin, fmax=fmax, **kwargs).axes\n",
      "/home/rgast/PycharmProjects/PyRates/pyrates/utility/visualization.py:508: RuntimeWarning: Channel locations not available. Disabling spatial colors.\n",
      "  return plot_raw_psd(raw, tmin=tmin, fmin=fmin, fmax=fmax, **kwargs).axes\n"
     ]
    },
    {
     "name": "stdout",
     "output_type": "stream",
     "text": [
      "Creating RawArray with float64 data, n_channels=1, n_times=10000\n",
      "    Range : 0 ... 9999 =      0.000 ...     9.999 secs\n",
      "Ready.\n",
      "Effective window size : 2.048 (s)\n",
      "Need more than one channel to make topography for eeg. Disabling interactivity.\n",
      "Creating RawArray with float64 data, n_channels=1, n_times=10000\n",
      "    Range : 0 ... 9999 =      0.000 ...     9.999 secs\n",
      "Ready.\n",
      "Effective window size : 2.048 (s)\n",
      "Need more than one channel to make topography for eeg. Disabling interactivity.\n",
      "Creating RawArray with float64 data, n_channels=1, n_times=10000\n",
      "    Range : 0 ... 9999 =      0.000 ...     9.999 secs\n",
      "Ready.\n",
      "Effective window size : 2.048 (s)\n",
      "Need more than one channel to make topography for eeg. Disabling interactivity.\n"
     ]
    },
    {
     "name": "stderr",
     "output_type": "stream",
     "text": [
      "/home/rgast/PycharmProjects/PyRates/pyrates/utility/visualization.py:508: RuntimeWarning: Channel locations not available. Disabling spatial colors.\n",
      "  return plot_raw_psd(raw, tmin=tmin, fmin=fmin, fmax=fmax, **kwargs).axes\n",
      "/home/rgast/PycharmProjects/PyRates/pyrates/utility/visualization.py:508: RuntimeWarning: Channel locations not available. Disabling spatial colors.\n",
      "  return plot_raw_psd(raw, tmin=tmin, fmin=fmin, fmax=fmax, **kwargs).axes\n",
      "/home/rgast/PycharmProjects/PyRates/pyrates/utility/visualization.py:508: RuntimeWarning: Channel locations not available. Disabling spatial colors.\n",
      "  return plot_raw_psd(raw, tmin=tmin, fmin=fmin, fmax=fmax, **kwargs).axes\n"
     ]
    },
    {
     "name": "stdout",
     "output_type": "stream",
     "text": [
      "Creating RawArray with float64 data, n_channels=1, n_times=10000\n",
      "    Range : 0 ... 9999 =      0.000 ...     9.999 secs\n",
      "Ready.\n",
      "Effective window size : 2.048 (s)\n",
      "Need more than one channel to make topography for eeg. Disabling interactivity.\n",
      "Creating RawArray with float64 data, n_channels=1, n_times=10000\n",
      "    Range : 0 ... 9999 =      0.000 ...     9.999 secs\n",
      "Ready.\n",
      "Effective window size : 2.048 (s)\n",
      "Need more than one channel to make topography for eeg. Disabling interactivity.\n",
      "Creating RawArray with float64 data, n_channels=1, n_times=10000\n"
     ]
    },
    {
     "name": "stderr",
     "output_type": "stream",
     "text": [
      "/home/rgast/PycharmProjects/PyRates/pyrates/utility/visualization.py:508: RuntimeWarning: Channel locations not available. Disabling spatial colors.\n",
      "  return plot_raw_psd(raw, tmin=tmin, fmin=fmin, fmax=fmax, **kwargs).axes\n",
      "/home/rgast/PycharmProjects/PyRates/pyrates/utility/visualization.py:508: RuntimeWarning: Channel locations not available. Disabling spatial colors.\n",
      "  return plot_raw_psd(raw, tmin=tmin, fmin=fmin, fmax=fmax, **kwargs).axes\n"
     ]
    },
    {
     "name": "stdout",
     "output_type": "stream",
     "text": [
      "    Range : 0 ... 9999 =      0.000 ...     9.999 secs\n",
      "Ready.\n",
      "Effective window size : 2.048 (s)\n",
      "Need more than one channel to make topography for eeg. Disabling interactivity.\n",
      "Creating RawArray with float64 data, n_channels=1, n_times=10000\n",
      "    Range : 0 ... 9999 =      0.000 ...     9.999 secs\n",
      "Ready.\n",
      "Effective window size : 2.048 (s)\n",
      "Need more than one channel to make topography for eeg. Disabling interactivity.\n",
      "Creating RawArray with float64 data, n_channels=1, n_times=10000\n"
     ]
    },
    {
     "name": "stderr",
     "output_type": "stream",
     "text": [
      "/home/rgast/PycharmProjects/PyRates/pyrates/utility/visualization.py:508: RuntimeWarning: Channel locations not available. Disabling spatial colors.\n",
      "  return plot_raw_psd(raw, tmin=tmin, fmin=fmin, fmax=fmax, **kwargs).axes\n",
      "/home/rgast/PycharmProjects/PyRates/pyrates/utility/visualization.py:508: RuntimeWarning: Channel locations not available. Disabling spatial colors.\n",
      "  return plot_raw_psd(raw, tmin=tmin, fmin=fmin, fmax=fmax, **kwargs).axes\n"
     ]
    },
    {
     "name": "stdout",
     "output_type": "stream",
     "text": [
      "    Range : 0 ... 9999 =      0.000 ...     9.999 secs\n",
      "Ready.\n",
      "Effective window size : 2.048 (s)\n",
      "Need more than one channel to make topography for eeg. Disabling interactivity.\n",
      "Creating RawArray with float64 data, n_channels=1, n_times=10000\n",
      "    Range : 0 ... 9999 =      0.000 ...     9.999 secs\n",
      "Ready.\n",
      "Effective window size : 2.048 (s)\n",
      "Need more than one channel to make topography for eeg. Disabling interactivity.\n",
      "Creating RawArray with float64 data, n_channels=1, n_times=10000\n"
     ]
    },
    {
     "name": "stderr",
     "output_type": "stream",
     "text": [
      "/home/rgast/PycharmProjects/PyRates/pyrates/utility/visualization.py:508: RuntimeWarning: Channel locations not available. Disabling spatial colors.\n",
      "  return plot_raw_psd(raw, tmin=tmin, fmin=fmin, fmax=fmax, **kwargs).axes\n",
      "/home/rgast/PycharmProjects/PyRates/pyrates/utility/visualization.py:508: RuntimeWarning: Channel locations not available. Disabling spatial colors.\n",
      "  return plot_raw_psd(raw, tmin=tmin, fmin=fmin, fmax=fmax, **kwargs).axes\n"
     ]
    },
    {
     "name": "stdout",
     "output_type": "stream",
     "text": [
      "    Range : 0 ... 9999 =      0.000 ...     9.999 secs\n",
      "Ready.\n",
      "Effective window size : 2.048 (s)\n",
      "Need more than one channel to make topography for eeg. Disabling interactivity.\n",
      "Creating RawArray with float64 data, n_channels=1, n_times=10000\n",
      "    Range : 0 ... 9999 =      0.000 ...     9.999 secs\n",
      "Ready.\n",
      "Effective window size : 2.048 (s)\n",
      "Need more than one channel to make topography for eeg. Disabling interactivity.\n",
      "Creating RawArray with float64 data, n_channels=1, n_times=10000\n",
      "    Range : 0 ... 9999 =      0.000 ...     9.999 secs\n",
      "Ready.\n",
      "Effective window size : 2.048 (s)\n",
      "Need more than one channel to make topography for eeg. Disabling interactivity.\n"
     ]
    },
    {
     "name": "stderr",
     "output_type": "stream",
     "text": [
      "/home/rgast/PycharmProjects/PyRates/pyrates/utility/visualization.py:508: RuntimeWarning: Channel locations not available. Disabling spatial colors.\n",
      "  return plot_raw_psd(raw, tmin=tmin, fmin=fmin, fmax=fmax, **kwargs).axes\n",
      "/home/rgast/PycharmProjects/PyRates/pyrates/utility/visualization.py:508: RuntimeWarning: Channel locations not available. Disabling spatial colors.\n",
      "  return plot_raw_psd(raw, tmin=tmin, fmin=fmin, fmax=fmax, **kwargs).axes\n",
      "/home/rgast/PycharmProjects/PyRates/pyrates/utility/visualization.py:508: RuntimeWarning: Channel locations not available. Disabling spatial colors.\n",
      "  return plot_raw_psd(raw, tmin=tmin, fmin=fmin, fmax=fmax, **kwargs).axes\n"
     ]
    },
    {
     "name": "stdout",
     "output_type": "stream",
     "text": [
      "Creating RawArray with float64 data, n_channels=1, n_times=10000\n",
      "    Range : 0 ... 9999 =      0.000 ...     9.999 secs\n",
      "Ready.\n",
      "Effective window size : 2.048 (s)\n",
      "Need more than one channel to make topography for eeg. Disabling interactivity.\n",
      "Creating RawArray with float64 data, n_channels=1, n_times=10000\n",
      "    Range : 0 ... 9999 =      0.000 ...     9.999 secs\n",
      "Ready.\n",
      "Effective window size : 2.048 (s)\n",
      "Need more than one channel to make topography for eeg. Disabling interactivity.\n"
     ]
    },
    {
     "name": "stderr",
     "output_type": "stream",
     "text": [
      "/home/rgast/PycharmProjects/PyRates/pyrates/utility/visualization.py:508: RuntimeWarning: Channel locations not available. Disabling spatial colors.\n",
      "  return plot_raw_psd(raw, tmin=tmin, fmin=fmin, fmax=fmax, **kwargs).axes\n",
      "/home/rgast/PycharmProjects/PyRates/pyrates/utility/visualization.py:508: RuntimeWarning: Channel locations not available. Disabling spatial colors.\n",
      "  return plot_raw_psd(raw, tmin=tmin, fmin=fmin, fmax=fmax, **kwargs).axes\n"
     ]
    },
    {
     "name": "stdout",
     "output_type": "stream",
     "text": [
      "Creating RawArray with float64 data, n_channels=1, n_times=10000\n",
      "    Range : 0 ... 9999 =      0.000 ...     9.999 secs\n",
      "Ready.\n",
      "Effective window size : 2.048 (s)\n",
      "Need more than one channel to make topography for eeg. Disabling interactivity.\n",
      "Creating RawArray with float64 data, n_channels=1, n_times=10000\n",
      "    Range : 0 ... 9999 =      0.000 ...     9.999 secs\n",
      "Ready.\n",
      "Effective window size : 2.048 (s)\n",
      "Need more than one channel to make topography for eeg. Disabling interactivity.\n",
      "Creating RawArray with float64 data, n_channels=1, n_times=10000\n",
      "    Range : 0 ... 9999 =      0.000 ...     9.999 secs\n",
      "Ready.\n",
      "Effective window size : 2.048 (s)\n",
      "Need more than one channel to make topography for eeg. Disabling interactivity.\n"
     ]
    },
    {
     "name": "stderr",
     "output_type": "stream",
     "text": [
      "/home/rgast/PycharmProjects/PyRates/pyrates/utility/visualization.py:508: RuntimeWarning: Channel locations not available. Disabling spatial colors.\n",
      "  return plot_raw_psd(raw, tmin=tmin, fmin=fmin, fmax=fmax, **kwargs).axes\n",
      "/home/rgast/PycharmProjects/PyRates/pyrates/utility/visualization.py:508: RuntimeWarning: Channel locations not available. Disabling spatial colors.\n",
      "  return plot_raw_psd(raw, tmin=tmin, fmin=fmin, fmax=fmax, **kwargs).axes\n",
      "/home/rgast/PycharmProjects/PyRates/pyrates/utility/visualization.py:508: RuntimeWarning: Channel locations not available. Disabling spatial colors.\n",
      "  return plot_raw_psd(raw, tmin=tmin, fmin=fmin, fmax=fmax, **kwargs).axes\n"
     ]
    },
    {
     "name": "stdout",
     "output_type": "stream",
     "text": [
      "Creating RawArray with float64 data, n_channels=1, n_times=10000\n",
      "    Range : 0 ... 9999 =      0.000 ...     9.999 secs\n",
      "Ready.\n",
      "Effective window size : 2.048 (s)\n",
      "Need more than one channel to make topography for eeg. Disabling interactivity.\n",
      "Creating RawArray with float64 data, n_channels=1, n_times=10000\n",
      "    Range : 0 ... 9999 =      0.000 ...     9.999 secs\n",
      "Ready.\n",
      "Effective window size : 2.048 (s)\n",
      "Need more than one channel to make topography for eeg. Disabling interactivity.\n",
      "Creating RawArray with float64 data, n_channels=1, n_times=10000\n",
      "    Range : 0 ... 9999 =      0.000 ...     9.999 secs\n",
      "Ready.\n",
      "Effective window size : 2.048 (s)\n",
      "Need more than one channel to make topography for eeg. Disabling interactivity.\n"
     ]
    },
    {
     "name": "stderr",
     "output_type": "stream",
     "text": [
      "/home/rgast/PycharmProjects/PyRates/pyrates/utility/visualization.py:508: RuntimeWarning: Channel locations not available. Disabling spatial colors.\n",
      "  return plot_raw_psd(raw, tmin=tmin, fmin=fmin, fmax=fmax, **kwargs).axes\n",
      "/home/rgast/PycharmProjects/PyRates/pyrates/utility/visualization.py:508: RuntimeWarning: Channel locations not available. Disabling spatial colors.\n",
      "  return plot_raw_psd(raw, tmin=tmin, fmin=fmin, fmax=fmax, **kwargs).axes\n",
      "/home/rgast/PycharmProjects/PyRates/pyrates/utility/visualization.py:508: RuntimeWarning: Channel locations not available. Disabling spatial colors.\n",
      "  return plot_raw_psd(raw, tmin=tmin, fmin=fmin, fmax=fmax, **kwargs).axes\n"
     ]
    },
    {
     "name": "stdout",
     "output_type": "stream",
     "text": [
      "Creating RawArray with float64 data, n_channels=1, n_times=10000\n",
      "    Range : 0 ... 9999 =      0.000 ...     9.999 secs\n",
      "Ready.\n",
      "Effective window size : 2.048 (s)\n",
      "Need more than one channel to make topography for eeg. Disabling interactivity.\n",
      "Creating RawArray with float64 data, n_channels=1, n_times=10000\n",
      "    Range : 0 ... 9999 =      0.000 ...     9.999 secs\n",
      "Ready.\n",
      "Effective window size : 2.048 (s)\n",
      "Need more than one channel to make topography for eeg. Disabling interactivity.\n",
      "Creating RawArray with float64 data, n_channels=1, n_times=10000\n",
      "    Range : 0 ... 9999 =      0.000 ...     9.999 secs\n",
      "Ready.\n",
      "Effective window size : 2.048 (s)\n",
      "Need more than one channel to make topography for eeg. Disabling interactivity.\n"
     ]
    },
    {
     "name": "stderr",
     "output_type": "stream",
     "text": [
      "/home/rgast/PycharmProjects/PyRates/pyrates/utility/visualization.py:508: RuntimeWarning: Channel locations not available. Disabling spatial colors.\n",
      "  return plot_raw_psd(raw, tmin=tmin, fmin=fmin, fmax=fmax, **kwargs).axes\n",
      "/home/rgast/PycharmProjects/PyRates/pyrates/utility/visualization.py:508: RuntimeWarning: Channel locations not available. Disabling spatial colors.\n",
      "  return plot_raw_psd(raw, tmin=tmin, fmin=fmin, fmax=fmax, **kwargs).axes\n",
      "/home/rgast/PycharmProjects/PyRates/pyrates/utility/visualization.py:508: RuntimeWarning: Channel locations not available. Disabling spatial colors.\n",
      "  return plot_raw_psd(raw, tmin=tmin, fmin=fmin, fmax=fmax, **kwargs).axes\n"
     ]
    },
    {
     "name": "stdout",
     "output_type": "stream",
     "text": [
      "Creating RawArray with float64 data, n_channels=1, n_times=10000\n",
      "    Range : 0 ... 9999 =      0.000 ...     9.999 secs\n",
      "Ready.\n",
      "Effective window size : 2.048 (s)\n",
      "Need more than one channel to make topography for eeg. Disabling interactivity.\n",
      "Creating RawArray with float64 data, n_channels=1, n_times=10000\n",
      "    Range : 0 ... 9999 =      0.000 ...     9.999 secs\n",
      "Ready.\n",
      "Effective window size : 2.048 (s)\n",
      "Need more than one channel to make topography for eeg. Disabling interactivity.\n",
      "Creating RawArray with float64 data, n_channels=1, n_times=10000\n",
      "    Range : 0 ... 9999 =      0.000 ...     9.999 secs\n",
      "Ready.\n",
      "Effective window size : 2.048 (s)\n",
      "Need more than one channel to make topography for eeg. Disabling interactivity.\n",
      "Creating RawArray with float64 data, n_channels=1, n_times=10000\n"
     ]
    },
    {
     "name": "stderr",
     "output_type": "stream",
     "text": [
      "/home/rgast/PycharmProjects/PyRates/pyrates/utility/visualization.py:508: RuntimeWarning: Channel locations not available. Disabling spatial colors.\n",
      "  return plot_raw_psd(raw, tmin=tmin, fmin=fmin, fmax=fmax, **kwargs).axes\n",
      "/home/rgast/PycharmProjects/PyRates/pyrates/utility/visualization.py:508: RuntimeWarning: Channel locations not available. Disabling spatial colors.\n",
      "  return plot_raw_psd(raw, tmin=tmin, fmin=fmin, fmax=fmax, **kwargs).axes\n",
      "/home/rgast/PycharmProjects/PyRates/pyrates/utility/visualization.py:508: RuntimeWarning: Channel locations not available. Disabling spatial colors.\n",
      "  return plot_raw_psd(raw, tmin=tmin, fmin=fmin, fmax=fmax, **kwargs).axes\n"
     ]
    },
    {
     "name": "stdout",
     "output_type": "stream",
     "text": [
      "    Range : 0 ... 9999 =      0.000 ...     9.999 secs\n",
      "Ready.\n",
      "Effective window size : 2.048 (s)\n",
      "Need more than one channel to make topography for eeg. Disabling interactivity.\n",
      "Creating RawArray with float64 data, n_channels=1, n_times=10000\n",
      "    Range : 0 ... 9999 =      0.000 ...     9.999 secs\n",
      "Ready.\n",
      "Effective window size : 2.048 (s)\n",
      "Need more than one channel to make topography for eeg. Disabling interactivity.\n",
      "Creating RawArray with float64 data, n_channels=1, n_times=10000\n",
      "    Range : 0 ... 9999 =      0.000 ...     9.999 secs\n",
      "Ready.\n",
      "Effective window size : 2.048 (s)\n",
      "Need more than one channel to make topography for eeg. Disabling interactivity.\n"
     ]
    },
    {
     "name": "stderr",
     "output_type": "stream",
     "text": [
      "/home/rgast/PycharmProjects/PyRates/pyrates/utility/visualization.py:508: RuntimeWarning: Channel locations not available. Disabling spatial colors.\n",
      "  return plot_raw_psd(raw, tmin=tmin, fmin=fmin, fmax=fmax, **kwargs).axes\n",
      "/home/rgast/PycharmProjects/PyRates/pyrates/utility/visualization.py:508: RuntimeWarning: Channel locations not available. Disabling spatial colors.\n",
      "  return plot_raw_psd(raw, tmin=tmin, fmin=fmin, fmax=fmax, **kwargs).axes\n",
      "/home/rgast/PycharmProjects/PyRates/pyrates/utility/visualization.py:508: RuntimeWarning: Channel locations not available. Disabling spatial colors.\n",
      "  return plot_raw_psd(raw, tmin=tmin, fmin=fmin, fmax=fmax, **kwargs).axes\n"
     ]
    },
    {
     "name": "stdout",
     "output_type": "stream",
     "text": [
      "Creating RawArray with float64 data, n_channels=1, n_times=10000\n",
      "    Range : 0 ... 9999 =      0.000 ...     9.999 secs\n",
      "Ready.\n",
      "Effective window size : 2.048 (s)\n",
      "Need more than one channel to make topography for eeg. Disabling interactivity.\n",
      "Creating RawArray with float64 data, n_channels=1, n_times=10000\n",
      "    Range : 0 ... 9999 =      0.000 ...     9.999 secs\n",
      "Ready.\n",
      "Effective window size : 2.048 (s)\n",
      "Need more than one channel to make topography for eeg. Disabling interactivity.\n",
      "Creating RawArray with float64 data, n_channels=1, n_times=10000\n",
      "    Range : 0 ... 9999 =      0.000 ...     9.999 secs\n",
      "Ready.\n",
      "Effective window size : 2.048 (s)\n",
      "Need more than one channel to make topography for eeg. Disabling interactivity.\n"
     ]
    },
    {
     "name": "stderr",
     "output_type": "stream",
     "text": [
      "/home/rgast/PycharmProjects/PyRates/pyrates/utility/visualization.py:508: RuntimeWarning: Channel locations not available. Disabling spatial colors.\n",
      "  return plot_raw_psd(raw, tmin=tmin, fmin=fmin, fmax=fmax, **kwargs).axes\n",
      "/home/rgast/PycharmProjects/PyRates/pyrates/utility/visualization.py:508: RuntimeWarning: Channel locations not available. Disabling spatial colors.\n",
      "  return plot_raw_psd(raw, tmin=tmin, fmin=fmin, fmax=fmax, **kwargs).axes\n",
      "/home/rgast/PycharmProjects/PyRates/pyrates/utility/visualization.py:508: RuntimeWarning: Channel locations not available. Disabling spatial colors.\n",
      "  return plot_raw_psd(raw, tmin=tmin, fmin=fmin, fmax=fmax, **kwargs).axes\n"
     ]
    },
    {
     "name": "stdout",
     "output_type": "stream",
     "text": [
      "Creating RawArray with float64 data, n_channels=1, n_times=10000\n",
      "    Range : 0 ... 9999 =      0.000 ...     9.999 secs\n",
      "Ready.\n",
      "Effective window size : 2.048 (s)\n",
      "Need more than one channel to make topography for eeg. Disabling interactivity.\n",
      "Creating RawArray with float64 data, n_channels=1, n_times=10000\n",
      "    Range : 0 ... 9999 =      0.000 ...     9.999 secs\n",
      "Ready.\n",
      "Effective window size : 2.048 (s)\n",
      "Need more than one channel to make topography for eeg. Disabling interactivity.\n",
      "Creating RawArray with float64 data, n_channels=1, n_times=10000\n",
      "    Range : 0 ... 9999 =      0.000 ...     9.999 secs\n",
      "Ready.\n",
      "Effective window size : 2.048 (s)\n",
      "Need more than one channel to make topography for eeg. Disabling interactivity.\n"
     ]
    },
    {
     "name": "stderr",
     "output_type": "stream",
     "text": [
      "/home/rgast/PycharmProjects/PyRates/pyrates/utility/visualization.py:508: RuntimeWarning: Channel locations not available. Disabling spatial colors.\n",
      "  return plot_raw_psd(raw, tmin=tmin, fmin=fmin, fmax=fmax, **kwargs).axes\n",
      "/home/rgast/PycharmProjects/PyRates/pyrates/utility/visualization.py:508: RuntimeWarning: Channel locations not available. Disabling spatial colors.\n",
      "  return plot_raw_psd(raw, tmin=tmin, fmin=fmin, fmax=fmax, **kwargs).axes\n",
      "/home/rgast/PycharmProjects/PyRates/pyrates/utility/visualization.py:508: RuntimeWarning: Channel locations not available. Disabling spatial colors.\n",
      "  return plot_raw_psd(raw, tmin=tmin, fmin=fmin, fmax=fmax, **kwargs).axes\n"
     ]
    },
    {
     "name": "stdout",
     "output_type": "stream",
     "text": [
      "Creating RawArray with float64 data, n_channels=1, n_times=10000\n",
      "    Range : 0 ... 9999 =      0.000 ...     9.999 secs\n",
      "Ready.\n",
      "Effective window size : 2.048 (s)\n",
      "Need more than one channel to make topography for eeg. Disabling interactivity.\n",
      "Creating RawArray with float64 data, n_channels=1, n_times=10000\n",
      "    Range : 0 ... 9999 =      0.000 ...     9.999 secs\n",
      "Ready.\n",
      "Effective window size : 2.048 (s)\n",
      "Need more than one channel to make topography for eeg. Disabling interactivity.\n",
      "Creating RawArray with float64 data, n_channels=1, n_times=10000\n",
      "    Range : 0 ... 9999 =      0.000 ...     9.999 secs\n",
      "Ready.\n",
      "Effective window size : 2.048 (s)\n",
      "Need more than one channel to make topography for eeg. Disabling interactivity.\n"
     ]
    },
    {
     "name": "stderr",
     "output_type": "stream",
     "text": [
      "/home/rgast/PycharmProjects/PyRates/pyrates/utility/visualization.py:508: RuntimeWarning: Channel locations not available. Disabling spatial colors.\n",
      "  return plot_raw_psd(raw, tmin=tmin, fmin=fmin, fmax=fmax, **kwargs).axes\n",
      "/home/rgast/PycharmProjects/PyRates/pyrates/utility/visualization.py:508: RuntimeWarning: Channel locations not available. Disabling spatial colors.\n",
      "  return plot_raw_psd(raw, tmin=tmin, fmin=fmin, fmax=fmax, **kwargs).axes\n",
      "/home/rgast/PycharmProjects/PyRates/pyrates/utility/visualization.py:508: RuntimeWarning: Channel locations not available. Disabling spatial colors.\n",
      "  return plot_raw_psd(raw, tmin=tmin, fmin=fmin, fmax=fmax, **kwargs).axes\n"
     ]
    },
    {
     "name": "stdout",
     "output_type": "stream",
     "text": [
      "Creating RawArray with float64 data, n_channels=1, n_times=10000\n",
      "    Range : 0 ... 9999 =      0.000 ...     9.999 secs\n",
      "Ready.\n",
      "Effective window size : 2.048 (s)\n",
      "Need more than one channel to make topography for eeg. Disabling interactivity.\n",
      "Creating RawArray with float64 data, n_channels=1, n_times=10000\n",
      "    Range : 0 ... 9999 =      0.000 ...     9.999 secs\n",
      "Ready.\n",
      "Effective window size : 2.048 (s)\n",
      "Need more than one channel to make topography for eeg. Disabling interactivity.\n",
      "Creating RawArray with float64 data, n_channels=1, n_times=10000\n",
      "    Range : 0 ... 9999 =      0.000 ...     9.999 secs\n",
      "Ready.\n",
      "Effective window size : 2.048 (s)\n",
      "Need more than one channel to make topography for eeg. Disabling interactivity.\n"
     ]
    },
    {
     "name": "stderr",
     "output_type": "stream",
     "text": [
      "/home/rgast/PycharmProjects/PyRates/pyrates/utility/visualization.py:508: RuntimeWarning: Channel locations not available. Disabling spatial colors.\n",
      "  return plot_raw_psd(raw, tmin=tmin, fmin=fmin, fmax=fmax, **kwargs).axes\n",
      "/home/rgast/PycharmProjects/PyRates/pyrates/utility/visualization.py:508: RuntimeWarning: Channel locations not available. Disabling spatial colors.\n",
      "  return plot_raw_psd(raw, tmin=tmin, fmin=fmin, fmax=fmax, **kwargs).axes\n",
      "/home/rgast/PycharmProjects/PyRates/pyrates/utility/visualization.py:508: RuntimeWarning: Channel locations not available. Disabling spatial colors.\n",
      "  return plot_raw_psd(raw, tmin=tmin, fmin=fmin, fmax=fmax, **kwargs).axes\n"
     ]
    },
    {
     "name": "stdout",
     "output_type": "stream",
     "text": [
      "Creating RawArray with float64 data, n_channels=1, n_times=10000\n",
      "    Range : 0 ... 9999 =      0.000 ...     9.999 secs\n",
      "Ready.\n",
      "Effective window size : 2.048 (s)\n",
      "Need more than one channel to make topography for eeg. Disabling interactivity.\n",
      "Creating RawArray with float64 data, n_channels=1, n_times=10000\n",
      "    Range : 0 ... 9999 =      0.000 ...     9.999 secs\n",
      "Ready.\n",
      "Effective window size : 2.048 (s)\n",
      "Need more than one channel to make topography for eeg. Disabling interactivity.\n",
      "Creating RawArray with float64 data, n_channels=1, n_times=10000\n",
      "    Range : 0 ... 9999 =      0.000 ...     9.999 secs\n",
      "Ready.\n",
      "Effective window size : 2.048 (s)\n",
      "Need more than one channel to make topography for eeg. Disabling interactivity.\n"
     ]
    },
    {
     "name": "stderr",
     "output_type": "stream",
     "text": [
      "/home/rgast/PycharmProjects/PyRates/pyrates/utility/visualization.py:508: RuntimeWarning: Channel locations not available. Disabling spatial colors.\n",
      "  return plot_raw_psd(raw, tmin=tmin, fmin=fmin, fmax=fmax, **kwargs).axes\n",
      "/home/rgast/PycharmProjects/PyRates/pyrates/utility/visualization.py:508: RuntimeWarning: Channel locations not available. Disabling spatial colors.\n",
      "  return plot_raw_psd(raw, tmin=tmin, fmin=fmin, fmax=fmax, **kwargs).axes\n",
      "/home/rgast/PycharmProjects/PyRates/pyrates/utility/visualization.py:508: RuntimeWarning: Channel locations not available. Disabling spatial colors.\n",
      "  return plot_raw_psd(raw, tmin=tmin, fmin=fmin, fmax=fmax, **kwargs).axes\n"
     ]
    },
    {
     "name": "stdout",
     "output_type": "stream",
     "text": [
      "Creating RawArray with float64 data, n_channels=1, n_times=10000\n",
      "    Range : 0 ... 9999 =      0.000 ...     9.999 secs\n",
      "Ready.\n",
      "Effective window size : 2.048 (s)\n",
      "Need more than one channel to make topography for eeg. Disabling interactivity.\n",
      "Creating RawArray with float64 data, n_channels=1, n_times=10000\n",
      "    Range : 0 ... 9999 =      0.000 ...     9.999 secs\n",
      "Ready.\n",
      "Effective window size : 2.048 (s)\n",
      "Need more than one channel to make topography for eeg. Disabling interactivity.\n",
      "Creating RawArray with float64 data, n_channels=1, n_times=10000\n",
      "    Range : 0 ... 9999 =      0.000 ...     9.999 secs\n",
      "Ready.\n",
      "Effective window size : 2.048 (s)\n",
      "Need more than one channel to make topography for eeg. Disabling interactivity.\n"
     ]
    },
    {
     "name": "stderr",
     "output_type": "stream",
     "text": [
      "/home/rgast/PycharmProjects/PyRates/pyrates/utility/visualization.py:508: RuntimeWarning: Channel locations not available. Disabling spatial colors.\n",
      "  return plot_raw_psd(raw, tmin=tmin, fmin=fmin, fmax=fmax, **kwargs).axes\n",
      "/home/rgast/PycharmProjects/PyRates/pyrates/utility/visualization.py:508: RuntimeWarning: Channel locations not available. Disabling spatial colors.\n",
      "  return plot_raw_psd(raw, tmin=tmin, fmin=fmin, fmax=fmax, **kwargs).axes\n",
      "/home/rgast/PycharmProjects/PyRates/pyrates/utility/visualization.py:508: RuntimeWarning: Channel locations not available. Disabling spatial colors.\n",
      "  return plot_raw_psd(raw, tmin=tmin, fmin=fmin, fmax=fmax, **kwargs).axes\n"
     ]
    },
    {
     "name": "stdout",
     "output_type": "stream",
     "text": [
      "Creating RawArray with float64 data, n_channels=1, n_times=10000\n",
      "    Range : 0 ... 9999 =      0.000 ...     9.999 secs\n",
      "Ready.\n",
      "Effective window size : 2.048 (s)\n",
      "Need more than one channel to make topography for eeg. Disabling interactivity.\n",
      "Creating RawArray with float64 data, n_channels=1, n_times=10000\n",
      "    Range : 0 ... 9999 =      0.000 ...     9.999 secs\n",
      "Ready.\n",
      "Effective window size : 2.048 (s)\n",
      "Need more than one channel to make topography for eeg. Disabling interactivity.\n",
      "Creating RawArray with float64 data, n_channels=1, n_times=10000\n",
      "    Range : 0 ... 9999 =      0.000 ...     9.999 secs\n",
      "Ready.\n",
      "Effective window size : 2.048 (s)\n",
      "Need more than one channel to make topography for eeg. Disabling interactivity.\n"
     ]
    },
    {
     "name": "stderr",
     "output_type": "stream",
     "text": [
      "/home/rgast/PycharmProjects/PyRates/pyrates/utility/visualization.py:508: RuntimeWarning: Channel locations not available. Disabling spatial colors.\n",
      "  return plot_raw_psd(raw, tmin=tmin, fmin=fmin, fmax=fmax, **kwargs).axes\n",
      "/home/rgast/PycharmProjects/PyRates/pyrates/utility/visualization.py:508: RuntimeWarning: Channel locations not available. Disabling spatial colors.\n",
      "  return plot_raw_psd(raw, tmin=tmin, fmin=fmin, fmax=fmax, **kwargs).axes\n",
      "/home/rgast/PycharmProjects/PyRates/pyrates/utility/visualization.py:508: RuntimeWarning: Channel locations not available. Disabling spatial colors.\n",
      "  return plot_raw_psd(raw, tmin=tmin, fmin=fmin, fmax=fmax, **kwargs).axes\n"
     ]
    },
    {
     "name": "stdout",
     "output_type": "stream",
     "text": [
      "Creating RawArray with float64 data, n_channels=1, n_times=10000\n",
      "    Range : 0 ... 9999 =      0.000 ...     9.999 secs\n",
      "Ready.\n",
      "Effective window size : 2.048 (s)\n",
      "Need more than one channel to make topography for eeg. Disabling interactivity.\n",
      "Creating RawArray with float64 data, n_channels=1, n_times=10000\n",
      "    Range : 0 ... 9999 =      0.000 ...     9.999 secs\n",
      "Ready.\n",
      "Effective window size : 2.048 (s)\n",
      "Need more than one channel to make topography for eeg. Disabling interactivity.\n",
      "Creating RawArray with float64 data, n_channels=1, n_times=10000\n",
      "    Range : 0 ... 9999 =      0.000 ...     9.999 secs\n",
      "Ready.\n",
      "Effective window size : 2.048 (s)\n",
      "Need more than one channel to make topography for eeg. Disabling interactivity.\n"
     ]
    },
    {
     "name": "stderr",
     "output_type": "stream",
     "text": [
      "/home/rgast/PycharmProjects/PyRates/pyrates/utility/visualization.py:508: RuntimeWarning: Channel locations not available. Disabling spatial colors.\n",
      "  return plot_raw_psd(raw, tmin=tmin, fmin=fmin, fmax=fmax, **kwargs).axes\n",
      "/home/rgast/PycharmProjects/PyRates/pyrates/utility/visualization.py:508: RuntimeWarning: Channel locations not available. Disabling spatial colors.\n",
      "  return plot_raw_psd(raw, tmin=tmin, fmin=fmin, fmax=fmax, **kwargs).axes\n",
      "/home/rgast/PycharmProjects/PyRates/pyrates/utility/visualization.py:508: RuntimeWarning: Channel locations not available. Disabling spatial colors.\n",
      "  return plot_raw_psd(raw, tmin=tmin, fmin=fmin, fmax=fmax, **kwargs).axes\n"
     ]
    },
    {
     "name": "stdout",
     "output_type": "stream",
     "text": [
      "Creating RawArray with float64 data, n_channels=1, n_times=10000\n",
      "    Range : 0 ... 9999 =      0.000 ...     9.999 secs\n",
      "Ready.\n",
      "Effective window size : 2.048 (s)\n",
      "Need more than one channel to make topography for eeg. Disabling interactivity.\n",
      "Creating RawArray with float64 data, n_channels=1, n_times=10000\n",
      "    Range : 0 ... 9999 =      0.000 ...     9.999 secs\n",
      "Ready.\n",
      "Effective window size : 2.048 (s)\n",
      "Need more than one channel to make topography for eeg. Disabling interactivity.\n",
      "Creating RawArray with float64 data, n_channels=1, n_times=10000\n"
     ]
    },
    {
     "name": "stderr",
     "output_type": "stream",
     "text": [
      "/home/rgast/PycharmProjects/PyRates/pyrates/utility/visualization.py:508: RuntimeWarning: Channel locations not available. Disabling spatial colors.\n",
      "  return plot_raw_psd(raw, tmin=tmin, fmin=fmin, fmax=fmax, **kwargs).axes\n",
      "/home/rgast/PycharmProjects/PyRates/pyrates/utility/visualization.py:508: RuntimeWarning: Channel locations not available. Disabling spatial colors.\n",
      "  return plot_raw_psd(raw, tmin=tmin, fmin=fmin, fmax=fmax, **kwargs).axes\n"
     ]
    },
    {
     "name": "stdout",
     "output_type": "stream",
     "text": [
      "    Range : 0 ... 9999 =      0.000 ...     9.999 secs\n",
      "Ready.\n",
      "Effective window size : 2.048 (s)\n",
      "Need more than one channel to make topography for eeg. Disabling interactivity.\n",
      "Creating RawArray with float64 data, n_channels=1, n_times=10000\n",
      "    Range : 0 ... 9999 =      0.000 ...     9.999 secs\n",
      "Ready.\n",
      "Effective window size : 2.048 (s)\n",
      "Need more than one channel to make topography for eeg. Disabling interactivity.\n",
      "Creating RawArray with float64 data, n_channels=1, n_times=10000\n",
      "    Range : 0 ... 9999 =      0.000 ...     9.999 secs\n",
      "Ready.\n",
      "Effective window size : 2.048 (s)\n",
      "Need more than one channel to make topography for eeg. Disabling interactivity.\n"
     ]
    },
    {
     "name": "stderr",
     "output_type": "stream",
     "text": [
      "/home/rgast/PycharmProjects/PyRates/pyrates/utility/visualization.py:508: RuntimeWarning: Channel locations not available. Disabling spatial colors.\n",
      "  return plot_raw_psd(raw, tmin=tmin, fmin=fmin, fmax=fmax, **kwargs).axes\n",
      "/home/rgast/PycharmProjects/PyRates/pyrates/utility/visualization.py:508: RuntimeWarning: Channel locations not available. Disabling spatial colors.\n",
      "  return plot_raw_psd(raw, tmin=tmin, fmin=fmin, fmax=fmax, **kwargs).axes\n",
      "/home/rgast/PycharmProjects/PyRates/pyrates/utility/visualization.py:508: RuntimeWarning: Channel locations not available. Disabling spatial colors.\n",
      "  return plot_raw_psd(raw, tmin=tmin, fmin=fmin, fmax=fmax, **kwargs).axes\n"
     ]
    },
    {
     "name": "stdout",
     "output_type": "stream",
     "text": [
      "Creating RawArray with float64 data, n_channels=1, n_times=10000\n",
      "    Range : 0 ... 9999 =      0.000 ...     9.999 secs\n",
      "Ready.\n",
      "Effective window size : 2.048 (s)\n",
      "Need more than one channel to make topography for eeg. Disabling interactivity.\n",
      "Creating RawArray with float64 data, n_channels=1, n_times=10000\n",
      "    Range : 0 ... 9999 =      0.000 ...     9.999 secs\n",
      "Ready.\n",
      "Effective window size : 2.048 (s)\n",
      "Need more than one channel to make topography for eeg. Disabling interactivity.\n"
     ]
    },
    {
     "name": "stderr",
     "output_type": "stream",
     "text": [
      "/home/rgast/PycharmProjects/PyRates/pyrates/utility/visualization.py:508: RuntimeWarning: Channel locations not available. Disabling spatial colors.\n",
      "  return plot_raw_psd(raw, tmin=tmin, fmin=fmin, fmax=fmax, **kwargs).axes\n",
      "/home/rgast/PycharmProjects/PyRates/pyrates/utility/visualization.py:508: RuntimeWarning: Channel locations not available. Disabling spatial colors.\n",
      "  return plot_raw_psd(raw, tmin=tmin, fmin=fmin, fmax=fmax, **kwargs).axes\n"
     ]
    },
    {
     "name": "stdout",
     "output_type": "stream",
     "text": [
      "Creating RawArray with float64 data, n_channels=1, n_times=10000\n",
      "    Range : 0 ... 9999 =      0.000 ...     9.999 secs\n",
      "Ready.\n",
      "Effective window size : 2.048 (s)\n",
      "Need more than one channel to make topography for eeg. Disabling interactivity.\n",
      "Creating RawArray with float64 data, n_channels=1, n_times=10000\n",
      "    Range : 0 ... 9999 =      0.000 ...     9.999 secs\n",
      "Ready.\n",
      "Effective window size : 2.048 (s)\n",
      "Need more than one channel to make topography for eeg. Disabling interactivity.\n",
      "Creating RawArray with float64 data, n_channels=1, n_times=10000\n"
     ]
    },
    {
     "name": "stderr",
     "output_type": "stream",
     "text": [
      "/home/rgast/PycharmProjects/PyRates/pyrates/utility/visualization.py:508: RuntimeWarning: Channel locations not available. Disabling spatial colors.\n",
      "  return plot_raw_psd(raw, tmin=tmin, fmin=fmin, fmax=fmax, **kwargs).axes\n",
      "/home/rgast/PycharmProjects/PyRates/pyrates/utility/visualization.py:508: RuntimeWarning: Channel locations not available. Disabling spatial colors.\n",
      "  return plot_raw_psd(raw, tmin=tmin, fmin=fmin, fmax=fmax, **kwargs).axes\n"
     ]
    },
    {
     "name": "stdout",
     "output_type": "stream",
     "text": [
      "    Range : 0 ... 9999 =      0.000 ...     9.999 secs\n",
      "Ready.\n",
      "Effective window size : 2.048 (s)\n",
      "Need more than one channel to make topography for eeg. Disabling interactivity.\n",
      "Creating RawArray with float64 data, n_channels=1, n_times=10000\n",
      "    Range : 0 ... 9999 =      0.000 ...     9.999 secs\n",
      "Ready.\n",
      "Effective window size : 2.048 (s)\n",
      "Need more than one channel to make topography for eeg. Disabling interactivity.\n",
      "Creating RawArray with float64 data, n_channels=1, n_times=10000\n",
      "    Range : 0 ... 9999 =      0.000 ...     9.999 secs\n",
      "Ready.\n",
      "Effective window size : 2.048 (s)\n",
      "Need more than one channel to make topography for eeg. Disabling interactivity.\n"
     ]
    },
    {
     "name": "stderr",
     "output_type": "stream",
     "text": [
      "/home/rgast/PycharmProjects/PyRates/pyrates/utility/visualization.py:508: RuntimeWarning: Channel locations not available. Disabling spatial colors.\n",
      "  return plot_raw_psd(raw, tmin=tmin, fmin=fmin, fmax=fmax, **kwargs).axes\n",
      "/home/rgast/PycharmProjects/PyRates/pyrates/utility/visualization.py:508: RuntimeWarning: Channel locations not available. Disabling spatial colors.\n",
      "  return plot_raw_psd(raw, tmin=tmin, fmin=fmin, fmax=fmax, **kwargs).axes\n",
      "/home/rgast/PycharmProjects/PyRates/pyrates/utility/visualization.py:508: RuntimeWarning: Channel locations not available. Disabling spatial colors.\n",
      "  return plot_raw_psd(raw, tmin=tmin, fmin=fmin, fmax=fmax, **kwargs).axes\n"
     ]
    },
    {
     "name": "stdout",
     "output_type": "stream",
     "text": [
      "Creating RawArray with float64 data, n_channels=1, n_times=10000\n",
      "    Range : 0 ... 9999 =      0.000 ...     9.999 secs\n",
      "Ready.\n",
      "Effective window size : 2.048 (s)\n",
      "Need more than one channel to make topography for eeg. Disabling interactivity.\n",
      "Creating RawArray with float64 data, n_channels=1, n_times=10000\n",
      "    Range : 0 ... 9999 =      0.000 ...     9.999 secs\n",
      "Ready.\n",
      "Effective window size : 2.048 (s)\n",
      "Need more than one channel to make topography for eeg. Disabling interactivity.\n",
      "Creating RawArray with float64 data, n_channels=1, n_times=10000\n",
      "    Range : 0 ... 9999 =      0.000 ...     9.999 secs\n",
      "Ready.\n"
     ]
    },
    {
     "name": "stderr",
     "output_type": "stream",
     "text": [
      "/home/rgast/PycharmProjects/PyRates/pyrates/utility/visualization.py:508: RuntimeWarning: Channel locations not available. Disabling spatial colors.\n",
      "  return plot_raw_psd(raw, tmin=tmin, fmin=fmin, fmax=fmax, **kwargs).axes\n",
      "/home/rgast/PycharmProjects/PyRates/pyrates/utility/visualization.py:508: RuntimeWarning: Channel locations not available. Disabling spatial colors.\n",
      "  return plot_raw_psd(raw, tmin=tmin, fmin=fmin, fmax=fmax, **kwargs).axes\n"
     ]
    },
    {
     "name": "stdout",
     "output_type": "stream",
     "text": [
      "Effective window size : 2.048 (s)\n",
      "Need more than one channel to make topography for eeg. Disabling interactivity.\n",
      "Creating RawArray with float64 data, n_channels=1, n_times=10000\n",
      "    Range : 0 ... 9999 =      0.000 ...     9.999 secs\n",
      "Ready.\n",
      "Effective window size : 2.048 (s)\n",
      "Need more than one channel to make topography for eeg. Disabling interactivity.\n",
      "Creating RawArray with float64 data, n_channels=1, n_times=10000\n",
      "    Range : 0 ... 9999 =      0.000 ...     9.999 secs\n",
      "Ready.\n",
      "Effective window size : 2.048 (s)\n",
      "Need more than one channel to make topography for eeg. Disabling interactivity.\n"
     ]
    },
    {
     "name": "stderr",
     "output_type": "stream",
     "text": [
      "/home/rgast/PycharmProjects/PyRates/pyrates/utility/visualization.py:508: RuntimeWarning: Channel locations not available. Disabling spatial colors.\n",
      "  return plot_raw_psd(raw, tmin=tmin, fmin=fmin, fmax=fmax, **kwargs).axes\n",
      "/home/rgast/PycharmProjects/PyRates/pyrates/utility/visualization.py:508: RuntimeWarning: Channel locations not available. Disabling spatial colors.\n",
      "  return plot_raw_psd(raw, tmin=tmin, fmin=fmin, fmax=fmax, **kwargs).axes\n",
      "/home/rgast/PycharmProjects/PyRates/pyrates/utility/visualization.py:508: RuntimeWarning: Channel locations not available. Disabling spatial colors.\n",
      "  return plot_raw_psd(raw, tmin=tmin, fmin=fmin, fmax=fmax, **kwargs).axes\n"
     ]
    },
    {
     "name": "stdout",
     "output_type": "stream",
     "text": [
      "Creating RawArray with float64 data, n_channels=1, n_times=10000\n",
      "    Range : 0 ... 9999 =      0.000 ...     9.999 secs\n",
      "Ready.\n",
      "Effective window size : 2.048 (s)\n",
      "Need more than one channel to make topography for eeg. Disabling interactivity.\n",
      "Creating RawArray with float64 data, n_channels=1, n_times=10000\n",
      "    Range : 0 ... 9999 =      0.000 ...     9.999 secs\n",
      "Ready.\n",
      "Effective window size : 2.048 (s)\n",
      "Need more than one channel to make topography for eeg. Disabling interactivity.\n",
      "Creating RawArray with float64 data, n_channels=1, n_times=10000\n",
      "    Range : 0 ... 9999 =      0.000 ...     9.999 secs\n",
      "Ready.\n",
      "Effective window size : 2.048 (s)\n"
     ]
    },
    {
     "name": "stderr",
     "output_type": "stream",
     "text": [
      "/home/rgast/PycharmProjects/PyRates/pyrates/utility/visualization.py:508: RuntimeWarning: Channel locations not available. Disabling spatial colors.\n",
      "  return plot_raw_psd(raw, tmin=tmin, fmin=fmin, fmax=fmax, **kwargs).axes\n",
      "/home/rgast/PycharmProjects/PyRates/pyrates/utility/visualization.py:508: RuntimeWarning: Channel locations not available. Disabling spatial colors.\n",
      "  return plot_raw_psd(raw, tmin=tmin, fmin=fmin, fmax=fmax, **kwargs).axes\n"
     ]
    },
    {
     "name": "stdout",
     "output_type": "stream",
     "text": [
      "Need more than one channel to make topography for eeg. Disabling interactivity.\n"
     ]
    },
    {
     "name": "stderr",
     "output_type": "stream",
     "text": [
      "/home/rgast/PycharmProjects/PyRates/pyrates/utility/visualization.py:508: RuntimeWarning: Channel locations not available. Disabling spatial colors.\n",
      "  return plot_raw_psd(raw, tmin=tmin, fmin=fmin, fmax=fmax, **kwargs).axes\n"
     ]
    },
    {
     "name": "stdout",
     "output_type": "stream",
     "text": [
      "Creating RawArray with float64 data, n_channels=1, n_times=10000\n",
      "    Range : 0 ... 9999 =      0.000 ...     9.999 secs\n",
      "Ready.\n",
      "Effective window size : 2.048 (s)\n",
      "Need more than one channel to make topography for eeg. Disabling interactivity.\n",
      "Creating RawArray with float64 data, n_channels=1, n_times=10000\n",
      "    Range : 0 ... 9999 =      0.000 ...     9.999 secs\n",
      "Ready.\n",
      "Effective window size : 2.048 (s)\n",
      "Need more than one channel to make topography for eeg. Disabling interactivity.\n",
      "Creating RawArray with float64 data, n_channels=1, n_times=10000\n"
     ]
    },
    {
     "name": "stderr",
     "output_type": "stream",
     "text": [
      "/home/rgast/PycharmProjects/PyRates/pyrates/utility/visualization.py:508: RuntimeWarning: Channel locations not available. Disabling spatial colors.\n",
      "  return plot_raw_psd(raw, tmin=tmin, fmin=fmin, fmax=fmax, **kwargs).axes\n",
      "/home/rgast/PycharmProjects/PyRates/pyrates/utility/visualization.py:508: RuntimeWarning: Channel locations not available. Disabling spatial colors.\n",
      "  return plot_raw_psd(raw, tmin=tmin, fmin=fmin, fmax=fmax, **kwargs).axes\n"
     ]
    },
    {
     "name": "stdout",
     "output_type": "stream",
     "text": [
      "    Range : 0 ... 9999 =      0.000 ...     9.999 secs\n",
      "Ready.\n",
      "Effective window size : 2.048 (s)\n",
      "Need more than one channel to make topography for eeg. Disabling interactivity.\n",
      "Creating RawArray with float64 data, n_channels=1, n_times=10000\n",
      "    Range : 0 ... 9999 =      0.000 ...     9.999 secs\n",
      "Ready.\n",
      "Effective window size : 2.048 (s)\n",
      "Need more than one channel to make topography for eeg. Disabling interactivity.\n",
      "Creating RawArray with float64 data, n_channels=1, n_times=10000\n",
      "    Range : 0 ... 9999 =      0.000 ...     9.999 secs\n",
      "Ready.\n",
      "Effective window size : 2.048 (s)\n",
      "Need more than one channel to make topography for eeg. Disabling interactivity.\n"
     ]
    },
    {
     "name": "stderr",
     "output_type": "stream",
     "text": [
      "/home/rgast/PycharmProjects/PyRates/pyrates/utility/visualization.py:508: RuntimeWarning: Channel locations not available. Disabling spatial colors.\n",
      "  return plot_raw_psd(raw, tmin=tmin, fmin=fmin, fmax=fmax, **kwargs).axes\n",
      "/home/rgast/PycharmProjects/PyRates/pyrates/utility/visualization.py:508: RuntimeWarning: Channel locations not available. Disabling spatial colors.\n",
      "  return plot_raw_psd(raw, tmin=tmin, fmin=fmin, fmax=fmax, **kwargs).axes\n",
      "/home/rgast/PycharmProjects/PyRates/pyrates/utility/visualization.py:508: RuntimeWarning: Channel locations not available. Disabling spatial colors.\n",
      "  return plot_raw_psd(raw, tmin=tmin, fmin=fmin, fmax=fmax, **kwargs).axes\n"
     ]
    },
    {
     "name": "stdout",
     "output_type": "stream",
     "text": [
      "Creating RawArray with float64 data, n_channels=1, n_times=10000\n",
      "    Range : 0 ... 9999 =      0.000 ...     9.999 secs\n",
      "Ready.\n",
      "Effective window size : 2.048 (s)\n",
      "Need more than one channel to make topography for eeg. Disabling interactivity.\n",
      "Creating RawArray with float64 data, n_channels=1, n_times=10000\n",
      "    Range : 0 ... 9999 =      0.000 ...     9.999 secs\n",
      "Ready.\n",
      "Effective window size : 2.048 (s)\n",
      "Need more than one channel to make topography for eeg. Disabling interactivity.\n",
      "Creating RawArray with float64 data, n_channels=1, n_times=10000\n",
      "    Range : 0 ... 9999 =      0.000 ...     9.999 secs\n",
      "Ready.\n",
      "Effective window size : 2.048 (s)\n",
      "Need more than one channel to make topography for eeg. Disabling interactivity.\n"
     ]
    },
    {
     "name": "stderr",
     "output_type": "stream",
     "text": [
      "/home/rgast/PycharmProjects/PyRates/pyrates/utility/visualization.py:508: RuntimeWarning: Channel locations not available. Disabling spatial colors.\n",
      "  return plot_raw_psd(raw, tmin=tmin, fmin=fmin, fmax=fmax, **kwargs).axes\n",
      "/home/rgast/PycharmProjects/PyRates/pyrates/utility/visualization.py:508: RuntimeWarning: Channel locations not available. Disabling spatial colors.\n",
      "  return plot_raw_psd(raw, tmin=tmin, fmin=fmin, fmax=fmax, **kwargs).axes\n",
      "/home/rgast/PycharmProjects/PyRates/pyrates/utility/visualization.py:508: RuntimeWarning: Channel locations not available. Disabling spatial colors.\n",
      "  return plot_raw_psd(raw, tmin=tmin, fmin=fmin, fmax=fmax, **kwargs).axes\n"
     ]
    },
    {
     "name": "stdout",
     "output_type": "stream",
     "text": [
      "Creating RawArray with float64 data, n_channels=1, n_times=10000\n",
      "    Range : 0 ... 9999 =      0.000 ...     9.999 secs\n",
      "Ready.\n",
      "Effective window size : 2.048 (s)\n",
      "Need more than one channel to make topography for eeg. Disabling interactivity.\n",
      "Creating RawArray with float64 data, n_channels=1, n_times=10000\n",
      "    Range : 0 ... 9999 =      0.000 ...     9.999 secs\n",
      "Ready.\n",
      "Effective window size : 2.048 (s)\n",
      "Need more than one channel to make topography for eeg. Disabling interactivity.\n",
      "Creating RawArray with float64 data, n_channels=1, n_times=10000\n",
      "    Range : 0 ... 9999 =      0.000 ...     9.999 secs\n",
      "Ready.\n",
      "Effective window size : 2.048 (s)\n",
      "Need more than one channel to make topography for eeg. Disabling interactivity.\n"
     ]
    },
    {
     "name": "stderr",
     "output_type": "stream",
     "text": [
      "/home/rgast/PycharmProjects/PyRates/pyrates/utility/visualization.py:508: RuntimeWarning: Channel locations not available. Disabling spatial colors.\n",
      "  return plot_raw_psd(raw, tmin=tmin, fmin=fmin, fmax=fmax, **kwargs).axes\n",
      "/home/rgast/PycharmProjects/PyRates/pyrates/utility/visualization.py:508: RuntimeWarning: Channel locations not available. Disabling spatial colors.\n",
      "  return plot_raw_psd(raw, tmin=tmin, fmin=fmin, fmax=fmax, **kwargs).axes\n",
      "/home/rgast/PycharmProjects/PyRates/pyrates/utility/visualization.py:508: RuntimeWarning: Channel locations not available. Disabling spatial colors.\n",
      "  return plot_raw_psd(raw, tmin=tmin, fmin=fmin, fmax=fmax, **kwargs).axes\n"
     ]
    },
    {
     "name": "stdout",
     "output_type": "stream",
     "text": [
      "Creating RawArray with float64 data, n_channels=1, n_times=10000\n",
      "    Range : 0 ... 9999 =      0.000 ...     9.999 secs\n",
      "Ready.\n",
      "Effective window size : 2.048 (s)\n",
      "Need more than one channel to make topography for eeg. Disabling interactivity.\n",
      "Creating RawArray with float64 data, n_channels=1, n_times=10000\n",
      "    Range : 0 ... 9999 =      0.000 ...     9.999 secs\n",
      "Ready.\n",
      "Effective window size : 2.048 (s)\n",
      "Need more than one channel to make topography for eeg. Disabling interactivity.\n",
      "Creating RawArray with float64 data, n_channels=1, n_times=10000\n",
      "    Range : 0 ... 9999 =      0.000 ...     9.999 secs\n",
      "Ready.\n",
      "Effective window size : 2.048 (s)\n",
      "Need more than one channel to make topography for eeg. Disabling interactivity.\n"
     ]
    },
    {
     "name": "stderr",
     "output_type": "stream",
     "text": [
      "/home/rgast/PycharmProjects/PyRates/pyrates/utility/visualization.py:508: RuntimeWarning: Channel locations not available. Disabling spatial colors.\n",
      "  return plot_raw_psd(raw, tmin=tmin, fmin=fmin, fmax=fmax, **kwargs).axes\n",
      "/home/rgast/PycharmProjects/PyRates/pyrates/utility/visualization.py:508: RuntimeWarning: Channel locations not available. Disabling spatial colors.\n",
      "  return plot_raw_psd(raw, tmin=tmin, fmin=fmin, fmax=fmax, **kwargs).axes\n",
      "/home/rgast/PycharmProjects/PyRates/pyrates/utility/visualization.py:508: RuntimeWarning: Channel locations not available. Disabling spatial colors.\n",
      "  return plot_raw_psd(raw, tmin=tmin, fmin=fmin, fmax=fmax, **kwargs).axes\n"
     ]
    },
    {
     "name": "stdout",
     "output_type": "stream",
     "text": [
      "Creating RawArray with float64 data, n_channels=1, n_times=10000\n",
      "    Range : 0 ... 9999 =      0.000 ...     9.999 secs\n",
      "Ready.\n",
      "Effective window size : 2.048 (s)\n",
      "Need more than one channel to make topography for eeg. Disabling interactivity.\n",
      "Creating RawArray with float64 data, n_channels=1, n_times=10000\n",
      "    Range : 0 ... 9999 =      0.000 ...     9.999 secs\n",
      "Ready.\n",
      "Effective window size : 2.048 (s)\n",
      "Need more than one channel to make topography for eeg. Disabling interactivity.\n",
      "Creating RawArray with float64 data, n_channels=1, n_times=10000\n",
      "    Range : 0 ... 9999 =      0.000 ...     9.999 secs\n",
      "Ready.\n",
      "Effective window size : 2.048 (s)\n",
      "Need more than one channel to make topography for eeg. Disabling interactivity.\n"
     ]
    },
    {
     "name": "stderr",
     "output_type": "stream",
     "text": [
      "/home/rgast/PycharmProjects/PyRates/pyrates/utility/visualization.py:508: RuntimeWarning: Channel locations not available. Disabling spatial colors.\n",
      "  return plot_raw_psd(raw, tmin=tmin, fmin=fmin, fmax=fmax, **kwargs).axes\n",
      "/home/rgast/PycharmProjects/PyRates/pyrates/utility/visualization.py:508: RuntimeWarning: Channel locations not available. Disabling spatial colors.\n",
      "  return plot_raw_psd(raw, tmin=tmin, fmin=fmin, fmax=fmax, **kwargs).axes\n",
      "/home/rgast/PycharmProjects/PyRates/pyrates/utility/visualization.py:508: RuntimeWarning: Channel locations not available. Disabling spatial colors.\n",
      "  return plot_raw_psd(raw, tmin=tmin, fmin=fmin, fmax=fmax, **kwargs).axes\n"
     ]
    },
    {
     "name": "stdout",
     "output_type": "stream",
     "text": [
      "Creating RawArray with float64 data, n_channels=1, n_times=10000\n",
      "    Range : 0 ... 9999 =      0.000 ...     9.999 secs\n",
      "Ready.\n",
      "Effective window size : 2.048 (s)\n",
      "Need more than one channel to make topography for eeg. Disabling interactivity.\n",
      "Creating RawArray with float64 data, n_channels=1, n_times=10000\n",
      "    Range : 0 ... 9999 =      0.000 ...     9.999 secs\n",
      "Ready.\n",
      "Effective window size : 2.048 (s)\n",
      "Need more than one channel to make topography for eeg. Disabling interactivity.\n",
      "Creating RawArray with float64 data, n_channels=1, n_times=10000\n",
      "    Range : 0 ... 9999 =      0.000 ...     9.999 secs\n",
      "Ready.\n",
      "Effective window size : 2.048 (s)\n"
     ]
    },
    {
     "name": "stderr",
     "output_type": "stream",
     "text": [
      "/home/rgast/PycharmProjects/PyRates/pyrates/utility/visualization.py:508: RuntimeWarning: Channel locations not available. Disabling spatial colors.\n",
      "  return plot_raw_psd(raw, tmin=tmin, fmin=fmin, fmax=fmax, **kwargs).axes\n",
      "/home/rgast/PycharmProjects/PyRates/pyrates/utility/visualization.py:508: RuntimeWarning: Channel locations not available. Disabling spatial colors.\n",
      "  return plot_raw_psd(raw, tmin=tmin, fmin=fmin, fmax=fmax, **kwargs).axes\n"
     ]
    },
    {
     "name": "stdout",
     "output_type": "stream",
     "text": [
      "Need more than one channel to make topography for eeg. Disabling interactivity.\n",
      "Creating RawArray with float64 data, n_channels=1, n_times=10000\n",
      "    Range : 0 ... 9999 =      0.000 ...     9.999 secs\n",
      "Ready.\n",
      "Effective window size : 2.048 (s)\n",
      "Need more than one channel to make topography for eeg. Disabling interactivity.\n",
      "Creating RawArray with float64 data, n_channels=1, n_times=10000\n",
      "    Range : 0 ... 9999 =      0.000 ...     9.999 secs\n",
      "Ready.\n",
      "Effective window size : 2.048 (s)\n",
      "Need more than one channel to make topography for eeg. Disabling interactivity.\n"
     ]
    },
    {
     "name": "stderr",
     "output_type": "stream",
     "text": [
      "/home/rgast/PycharmProjects/PyRates/pyrates/utility/visualization.py:508: RuntimeWarning: Channel locations not available. Disabling spatial colors.\n",
      "  return plot_raw_psd(raw, tmin=tmin, fmin=fmin, fmax=fmax, **kwargs).axes\n",
      "/home/rgast/PycharmProjects/PyRates/pyrates/utility/visualization.py:508: RuntimeWarning: Channel locations not available. Disabling spatial colors.\n",
      "  return plot_raw_psd(raw, tmin=tmin, fmin=fmin, fmax=fmax, **kwargs).axes\n",
      "/home/rgast/PycharmProjects/PyRates/pyrates/utility/visualization.py:508: RuntimeWarning: Channel locations not available. Disabling spatial colors.\n",
      "  return plot_raw_psd(raw, tmin=tmin, fmin=fmin, fmax=fmax, **kwargs).axes\n"
     ]
    },
    {
     "name": "stdout",
     "output_type": "stream",
     "text": [
      "Creating RawArray with float64 data, n_channels=1, n_times=10000\n",
      "    Range : 0 ... 9999 =      0.000 ...     9.999 secs\n",
      "Ready.\n",
      "Effective window size : 2.048 (s)\n",
      "Need more than one channel to make topography for eeg. Disabling interactivity.\n",
      "Creating RawArray with float64 data, n_channels=1, n_times=10000\n",
      "    Range : 0 ... 9999 =      0.000 ...     9.999 secs\n",
      "Ready.\n",
      "Effective window size : 2.048 (s)\n",
      "Need more than one channel to make topography for eeg. Disabling interactivity.\n",
      "Creating RawArray with float64 data, n_channels=1, n_times=10000\n",
      "    Range : 0 ... 9999 =      0.000 ...     9.999 secs\n",
      "Ready.\n",
      "Effective window size : 2.048 (s)\n"
     ]
    },
    {
     "name": "stderr",
     "output_type": "stream",
     "text": [
      "/home/rgast/PycharmProjects/PyRates/pyrates/utility/visualization.py:508: RuntimeWarning: Channel locations not available. Disabling spatial colors.\n",
      "  return plot_raw_psd(raw, tmin=tmin, fmin=fmin, fmax=fmax, **kwargs).axes\n",
      "/home/rgast/PycharmProjects/PyRates/pyrates/utility/visualization.py:508: RuntimeWarning: Channel locations not available. Disabling spatial colors.\n",
      "  return plot_raw_psd(raw, tmin=tmin, fmin=fmin, fmax=fmax, **kwargs).axes\n"
     ]
    },
    {
     "name": "stdout",
     "output_type": "stream",
     "text": [
      "Need more than one channel to make topography for eeg. Disabling interactivity.\n",
      "Creating RawArray with float64 data, n_channels=1, n_times=10000\n",
      "    Range : 0 ... 9999 =      0.000 ...     9.999 secs\n",
      "Ready.\n",
      "Effective window size : 2.048 (s)\n",
      "Need more than one channel to make topography for eeg. Disabling interactivity.\n",
      "Creating RawArray with float64 data, n_channels=1, n_times=10000\n",
      "    Range : 0 ... 9999 =      0.000 ...     9.999 secs\n",
      "Ready.\n",
      "Effective window size : 2.048 (s)\n",
      "Need more than one channel to make topography for eeg. Disabling interactivity.\n"
     ]
    },
    {
     "name": "stderr",
     "output_type": "stream",
     "text": [
      "/home/rgast/PycharmProjects/PyRates/pyrates/utility/visualization.py:508: RuntimeWarning: Channel locations not available. Disabling spatial colors.\n",
      "  return plot_raw_psd(raw, tmin=tmin, fmin=fmin, fmax=fmax, **kwargs).axes\n",
      "/home/rgast/PycharmProjects/PyRates/pyrates/utility/visualization.py:508: RuntimeWarning: Channel locations not available. Disabling spatial colors.\n",
      "  return plot_raw_psd(raw, tmin=tmin, fmin=fmin, fmax=fmax, **kwargs).axes\n",
      "/home/rgast/PycharmProjects/PyRates/pyrates/utility/visualization.py:508: RuntimeWarning: Channel locations not available. Disabling spatial colors.\n",
      "  return plot_raw_psd(raw, tmin=tmin, fmin=fmin, fmax=fmax, **kwargs).axes\n"
     ]
    },
    {
     "name": "stdout",
     "output_type": "stream",
     "text": [
      "Creating RawArray with float64 data, n_channels=1, n_times=10000\n",
      "    Range : 0 ... 9999 =      0.000 ...     9.999 secs\n",
      "Ready.\n",
      "Effective window size : 2.048 (s)\n",
      "Need more than one channel to make topography for eeg. Disabling interactivity.\n",
      "Creating RawArray with float64 data, n_channels=1, n_times=10000\n",
      "    Range : 0 ... 9999 =      0.000 ...     9.999 secs\n",
      "Ready.\n",
      "Effective window size : 2.048 (s)\n",
      "Need more than one channel to make topography for eeg. Disabling interactivity.\n",
      "Creating RawArray with float64 data, n_channels=1, n_times=10000\n",
      "    Range : 0 ... 9999 =      0.000 ...     9.999 secs\n",
      "Ready.\n",
      "Effective window size : 2.048 (s)\n",
      "Need more than one channel to make topography for eeg. Disabling interactivity.\n"
     ]
    },
    {
     "name": "stderr",
     "output_type": "stream",
     "text": [
      "/home/rgast/PycharmProjects/PyRates/pyrates/utility/visualization.py:508: RuntimeWarning: Channel locations not available. Disabling spatial colors.\n",
      "  return plot_raw_psd(raw, tmin=tmin, fmin=fmin, fmax=fmax, **kwargs).axes\n",
      "/home/rgast/PycharmProjects/PyRates/pyrates/utility/visualization.py:508: RuntimeWarning: Channel locations not available. Disabling spatial colors.\n",
      "  return plot_raw_psd(raw, tmin=tmin, fmin=fmin, fmax=fmax, **kwargs).axes\n",
      "/home/rgast/PycharmProjects/PyRates/pyrates/utility/visualization.py:508: RuntimeWarning: Channel locations not available. Disabling spatial colors.\n",
      "  return plot_raw_psd(raw, tmin=tmin, fmin=fmin, fmax=fmax, **kwargs).axes\n"
     ]
    },
    {
     "name": "stdout",
     "output_type": "stream",
     "text": [
      "Creating RawArray with float64 data, n_channels=1, n_times=10000\n",
      "    Range : 0 ... 9999 =      0.000 ...     9.999 secs\n",
      "Ready.\n",
      "Effective window size : 2.048 (s)\n",
      "Need more than one channel to make topography for eeg. Disabling interactivity.\n",
      "Creating RawArray with float64 data, n_channels=1, n_times=10000\n",
      "    Range : 0 ... 9999 =      0.000 ...     9.999 secs\n",
      "Ready.\n",
      "Effective window size : 2.048 (s)\n",
      "Need more than one channel to make topography for eeg. Disabling interactivity.\n",
      "Creating RawArray with float64 data, n_channels=1, n_times=10000\n",
      "    Range : 0 ... 9999 =      0.000 ...     9.999 secs\n",
      "Ready.\n",
      "Effective window size : 2.048 (s)\n",
      "Need more than one channel to make topography for eeg. Disabling interactivity.\n"
     ]
    },
    {
     "name": "stderr",
     "output_type": "stream",
     "text": [
      "/home/rgast/PycharmProjects/PyRates/pyrates/utility/visualization.py:508: RuntimeWarning: Channel locations not available. Disabling spatial colors.\n",
      "  return plot_raw_psd(raw, tmin=tmin, fmin=fmin, fmax=fmax, **kwargs).axes\n",
      "/home/rgast/PycharmProjects/PyRates/pyrates/utility/visualization.py:508: RuntimeWarning: Channel locations not available. Disabling spatial colors.\n",
      "  return plot_raw_psd(raw, tmin=tmin, fmin=fmin, fmax=fmax, **kwargs).axes\n",
      "/home/rgast/PycharmProjects/PyRates/pyrates/utility/visualization.py:508: RuntimeWarning: Channel locations not available. Disabling spatial colors.\n",
      "  return plot_raw_psd(raw, tmin=tmin, fmin=fmin, fmax=fmax, **kwargs).axes\n"
     ]
    },
    {
     "name": "stdout",
     "output_type": "stream",
     "text": [
      "Creating RawArray with float64 data, n_channels=1, n_times=10000\n",
      "    Range : 0 ... 9999 =      0.000 ...     9.999 secs\n",
      "Ready.\n",
      "Effective window size : 2.048 (s)\n",
      "Need more than one channel to make topography for eeg. Disabling interactivity.\n",
      "Creating RawArray with float64 data, n_channels=1, n_times=10000\n",
      "    Range : 0 ... 9999 =      0.000 ...     9.999 secs\n",
      "Ready.\n",
      "Effective window size : 2.048 (s)\n",
      "Need more than one channel to make topography for eeg. Disabling interactivity.\n",
      "Creating RawArray with float64 data, n_channels=1, n_times=10000\n",
      "    Range : 0 ... 9999 =      0.000 ...     9.999 secs\n",
      "Ready.\n",
      "Effective window size : 2.048 (s)\n",
      "Need more than one channel to make topography for eeg. Disabling interactivity.\n"
     ]
    },
    {
     "name": "stderr",
     "output_type": "stream",
     "text": [
      "/home/rgast/PycharmProjects/PyRates/pyrates/utility/visualization.py:508: RuntimeWarning: Channel locations not available. Disabling spatial colors.\n",
      "  return plot_raw_psd(raw, tmin=tmin, fmin=fmin, fmax=fmax, **kwargs).axes\n",
      "/home/rgast/PycharmProjects/PyRates/pyrates/utility/visualization.py:508: RuntimeWarning: Channel locations not available. Disabling spatial colors.\n",
      "  return plot_raw_psd(raw, tmin=tmin, fmin=fmin, fmax=fmax, **kwargs).axes\n",
      "/home/rgast/PycharmProjects/PyRates/pyrates/utility/visualization.py:508: RuntimeWarning: Channel locations not available. Disabling spatial colors.\n",
      "  return plot_raw_psd(raw, tmin=tmin, fmin=fmin, fmax=fmax, **kwargs).axes\n"
     ]
    },
    {
     "name": "stdout",
     "output_type": "stream",
     "text": [
      "Creating RawArray with float64 data, n_channels=1, n_times=10000\n",
      "    Range : 0 ... 9999 =      0.000 ...     9.999 secs\n",
      "Ready.\n",
      "Effective window size : 2.048 (s)\n",
      "Need more than one channel to make topography for eeg. Disabling interactivity.\n",
      "Creating RawArray with float64 data, n_channels=1, n_times=10000\n"
     ]
    },
    {
     "name": "stderr",
     "output_type": "stream",
     "text": [
      "/home/rgast/PycharmProjects/PyRates/pyrates/utility/visualization.py:508: RuntimeWarning: Channel locations not available. Disabling spatial colors.\n",
      "  return plot_raw_psd(raw, tmin=tmin, fmin=fmin, fmax=fmax, **kwargs).axes\n"
     ]
    },
    {
     "name": "stdout",
     "output_type": "stream",
     "text": [
      "    Range : 0 ... 9999 =      0.000 ...     9.999 secs\n",
      "Ready.\n",
      "Effective window size : 2.048 (s)\n",
      "Need more than one channel to make topography for eeg. Disabling interactivity.\n",
      "Creating RawArray with float64 data, n_channels=1, n_times=10000\n",
      "    Range : 0 ... 9999 =      0.000 ...     9.999 secs\n",
      "Ready.\n",
      "Effective window size : 2.048 (s)\n",
      "Need more than one channel to make topography for eeg. Disabling interactivity.\n",
      "Creating RawArray with float64 data, n_channels=1, n_times=10000\n",
      "    Range : 0 ... 9999 =      0.000 ...     9.999 secs\n",
      "Ready.\n",
      "Effective window size : 2.048 (s)\n"
     ]
    },
    {
     "name": "stderr",
     "output_type": "stream",
     "text": [
      "/home/rgast/PycharmProjects/PyRates/pyrates/utility/visualization.py:508: RuntimeWarning: Channel locations not available. Disabling spatial colors.\n",
      "  return plot_raw_psd(raw, tmin=tmin, fmin=fmin, fmax=fmax, **kwargs).axes\n",
      "/home/rgast/PycharmProjects/PyRates/pyrates/utility/visualization.py:508: RuntimeWarning: Channel locations not available. Disabling spatial colors.\n",
      "  return plot_raw_psd(raw, tmin=tmin, fmin=fmin, fmax=fmax, **kwargs).axes\n"
     ]
    },
    {
     "name": "stdout",
     "output_type": "stream",
     "text": [
      "Need more than one channel to make topography for eeg. Disabling interactivity.\n",
      "Creating RawArray with float64 data, n_channels=1, n_times=10000\n",
      "    Range : 0 ... 9999 =      0.000 ...     9.999 secs\n",
      "Ready.\n",
      "Effective window size : 2.048 (s)\n",
      "Need more than one channel to make topography for eeg. Disabling interactivity.\n",
      "Creating RawArray with float64 data, n_channels=1, n_times=10000\n",
      "    Range : 0 ... 9999 =      0.000 ...     9.999 secs\n",
      "Ready.\n",
      "Effective window size : 2.048 (s)\n",
      "Need more than one channel to make topography for eeg. Disabling interactivity.\n"
     ]
    },
    {
     "name": "stderr",
     "output_type": "stream",
     "text": [
      "/home/rgast/PycharmProjects/PyRates/pyrates/utility/visualization.py:508: RuntimeWarning: Channel locations not available. Disabling spatial colors.\n",
      "  return plot_raw_psd(raw, tmin=tmin, fmin=fmin, fmax=fmax, **kwargs).axes\n",
      "/home/rgast/PycharmProjects/PyRates/pyrates/utility/visualization.py:508: RuntimeWarning: Channel locations not available. Disabling spatial colors.\n",
      "  return plot_raw_psd(raw, tmin=tmin, fmin=fmin, fmax=fmax, **kwargs).axes\n",
      "/home/rgast/PycharmProjects/PyRates/pyrates/utility/visualization.py:508: RuntimeWarning: Channel locations not available. Disabling spatial colors.\n",
      "  return plot_raw_psd(raw, tmin=tmin, fmin=fmin, fmax=fmax, **kwargs).axes\n"
     ]
    },
    {
     "name": "stdout",
     "output_type": "stream",
     "text": [
      "Creating RawArray with float64 data, n_channels=1, n_times=10000\n",
      "    Range : 0 ... 9999 =      0.000 ...     9.999 secs\n",
      "Ready.\n",
      "Effective window size : 2.048 (s)\n",
      "Need more than one channel to make topography for eeg. Disabling interactivity.\n",
      "Creating RawArray with float64 data, n_channels=1, n_times=10000\n",
      "    Range : 0 ... 9999 =      0.000 ...     9.999 secs\n",
      "Ready.\n",
      "Effective window size : 2.048 (s)\n",
      "Need more than one channel to make topography for eeg. Disabling interactivity.\n",
      "Creating RawArray with float64 data, n_channels=1, n_times=10000\n",
      "    Range : 0 ... 9999 =      0.000 ...     9.999 secs\n",
      "Ready.\n",
      "Effective window size : 2.048 (s)\n"
     ]
    },
    {
     "name": "stderr",
     "output_type": "stream",
     "text": [
      "/home/rgast/PycharmProjects/PyRates/pyrates/utility/visualization.py:508: RuntimeWarning: Channel locations not available. Disabling spatial colors.\n",
      "  return plot_raw_psd(raw, tmin=tmin, fmin=fmin, fmax=fmax, **kwargs).axes\n",
      "/home/rgast/PycharmProjects/PyRates/pyrates/utility/visualization.py:508: RuntimeWarning: Channel locations not available. Disabling spatial colors.\n",
      "  return plot_raw_psd(raw, tmin=tmin, fmin=fmin, fmax=fmax, **kwargs).axes\n"
     ]
    },
    {
     "name": "stdout",
     "output_type": "stream",
     "text": [
      "Need more than one channel to make topography for eeg. Disabling interactivity.\n",
      "Creating RawArray with float64 data, n_channels=1, n_times=10000\n",
      "    Range : 0 ... 9999 =      0.000 ...     9.999 secs\n",
      "Ready.\n",
      "Effective window size : 2.048 (s)\n",
      "Need more than one channel to make topography for eeg. Disabling interactivity.\n",
      "Creating RawArray with float64 data, n_channels=1, n_times=10000\n",
      "    Range : 0 ... 9999 =      0.000 ...     9.999 secs\n",
      "Ready.\n",
      "Effective window size : 2.048 (s)\n",
      "Need more than one channel to make topography for eeg. Disabling interactivity.\n"
     ]
    },
    {
     "name": "stderr",
     "output_type": "stream",
     "text": [
      "/home/rgast/PycharmProjects/PyRates/pyrates/utility/visualization.py:508: RuntimeWarning: Channel locations not available. Disabling spatial colors.\n",
      "  return plot_raw_psd(raw, tmin=tmin, fmin=fmin, fmax=fmax, **kwargs).axes\n",
      "/home/rgast/PycharmProjects/PyRates/pyrates/utility/visualization.py:508: RuntimeWarning: Channel locations not available. Disabling spatial colors.\n",
      "  return plot_raw_psd(raw, tmin=tmin, fmin=fmin, fmax=fmax, **kwargs).axes\n",
      "/home/rgast/PycharmProjects/PyRates/pyrates/utility/visualization.py:508: RuntimeWarning: Channel locations not available. Disabling spatial colors.\n",
      "  return plot_raw_psd(raw, tmin=tmin, fmin=fmin, fmax=fmax, **kwargs).axes\n"
     ]
    },
    {
     "name": "stdout",
     "output_type": "stream",
     "text": [
      "Creating RawArray with float64 data, n_channels=1, n_times=10000\n",
      "    Range : 0 ... 9999 =      0.000 ...     9.999 secs\n",
      "Ready.\n",
      "Effective window size : 2.048 (s)\n",
      "Need more than one channel to make topography for eeg. Disabling interactivity.\n",
      "Creating RawArray with float64 data, n_channels=1, n_times=10000\n",
      "    Range : 0 ... 9999 =      0.000 ...     9.999 secs\n",
      "Ready.\n",
      "Effective window size : 2.048 (s)\n",
      "Need more than one channel to make topography for eeg. Disabling interactivity.\n",
      "Creating RawArray with float64 data, n_channels=1, n_times=10000\n",
      "    Range : 0 ... 9999 =      0.000 ...     9.999 secs\n",
      "Ready.\n",
      "Effective window size : 2.048 (s)\n",
      "Need more than one channel to make topography for eeg. Disabling interactivity.\n"
     ]
    },
    {
     "name": "stderr",
     "output_type": "stream",
     "text": [
      "/home/rgast/PycharmProjects/PyRates/pyrates/utility/visualization.py:508: RuntimeWarning: Channel locations not available. Disabling spatial colors.\n",
      "  return plot_raw_psd(raw, tmin=tmin, fmin=fmin, fmax=fmax, **kwargs).axes\n",
      "/home/rgast/PycharmProjects/PyRates/pyrates/utility/visualization.py:508: RuntimeWarning: Channel locations not available. Disabling spatial colors.\n",
      "  return plot_raw_psd(raw, tmin=tmin, fmin=fmin, fmax=fmax, **kwargs).axes\n",
      "/home/rgast/PycharmProjects/PyRates/pyrates/utility/visualization.py:508: RuntimeWarning: Channel locations not available. Disabling spatial colors.\n",
      "  return plot_raw_psd(raw, tmin=tmin, fmin=fmin, fmax=fmax, **kwargs).axes\n"
     ]
    },
    {
     "name": "stdout",
     "output_type": "stream",
     "text": [
      "Creating RawArray with float64 data, n_channels=1, n_times=10000\n",
      "    Range : 0 ... 9999 =      0.000 ...     9.999 secs\n",
      "Ready.\n",
      "Effective window size : 2.048 (s)\n",
      "Need more than one channel to make topography for eeg. Disabling interactivity.\n",
      "Creating RawArray with float64 data, n_channels=1, n_times=10000\n",
      "    Range : 0 ... 9999 =      0.000 ...     9.999 secs\n",
      "Ready.\n",
      "Effective window size : 2.048 (s)\n",
      "Need more than one channel to make topography for eeg. Disabling interactivity.\n",
      "Creating RawArray with float64 data, n_channels=1, n_times=10000\n",
      "    Range : 0 ... 9999 =      0.000 ...     9.999 secs\n",
      "Ready.\n",
      "Effective window size : 2.048 (s)\n",
      "Need more than one channel to make topography for eeg. Disabling interactivity.\n"
     ]
    },
    {
     "name": "stderr",
     "output_type": "stream",
     "text": [
      "/home/rgast/PycharmProjects/PyRates/pyrates/utility/visualization.py:508: RuntimeWarning: Channel locations not available. Disabling spatial colors.\n",
      "  return plot_raw_psd(raw, tmin=tmin, fmin=fmin, fmax=fmax, **kwargs).axes\n",
      "/home/rgast/PycharmProjects/PyRates/pyrates/utility/visualization.py:508: RuntimeWarning: Channel locations not available. Disabling spatial colors.\n",
      "  return plot_raw_psd(raw, tmin=tmin, fmin=fmin, fmax=fmax, **kwargs).axes\n",
      "/home/rgast/PycharmProjects/PyRates/pyrates/utility/visualization.py:508: RuntimeWarning: Channel locations not available. Disabling spatial colors.\n",
      "  return plot_raw_psd(raw, tmin=tmin, fmin=fmin, fmax=fmax, **kwargs).axes\n"
     ]
    },
    {
     "name": "stdout",
     "output_type": "stream",
     "text": [
      "Creating RawArray with float64 data, n_channels=1, n_times=10000\n",
      "    Range : 0 ... 9999 =      0.000 ...     9.999 secs\n",
      "Ready.\n",
      "Effective window size : 2.048 (s)\n",
      "Need more than one channel to make topography for eeg. Disabling interactivity.\n",
      "Creating RawArray with float64 data, n_channels=1, n_times=10000\n",
      "    Range : 0 ... 9999 =      0.000 ...     9.999 secs\n",
      "Ready.\n",
      "Effective window size : 2.048 (s)\n",
      "Need more than one channel to make topography for eeg. Disabling interactivity.\n",
      "Creating RawArray with float64 data, n_channels=1, n_times=10000\n",
      "    Range : 0 ... 9999 =      0.000 ...     9.999 secs\n",
      "Ready.\n",
      "Effective window size : 2.048 (s)\n",
      "Need more than one channel to make topography for eeg. Disabling interactivity.\n"
     ]
    },
    {
     "name": "stderr",
     "output_type": "stream",
     "text": [
      "/home/rgast/PycharmProjects/PyRates/pyrates/utility/visualization.py:508: RuntimeWarning: Channel locations not available. Disabling spatial colors.\n",
      "  return plot_raw_psd(raw, tmin=tmin, fmin=fmin, fmax=fmax, **kwargs).axes\n",
      "/home/rgast/PycharmProjects/PyRates/pyrates/utility/visualization.py:508: RuntimeWarning: Channel locations not available. Disabling spatial colors.\n",
      "  return plot_raw_psd(raw, tmin=tmin, fmin=fmin, fmax=fmax, **kwargs).axes\n",
      "/home/rgast/PycharmProjects/PyRates/pyrates/utility/visualization.py:508: RuntimeWarning: Channel locations not available. Disabling spatial colors.\n",
      "  return plot_raw_psd(raw, tmin=tmin, fmin=fmin, fmax=fmax, **kwargs).axes\n"
     ]
    },
    {
     "name": "stdout",
     "output_type": "stream",
     "text": [
      "Creating RawArray with float64 data, n_channels=1, n_times=10000\n",
      "    Range : 0 ... 9999 =      0.000 ...     9.999 secs\n",
      "Ready.\n",
      "Effective window size : 2.048 (s)\n",
      "Need more than one channel to make topography for eeg. Disabling interactivity.\n",
      "Creating RawArray with float64 data, n_channels=1, n_times=10000\n",
      "    Range : 0 ... 9999 =      0.000 ...     9.999 secs\n",
      "Ready.\n",
      "Effective window size : 2.048 (s)\n",
      "Need more than one channel to make topography for eeg. Disabling interactivity.\n",
      "Creating RawArray with float64 data, n_channels=1, n_times=10000\n",
      "    Range : 0 ... 9999 =      0.000 ...     9.999 secs\n",
      "Ready.\n",
      "Effective window size : 2.048 (s)\n",
      "Need more than one channel to make topography for eeg. Disabling interactivity.\n"
     ]
    },
    {
     "name": "stderr",
     "output_type": "stream",
     "text": [
      "/home/rgast/PycharmProjects/PyRates/pyrates/utility/visualization.py:508: RuntimeWarning: Channel locations not available. Disabling spatial colors.\n",
      "  return plot_raw_psd(raw, tmin=tmin, fmin=fmin, fmax=fmax, **kwargs).axes\n",
      "/home/rgast/PycharmProjects/PyRates/pyrates/utility/visualization.py:508: RuntimeWarning: Channel locations not available. Disabling spatial colors.\n",
      "  return plot_raw_psd(raw, tmin=tmin, fmin=fmin, fmax=fmax, **kwargs).axes\n",
      "/home/rgast/PycharmProjects/PyRates/pyrates/utility/visualization.py:508: RuntimeWarning: Channel locations not available. Disabling spatial colors.\n",
      "  return plot_raw_psd(raw, tmin=tmin, fmin=fmin, fmax=fmax, **kwargs).axes\n"
     ]
    },
    {
     "name": "stdout",
     "output_type": "stream",
     "text": [
      "Creating RawArray with float64 data, n_channels=1, n_times=10000\n",
      "    Range : 0 ... 9999 =      0.000 ...     9.999 secs\n",
      "Ready.\n",
      "Effective window size : 2.048 (s)\n",
      "Need more than one channel to make topography for eeg. Disabling interactivity.\n",
      "Creating RawArray with float64 data, n_channels=1, n_times=10000\n",
      "    Range : 0 ... 9999 =      0.000 ...     9.999 secs\n",
      "Ready.\n",
      "Effective window size : 2.048 (s)\n",
      "Need more than one channel to make topography for eeg. Disabling interactivity.\n",
      "Creating RawArray with float64 data, n_channels=1, n_times=10000\n",
      "    Range : 0 ... 9999 =      0.000 ...     9.999 secs\n",
      "Ready.\n",
      "Effective window size : 2.048 (s)\n",
      "Need more than one channel to make topography for eeg. Disabling interactivity.\n"
     ]
    },
    {
     "name": "stderr",
     "output_type": "stream",
     "text": [
      "/home/rgast/PycharmProjects/PyRates/pyrates/utility/visualization.py:508: RuntimeWarning: Channel locations not available. Disabling spatial colors.\n",
      "  return plot_raw_psd(raw, tmin=tmin, fmin=fmin, fmax=fmax, **kwargs).axes\n",
      "/home/rgast/PycharmProjects/PyRates/pyrates/utility/visualization.py:508: RuntimeWarning: Channel locations not available. Disabling spatial colors.\n",
      "  return plot_raw_psd(raw, tmin=tmin, fmin=fmin, fmax=fmax, **kwargs).axes\n",
      "/home/rgast/PycharmProjects/PyRates/pyrates/utility/visualization.py:508: RuntimeWarning: Channel locations not available. Disabling spatial colors.\n",
      "  return plot_raw_psd(raw, tmin=tmin, fmin=fmin, fmax=fmax, **kwargs).axes\n"
     ]
    },
    {
     "name": "stdout",
     "output_type": "stream",
     "text": [
      "Creating RawArray with float64 data, n_channels=1, n_times=10000\n",
      "    Range : 0 ... 9999 =      0.000 ...     9.999 secs\n",
      "Ready.\n",
      "Effective window size : 2.048 (s)\n",
      "Need more than one channel to make topography for eeg. Disabling interactivity.\n",
      "Creating RawArray with float64 data, n_channels=1, n_times=10000\n",
      "    Range : 0 ... 9999 =      0.000 ...     9.999 secs\n",
      "Ready.\n",
      "Effective window size : 2.048 (s)\n",
      "Need more than one channel to make topography for eeg. Disabling interactivity.\n",
      "Creating RawArray with float64 data, n_channels=1, n_times=10000\n",
      "    Range : 0 ... 9999 =      0.000 ...     9.999 secs\n",
      "Ready.\n",
      "Effective window size : 2.048 (s)\n",
      "Need more than one channel to make topography for eeg. Disabling interactivity.\n"
     ]
    },
    {
     "name": "stderr",
     "output_type": "stream",
     "text": [
      "/home/rgast/PycharmProjects/PyRates/pyrates/utility/visualization.py:508: RuntimeWarning: Channel locations not available. Disabling spatial colors.\n",
      "  return plot_raw_psd(raw, tmin=tmin, fmin=fmin, fmax=fmax, **kwargs).axes\n",
      "/home/rgast/PycharmProjects/PyRates/pyrates/utility/visualization.py:508: RuntimeWarning: Channel locations not available. Disabling spatial colors.\n",
      "  return plot_raw_psd(raw, tmin=tmin, fmin=fmin, fmax=fmax, **kwargs).axes\n",
      "/home/rgast/PycharmProjects/PyRates/pyrates/utility/visualization.py:508: RuntimeWarning: Channel locations not available. Disabling spatial colors.\n",
      "  return plot_raw_psd(raw, tmin=tmin, fmin=fmin, fmax=fmax, **kwargs).axes\n"
     ]
    },
    {
     "name": "stdout",
     "output_type": "stream",
     "text": [
      "Creating RawArray with float64 data, n_channels=1, n_times=10000\n",
      "    Range : 0 ... 9999 =      0.000 ...     9.999 secs\n",
      "Ready.\n",
      "Effective window size : 2.048 (s)\n",
      "Need more than one channel to make topography for eeg. Disabling interactivity.\n",
      "Creating RawArray with float64 data, n_channels=1, n_times=10000\n",
      "    Range : 0 ... 9999 =      0.000 ...     9.999 secs\n",
      "Ready.\n",
      "Effective window size : 2.048 (s)\n",
      "Need more than one channel to make topography for eeg. Disabling interactivity.\n",
      "Creating RawArray with float64 data, n_channels=1, n_times=10000\n",
      "    Range : 0 ... 9999 =      0.000 ...     9.999 secs\n",
      "Ready.\n",
      "Effective window size : 2.048 (s)\n",
      "Need more than one channel to make topography for eeg. Disabling interactivity.\n"
     ]
    },
    {
     "name": "stderr",
     "output_type": "stream",
     "text": [
      "/home/rgast/PycharmProjects/PyRates/pyrates/utility/visualization.py:508: RuntimeWarning: Channel locations not available. Disabling spatial colors.\n",
      "  return plot_raw_psd(raw, tmin=tmin, fmin=fmin, fmax=fmax, **kwargs).axes\n",
      "/home/rgast/PycharmProjects/PyRates/pyrates/utility/visualization.py:508: RuntimeWarning: Channel locations not available. Disabling spatial colors.\n",
      "  return plot_raw_psd(raw, tmin=tmin, fmin=fmin, fmax=fmax, **kwargs).axes\n",
      "/home/rgast/PycharmProjects/PyRates/pyrates/utility/visualization.py:508: RuntimeWarning: Channel locations not available. Disabling spatial colors.\n",
      "  return plot_raw_psd(raw, tmin=tmin, fmin=fmin, fmax=fmax, **kwargs).axes\n"
     ]
    },
    {
     "name": "stdout",
     "output_type": "stream",
     "text": [
      "Creating RawArray with float64 data, n_channels=1, n_times=10000\n",
      "    Range : 0 ... 9999 =      0.000 ...     9.999 secs\n",
      "Ready.\n",
      "Effective window size : 2.048 (s)\n",
      "Need more than one channel to make topography for eeg. Disabling interactivity.\n",
      "Creating RawArray with float64 data, n_channels=1, n_times=10000\n",
      "    Range : 0 ... 9999 =      0.000 ...     9.999 secs\n",
      "Ready.\n",
      "Effective window size : 2.048 (s)\n",
      "Need more than one channel to make topography for eeg. Disabling interactivity.\n",
      "Creating RawArray with float64 data, n_channels=1, n_times=10000\n",
      "    Range : 0 ... 9999 =      0.000 ...     9.999 secs\n",
      "Ready.\n",
      "Effective window size : 2.048 (s)\n",
      "Need more than one channel to make topography for eeg. Disabling interactivity.\n"
     ]
    },
    {
     "name": "stderr",
     "output_type": "stream",
     "text": [
      "/home/rgast/PycharmProjects/PyRates/pyrates/utility/visualization.py:508: RuntimeWarning: Channel locations not available. Disabling spatial colors.\n",
      "  return plot_raw_psd(raw, tmin=tmin, fmin=fmin, fmax=fmax, **kwargs).axes\n",
      "/home/rgast/PycharmProjects/PyRates/pyrates/utility/visualization.py:508: RuntimeWarning: Channel locations not available. Disabling spatial colors.\n",
      "  return plot_raw_psd(raw, tmin=tmin, fmin=fmin, fmax=fmax, **kwargs).axes\n",
      "/home/rgast/PycharmProjects/PyRates/pyrates/utility/visualization.py:508: RuntimeWarning: Channel locations not available. Disabling spatial colors.\n",
      "  return plot_raw_psd(raw, tmin=tmin, fmin=fmin, fmax=fmax, **kwargs).axes\n"
     ]
    },
    {
     "name": "stdout",
     "output_type": "stream",
     "text": [
      "Creating RawArray with float64 data, n_channels=1, n_times=10000\n",
      "    Range : 0 ... 9999 =      0.000 ...     9.999 secs\n",
      "Ready.\n",
      "Effective window size : 2.048 (s)\n",
      "Need more than one channel to make topography for eeg. Disabling interactivity.\n",
      "Creating RawArray with float64 data, n_channels=1, n_times=10000\n",
      "    Range : 0 ... 9999 =      0.000 ...     9.999 secs\n",
      "Ready.\n",
      "Effective window size : 2.048 (s)\n",
      "Need more than one channel to make topography for eeg. Disabling interactivity.\n",
      "Creating RawArray with float64 data, n_channels=1, n_times=10000\n",
      "    Range : 0 ... 9999 =      0.000 ...     9.999 secs\n",
      "Ready.\n",
      "Effective window size : 2.048 (s)\n",
      "Need more than one channel to make topography for eeg. Disabling interactivity.\n"
     ]
    },
    {
     "name": "stderr",
     "output_type": "stream",
     "text": [
      "/home/rgast/PycharmProjects/PyRates/pyrates/utility/visualization.py:508: RuntimeWarning: Channel locations not available. Disabling spatial colors.\n",
      "  return plot_raw_psd(raw, tmin=tmin, fmin=fmin, fmax=fmax, **kwargs).axes\n",
      "/home/rgast/PycharmProjects/PyRates/pyrates/utility/visualization.py:508: RuntimeWarning: Channel locations not available. Disabling spatial colors.\n",
      "  return plot_raw_psd(raw, tmin=tmin, fmin=fmin, fmax=fmax, **kwargs).axes\n",
      "/home/rgast/PycharmProjects/PyRates/pyrates/utility/visualization.py:508: RuntimeWarning: Channel locations not available. Disabling spatial colors.\n",
      "  return plot_raw_psd(raw, tmin=tmin, fmin=fmin, fmax=fmax, **kwargs).axes\n"
     ]
    },
    {
     "name": "stdout",
     "output_type": "stream",
     "text": [
      "Creating RawArray with float64 data, n_channels=1, n_times=10000\n",
      "    Range : 0 ... 9999 =      0.000 ...     9.999 secs\n",
      "Ready.\n",
      "Effective window size : 2.048 (s)\n",
      "Need more than one channel to make topography for eeg. Disabling interactivity.\n",
      "Creating RawArray with float64 data, n_channels=1, n_times=10000\n",
      "    Range : 0 ... 9999 =      0.000 ...     9.999 secs\n",
      "Ready.\n",
      "Effective window size : 2.048 (s)\n",
      "Need more than one channel to make topography for eeg. Disabling interactivity.\n",
      "Creating RawArray with float64 data, n_channels=1, n_times=10000\n",
      "    Range : 0 ... 9999 =      0.000 ...     9.999 secs\n",
      "Ready.\n",
      "Effective window size : 2.048 (s)\n",
      "Need more than one channel to make topography for eeg. Disabling interactivity.\n"
     ]
    },
    {
     "name": "stderr",
     "output_type": "stream",
     "text": [
      "/home/rgast/PycharmProjects/PyRates/pyrates/utility/visualization.py:508: RuntimeWarning: Channel locations not available. Disabling spatial colors.\n",
      "  return plot_raw_psd(raw, tmin=tmin, fmin=fmin, fmax=fmax, **kwargs).axes\n",
      "/home/rgast/PycharmProjects/PyRates/pyrates/utility/visualization.py:508: RuntimeWarning: Channel locations not available. Disabling spatial colors.\n",
      "  return plot_raw_psd(raw, tmin=tmin, fmin=fmin, fmax=fmax, **kwargs).axes\n",
      "/home/rgast/PycharmProjects/PyRates/pyrates/utility/visualization.py:508: RuntimeWarning: Channel locations not available. Disabling spatial colors.\n",
      "  return plot_raw_psd(raw, tmin=tmin, fmin=fmin, fmax=fmax, **kwargs).axes\n"
     ]
    },
    {
     "name": "stdout",
     "output_type": "stream",
     "text": [
      "Creating RawArray with float64 data, n_channels=1, n_times=10000\n",
      "    Range : 0 ... 9999 =      0.000 ...     9.999 secs\n",
      "Ready.\n",
      "Effective window size : 2.048 (s)\n",
      "Need more than one channel to make topography for eeg. Disabling interactivity.\n",
      "Creating RawArray with float64 data, n_channels=1, n_times=10000\n",
      "    Range : 0 ... 9999 =      0.000 ...     9.999 secs\n",
      "Ready.\n",
      "Effective window size : 2.048 (s)\n",
      "Need more than one channel to make topography for eeg. Disabling interactivity.\n",
      "Creating RawArray with float64 data, n_channels=1, n_times=10000\n",
      "    Range : 0 ... 9999 =      0.000 ...     9.999 secs\n",
      "Ready.\n",
      "Effective window size : 2.048 (s)\n",
      "Need more than one channel to make topography for eeg. Disabling interactivity.\n"
     ]
    },
    {
     "name": "stderr",
     "output_type": "stream",
     "text": [
      "/home/rgast/PycharmProjects/PyRates/pyrates/utility/visualization.py:508: RuntimeWarning: Channel locations not available. Disabling spatial colors.\n",
      "  return plot_raw_psd(raw, tmin=tmin, fmin=fmin, fmax=fmax, **kwargs).axes\n",
      "/home/rgast/PycharmProjects/PyRates/pyrates/utility/visualization.py:508: RuntimeWarning: Channel locations not available. Disabling spatial colors.\n",
      "  return plot_raw_psd(raw, tmin=tmin, fmin=fmin, fmax=fmax, **kwargs).axes\n",
      "/home/rgast/PycharmProjects/PyRates/pyrates/utility/visualization.py:508: RuntimeWarning: Channel locations not available. Disabling spatial colors.\n",
      "  return plot_raw_psd(raw, tmin=tmin, fmin=fmin, fmax=fmax, **kwargs).axes\n"
     ]
    },
    {
     "name": "stdout",
     "output_type": "stream",
     "text": [
      "Creating RawArray with float64 data, n_channels=1, n_times=10000\n",
      "    Range : 0 ... 9999 =      0.000 ...     9.999 secs\n",
      "Ready.\n",
      "Effective window size : 2.048 (s)\n",
      "Need more than one channel to make topography for eeg. Disabling interactivity.\n",
      "Creating RawArray with float64 data, n_channels=1, n_times=10000\n",
      "    Range : 0 ... 9999 =      0.000 ...     9.999 secs\n",
      "Ready.\n",
      "Effective window size : 2.048 (s)\n",
      "Need more than one channel to make topography for eeg. Disabling interactivity.\n"
     ]
    },
    {
     "name": "stderr",
     "output_type": "stream",
     "text": [
      "/home/rgast/PycharmProjects/PyRates/pyrates/utility/visualization.py:508: RuntimeWarning: Channel locations not available. Disabling spatial colors.\n",
      "  return plot_raw_psd(raw, tmin=tmin, fmin=fmin, fmax=fmax, **kwargs).axes\n",
      "/home/rgast/PycharmProjects/PyRates/pyrates/utility/visualization.py:508: RuntimeWarning: Channel locations not available. Disabling spatial colors.\n",
      "  return plot_raw_psd(raw, tmin=tmin, fmin=fmin, fmax=fmax, **kwargs).axes\n"
     ]
    },
    {
     "name": "stdout",
     "output_type": "stream",
     "text": [
      "Creating RawArray with float64 data, n_channels=1, n_times=10000\n",
      "    Range : 0 ... 9999 =      0.000 ...     9.999 secs\n",
      "Ready.\n",
      "Effective window size : 2.048 (s)\n",
      "Need more than one channel to make topography for eeg. Disabling interactivity.\n",
      "Creating RawArray with float64 data, n_channels=1, n_times=10000\n",
      "    Range : 0 ... 9999 =      0.000 ...     9.999 secs\n",
      "Ready.\n",
      "Effective window size : 2.048 (s)\n",
      "Need more than one channel to make topography for eeg. Disabling interactivity.\n",
      "Creating RawArray with float64 data, n_channels=1, n_times=10000\n",
      "    Range : 0 ... 9999 =      0.000 ...     9.999 secs\n",
      "Ready.\n",
      "Effective window size : 2.048 (s)\n",
      "Need more than one channel to make topography for eeg. Disabling interactivity.\n"
     ]
    },
    {
     "name": "stderr",
     "output_type": "stream",
     "text": [
      "/home/rgast/PycharmProjects/PyRates/pyrates/utility/visualization.py:508: RuntimeWarning: Channel locations not available. Disabling spatial colors.\n",
      "  return plot_raw_psd(raw, tmin=tmin, fmin=fmin, fmax=fmax, **kwargs).axes\n",
      "/home/rgast/PycharmProjects/PyRates/pyrates/utility/visualization.py:508: RuntimeWarning: Channel locations not available. Disabling spatial colors.\n",
      "  return plot_raw_psd(raw, tmin=tmin, fmin=fmin, fmax=fmax, **kwargs).axes\n",
      "/home/rgast/PycharmProjects/PyRates/pyrates/utility/visualization.py:508: RuntimeWarning: Channel locations not available. Disabling spatial colors.\n",
      "  return plot_raw_psd(raw, tmin=tmin, fmin=fmin, fmax=fmax, **kwargs).axes\n"
     ]
    },
    {
     "name": "stdout",
     "output_type": "stream",
     "text": [
      "Creating RawArray with float64 data, n_channels=1, n_times=10000\n",
      "    Range : 0 ... 9999 =      0.000 ...     9.999 secs\n",
      "Ready.\n",
      "Effective window size : 2.048 (s)\n",
      "Need more than one channel to make topography for eeg. Disabling interactivity.\n",
      "Creating RawArray with float64 data, n_channels=1, n_times=10000\n",
      "    Range : 0 ... 9999 =      0.000 ...     9.999 secs\n",
      "Ready.\n",
      "Effective window size : 2.048 (s)\n",
      "Need more than one channel to make topography for eeg. Disabling interactivity.\n",
      "Creating RawArray with float64 data, n_channels=1, n_times=10000\n",
      "    Range : 0 ... 9999 =      0.000 ...     9.999 secs\n",
      "Ready.\n",
      "Effective window size : 2.048 (s)\n",
      "Need more than one channel to make topography for eeg. Disabling interactivity.\n"
     ]
    },
    {
     "name": "stderr",
     "output_type": "stream",
     "text": [
      "/home/rgast/PycharmProjects/PyRates/pyrates/utility/visualization.py:508: RuntimeWarning: Channel locations not available. Disabling spatial colors.\n",
      "  return plot_raw_psd(raw, tmin=tmin, fmin=fmin, fmax=fmax, **kwargs).axes\n",
      "/home/rgast/PycharmProjects/PyRates/pyrates/utility/visualization.py:508: RuntimeWarning: Channel locations not available. Disabling spatial colors.\n",
      "  return plot_raw_psd(raw, tmin=tmin, fmin=fmin, fmax=fmax, **kwargs).axes\n",
      "/home/rgast/PycharmProjects/PyRates/pyrates/utility/visualization.py:508: RuntimeWarning: Channel locations not available. Disabling spatial colors.\n",
      "  return plot_raw_psd(raw, tmin=tmin, fmin=fmin, fmax=fmax, **kwargs).axes\n"
     ]
    },
    {
     "name": "stdout",
     "output_type": "stream",
     "text": [
      "Creating RawArray with float64 data, n_channels=1, n_times=10000\n",
      "    Range : 0 ... 9999 =      0.000 ...     9.999 secs\n",
      "Ready.\n",
      "Effective window size : 2.048 (s)\n",
      "Need more than one channel to make topography for eeg. Disabling interactivity.\n",
      "Creating RawArray with float64 data, n_channels=1, n_times=10000\n",
      "    Range : 0 ... 9999 =      0.000 ...     9.999 secs\n",
      "Ready.\n",
      "Effective window size : 2.048 (s)\n",
      "Need more than one channel to make topography for eeg. Disabling interactivity.\n",
      "Creating RawArray with float64 data, n_channels=1, n_times=10000\n",
      "    Range : 0 ... 9999 =      0.000 ...     9.999 secs\n",
      "Ready.\n",
      "Effective window size : 2.048 (s)\n",
      "Need more than one channel to make topography for eeg. Disabling interactivity.\n"
     ]
    },
    {
     "name": "stderr",
     "output_type": "stream",
     "text": [
      "/home/rgast/PycharmProjects/PyRates/pyrates/utility/visualization.py:508: RuntimeWarning: Channel locations not available. Disabling spatial colors.\n",
      "  return plot_raw_psd(raw, tmin=tmin, fmin=fmin, fmax=fmax, **kwargs).axes\n",
      "/home/rgast/PycharmProjects/PyRates/pyrates/utility/visualization.py:508: RuntimeWarning: Channel locations not available. Disabling spatial colors.\n",
      "  return plot_raw_psd(raw, tmin=tmin, fmin=fmin, fmax=fmax, **kwargs).axes\n",
      "/home/rgast/PycharmProjects/PyRates/pyrates/utility/visualization.py:508: RuntimeWarning: Channel locations not available. Disabling spatial colors.\n",
      "  return plot_raw_psd(raw, tmin=tmin, fmin=fmin, fmax=fmax, **kwargs).axes\n"
     ]
    },
    {
     "name": "stdout",
     "output_type": "stream",
     "text": [
      "Creating RawArray with float64 data, n_channels=1, n_times=10000\n",
      "    Range : 0 ... 9999 =      0.000 ...     9.999 secs\n",
      "Ready.\n",
      "Effective window size : 2.048 (s)\n",
      "Need more than one channel to make topography for eeg. Disabling interactivity.\n",
      "Creating RawArray with float64 data, n_channels=1, n_times=10000\n",
      "    Range : 0 ... 9999 =      0.000 ...     9.999 secs\n",
      "Ready.\n",
      "Effective window size : 2.048 (s)\n",
      "Need more than one channel to make topography for eeg. Disabling interactivity.\n",
      "Creating RawArray with float64 data, n_channels=1, n_times=10000\n",
      "    Range : 0 ... 9999 =      0.000 ...     9.999 secs\n",
      "Ready.\n",
      "Effective window size : 2.048 (s)\n",
      "Need more than one channel to make topography for eeg. Disabling interactivity.\n"
     ]
    },
    {
     "name": "stderr",
     "output_type": "stream",
     "text": [
      "/home/rgast/PycharmProjects/PyRates/pyrates/utility/visualization.py:508: RuntimeWarning: Channel locations not available. Disabling spatial colors.\n",
      "  return plot_raw_psd(raw, tmin=tmin, fmin=fmin, fmax=fmax, **kwargs).axes\n",
      "/home/rgast/PycharmProjects/PyRates/pyrates/utility/visualization.py:508: RuntimeWarning: Channel locations not available. Disabling spatial colors.\n",
      "  return plot_raw_psd(raw, tmin=tmin, fmin=fmin, fmax=fmax, **kwargs).axes\n",
      "/home/rgast/PycharmProjects/PyRates/pyrates/utility/visualization.py:508: RuntimeWarning: Channel locations not available. Disabling spatial colors.\n",
      "  return plot_raw_psd(raw, tmin=tmin, fmin=fmin, fmax=fmax, **kwargs).axes\n"
     ]
    },
    {
     "name": "stdout",
     "output_type": "stream",
     "text": [
      "Creating RawArray with float64 data, n_channels=1, n_times=10000\n",
      "    Range : 0 ... 9999 =      0.000 ...     9.999 secs\n",
      "Ready.\n",
      "Effective window size : 2.048 (s)\n",
      "Need more than one channel to make topography for eeg. Disabling interactivity.\n",
      "Creating RawArray with float64 data, n_channels=1, n_times=10000\n",
      "    Range : 0 ... 9999 =      0.000 ...     9.999 secs\n",
      "Ready.\n",
      "Effective window size : 2.048 (s)\n",
      "Need more than one channel to make topography for eeg. Disabling interactivity.\n",
      "Creating RawArray with float64 data, n_channels=1, n_times=10000\n",
      "    Range : 0 ... 9999 =      0.000 ...     9.999 secs\n",
      "Ready.\n",
      "Effective window size : 2.048 (s)\n",
      "Need more than one channel to make topography for eeg. Disabling interactivity.\n"
     ]
    },
    {
     "name": "stderr",
     "output_type": "stream",
     "text": [
      "/home/rgast/PycharmProjects/PyRates/pyrates/utility/visualization.py:508: RuntimeWarning: Channel locations not available. Disabling spatial colors.\n",
      "  return plot_raw_psd(raw, tmin=tmin, fmin=fmin, fmax=fmax, **kwargs).axes\n",
      "/home/rgast/PycharmProjects/PyRates/pyrates/utility/visualization.py:508: RuntimeWarning: Channel locations not available. Disabling spatial colors.\n",
      "  return plot_raw_psd(raw, tmin=tmin, fmin=fmin, fmax=fmax, **kwargs).axes\n",
      "/home/rgast/PycharmProjects/PyRates/pyrates/utility/visualization.py:508: RuntimeWarning: Channel locations not available. Disabling spatial colors.\n",
      "  return plot_raw_psd(raw, tmin=tmin, fmin=fmin, fmax=fmax, **kwargs).axes\n"
     ]
    },
    {
     "name": "stdout",
     "output_type": "stream",
     "text": [
      "Creating RawArray with float64 data, n_channels=1, n_times=10000\n",
      "    Range : 0 ... 9999 =      0.000 ...     9.999 secs\n",
      "Ready.\n",
      "Effective window size : 2.048 (s)\n",
      "Need more than one channel to make topography for eeg. Disabling interactivity.\n",
      "Creating RawArray with float64 data, n_channels=1, n_times=10000\n",
      "    Range : 0 ... 9999 =      0.000 ...     9.999 secs\n",
      "Ready.\n",
      "Effective window size : 2.048 (s)\n",
      "Need more than one channel to make topography for eeg. Disabling interactivity.\n",
      "Creating RawArray with float64 data, n_channels=1, n_times=10000\n",
      "    Range : 0 ... 9999 =      0.000 ...     9.999 secs\n",
      "Ready.\n",
      "Effective window size : 2.048 (s)\n",
      "Need more than one channel to make topography for eeg. Disabling interactivity.\n"
     ]
    },
    {
     "name": "stderr",
     "output_type": "stream",
     "text": [
      "/home/rgast/PycharmProjects/PyRates/pyrates/utility/visualization.py:508: RuntimeWarning: Channel locations not available. Disabling spatial colors.\n",
      "  return plot_raw_psd(raw, tmin=tmin, fmin=fmin, fmax=fmax, **kwargs).axes\n",
      "/home/rgast/PycharmProjects/PyRates/pyrates/utility/visualization.py:508: RuntimeWarning: Channel locations not available. Disabling spatial colors.\n",
      "  return plot_raw_psd(raw, tmin=tmin, fmin=fmin, fmax=fmax, **kwargs).axes\n",
      "/home/rgast/PycharmProjects/PyRates/pyrates/utility/visualization.py:508: RuntimeWarning: Channel locations not available. Disabling spatial colors.\n",
      "  return plot_raw_psd(raw, tmin=tmin, fmin=fmin, fmax=fmax, **kwargs).axes\n"
     ]
    },
    {
     "name": "stdout",
     "output_type": "stream",
     "text": [
      "Creating RawArray with float64 data, n_channels=1, n_times=10000\n",
      "    Range : 0 ... 9999 =      0.000 ...     9.999 secs\n",
      "Ready.\n",
      "Effective window size : 2.048 (s)\n",
      "Need more than one channel to make topography for eeg. Disabling interactivity.\n",
      "Creating RawArray with float64 data, n_channels=1, n_times=10000\n",
      "    Range : 0 ... 9999 =      0.000 ...     9.999 secs\n",
      "Ready.\n",
      "Effective window size : 2.048 (s)\n",
      "Need more than one channel to make topography for eeg. Disabling interactivity.\n",
      "Creating RawArray with float64 data, n_channels=1, n_times=10000\n",
      "    Range : 0 ... 9999 =      0.000 ...     9.999 secs\n",
      "Ready.\n",
      "Effective window size : 2.048 (s)\n",
      "Need more than one channel to make topography for eeg. Disabling interactivity.\n"
     ]
    },
    {
     "name": "stderr",
     "output_type": "stream",
     "text": [
      "/home/rgast/PycharmProjects/PyRates/pyrates/utility/visualization.py:508: RuntimeWarning: Channel locations not available. Disabling spatial colors.\n",
      "  return plot_raw_psd(raw, tmin=tmin, fmin=fmin, fmax=fmax, **kwargs).axes\n",
      "/home/rgast/PycharmProjects/PyRates/pyrates/utility/visualization.py:508: RuntimeWarning: Channel locations not available. Disabling spatial colors.\n",
      "  return plot_raw_psd(raw, tmin=tmin, fmin=fmin, fmax=fmax, **kwargs).axes\n",
      "/home/rgast/PycharmProjects/PyRates/pyrates/utility/visualization.py:508: RuntimeWarning: Channel locations not available. Disabling spatial colors.\n",
      "  return plot_raw_psd(raw, tmin=tmin, fmin=fmin, fmax=fmax, **kwargs).axes\n"
     ]
    },
    {
     "name": "stdout",
     "output_type": "stream",
     "text": [
      "Creating RawArray with float64 data, n_channels=1, n_times=10000\n",
      "    Range : 0 ... 9999 =      0.000 ...     9.999 secs\n",
      "Ready.\n",
      "Effective window size : 2.048 (s)\n",
      "Need more than one channel to make topography for eeg. Disabling interactivity.\n",
      "Creating RawArray with float64 data, n_channels=1, n_times=10000\n",
      "    Range : 0 ... 9999 =      0.000 ...     9.999 secs\n",
      "Ready.\n",
      "Effective window size : 2.048 (s)\n",
      "Need more than one channel to make topography for eeg. Disabling interactivity.\n",
      "Creating RawArray with float64 data, n_channels=1, n_times=10000\n",
      "    Range : 0 ... 9999 =      0.000 ...     9.999 secs\n",
      "Ready.\n",
      "Effective window size : 2.048 (s)\n"
     ]
    },
    {
     "name": "stderr",
     "output_type": "stream",
     "text": [
      "/home/rgast/PycharmProjects/PyRates/pyrates/utility/visualization.py:508: RuntimeWarning: Channel locations not available. Disabling spatial colors.\n",
      "  return plot_raw_psd(raw, tmin=tmin, fmin=fmin, fmax=fmax, **kwargs).axes\n",
      "/home/rgast/PycharmProjects/PyRates/pyrates/utility/visualization.py:508: RuntimeWarning: Channel locations not available. Disabling spatial colors.\n",
      "  return plot_raw_psd(raw, tmin=tmin, fmin=fmin, fmax=fmax, **kwargs).axes\n"
     ]
    },
    {
     "name": "stdout",
     "output_type": "stream",
     "text": [
      "Need more than one channel to make topography for eeg. Disabling interactivity.\n",
      "Creating RawArray with float64 data, n_channels=1, n_times=10000\n",
      "    Range : 0 ... 9999 =      0.000 ...     9.999 secs\n",
      "Ready.\n",
      "Effective window size : 2.048 (s)\n",
      "Need more than one channel to make topography for eeg. Disabling interactivity.\n",
      "Creating RawArray with float64 data, n_channels=1, n_times=10000\n",
      "    Range : 0 ... 9999 =      0.000 ...     9.999 secs\n",
      "Ready.\n",
      "Effective window size : 2.048 (s)\n",
      "Need more than one channel to make topography for eeg. Disabling interactivity.\n"
     ]
    },
    {
     "name": "stderr",
     "output_type": "stream",
     "text": [
      "/home/rgast/PycharmProjects/PyRates/pyrates/utility/visualization.py:508: RuntimeWarning: Channel locations not available. Disabling spatial colors.\n",
      "  return plot_raw_psd(raw, tmin=tmin, fmin=fmin, fmax=fmax, **kwargs).axes\n",
      "/home/rgast/PycharmProjects/PyRates/pyrates/utility/visualization.py:508: RuntimeWarning: Channel locations not available. Disabling spatial colors.\n",
      "  return plot_raw_psd(raw, tmin=tmin, fmin=fmin, fmax=fmax, **kwargs).axes\n",
      "/home/rgast/PycharmProjects/PyRates/pyrates/utility/visualization.py:508: RuntimeWarning: Channel locations not available. Disabling spatial colors.\n",
      "  return plot_raw_psd(raw, tmin=tmin, fmin=fmin, fmax=fmax, **kwargs).axes\n"
     ]
    },
    {
     "name": "stdout",
     "output_type": "stream",
     "text": [
      "Creating RawArray with float64 data, n_channels=1, n_times=10000\n",
      "    Range : 0 ... 9999 =      0.000 ...     9.999 secs\n",
      "Ready.\n",
      "Effective window size : 2.048 (s)\n",
      "Need more than one channel to make topography for eeg. Disabling interactivity.\n",
      "Creating RawArray with float64 data, n_channels=1, n_times=10000\n",
      "    Range : 0 ... 9999 =      0.000 ...     9.999 secs\n",
      "Ready.\n",
      "Effective window size : 2.048 (s)\n",
      "Need more than one channel to make topography for eeg. Disabling interactivity.\n",
      "Creating RawArray with float64 data, n_channels=1, n_times=10000\n",
      "    Range : 0 ... 9999 =      0.000 ...     9.999 secs\n",
      "Ready.\n",
      "Effective window size : 2.048 (s)\n",
      "Need more than one channel to make topography for eeg. Disabling interactivity.\n"
     ]
    },
    {
     "name": "stderr",
     "output_type": "stream",
     "text": [
      "/home/rgast/PycharmProjects/PyRates/pyrates/utility/visualization.py:508: RuntimeWarning: Channel locations not available. Disabling spatial colors.\n",
      "  return plot_raw_psd(raw, tmin=tmin, fmin=fmin, fmax=fmax, **kwargs).axes\n",
      "/home/rgast/PycharmProjects/PyRates/pyrates/utility/visualization.py:508: RuntimeWarning: Channel locations not available. Disabling spatial colors.\n",
      "  return plot_raw_psd(raw, tmin=tmin, fmin=fmin, fmax=fmax, **kwargs).axes\n",
      "/home/rgast/PycharmProjects/PyRates/pyrates/utility/visualization.py:508: RuntimeWarning: Channel locations not available. Disabling spatial colors.\n",
      "  return plot_raw_psd(raw, tmin=tmin, fmin=fmin, fmax=fmax, **kwargs).axes\n"
     ]
    },
    {
     "name": "stdout",
     "output_type": "stream",
     "text": [
      "Creating RawArray with float64 data, n_channels=1, n_times=10000\n",
      "    Range : 0 ... 9999 =      0.000 ...     9.999 secs\n",
      "Ready.\n",
      "Effective window size : 2.048 (s)\n",
      "Need more than one channel to make topography for eeg. Disabling interactivity.\n",
      "Creating RawArray with float64 data, n_channels=1, n_times=10000\n",
      "    Range : 0 ... 9999 =      0.000 ...     9.999 secs\n",
      "Ready.\n",
      "Effective window size : 2.048 (s)\n",
      "Need more than one channel to make topography for eeg. Disabling interactivity.\n",
      "Creating RawArray with float64 data, n_channels=1, n_times=10000\n",
      "    Range : 0 ... 9999 =      0.000 ...     9.999 secs\n",
      "Ready.\n",
      "Effective window size : 2.048 (s)\n",
      "Need more than one channel to make topography for eeg. Disabling interactivity.\n"
     ]
    },
    {
     "name": "stderr",
     "output_type": "stream",
     "text": [
      "/home/rgast/PycharmProjects/PyRates/pyrates/utility/visualization.py:508: RuntimeWarning: Channel locations not available. Disabling spatial colors.\n",
      "  return plot_raw_psd(raw, tmin=tmin, fmin=fmin, fmax=fmax, **kwargs).axes\n",
      "/home/rgast/PycharmProjects/PyRates/pyrates/utility/visualization.py:508: RuntimeWarning: Channel locations not available. Disabling spatial colors.\n",
      "  return plot_raw_psd(raw, tmin=tmin, fmin=fmin, fmax=fmax, **kwargs).axes\n",
      "/home/rgast/PycharmProjects/PyRates/pyrates/utility/visualization.py:508: RuntimeWarning: Channel locations not available. Disabling spatial colors.\n",
      "  return plot_raw_psd(raw, tmin=tmin, fmin=fmin, fmax=fmax, **kwargs).axes\n"
     ]
    },
    {
     "name": "stdout",
     "output_type": "stream",
     "text": [
      "Creating RawArray with float64 data, n_channels=1, n_times=10000\n",
      "    Range : 0 ... 9999 =      0.000 ...     9.999 secs\n",
      "Ready.\n",
      "Effective window size : 2.048 (s)\n",
      "Need more than one channel to make topography for eeg. Disabling interactivity.\n",
      "Creating RawArray with float64 data, n_channels=1, n_times=10000\n",
      "    Range : 0 ... 9999 =      0.000 ...     9.999 secs\n",
      "Ready.\n",
      "Effective window size : 2.048 (s)\n",
      "Need more than one channel to make topography for eeg. Disabling interactivity.\n",
      "Creating RawArray with float64 data, n_channels=1, n_times=10000\n",
      "    Range : 0 ... 9999 =      0.000 ...     9.999 secs\n",
      "Ready.\n",
      "Effective window size : 2.048 (s)\n",
      "Need more than one channel to make topography for eeg. Disabling interactivity.\n"
     ]
    },
    {
     "name": "stderr",
     "output_type": "stream",
     "text": [
      "/home/rgast/PycharmProjects/PyRates/pyrates/utility/visualization.py:508: RuntimeWarning: Channel locations not available. Disabling spatial colors.\n",
      "  return plot_raw_psd(raw, tmin=tmin, fmin=fmin, fmax=fmax, **kwargs).axes\n",
      "/home/rgast/PycharmProjects/PyRates/pyrates/utility/visualization.py:508: RuntimeWarning: Channel locations not available. Disabling spatial colors.\n",
      "  return plot_raw_psd(raw, tmin=tmin, fmin=fmin, fmax=fmax, **kwargs).axes\n",
      "/home/rgast/PycharmProjects/PyRates/pyrates/utility/visualization.py:508: RuntimeWarning: Channel locations not available. Disabling spatial colors.\n",
      "  return plot_raw_psd(raw, tmin=tmin, fmin=fmin, fmax=fmax, **kwargs).axes\n"
     ]
    },
    {
     "name": "stdout",
     "output_type": "stream",
     "text": [
      "Creating RawArray with float64 data, n_channels=1, n_times=10000\n",
      "    Range : 0 ... 9999 =      0.000 ...     9.999 secs\n",
      "Ready.\n",
      "Effective window size : 2.048 (s)\n",
      "Need more than one channel to make topography for eeg. Disabling interactivity.\n",
      "Creating RawArray with float64 data, n_channels=1, n_times=10000\n",
      "    Range : 0 ... 9999 =      0.000 ...     9.999 secs\n",
      "Ready.\n",
      "Effective window size : 2.048 (s)\n",
      "Need more than one channel to make topography for eeg. Disabling interactivity.\n",
      "Creating RawArray with float64 data, n_channels=1, n_times=10000\n",
      "    Range : 0 ... 9999 =      0.000 ...     9.999 secs\n",
      "Ready.\n",
      "Effective window size : 2.048 (s)\n",
      "Need more than one channel to make topography for eeg. Disabling interactivity.\n"
     ]
    },
    {
     "name": "stderr",
     "output_type": "stream",
     "text": [
      "/home/rgast/PycharmProjects/PyRates/pyrates/utility/visualization.py:508: RuntimeWarning: Channel locations not available. Disabling spatial colors.\n",
      "  return plot_raw_psd(raw, tmin=tmin, fmin=fmin, fmax=fmax, **kwargs).axes\n",
      "/home/rgast/PycharmProjects/PyRates/pyrates/utility/visualization.py:508: RuntimeWarning: Channel locations not available. Disabling spatial colors.\n",
      "  return plot_raw_psd(raw, tmin=tmin, fmin=fmin, fmax=fmax, **kwargs).axes\n",
      "/home/rgast/PycharmProjects/PyRates/pyrates/utility/visualization.py:508: RuntimeWarning: Channel locations not available. Disabling spatial colors.\n",
      "  return plot_raw_psd(raw, tmin=tmin, fmin=fmin, fmax=fmax, **kwargs).axes\n"
     ]
    },
    {
     "name": "stdout",
     "output_type": "stream",
     "text": [
      "Creating RawArray with float64 data, n_channels=1, n_times=10000\n",
      "    Range : 0 ... 9999 =      0.000 ...     9.999 secs\n",
      "Ready.\n",
      "Effective window size : 2.048 (s)\n",
      "Need more than one channel to make topography for eeg. Disabling interactivity.\n",
      "Creating RawArray with float64 data, n_channels=1, n_times=10000\n",
      "    Range : 0 ... 9999 =      0.000 ...     9.999 secs\n",
      "Ready.\n",
      "Effective window size : 2.048 (s)\n",
      "Need more than one channel to make topography for eeg. Disabling interactivity.\n",
      "Creating RawArray with float64 data, n_channels=1, n_times=10000\n",
      "    Range : 0 ... 9999 =      0.000 ...     9.999 secs\n",
      "Ready.\n",
      "Effective window size : 2.048 (s)\n",
      "Need more than one channel to make topography for eeg. Disabling interactivity.\n"
     ]
    },
    {
     "name": "stderr",
     "output_type": "stream",
     "text": [
      "/home/rgast/PycharmProjects/PyRates/pyrates/utility/visualization.py:508: RuntimeWarning: Channel locations not available. Disabling spatial colors.\n",
      "  return plot_raw_psd(raw, tmin=tmin, fmin=fmin, fmax=fmax, **kwargs).axes\n",
      "/home/rgast/PycharmProjects/PyRates/pyrates/utility/visualization.py:508: RuntimeWarning: Channel locations not available. Disabling spatial colors.\n",
      "  return plot_raw_psd(raw, tmin=tmin, fmin=fmin, fmax=fmax, **kwargs).axes\n",
      "/home/rgast/PycharmProjects/PyRates/pyrates/utility/visualization.py:508: RuntimeWarning: Channel locations not available. Disabling spatial colors.\n",
      "  return plot_raw_psd(raw, tmin=tmin, fmin=fmin, fmax=fmax, **kwargs).axes\n"
     ]
    },
    {
     "name": "stdout",
     "output_type": "stream",
     "text": [
      "Creating RawArray with float64 data, n_channels=1, n_times=10000\n",
      "    Range : 0 ... 9999 =      0.000 ...     9.999 secs\n",
      "Ready.\n",
      "Effective window size : 2.048 (s)\n",
      "Need more than one channel to make topography for eeg. Disabling interactivity.\n",
      "Creating RawArray with float64 data, n_channels=1, n_times=10000\n",
      "    Range : 0 ... 9999 =      0.000 ...     9.999 secs\n",
      "Ready.\n",
      "Effective window size : 2.048 (s)\n",
      "Need more than one channel to make topography for eeg. Disabling interactivity.\n",
      "Creating RawArray with float64 data, n_channels=1, n_times=10000\n",
      "    Range : 0 ... 9999 =      0.000 ...     9.999 secs\n",
      "Ready.\n",
      "Effective window size : 2.048 (s)\n",
      "Need more than one channel to make topography for eeg. Disabling interactivity.\n"
     ]
    },
    {
     "name": "stderr",
     "output_type": "stream",
     "text": [
      "/home/rgast/PycharmProjects/PyRates/pyrates/utility/visualization.py:508: RuntimeWarning: Channel locations not available. Disabling spatial colors.\n",
      "  return plot_raw_psd(raw, tmin=tmin, fmin=fmin, fmax=fmax, **kwargs).axes\n",
      "/home/rgast/PycharmProjects/PyRates/pyrates/utility/visualization.py:508: RuntimeWarning: Channel locations not available. Disabling spatial colors.\n",
      "  return plot_raw_psd(raw, tmin=tmin, fmin=fmin, fmax=fmax, **kwargs).axes\n",
      "/home/rgast/PycharmProjects/PyRates/pyrates/utility/visualization.py:508: RuntimeWarning: Channel locations not available. Disabling spatial colors.\n",
      "  return plot_raw_psd(raw, tmin=tmin, fmin=fmin, fmax=fmax, **kwargs).axes\n"
     ]
    },
    {
     "name": "stdout",
     "output_type": "stream",
     "text": [
      "Creating RawArray with float64 data, n_channels=1, n_times=10000\n",
      "    Range : 0 ... 9999 =      0.000 ...     9.999 secs\n",
      "Ready.\n",
      "Effective window size : 2.048 (s)\n",
      "Need more than one channel to make topography for eeg. Disabling interactivity.\n",
      "Creating RawArray with float64 data, n_channels=1, n_times=10000\n",
      "    Range : 0 ... 9999 =      0.000 ...     9.999 secs\n",
      "Ready.\n",
      "Effective window size : 2.048 (s)\n",
      "Need more than one channel to make topography for eeg. Disabling interactivity.\n",
      "Creating RawArray with float64 data, n_channels=1, n_times=10000\n",
      "    Range : 0 ... 9999 =      0.000 ...     9.999 secs\n",
      "Ready.\n",
      "Effective window size : 2.048 (s)\n",
      "Need more than one channel to make topography for eeg. Disabling interactivity.\n"
     ]
    },
    {
     "name": "stderr",
     "output_type": "stream",
     "text": [
      "/home/rgast/PycharmProjects/PyRates/pyrates/utility/visualization.py:508: RuntimeWarning: Channel locations not available. Disabling spatial colors.\n",
      "  return plot_raw_psd(raw, tmin=tmin, fmin=fmin, fmax=fmax, **kwargs).axes\n",
      "/home/rgast/PycharmProjects/PyRates/pyrates/utility/visualization.py:508: RuntimeWarning: Channel locations not available. Disabling spatial colors.\n",
      "  return plot_raw_psd(raw, tmin=tmin, fmin=fmin, fmax=fmax, **kwargs).axes\n",
      "/home/rgast/PycharmProjects/PyRates/pyrates/utility/visualization.py:508: RuntimeWarning: Channel locations not available. Disabling spatial colors.\n",
      "  return plot_raw_psd(raw, tmin=tmin, fmin=fmin, fmax=fmax, **kwargs).axes\n"
     ]
    },
    {
     "name": "stdout",
     "output_type": "stream",
     "text": [
      "Creating RawArray with float64 data, n_channels=1, n_times=10000\n",
      "    Range : 0 ... 9999 =      0.000 ...     9.999 secs\n",
      "Ready.\n",
      "Effective window size : 2.048 (s)\n",
      "Need more than one channel to make topography for eeg. Disabling interactivity.\n",
      "Creating RawArray with float64 data, n_channels=1, n_times=10000\n",
      "    Range : 0 ... 9999 =      0.000 ...     9.999 secs\n",
      "Ready.\n",
      "Effective window size : 2.048 (s)\n",
      "Need more than one channel to make topography for eeg. Disabling interactivity.\n",
      "Creating RawArray with float64 data, n_channels=1, n_times=10000\n",
      "    Range : 0 ... 9999 =      0.000 ...     9.999 secs\n",
      "Ready.\n",
      "Effective window size : 2.048 (s)\n",
      "Need more than one channel to make topography for eeg. Disabling interactivity.\n"
     ]
    },
    {
     "name": "stderr",
     "output_type": "stream",
     "text": [
      "/home/rgast/PycharmProjects/PyRates/pyrates/utility/visualization.py:508: RuntimeWarning: Channel locations not available. Disabling spatial colors.\n",
      "  return plot_raw_psd(raw, tmin=tmin, fmin=fmin, fmax=fmax, **kwargs).axes\n",
      "/home/rgast/PycharmProjects/PyRates/pyrates/utility/visualization.py:508: RuntimeWarning: Channel locations not available. Disabling spatial colors.\n",
      "  return plot_raw_psd(raw, tmin=tmin, fmin=fmin, fmax=fmax, **kwargs).axes\n",
      "/home/rgast/PycharmProjects/PyRates/pyrates/utility/visualization.py:508: RuntimeWarning: Channel locations not available. Disabling spatial colors.\n",
      "  return plot_raw_psd(raw, tmin=tmin, fmin=fmin, fmax=fmax, **kwargs).axes\n"
     ]
    },
    {
     "name": "stdout",
     "output_type": "stream",
     "text": [
      "Creating RawArray with float64 data, n_channels=1, n_times=10000\n",
      "    Range : 0 ... 9999 =      0.000 ...     9.999 secs\n",
      "Ready.\n",
      "Effective window size : 2.048 (s)\n",
      "Need more than one channel to make topography for eeg. Disabling interactivity.\n",
      "Creating RawArray with float64 data, n_channels=1, n_times=10000\n",
      "    Range : 0 ... 9999 =      0.000 ...     9.999 secs\n",
      "Ready.\n",
      "Effective window size : 2.048 (s)\n",
      "Need more than one channel to make topography for eeg. Disabling interactivity.\n"
     ]
    },
    {
     "name": "stderr",
     "output_type": "stream",
     "text": [
      "/home/rgast/PycharmProjects/PyRates/pyrates/utility/visualization.py:508: RuntimeWarning: Channel locations not available. Disabling spatial colors.\n",
      "  return plot_raw_psd(raw, tmin=tmin, fmin=fmin, fmax=fmax, **kwargs).axes\n",
      "/home/rgast/PycharmProjects/PyRates/pyrates/utility/visualization.py:508: RuntimeWarning: Channel locations not available. Disabling spatial colors.\n",
      "  return plot_raw_psd(raw, tmin=tmin, fmin=fmin, fmax=fmax, **kwargs).axes\n"
     ]
    },
    {
     "name": "stdout",
     "output_type": "stream",
     "text": [
      "Creating RawArray with float64 data, n_channels=1, n_times=10000\n",
      "    Range : 0 ... 9999 =      0.000 ...     9.999 secs\n",
      "Ready.\n",
      "Effective window size : 2.048 (s)\n",
      "Need more than one channel to make topography for eeg. Disabling interactivity.\n",
      "Creating RawArray with float64 data, n_channels=1, n_times=10000\n",
      "    Range : 0 ... 9999 =      0.000 ...     9.999 secs\n",
      "Ready.\n",
      "Effective window size : 2.048 (s)\n",
      "Need more than one channel to make topography for eeg. Disabling interactivity.\n",
      "Creating RawArray with float64 data, n_channels=1, n_times=10000\n",
      "    Range : 0 ... 9999 =      0.000 ...     9.999 secs\n",
      "Ready.\n",
      "Effective window size : 2.048 (s)\n",
      "Need more than one channel to make topography for eeg. Disabling interactivity.\n"
     ]
    },
    {
     "name": "stderr",
     "output_type": "stream",
     "text": [
      "/home/rgast/PycharmProjects/PyRates/pyrates/utility/visualization.py:508: RuntimeWarning: Channel locations not available. Disabling spatial colors.\n",
      "  return plot_raw_psd(raw, tmin=tmin, fmin=fmin, fmax=fmax, **kwargs).axes\n",
      "/home/rgast/PycharmProjects/PyRates/pyrates/utility/visualization.py:508: RuntimeWarning: Channel locations not available. Disabling spatial colors.\n",
      "  return plot_raw_psd(raw, tmin=tmin, fmin=fmin, fmax=fmax, **kwargs).axes\n",
      "/home/rgast/PycharmProjects/PyRates/pyrates/utility/visualization.py:508: RuntimeWarning: Channel locations not available. Disabling spatial colors.\n",
      "  return plot_raw_psd(raw, tmin=tmin, fmin=fmin, fmax=fmax, **kwargs).axes\n"
     ]
    },
    {
     "name": "stdout",
     "output_type": "stream",
     "text": [
      "Creating RawArray with float64 data, n_channels=1, n_times=10000\n",
      "    Range : 0 ... 9999 =      0.000 ...     9.999 secs\n",
      "Ready.\n",
      "Effective window size : 2.048 (s)\n",
      "Need more than one channel to make topography for eeg. Disabling interactivity.\n",
      "Creating RawArray with float64 data, n_channels=1, n_times=10000\n",
      "    Range : 0 ... 9999 =      0.000 ...     9.999 secs\n",
      "Ready.\n",
      "Effective window size : 2.048 (s)\n",
      "Need more than one channel to make topography for eeg. Disabling interactivity.\n",
      "Creating RawArray with float64 data, n_channels=1, n_times=10000\n",
      "    Range : 0 ... 9999 =      0.000 ...     9.999 secs\n",
      "Ready.\n",
      "Effective window size : 2.048 (s)\n",
      "Need more than one channel to make topography for eeg. Disabling interactivity.\n"
     ]
    },
    {
     "name": "stderr",
     "output_type": "stream",
     "text": [
      "/home/rgast/PycharmProjects/PyRates/pyrates/utility/visualization.py:508: RuntimeWarning: Channel locations not available. Disabling spatial colors.\n",
      "  return plot_raw_psd(raw, tmin=tmin, fmin=fmin, fmax=fmax, **kwargs).axes\n",
      "/home/rgast/PycharmProjects/PyRates/pyrates/utility/visualization.py:508: RuntimeWarning: Channel locations not available. Disabling spatial colors.\n",
      "  return plot_raw_psd(raw, tmin=tmin, fmin=fmin, fmax=fmax, **kwargs).axes\n",
      "/home/rgast/PycharmProjects/PyRates/pyrates/utility/visualization.py:508: RuntimeWarning: Channel locations not available. Disabling spatial colors.\n",
      "  return plot_raw_psd(raw, tmin=tmin, fmin=fmin, fmax=fmax, **kwargs).axes\n"
     ]
    },
    {
     "name": "stdout",
     "output_type": "stream",
     "text": [
      "Creating RawArray with float64 data, n_channels=1, n_times=10000\n",
      "    Range : 0 ... 9999 =      0.000 ...     9.999 secs\n",
      "Ready.\n",
      "Effective window size : 2.048 (s)\n",
      "Need more than one channel to make topography for eeg. Disabling interactivity.\n",
      "Creating RawArray with float64 data, n_channels=1, n_times=10000\n",
      "    Range : 0 ... 9999 =      0.000 ...     9.999 secs\n",
      "Ready.\n",
      "Effective window size : 2.048 (s)\n",
      "Need more than one channel to make topography for eeg. Disabling interactivity.\n",
      "Creating RawArray with float64 data, n_channels=1, n_times=10000\n",
      "    Range : 0 ... 9999 =      0.000 ...     9.999 secs\n",
      "Ready.\n",
      "Effective window size : 2.048 (s)\n",
      "Need more than one channel to make topography for eeg. Disabling interactivity.\n"
     ]
    },
    {
     "name": "stderr",
     "output_type": "stream",
     "text": [
      "/home/rgast/PycharmProjects/PyRates/pyrates/utility/visualization.py:508: RuntimeWarning: Channel locations not available. Disabling spatial colors.\n",
      "  return plot_raw_psd(raw, tmin=tmin, fmin=fmin, fmax=fmax, **kwargs).axes\n",
      "/home/rgast/PycharmProjects/PyRates/pyrates/utility/visualization.py:508: RuntimeWarning: Channel locations not available. Disabling spatial colors.\n",
      "  return plot_raw_psd(raw, tmin=tmin, fmin=fmin, fmax=fmax, **kwargs).axes\n",
      "/home/rgast/PycharmProjects/PyRates/pyrates/utility/visualization.py:508: RuntimeWarning: Channel locations not available. Disabling spatial colors.\n",
      "  return plot_raw_psd(raw, tmin=tmin, fmin=fmin, fmax=fmax, **kwargs).axes\n"
     ]
    },
    {
     "name": "stdout",
     "output_type": "stream",
     "text": [
      "Creating RawArray with float64 data, n_channels=1, n_times=10000\n",
      "    Range : 0 ... 9999 =      0.000 ...     9.999 secs\n",
      "Ready.\n",
      "Effective window size : 2.048 (s)\n",
      "Need more than one channel to make topography for eeg. Disabling interactivity.\n",
      "Creating RawArray with float64 data, n_channels=1, n_times=10000\n",
      "    Range : 0 ... 9999 =      0.000 ...     9.999 secs\n",
      "Ready.\n",
      "Effective window size : 2.048 (s)\n",
      "Need more than one channel to make topography for eeg. Disabling interactivity.\n",
      "Creating RawArray with float64 data, n_channels=1, n_times=10000\n",
      "    Range : 0 ... 9999 =      0.000 ...     9.999 secs\n",
      "Ready.\n",
      "Effective window size : 2.048 (s)\n",
      "Need more than one channel to make topography for eeg. Disabling interactivity.\n"
     ]
    },
    {
     "name": "stderr",
     "output_type": "stream",
     "text": [
      "/home/rgast/PycharmProjects/PyRates/pyrates/utility/visualization.py:508: RuntimeWarning: Channel locations not available. Disabling spatial colors.\n",
      "  return plot_raw_psd(raw, tmin=tmin, fmin=fmin, fmax=fmax, **kwargs).axes\n",
      "/home/rgast/PycharmProjects/PyRates/pyrates/utility/visualization.py:508: RuntimeWarning: Channel locations not available. Disabling spatial colors.\n",
      "  return plot_raw_psd(raw, tmin=tmin, fmin=fmin, fmax=fmax, **kwargs).axes\n",
      "/home/rgast/PycharmProjects/PyRates/pyrates/utility/visualization.py:508: RuntimeWarning: Channel locations not available. Disabling spatial colors.\n",
      "  return plot_raw_psd(raw, tmin=tmin, fmin=fmin, fmax=fmax, **kwargs).axes\n"
     ]
    },
    {
     "name": "stdout",
     "output_type": "stream",
     "text": [
      "Creating RawArray with float64 data, n_channels=1, n_times=10000\n",
      "    Range : 0 ... 9999 =      0.000 ...     9.999 secs\n",
      "Ready.\n",
      "Effective window size : 2.048 (s)\n",
      "Need more than one channel to make topography for eeg. Disabling interactivity.\n",
      "Creating RawArray with float64 data, n_channels=1, n_times=10000\n",
      "    Range : 0 ... 9999 =      0.000 ...     9.999 secs\n",
      "Ready.\n",
      "Effective window size : 2.048 (s)\n",
      "Need more than one channel to make topography for eeg. Disabling interactivity.\n",
      "Creating RawArray with float64 data, n_channels=1, n_times=10000\n",
      "    Range : 0 ... 9999 =      0.000 ...     9.999 secs\n",
      "Ready.\n",
      "Effective window size : 2.048 (s)\n",
      "Need more than one channel to make topography for eeg. Disabling interactivity.\n",
      "Creating RawArray with float64 data, n_channels=1, n_times=10000\n"
     ]
    },
    {
     "name": "stderr",
     "output_type": "stream",
     "text": [
      "/home/rgast/PycharmProjects/PyRates/pyrates/utility/visualization.py:508: RuntimeWarning: Channel locations not available. Disabling spatial colors.\n",
      "  return plot_raw_psd(raw, tmin=tmin, fmin=fmin, fmax=fmax, **kwargs).axes\n",
      "/home/rgast/PycharmProjects/PyRates/pyrates/utility/visualization.py:508: RuntimeWarning: Channel locations not available. Disabling spatial colors.\n",
      "  return plot_raw_psd(raw, tmin=tmin, fmin=fmin, fmax=fmax, **kwargs).axes\n",
      "/home/rgast/PycharmProjects/PyRates/pyrates/utility/visualization.py:508: RuntimeWarning: Channel locations not available. Disabling spatial colors.\n",
      "  return plot_raw_psd(raw, tmin=tmin, fmin=fmin, fmax=fmax, **kwargs).axes\n"
     ]
    },
    {
     "name": "stdout",
     "output_type": "stream",
     "text": [
      "    Range : 0 ... 9999 =      0.000 ...     9.999 secs\n",
      "Ready.\n",
      "Effective window size : 2.048 (s)\n",
      "Need more than one channel to make topography for eeg. Disabling interactivity.\n",
      "Creating RawArray with float64 data, n_channels=1, n_times=10000\n",
      "    Range : 0 ... 9999 =      0.000 ...     9.999 secs\n",
      "Ready.\n",
      "Effective window size : 2.048 (s)\n",
      "Need more than one channel to make topography for eeg. Disabling interactivity.\n",
      "Creating RawArray with float64 data, n_channels=1, n_times=10000\n",
      "    Range : 0 ... 9999 =      0.000 ...     9.999 secs\n",
      "Ready.\n",
      "Effective window size : 2.048 (s)\n",
      "Need more than one channel to make topography for eeg. Disabling interactivity.\n"
     ]
    },
    {
     "name": "stderr",
     "output_type": "stream",
     "text": [
      "/home/rgast/PycharmProjects/PyRates/pyrates/utility/visualization.py:508: RuntimeWarning: Channel locations not available. Disabling spatial colors.\n",
      "  return plot_raw_psd(raw, tmin=tmin, fmin=fmin, fmax=fmax, **kwargs).axes\n",
      "/home/rgast/PycharmProjects/PyRates/pyrates/utility/visualization.py:508: RuntimeWarning: Channel locations not available. Disabling spatial colors.\n",
      "  return plot_raw_psd(raw, tmin=tmin, fmin=fmin, fmax=fmax, **kwargs).axes\n",
      "/home/rgast/PycharmProjects/PyRates/pyrates/utility/visualization.py:508: RuntimeWarning: Channel locations not available. Disabling spatial colors.\n",
      "  return plot_raw_psd(raw, tmin=tmin, fmin=fmin, fmax=fmax, **kwargs).axes\n"
     ]
    },
    {
     "name": "stdout",
     "output_type": "stream",
     "text": [
      "Creating RawArray with float64 data, n_channels=1, n_times=10000\n",
      "    Range : 0 ... 9999 =      0.000 ...     9.999 secs\n",
      "Ready.\n",
      "Effective window size : 2.048 (s)\n",
      "Need more than one channel to make topography for eeg. Disabling interactivity.\n",
      "Creating RawArray with float64 data, n_channels=1, n_times=10000\n",
      "    Range : 0 ... 9999 =      0.000 ...     9.999 secs\n",
      "Ready.\n",
      "Effective window size : 2.048 (s)\n",
      "Need more than one channel to make topography for eeg. Disabling interactivity.\n",
      "Creating RawArray with float64 data, n_channels=1, n_times=10000\n",
      "    Range : 0 ... 9999 =      0.000 ...     9.999 secs\n",
      "Ready.\n",
      "Effective window size : 2.048 (s)\n",
      "Need more than one channel to make topography for eeg. Disabling interactivity.\n"
     ]
    },
    {
     "name": "stderr",
     "output_type": "stream",
     "text": [
      "/home/rgast/PycharmProjects/PyRates/pyrates/utility/visualization.py:508: RuntimeWarning: Channel locations not available. Disabling spatial colors.\n",
      "  return plot_raw_psd(raw, tmin=tmin, fmin=fmin, fmax=fmax, **kwargs).axes\n",
      "/home/rgast/PycharmProjects/PyRates/pyrates/utility/visualization.py:508: RuntimeWarning: Channel locations not available. Disabling spatial colors.\n",
      "  return plot_raw_psd(raw, tmin=tmin, fmin=fmin, fmax=fmax, **kwargs).axes\n",
      "/home/rgast/PycharmProjects/PyRates/pyrates/utility/visualization.py:508: RuntimeWarning: Channel locations not available. Disabling spatial colors.\n",
      "  return plot_raw_psd(raw, tmin=tmin, fmin=fmin, fmax=fmax, **kwargs).axes\n"
     ]
    },
    {
     "name": "stdout",
     "output_type": "stream",
     "text": [
      "Creating RawArray with float64 data, n_channels=1, n_times=10000\n",
      "    Range : 0 ... 9999 =      0.000 ...     9.999 secs\n",
      "Ready.\n",
      "Effective window size : 2.048 (s)\n",
      "Need more than one channel to make topography for eeg. Disabling interactivity.\n",
      "Creating RawArray with float64 data, n_channels=1, n_times=10000\n",
      "    Range : 0 ... 9999 =      0.000 ...     9.999 secs\n",
      "Ready.\n",
      "Effective window size : 2.048 (s)\n",
      "Need more than one channel to make topography for eeg. Disabling interactivity.\n",
      "Creating RawArray with float64 data, n_channels=1, n_times=10000\n",
      "    Range : 0 ... 9999 =      0.000 ...     9.999 secs\n",
      "Ready.\n",
      "Effective window size : 2.048 (s)\n",
      "Need more than one channel to make topography for eeg. Disabling interactivity.\n"
     ]
    },
    {
     "name": "stderr",
     "output_type": "stream",
     "text": [
      "/home/rgast/PycharmProjects/PyRates/pyrates/utility/visualization.py:508: RuntimeWarning: Channel locations not available. Disabling spatial colors.\n",
      "  return plot_raw_psd(raw, tmin=tmin, fmin=fmin, fmax=fmax, **kwargs).axes\n",
      "/home/rgast/PycharmProjects/PyRates/pyrates/utility/visualization.py:508: RuntimeWarning: Channel locations not available. Disabling spatial colors.\n",
      "  return plot_raw_psd(raw, tmin=tmin, fmin=fmin, fmax=fmax, **kwargs).axes\n",
      "/home/rgast/PycharmProjects/PyRates/pyrates/utility/visualization.py:508: RuntimeWarning: Channel locations not available. Disabling spatial colors.\n",
      "  return plot_raw_psd(raw, tmin=tmin, fmin=fmin, fmax=fmax, **kwargs).axes\n"
     ]
    },
    {
     "name": "stdout",
     "output_type": "stream",
     "text": [
      "Creating RawArray with float64 data, n_channels=1, n_times=10000\n",
      "    Range : 0 ... 9999 =      0.000 ...     9.999 secs\n",
      "Ready.\n",
      "Effective window size : 2.048 (s)\n",
      "Need more than one channel to make topography for eeg. Disabling interactivity.\n",
      "Creating RawArray with float64 data, n_channels=1, n_times=10000\n",
      "    Range : 0 ... 9999 =      0.000 ...     9.999 secs\n",
      "Ready.\n",
      "Effective window size : 2.048 (s)\n",
      "Need more than one channel to make topography for eeg. Disabling interactivity.\n",
      "Creating RawArray with float64 data, n_channels=1, n_times=10000\n",
      "    Range : 0 ... 9999 =      0.000 ...     9.999 secs\n",
      "Ready.\n",
      "Effective window size : 2.048 (s)\n",
      "Need more than one channel to make topography for eeg. Disabling interactivity.\n",
      "Creating RawArray with float64 data, n_channels=1, n_times=10000\n"
     ]
    },
    {
     "name": "stderr",
     "output_type": "stream",
     "text": [
      "/home/rgast/PycharmProjects/PyRates/pyrates/utility/visualization.py:508: RuntimeWarning: Channel locations not available. Disabling spatial colors.\n",
      "  return plot_raw_psd(raw, tmin=tmin, fmin=fmin, fmax=fmax, **kwargs).axes\n",
      "/home/rgast/PycharmProjects/PyRates/pyrates/utility/visualization.py:508: RuntimeWarning: Channel locations not available. Disabling spatial colors.\n",
      "  return plot_raw_psd(raw, tmin=tmin, fmin=fmin, fmax=fmax, **kwargs).axes\n",
      "/home/rgast/PycharmProjects/PyRates/pyrates/utility/visualization.py:508: RuntimeWarning: Channel locations not available. Disabling spatial colors.\n",
      "  return plot_raw_psd(raw, tmin=tmin, fmin=fmin, fmax=fmax, **kwargs).axes\n"
     ]
    },
    {
     "name": "stdout",
     "output_type": "stream",
     "text": [
      "    Range : 0 ... 9999 =      0.000 ...     9.999 secs\n",
      "Ready.\n",
      "Effective window size : 2.048 (s)\n",
      "Need more than one channel to make topography for eeg. Disabling interactivity.\n",
      "Creating RawArray with float64 data, n_channels=1, n_times=10000\n",
      "    Range : 0 ... 9999 =      0.000 ...     9.999 secs\n",
      "Ready.\n",
      "Effective window size : 2.048 (s)\n",
      "Need more than one channel to make topography for eeg. Disabling interactivity.\n",
      "Creating RawArray with float64 data, n_channels=1, n_times=10000\n",
      "    Range : 0 ... 9999 =      0.000 ...     9.999 secs\n",
      "Ready.\n",
      "Effective window size : 2.048 (s)\n",
      "Need more than one channel to make topography for eeg. Disabling interactivity.\n"
     ]
    },
    {
     "name": "stderr",
     "output_type": "stream",
     "text": [
      "/home/rgast/PycharmProjects/PyRates/pyrates/utility/visualization.py:508: RuntimeWarning: Channel locations not available. Disabling spatial colors.\n",
      "  return plot_raw_psd(raw, tmin=tmin, fmin=fmin, fmax=fmax, **kwargs).axes\n",
      "/home/rgast/PycharmProjects/PyRates/pyrates/utility/visualization.py:508: RuntimeWarning: Channel locations not available. Disabling spatial colors.\n",
      "  return plot_raw_psd(raw, tmin=tmin, fmin=fmin, fmax=fmax, **kwargs).axes\n",
      "/home/rgast/PycharmProjects/PyRates/pyrates/utility/visualization.py:508: RuntimeWarning: Channel locations not available. Disabling spatial colors.\n",
      "  return plot_raw_psd(raw, tmin=tmin, fmin=fmin, fmax=fmax, **kwargs).axes\n"
     ]
    },
    {
     "name": "stdout",
     "output_type": "stream",
     "text": [
      "Creating RawArray with float64 data, n_channels=1, n_times=10000\n",
      "    Range : 0 ... 9999 =      0.000 ...     9.999 secs\n",
      "Ready.\n",
      "Effective window size : 2.048 (s)\n",
      "Need more than one channel to make topography for eeg. Disabling interactivity.\n",
      "Creating RawArray with float64 data, n_channels=1, n_times=10000\n",
      "    Range : 0 ... 9999 =      0.000 ...     9.999 secs\n",
      "Ready.\n",
      "Effective window size : 2.048 (s)\n",
      "Need more than one channel to make topography for eeg. Disabling interactivity.\n",
      "Creating RawArray with float64 data, n_channels=1, n_times=10000\n",
      "    Range : 0 ... 9999 =      0.000 ...     9.999 secs\n",
      "Ready.\n"
     ]
    },
    {
     "name": "stderr",
     "output_type": "stream",
     "text": [
      "/home/rgast/PycharmProjects/PyRates/pyrates/utility/visualization.py:508: RuntimeWarning: Channel locations not available. Disabling spatial colors.\n",
      "  return plot_raw_psd(raw, tmin=tmin, fmin=fmin, fmax=fmax, **kwargs).axes\n",
      "/home/rgast/PycharmProjects/PyRates/pyrates/utility/visualization.py:508: RuntimeWarning: Channel locations not available. Disabling spatial colors.\n",
      "  return plot_raw_psd(raw, tmin=tmin, fmin=fmin, fmax=fmax, **kwargs).axes\n"
     ]
    },
    {
     "name": "stdout",
     "output_type": "stream",
     "text": [
      "Effective window size : 2.048 (s)\n",
      "Need more than one channel to make topography for eeg. Disabling interactivity.\n",
      "Creating RawArray with float64 data, n_channels=1, n_times=10000\n",
      "    Range : 0 ... 9999 =      0.000 ...     9.999 secs\n",
      "Ready.\n",
      "Effective window size : 2.048 (s)\n",
      "Need more than one channel to make topography for eeg. Disabling interactivity.\n",
      "Creating RawArray with float64 data, n_channels=1, n_times=10000\n",
      "    Range : 0 ... 9999 =      0.000 ...     9.999 secs\n",
      "Ready.\n"
     ]
    },
    {
     "name": "stderr",
     "output_type": "stream",
     "text": [
      "/home/rgast/PycharmProjects/PyRates/pyrates/utility/visualization.py:508: RuntimeWarning: Channel locations not available. Disabling spatial colors.\n",
      "  return plot_raw_psd(raw, tmin=tmin, fmin=fmin, fmax=fmax, **kwargs).axes\n",
      "/home/rgast/PycharmProjects/PyRates/pyrates/utility/visualization.py:508: RuntimeWarning: Channel locations not available. Disabling spatial colors.\n",
      "  return plot_raw_psd(raw, tmin=tmin, fmin=fmin, fmax=fmax, **kwargs).axes\n"
     ]
    },
    {
     "name": "stdout",
     "output_type": "stream",
     "text": [
      "Effective window size : 2.048 (s)\n",
      "Need more than one channel to make topography for eeg. Disabling interactivity.\n",
      "Creating RawArray with float64 data, n_channels=1, n_times=10000\n",
      "    Range : 0 ... 9999 =      0.000 ...     9.999 secs\n",
      "Ready.\n",
      "Effective window size : 2.048 (s)\n",
      "Need more than one channel to make topography for eeg. Disabling interactivity.\n",
      "Creating RawArray with float64 data, n_channels=1, n_times=10000\n",
      "    Range : 0 ... 9999 =      0.000 ...     9.999 secs\n",
      "Ready.\n",
      "Effective window size : 2.048 (s)\n",
      "Need more than one channel to make topography for eeg. Disabling interactivity.\n"
     ]
    },
    {
     "name": "stderr",
     "output_type": "stream",
     "text": [
      "/home/rgast/PycharmProjects/PyRates/pyrates/utility/visualization.py:508: RuntimeWarning: Channel locations not available. Disabling spatial colors.\n",
      "  return plot_raw_psd(raw, tmin=tmin, fmin=fmin, fmax=fmax, **kwargs).axes\n",
      "/home/rgast/PycharmProjects/PyRates/pyrates/utility/visualization.py:508: RuntimeWarning: Channel locations not available. Disabling spatial colors.\n",
      "  return plot_raw_psd(raw, tmin=tmin, fmin=fmin, fmax=fmax, **kwargs).axes\n",
      "/home/rgast/PycharmProjects/PyRates/pyrates/utility/visualization.py:508: RuntimeWarning: Channel locations not available. Disabling spatial colors.\n",
      "  return plot_raw_psd(raw, tmin=tmin, fmin=fmin, fmax=fmax, **kwargs).axes\n"
     ]
    },
    {
     "name": "stdout",
     "output_type": "stream",
     "text": [
      "Creating RawArray with float64 data, n_channels=1, n_times=10000\n",
      "    Range : 0 ... 9999 =      0.000 ...     9.999 secs\n",
      "Ready.\n",
      "Effective window size : 2.048 (s)\n",
      "Need more than one channel to make topography for eeg. Disabling interactivity.\n",
      "Creating RawArray with float64 data, n_channels=1, n_times=10000\n",
      "    Range : 0 ... 9999 =      0.000 ...     9.999 secs\n",
      "Ready.\n",
      "Effective window size : 2.048 (s)\n",
      "Need more than one channel to make topography for eeg. Disabling interactivity.\n",
      "Creating RawArray with float64 data, n_channels=1, n_times=10000\n",
      "    Range : 0 ... 9999 =      0.000 ...     9.999 secs\n",
      "Ready.\n",
      "Effective window size : 2.048 (s)\n"
     ]
    },
    {
     "name": "stderr",
     "output_type": "stream",
     "text": [
      "/home/rgast/PycharmProjects/PyRates/pyrates/utility/visualization.py:508: RuntimeWarning: Channel locations not available. Disabling spatial colors.\n",
      "  return plot_raw_psd(raw, tmin=tmin, fmin=fmin, fmax=fmax, **kwargs).axes\n",
      "/home/rgast/PycharmProjects/PyRates/pyrates/utility/visualization.py:508: RuntimeWarning: Channel locations not available. Disabling spatial colors.\n",
      "  return plot_raw_psd(raw, tmin=tmin, fmin=fmin, fmax=fmax, **kwargs).axes\n"
     ]
    },
    {
     "name": "stdout",
     "output_type": "stream",
     "text": [
      "Need more than one channel to make topography for eeg. Disabling interactivity.\n",
      "Creating RawArray with float64 data, n_channels=1, n_times=10000\n",
      "    Range : 0 ... 9999 =      0.000 ...     9.999 secs\n",
      "Ready.\n",
      "Effective window size : 2.048 (s)\n",
      "Need more than one channel to make topography for eeg. Disabling interactivity.\n",
      "Creating RawArray with float64 data, n_channels=1, n_times=10000\n"
     ]
    },
    {
     "name": "stderr",
     "output_type": "stream",
     "text": [
      "/home/rgast/PycharmProjects/PyRates/pyrates/utility/visualization.py:508: RuntimeWarning: Channel locations not available. Disabling spatial colors.\n",
      "  return plot_raw_psd(raw, tmin=tmin, fmin=fmin, fmax=fmax, **kwargs).axes\n",
      "/home/rgast/PycharmProjects/PyRates/pyrates/utility/visualization.py:508: RuntimeWarning: Channel locations not available. Disabling spatial colors.\n",
      "  return plot_raw_psd(raw, tmin=tmin, fmin=fmin, fmax=fmax, **kwargs).axes\n"
     ]
    },
    {
     "name": "stdout",
     "output_type": "stream",
     "text": [
      "    Range : 0 ... 9999 =      0.000 ...     9.999 secs\n",
      "Ready.\n",
      "Effective window size : 2.048 (s)\n",
      "Need more than one channel to make topography for eeg. Disabling interactivity.\n",
      "Creating RawArray with float64 data, n_channels=1, n_times=10000\n",
      "    Range : 0 ... 9999 =      0.000 ...     9.999 secs\n",
      "Ready.\n",
      "Effective window size : 2.048 (s)\n",
      "Need more than one channel to make topography for eeg. Disabling interactivity.\n",
      "Creating RawArray with float64 data, n_channels=1, n_times=10000\n",
      "    Range : 0 ... 9999 =      0.000 ...     9.999 secs\n",
      "Ready.\n"
     ]
    },
    {
     "name": "stderr",
     "output_type": "stream",
     "text": [
      "/home/rgast/PycharmProjects/PyRates/pyrates/utility/visualization.py:508: RuntimeWarning: Channel locations not available. Disabling spatial colors.\n",
      "  return plot_raw_psd(raw, tmin=tmin, fmin=fmin, fmax=fmax, **kwargs).axes\n",
      "/home/rgast/PycharmProjects/PyRates/pyrates/utility/visualization.py:508: RuntimeWarning: Channel locations not available. Disabling spatial colors.\n",
      "  return plot_raw_psd(raw, tmin=tmin, fmin=fmin, fmax=fmax, **kwargs).axes\n"
     ]
    },
    {
     "name": "stdout",
     "output_type": "stream",
     "text": [
      "Effective window size : 2.048 (s)\n",
      "Need more than one channel to make topography for eeg. Disabling interactivity.\n",
      "Creating RawArray with float64 data, n_channels=1, n_times=10000\n",
      "    Range : 0 ... 9999 =      0.000 ...     9.999 secs\n",
      "Ready.\n",
      "Effective window size : 2.048 (s)\n",
      "Need more than one channel to make topography for eeg. Disabling interactivity.\n",
      "Creating RawArray with float64 data, n_channels=1, n_times=10000\n",
      "    Range : 0 ... 9999 =      0.000 ...     9.999 secs\n",
      "Ready.\n"
     ]
    },
    {
     "name": "stderr",
     "output_type": "stream",
     "text": [
      "/home/rgast/PycharmProjects/PyRates/pyrates/utility/visualization.py:508: RuntimeWarning: Channel locations not available. Disabling spatial colors.\n",
      "  return plot_raw_psd(raw, tmin=tmin, fmin=fmin, fmax=fmax, **kwargs).axes\n",
      "/home/rgast/PycharmProjects/PyRates/pyrates/utility/visualization.py:508: RuntimeWarning: Channel locations not available. Disabling spatial colors.\n",
      "  return plot_raw_psd(raw, tmin=tmin, fmin=fmin, fmax=fmax, **kwargs).axes\n"
     ]
    },
    {
     "name": "stdout",
     "output_type": "stream",
     "text": [
      "Effective window size : 2.048 (s)\n",
      "Need more than one channel to make topography for eeg. Disabling interactivity.\n",
      "Creating RawArray with float64 data, n_channels=1, n_times=10000\n",
      "    Range : 0 ... 9999 =      0.000 ...     9.999 secs\n",
      "Ready.\n",
      "Effective window size : 2.048 (s)\n",
      "Need more than one channel to make topography for eeg. Disabling interactivity.\n",
      "Creating RawArray with float64 data, n_channels=1, n_times=10000\n",
      "    Range : 0 ... 9999 =      0.000 ...     9.999 secs\n",
      "Ready.\n"
     ]
    },
    {
     "name": "stderr",
     "output_type": "stream",
     "text": [
      "/home/rgast/PycharmProjects/PyRates/pyrates/utility/visualization.py:508: RuntimeWarning: Channel locations not available. Disabling spatial colors.\n",
      "  return plot_raw_psd(raw, tmin=tmin, fmin=fmin, fmax=fmax, **kwargs).axes\n",
      "/home/rgast/PycharmProjects/PyRates/pyrates/utility/visualization.py:508: RuntimeWarning: Channel locations not available. Disabling spatial colors.\n",
      "  return plot_raw_psd(raw, tmin=tmin, fmin=fmin, fmax=fmax, **kwargs).axes\n"
     ]
    },
    {
     "name": "stdout",
     "output_type": "stream",
     "text": [
      "Effective window size : 2.048 (s)\n",
      "Need more than one channel to make topography for eeg. Disabling interactivity.\n",
      "Creating RawArray with float64 data, n_channels=1, n_times=10000\n",
      "    Range : 0 ... 9999 =      0.000 ...     9.999 secs\n",
      "Ready.\n",
      "Effective window size : 2.048 (s)\n",
      "Need more than one channel to make topography for eeg. Disabling interactivity.\n",
      "Creating RawArray with float64 data, n_channels=1, n_times=10000\n",
      "    Range : 0 ... 9999 =      0.000 ...     9.999 secs\n",
      "Ready.\n"
     ]
    },
    {
     "name": "stderr",
     "output_type": "stream",
     "text": [
      "/home/rgast/PycharmProjects/PyRates/pyrates/utility/visualization.py:508: RuntimeWarning: Channel locations not available. Disabling spatial colors.\n",
      "  return plot_raw_psd(raw, tmin=tmin, fmin=fmin, fmax=fmax, **kwargs).axes\n",
      "/home/rgast/PycharmProjects/PyRates/pyrates/utility/visualization.py:508: RuntimeWarning: Channel locations not available. Disabling spatial colors.\n",
      "  return plot_raw_psd(raw, tmin=tmin, fmin=fmin, fmax=fmax, **kwargs).axes\n"
     ]
    },
    {
     "name": "stdout",
     "output_type": "stream",
     "text": [
      "Effective window size : 2.048 (s)\n",
      "Need more than one channel to make topography for eeg. Disabling interactivity.\n",
      "Creating RawArray with float64 data, n_channels=1, n_times=10000\n",
      "    Range : 0 ... 9999 =      0.000 ...     9.999 secs\n",
      "Ready.\n",
      "Effective window size : 2.048 (s)\n",
      "Need more than one channel to make topography for eeg. Disabling interactivity.\n",
      "Creating RawArray with float64 data, n_channels=1, n_times=10000\n"
     ]
    },
    {
     "name": "stderr",
     "output_type": "stream",
     "text": [
      "/home/rgast/PycharmProjects/PyRates/pyrates/utility/visualization.py:508: RuntimeWarning: Channel locations not available. Disabling spatial colors.\n",
      "  return plot_raw_psd(raw, tmin=tmin, fmin=fmin, fmax=fmax, **kwargs).axes\n",
      "/home/rgast/PycharmProjects/PyRates/pyrates/utility/visualization.py:508: RuntimeWarning: Channel locations not available. Disabling spatial colors.\n",
      "  return plot_raw_psd(raw, tmin=tmin, fmin=fmin, fmax=fmax, **kwargs).axes\n"
     ]
    },
    {
     "name": "stdout",
     "output_type": "stream",
     "text": [
      "    Range : 0 ... 9999 =      0.000 ...     9.999 secs\n",
      "Ready.\n",
      "Effective window size : 2.048 (s)\n",
      "Need more than one channel to make topography for eeg. Disabling interactivity.\n",
      "Creating RawArray with float64 data, n_channels=1, n_times=10000\n",
      "    Range : 0 ... 9999 =      0.000 ...     9.999 secs\n",
      "Ready.\n",
      "Effective window size : 2.048 (s)\n",
      "Need more than one channel to make topography for eeg. Disabling interactivity.\n",
      "Creating RawArray with float64 data, n_channels=1, n_times=10000\n"
     ]
    },
    {
     "name": "stderr",
     "output_type": "stream",
     "text": [
      "/home/rgast/PycharmProjects/PyRates/pyrates/utility/visualization.py:508: RuntimeWarning: Channel locations not available. Disabling spatial colors.\n",
      "  return plot_raw_psd(raw, tmin=tmin, fmin=fmin, fmax=fmax, **kwargs).axes\n",
      "/home/rgast/PycharmProjects/PyRates/pyrates/utility/visualization.py:508: RuntimeWarning: Channel locations not available. Disabling spatial colors.\n",
      "  return plot_raw_psd(raw, tmin=tmin, fmin=fmin, fmax=fmax, **kwargs).axes\n"
     ]
    },
    {
     "name": "stdout",
     "output_type": "stream",
     "text": [
      "    Range : 0 ... 9999 =      0.000 ...     9.999 secs\n",
      "Ready.\n",
      "Effective window size : 2.048 (s)\n",
      "Need more than one channel to make topography for eeg. Disabling interactivity.\n",
      "Creating RawArray with float64 data, n_channels=1, n_times=10000\n",
      "    Range : 0 ... 9999 =      0.000 ...     9.999 secs\n",
      "Ready.\n",
      "Effective window size : 2.048 (s)\n",
      "Need more than one channel to make topography for eeg. Disabling interactivity.\n",
      "Creating RawArray with float64 data, n_channels=1, n_times=10000\n",
      "    Range : 0 ... 9999 =      0.000 ...     9.999 secs\n",
      "Ready.\n"
     ]
    },
    {
     "name": "stderr",
     "output_type": "stream",
     "text": [
      "/home/rgast/PycharmProjects/PyRates/pyrates/utility/visualization.py:508: RuntimeWarning: Channel locations not available. Disabling spatial colors.\n",
      "  return plot_raw_psd(raw, tmin=tmin, fmin=fmin, fmax=fmax, **kwargs).axes\n",
      "/home/rgast/PycharmProjects/PyRates/pyrates/utility/visualization.py:508: RuntimeWarning: Channel locations not available. Disabling spatial colors.\n",
      "  return plot_raw_psd(raw, tmin=tmin, fmin=fmin, fmax=fmax, **kwargs).axes\n"
     ]
    },
    {
     "name": "stdout",
     "output_type": "stream",
     "text": [
      "Effective window size : 2.048 (s)\n",
      "Need more than one channel to make topography for eeg. Disabling interactivity.\n",
      "Creating RawArray with float64 data, n_channels=1, n_times=10000\n",
      "    Range : 0 ... 9999 =      0.000 ...     9.999 secs\n",
      "Ready.\n",
      "Effective window size : 2.048 (s)\n",
      "Need more than one channel to make topography for eeg. Disabling interactivity.\n",
      "Creating RawArray with float64 data, n_channels=1, n_times=10000\n",
      "    Range : 0 ... 9999 =      0.000 ...     9.999 secs\n",
      "Ready.\n"
     ]
    },
    {
     "name": "stderr",
     "output_type": "stream",
     "text": [
      "/home/rgast/PycharmProjects/PyRates/pyrates/utility/visualization.py:508: RuntimeWarning: Channel locations not available. Disabling spatial colors.\n",
      "  return plot_raw_psd(raw, tmin=tmin, fmin=fmin, fmax=fmax, **kwargs).axes\n",
      "/home/rgast/PycharmProjects/PyRates/pyrates/utility/visualization.py:508: RuntimeWarning: Channel locations not available. Disabling spatial colors.\n",
      "  return plot_raw_psd(raw, tmin=tmin, fmin=fmin, fmax=fmax, **kwargs).axes\n"
     ]
    },
    {
     "name": "stdout",
     "output_type": "stream",
     "text": [
      "Effective window size : 2.048 (s)\n",
      "Need more than one channel to make topography for eeg. Disabling interactivity.\n",
      "Creating RawArray with float64 data, n_channels=1, n_times=10000\n",
      "    Range : 0 ... 9999 =      0.000 ...     9.999 secs\n",
      "Ready.\n",
      "Effective window size : 2.048 (s)\n",
      "Need more than one channel to make topography for eeg. Disabling interactivity.\n",
      "Creating RawArray with float64 data, n_channels=1, n_times=10000\n",
      "    Range : 0 ... 9999 =      0.000 ...     9.999 secs\n",
      "Ready.\n",
      "Effective window size : 2.048 (s)\n",
      "Need more than one channel to make topography for eeg. Disabling interactivity.\n"
     ]
    },
    {
     "name": "stderr",
     "output_type": "stream",
     "text": [
      "/home/rgast/PycharmProjects/PyRates/pyrates/utility/visualization.py:508: RuntimeWarning: Channel locations not available. Disabling spatial colors.\n",
      "  return plot_raw_psd(raw, tmin=tmin, fmin=fmin, fmax=fmax, **kwargs).axes\n",
      "/home/rgast/PycharmProjects/PyRates/pyrates/utility/visualization.py:508: RuntimeWarning: Channel locations not available. Disabling spatial colors.\n",
      "  return plot_raw_psd(raw, tmin=tmin, fmin=fmin, fmax=fmax, **kwargs).axes\n",
      "/home/rgast/PycharmProjects/PyRates/pyrates/utility/visualization.py:508: RuntimeWarning: Channel locations not available. Disabling spatial colors.\n",
      "  return plot_raw_psd(raw, tmin=tmin, fmin=fmin, fmax=fmax, **kwargs).axes\n"
     ]
    },
    {
     "name": "stdout",
     "output_type": "stream",
     "text": [
      "Creating RawArray with float64 data, n_channels=1, n_times=10000\n",
      "    Range : 0 ... 9999 =      0.000 ...     9.999 secs\n",
      "Ready.\n",
      "Effective window size : 2.048 (s)\n",
      "Need more than one channel to make topography for eeg. Disabling interactivity.\n",
      "Creating RawArray with float64 data, n_channels=1, n_times=10000\n",
      "    Range : 0 ... 9999 =      0.000 ...     9.999 secs\n",
      "Ready.\n",
      "Effective window size : 2.048 (s)\n",
      "Need more than one channel to make topography for eeg. Disabling interactivity.\n"
     ]
    },
    {
     "name": "stderr",
     "output_type": "stream",
     "text": [
      "/home/rgast/PycharmProjects/PyRates/pyrates/utility/visualization.py:508: RuntimeWarning: Channel locations not available. Disabling spatial colors.\n",
      "  return plot_raw_psd(raw, tmin=tmin, fmin=fmin, fmax=fmax, **kwargs).axes\n",
      "/home/rgast/PycharmProjects/PyRates/pyrates/utility/visualization.py:508: RuntimeWarning: Channel locations not available. Disabling spatial colors.\n",
      "  return plot_raw_psd(raw, tmin=tmin, fmin=fmin, fmax=fmax, **kwargs).axes\n"
     ]
    },
    {
     "name": "stdout",
     "output_type": "stream",
     "text": [
      "Creating RawArray with float64 data, n_channels=1, n_times=10000\n",
      "    Range : 0 ... 9999 =      0.000 ...     9.999 secs\n",
      "Ready.\n",
      "Effective window size : 2.048 (s)\n",
      "Need more than one channel to make topography for eeg. Disabling interactivity.\n",
      "Creating RawArray with float64 data, n_channels=1, n_times=10000\n",
      "    Range : 0 ... 9999 =      0.000 ...     9.999 secs\n",
      "Ready.\n",
      "Effective window size : 2.048 (s)\n",
      "Need more than one channel to make topography for eeg. Disabling interactivity.\n",
      "Creating RawArray with float64 data, n_channels=1, n_times=10000\n",
      "    Range : 0 ... 9999 =      0.000 ...     9.999 secs\n",
      "Ready.\n",
      "Effective window size : 2.048 (s)\n",
      "Need more than one channel to make topography for eeg. Disabling interactivity.\n"
     ]
    },
    {
     "name": "stderr",
     "output_type": "stream",
     "text": [
      "/home/rgast/PycharmProjects/PyRates/pyrates/utility/visualization.py:508: RuntimeWarning: Channel locations not available. Disabling spatial colors.\n",
      "  return plot_raw_psd(raw, tmin=tmin, fmin=fmin, fmax=fmax, **kwargs).axes\n",
      "/home/rgast/PycharmProjects/PyRates/pyrates/utility/visualization.py:508: RuntimeWarning: Channel locations not available. Disabling spatial colors.\n",
      "  return plot_raw_psd(raw, tmin=tmin, fmin=fmin, fmax=fmax, **kwargs).axes\n",
      "/home/rgast/PycharmProjects/PyRates/pyrates/utility/visualization.py:508: RuntimeWarning: Channel locations not available. Disabling spatial colors.\n",
      "  return plot_raw_psd(raw, tmin=tmin, fmin=fmin, fmax=fmax, **kwargs).axes\n"
     ]
    },
    {
     "name": "stdout",
     "output_type": "stream",
     "text": [
      "Creating RawArray with float64 data, n_channels=1, n_times=10000\n",
      "    Range : 0 ... 9999 =      0.000 ...     9.999 secs\n",
      "Ready.\n",
      "Effective window size : 2.048 (s)\n",
      "Need more than one channel to make topography for eeg. Disabling interactivity.\n",
      "Creating RawArray with float64 data, n_channels=1, n_times=10000\n",
      "    Range : 0 ... 9999 =      0.000 ...     9.999 secs\n",
      "Ready.\n",
      "Effective window size : 2.048 (s)\n",
      "Need more than one channel to make topography for eeg. Disabling interactivity.\n",
      "Creating RawArray with float64 data, n_channels=1, n_times=10000\n",
      "    Range : 0 ... 9999 =      0.000 ...     9.999 secs\n",
      "Ready.\n",
      "Effective window size : 2.048 (s)\n",
      "Need more than one channel to make topography for eeg. Disabling interactivity.\n"
     ]
    },
    {
     "name": "stderr",
     "output_type": "stream",
     "text": [
      "/home/rgast/PycharmProjects/PyRates/pyrates/utility/visualization.py:508: RuntimeWarning: Channel locations not available. Disabling spatial colors.\n",
      "  return plot_raw_psd(raw, tmin=tmin, fmin=fmin, fmax=fmax, **kwargs).axes\n",
      "/home/rgast/PycharmProjects/PyRates/pyrates/utility/visualization.py:508: RuntimeWarning: Channel locations not available. Disabling spatial colors.\n",
      "  return plot_raw_psd(raw, tmin=tmin, fmin=fmin, fmax=fmax, **kwargs).axes\n",
      "/home/rgast/PycharmProjects/PyRates/pyrates/utility/visualization.py:508: RuntimeWarning: Channel locations not available. Disabling spatial colors.\n",
      "  return plot_raw_psd(raw, tmin=tmin, fmin=fmin, fmax=fmax, **kwargs).axes\n"
     ]
    },
    {
     "name": "stdout",
     "output_type": "stream",
     "text": [
      "Creating RawArray with float64 data, n_channels=1, n_times=10000\n",
      "    Range : 0 ... 9999 =      0.000 ...     9.999 secs\n",
      "Ready.\n",
      "Effective window size : 2.048 (s)\n",
      "Need more than one channel to make topography for eeg. Disabling interactivity.\n",
      "Creating RawArray with float64 data, n_channels=1, n_times=10000\n",
      "    Range : 0 ... 9999 =      0.000 ...     9.999 secs\n",
      "Ready.\n",
      "Effective window size : 2.048 (s)\n",
      "Need more than one channel to make topography for eeg. Disabling interactivity.\n",
      "Creating RawArray with float64 data, n_channels=1, n_times=10000\n",
      "    Range : 0 ... 9999 =      0.000 ...     9.999 secs\n",
      "Ready.\n"
     ]
    },
    {
     "name": "stderr",
     "output_type": "stream",
     "text": [
      "/home/rgast/PycharmProjects/PyRates/pyrates/utility/visualization.py:508: RuntimeWarning: Channel locations not available. Disabling spatial colors.\n",
      "  return plot_raw_psd(raw, tmin=tmin, fmin=fmin, fmax=fmax, **kwargs).axes\n",
      "/home/rgast/PycharmProjects/PyRates/pyrates/utility/visualization.py:508: RuntimeWarning: Channel locations not available. Disabling spatial colors.\n",
      "  return plot_raw_psd(raw, tmin=tmin, fmin=fmin, fmax=fmax, **kwargs).axes\n"
     ]
    },
    {
     "name": "stdout",
     "output_type": "stream",
     "text": [
      "Effective window size : 2.048 (s)\n",
      "Need more than one channel to make topography for eeg. Disabling interactivity.\n",
      "Creating RawArray with float64 data, n_channels=1, n_times=10000\n",
      "    Range : 0 ... 9999 =      0.000 ...     9.999 secs\n",
      "Ready.\n",
      "Effective window size : 2.048 (s)\n",
      "Need more than one channel to make topography for eeg. Disabling interactivity.\n",
      "Creating RawArray with float64 data, n_channels=1, n_times=10000\n"
     ]
    },
    {
     "name": "stderr",
     "output_type": "stream",
     "text": [
      "/home/rgast/PycharmProjects/PyRates/pyrates/utility/visualization.py:508: RuntimeWarning: Channel locations not available. Disabling spatial colors.\n",
      "  return plot_raw_psd(raw, tmin=tmin, fmin=fmin, fmax=fmax, **kwargs).axes\n",
      "/home/rgast/PycharmProjects/PyRates/pyrates/utility/visualization.py:508: RuntimeWarning: Channel locations not available. Disabling spatial colors.\n",
      "  return plot_raw_psd(raw, tmin=tmin, fmin=fmin, fmax=fmax, **kwargs).axes\n"
     ]
    },
    {
     "name": "stdout",
     "output_type": "stream",
     "text": [
      "    Range : 0 ... 9999 =      0.000 ...     9.999 secs\n",
      "Ready.\n",
      "Effective window size : 2.048 (s)\n",
      "Need more than one channel to make topography for eeg. Disabling interactivity.\n",
      "Creating RawArray with float64 data, n_channels=1, n_times=10000\n",
      "    Range : 0 ... 9999 =      0.000 ...     9.999 secs\n",
      "Ready.\n",
      "Effective window size : 2.048 (s)\n",
      "Need more than one channel to make topography for eeg. Disabling interactivity.\n",
      "Creating RawArray with float64 data, n_channels=1, n_times=10000\n",
      "    Range : 0 ... 9999 =      0.000 ...     9.999 secs\n",
      "Ready.\n"
     ]
    },
    {
     "name": "stderr",
     "output_type": "stream",
     "text": [
      "/home/rgast/PycharmProjects/PyRates/pyrates/utility/visualization.py:508: RuntimeWarning: Channel locations not available. Disabling spatial colors.\n",
      "  return plot_raw_psd(raw, tmin=tmin, fmin=fmin, fmax=fmax, **kwargs).axes\n",
      "/home/rgast/PycharmProjects/PyRates/pyrates/utility/visualization.py:508: RuntimeWarning: Channel locations not available. Disabling spatial colors.\n",
      "  return plot_raw_psd(raw, tmin=tmin, fmin=fmin, fmax=fmax, **kwargs).axes\n"
     ]
    },
    {
     "name": "stdout",
     "output_type": "stream",
     "text": [
      "Effective window size : 2.048 (s)\n",
      "Need more than one channel to make topography for eeg. Disabling interactivity.\n",
      "Creating RawArray with float64 data, n_channels=1, n_times=10000\n",
      "    Range : 0 ... 9999 =      0.000 ...     9.999 secs\n",
      "Ready.\n",
      "Effective window size : 2.048 (s)\n",
      "Need more than one channel to make topography for eeg. Disabling interactivity.\n",
      "Creating RawArray with float64 data, n_channels=1, n_times=10000\n",
      "    Range : 0 ... 9999 =      0.000 ...     9.999 secs\n",
      "Ready.\n"
     ]
    },
    {
     "name": "stderr",
     "output_type": "stream",
     "text": [
      "/home/rgast/PycharmProjects/PyRates/pyrates/utility/visualization.py:508: RuntimeWarning: Channel locations not available. Disabling spatial colors.\n",
      "  return plot_raw_psd(raw, tmin=tmin, fmin=fmin, fmax=fmax, **kwargs).axes\n",
      "/home/rgast/PycharmProjects/PyRates/pyrates/utility/visualization.py:508: RuntimeWarning: Channel locations not available. Disabling spatial colors.\n",
      "  return plot_raw_psd(raw, tmin=tmin, fmin=fmin, fmax=fmax, **kwargs).axes\n"
     ]
    },
    {
     "name": "stdout",
     "output_type": "stream",
     "text": [
      "Effective window size : 2.048 (s)\n",
      "Need more than one channel to make topography for eeg. Disabling interactivity.\n",
      "Creating RawArray with float64 data, n_channels=1, n_times=10000\n",
      "    Range : 0 ... 9999 =      0.000 ...     9.999 secs\n",
      "Ready.\n",
      "Effective window size : 2.048 (s)\n",
      "Need more than one channel to make topography for eeg. Disabling interactivity.\n",
      "Creating RawArray with float64 data, n_channels=1, n_times=10000\n"
     ]
    },
    {
     "name": "stderr",
     "output_type": "stream",
     "text": [
      "/home/rgast/PycharmProjects/PyRates/pyrates/utility/visualization.py:508: RuntimeWarning: Channel locations not available. Disabling spatial colors.\n",
      "  return plot_raw_psd(raw, tmin=tmin, fmin=fmin, fmax=fmax, **kwargs).axes\n",
      "/home/rgast/PycharmProjects/PyRates/pyrates/utility/visualization.py:508: RuntimeWarning: Channel locations not available. Disabling spatial colors.\n",
      "  return plot_raw_psd(raw, tmin=tmin, fmin=fmin, fmax=fmax, **kwargs).axes\n"
     ]
    },
    {
     "name": "stdout",
     "output_type": "stream",
     "text": [
      "    Range : 0 ... 9999 =      0.000 ...     9.999 secs\n",
      "Ready.\n",
      "Effective window size : 2.048 (s)\n",
      "Need more than one channel to make topography for eeg. Disabling interactivity.\n",
      "Creating RawArray with float64 data, n_channels=1, n_times=10000\n",
      "    Range : 0 ... 9999 =      0.000 ...     9.999 secs\n",
      "Ready.\n",
      "Effective window size : 2.048 (s)\n",
      "Need more than one channel to make topography for eeg. Disabling interactivity.\n",
      "Creating RawArray with float64 data, n_channels=1, n_times=10000\n",
      "    Range : 0 ... 9999 =      0.000 ...     9.999 secs\n",
      "Ready.\n"
     ]
    },
    {
     "name": "stderr",
     "output_type": "stream",
     "text": [
      "/home/rgast/PycharmProjects/PyRates/pyrates/utility/visualization.py:508: RuntimeWarning: Channel locations not available. Disabling spatial colors.\n",
      "  return plot_raw_psd(raw, tmin=tmin, fmin=fmin, fmax=fmax, **kwargs).axes\n",
      "/home/rgast/PycharmProjects/PyRates/pyrates/utility/visualization.py:508: RuntimeWarning: Channel locations not available. Disabling spatial colors.\n",
      "  return plot_raw_psd(raw, tmin=tmin, fmin=fmin, fmax=fmax, **kwargs).axes\n"
     ]
    },
    {
     "name": "stdout",
     "output_type": "stream",
     "text": [
      "Effective window size : 2.048 (s)\n",
      "Need more than one channel to make topography for eeg. Disabling interactivity.\n",
      "Creating RawArray with float64 data, n_channels=1, n_times=10000\n",
      "    Range : 0 ... 9999 =      0.000 ...     9.999 secs\n",
      "Ready.\n",
      "Effective window size : 2.048 (s)\n",
      "Need more than one channel to make topography for eeg. Disabling interactivity.\n",
      "Creating RawArray with float64 data, n_channels=1, n_times=10000\n"
     ]
    },
    {
     "name": "stderr",
     "output_type": "stream",
     "text": [
      "/home/rgast/PycharmProjects/PyRates/pyrates/utility/visualization.py:508: RuntimeWarning: Channel locations not available. Disabling spatial colors.\n",
      "  return plot_raw_psd(raw, tmin=tmin, fmin=fmin, fmax=fmax, **kwargs).axes\n",
      "/home/rgast/PycharmProjects/PyRates/pyrates/utility/visualization.py:508: RuntimeWarning: Channel locations not available. Disabling spatial colors.\n",
      "  return plot_raw_psd(raw, tmin=tmin, fmin=fmin, fmax=fmax, **kwargs).axes\n"
     ]
    },
    {
     "name": "stdout",
     "output_type": "stream",
     "text": [
      "    Range : 0 ... 9999 =      0.000 ...     9.999 secs\n",
      "Ready.\n",
      "Effective window size : 2.048 (s)\n",
      "Need more than one channel to make topography for eeg. Disabling interactivity.\n",
      "Creating RawArray with float64 data, n_channels=1, n_times=10000\n",
      "    Range : 0 ... 9999 =      0.000 ...     9.999 secs\n",
      "Ready.\n",
      "Effective window size : 2.048 (s)\n",
      "Need more than one channel to make topography for eeg. Disabling interactivity.\n",
      "Creating RawArray with float64 data, n_channels=1, n_times=10000\n",
      "    Range : 0 ... 9999 =      0.000 ...     9.999 secs\n",
      "Ready.\n"
     ]
    },
    {
     "name": "stderr",
     "output_type": "stream",
     "text": [
      "/home/rgast/PycharmProjects/PyRates/pyrates/utility/visualization.py:508: RuntimeWarning: Channel locations not available. Disabling spatial colors.\n",
      "  return plot_raw_psd(raw, tmin=tmin, fmin=fmin, fmax=fmax, **kwargs).axes\n",
      "/home/rgast/PycharmProjects/PyRates/pyrates/utility/visualization.py:508: RuntimeWarning: Channel locations not available. Disabling spatial colors.\n",
      "  return plot_raw_psd(raw, tmin=tmin, fmin=fmin, fmax=fmax, **kwargs).axes\n"
     ]
    },
    {
     "name": "stdout",
     "output_type": "stream",
     "text": [
      "Effective window size : 2.048 (s)\n",
      "Need more than one channel to make topography for eeg. Disabling interactivity.\n",
      "Creating RawArray with float64 data, n_channels=1, n_times=10000\n",
      "    Range : 0 ... 9999 =      0.000 ...     9.999 secs\n",
      "Ready.\n",
      "Effective window size : 2.048 (s)\n",
      "Need more than one channel to make topography for eeg. Disabling interactivity.\n",
      "Creating RawArray with float64 data, n_channels=1, n_times=10000\n",
      "    Range : 0 ... 9999 =      0.000 ...     9.999 secs\n",
      "Ready.\n"
     ]
    },
    {
     "name": "stderr",
     "output_type": "stream",
     "text": [
      "/home/rgast/PycharmProjects/PyRates/pyrates/utility/visualization.py:508: RuntimeWarning: Channel locations not available. Disabling spatial colors.\n",
      "  return plot_raw_psd(raw, tmin=tmin, fmin=fmin, fmax=fmax, **kwargs).axes\n",
      "/home/rgast/PycharmProjects/PyRates/pyrates/utility/visualization.py:508: RuntimeWarning: Channel locations not available. Disabling spatial colors.\n",
      "  return plot_raw_psd(raw, tmin=tmin, fmin=fmin, fmax=fmax, **kwargs).axes\n"
     ]
    },
    {
     "name": "stdout",
     "output_type": "stream",
     "text": [
      "Effective window size : 2.048 (s)\n",
      "Need more than one channel to make topography for eeg. Disabling interactivity.\n",
      "Creating RawArray with float64 data, n_channels=1, n_times=10000\n",
      "    Range : 0 ... 9999 =      0.000 ...     9.999 secs\n",
      "Ready.\n",
      "Effective window size : 2.048 (s)\n",
      "Need more than one channel to make topography for eeg. Disabling interactivity.\n",
      "Creating RawArray with float64 data, n_channels=1, n_times=10000\n",
      "    Range : 0 ... 9999 =      0.000 ...     9.999 secs\n",
      "Ready.\n"
     ]
    },
    {
     "name": "stderr",
     "output_type": "stream",
     "text": [
      "/home/rgast/PycharmProjects/PyRates/pyrates/utility/visualization.py:508: RuntimeWarning: Channel locations not available. Disabling spatial colors.\n",
      "  return plot_raw_psd(raw, tmin=tmin, fmin=fmin, fmax=fmax, **kwargs).axes\n",
      "/home/rgast/PycharmProjects/PyRates/pyrates/utility/visualization.py:508: RuntimeWarning: Channel locations not available. Disabling spatial colors.\n",
      "  return plot_raw_psd(raw, tmin=tmin, fmin=fmin, fmax=fmax, **kwargs).axes\n"
     ]
    },
    {
     "name": "stdout",
     "output_type": "stream",
     "text": [
      "Effective window size : 2.048 (s)\n",
      "Need more than one channel to make topography for eeg. Disabling interactivity.\n",
      "Creating RawArray with float64 data, n_channels=1, n_times=10000\n",
      "    Range : 0 ... 9999 =      0.000 ...     9.999 secs\n",
      "Ready.\n",
      "Effective window size : 2.048 (s)\n",
      "Need more than one channel to make topography for eeg. Disabling interactivity.\n",
      "Creating RawArray with float64 data, n_channels=1, n_times=10000\n",
      "    Range : 0 ... 9999 =      0.000 ...     9.999 secs\n",
      "Ready.\n"
     ]
    },
    {
     "name": "stderr",
     "output_type": "stream",
     "text": [
      "/home/rgast/PycharmProjects/PyRates/pyrates/utility/visualization.py:508: RuntimeWarning: Channel locations not available. Disabling spatial colors.\n",
      "  return plot_raw_psd(raw, tmin=tmin, fmin=fmin, fmax=fmax, **kwargs).axes\n",
      "/home/rgast/PycharmProjects/PyRates/pyrates/utility/visualization.py:508: RuntimeWarning: Channel locations not available. Disabling spatial colors.\n",
      "  return plot_raw_psd(raw, tmin=tmin, fmin=fmin, fmax=fmax, **kwargs).axes\n"
     ]
    },
    {
     "name": "stdout",
     "output_type": "stream",
     "text": [
      "Effective window size : 2.048 (s)\n",
      "Need more than one channel to make topography for eeg. Disabling interactivity.\n",
      "Creating RawArray with float64 data, n_channels=1, n_times=10000\n",
      "    Range : 0 ... 9999 =      0.000 ...     9.999 secs\n",
      "Ready.\n",
      "Effective window size : 2.048 (s)\n",
      "Need more than one channel to make topography for eeg. Disabling interactivity.\n",
      "Creating RawArray with float64 data, n_channels=1, n_times=10000\n",
      "    Range : 0 ... 9999 =      0.000 ...     9.999 secs\n",
      "Ready.\n",
      "Effective window size : 2.048 (s)\n"
     ]
    },
    {
     "name": "stderr",
     "output_type": "stream",
     "text": [
      "/home/rgast/PycharmProjects/PyRates/pyrates/utility/visualization.py:508: RuntimeWarning: Channel locations not available. Disabling spatial colors.\n",
      "  return plot_raw_psd(raw, tmin=tmin, fmin=fmin, fmax=fmax, **kwargs).axes\n",
      "/home/rgast/PycharmProjects/PyRates/pyrates/utility/visualization.py:508: RuntimeWarning: Channel locations not available. Disabling spatial colors.\n",
      "  return plot_raw_psd(raw, tmin=tmin, fmin=fmin, fmax=fmax, **kwargs).axes\n"
     ]
    },
    {
     "name": "stdout",
     "output_type": "stream",
     "text": [
      "Need more than one channel to make topography for eeg. Disabling interactivity.\n",
      "Creating RawArray with float64 data, n_channels=1, n_times=10000\n",
      "    Range : 0 ... 9999 =      0.000 ...     9.999 secs\n",
      "Ready.\n",
      "Effective window size : 2.048 (s)\n",
      "Need more than one channel to make topography for eeg. Disabling interactivity.\n",
      "Creating RawArray with float64 data, n_channels=1, n_times=10000\n",
      "    Range : 0 ... 9999 =      0.000 ...     9.999 secs\n",
      "Ready.\n"
     ]
    },
    {
     "name": "stderr",
     "output_type": "stream",
     "text": [
      "/home/rgast/PycharmProjects/PyRates/pyrates/utility/visualization.py:508: RuntimeWarning: Channel locations not available. Disabling spatial colors.\n",
      "  return plot_raw_psd(raw, tmin=tmin, fmin=fmin, fmax=fmax, **kwargs).axes\n",
      "/home/rgast/PycharmProjects/PyRates/pyrates/utility/visualization.py:508: RuntimeWarning: Channel locations not available. Disabling spatial colors.\n",
      "  return plot_raw_psd(raw, tmin=tmin, fmin=fmin, fmax=fmax, **kwargs).axes\n"
     ]
    },
    {
     "name": "stdout",
     "output_type": "stream",
     "text": [
      "Effective window size : 2.048 (s)\n",
      "Need more than one channel to make topography for eeg. Disabling interactivity.\n",
      "Creating RawArray with float64 data, n_channels=1, n_times=10000\n",
      "    Range : 0 ... 9999 =      0.000 ...     9.999 secs\n",
      "Ready.\n",
      "Effective window size : 2.048 (s)\n",
      "Need more than one channel to make topography for eeg. Disabling interactivity.\n",
      "Creating RawArray with float64 data, n_channels=1, n_times=10000\n"
     ]
    },
    {
     "name": "stderr",
     "output_type": "stream",
     "text": [
      "/home/rgast/PycharmProjects/PyRates/pyrates/utility/visualization.py:508: RuntimeWarning: Channel locations not available. Disabling spatial colors.\n",
      "  return plot_raw_psd(raw, tmin=tmin, fmin=fmin, fmax=fmax, **kwargs).axes\n",
      "/home/rgast/PycharmProjects/PyRates/pyrates/utility/visualization.py:508: RuntimeWarning: Channel locations not available. Disabling spatial colors.\n",
      "  return plot_raw_psd(raw, tmin=tmin, fmin=fmin, fmax=fmax, **kwargs).axes\n"
     ]
    },
    {
     "name": "stdout",
     "output_type": "stream",
     "text": [
      "    Range : 0 ... 9999 =      0.000 ...     9.999 secs\n",
      "Ready.\n",
      "Effective window size : 2.048 (s)\n",
      "Need more than one channel to make topography for eeg. Disabling interactivity.\n",
      "Creating RawArray with float64 data, n_channels=1, n_times=10000\n",
      "    Range : 0 ... 9999 =      0.000 ...     9.999 secs\n",
      "Ready.\n",
      "Effective window size : 2.048 (s)\n",
      "Need more than one channel to make topography for eeg. Disabling interactivity.\n",
      "Creating RawArray with float64 data, n_channels=1, n_times=10000\n",
      "    Range : 0 ... 9999 =      0.000 ...     9.999 secs\n",
      "Ready.\n",
      "Effective window size : 2.048 (s)\n"
     ]
    },
    {
     "name": "stderr",
     "output_type": "stream",
     "text": [
      "/home/rgast/PycharmProjects/PyRates/pyrates/utility/visualization.py:508: RuntimeWarning: Channel locations not available. Disabling spatial colors.\n",
      "  return plot_raw_psd(raw, tmin=tmin, fmin=fmin, fmax=fmax, **kwargs).axes\n",
      "/home/rgast/PycharmProjects/PyRates/pyrates/utility/visualization.py:508: RuntimeWarning: Channel locations not available. Disabling spatial colors.\n",
      "  return plot_raw_psd(raw, tmin=tmin, fmin=fmin, fmax=fmax, **kwargs).axes\n"
     ]
    },
    {
     "name": "stdout",
     "output_type": "stream",
     "text": [
      "Need more than one channel to make topography for eeg. Disabling interactivity.\n",
      "Creating RawArray with float64 data, n_channels=1, n_times=10000\n",
      "    Range : 0 ... 9999 =      0.000 ...     9.999 secs\n",
      "Ready.\n",
      "Effective window size : 2.048 (s)\n",
      "Need more than one channel to make topography for eeg. Disabling interactivity.\n",
      "Creating RawArray with float64 data, n_channels=1, n_times=10000\n",
      "    Range : 0 ... 9999 =      0.000 ...     9.999 secs\n",
      "Ready.\n"
     ]
    },
    {
     "name": "stderr",
     "output_type": "stream",
     "text": [
      "/home/rgast/PycharmProjects/PyRates/pyrates/utility/visualization.py:508: RuntimeWarning: Channel locations not available. Disabling spatial colors.\n",
      "  return plot_raw_psd(raw, tmin=tmin, fmin=fmin, fmax=fmax, **kwargs).axes\n",
      "/home/rgast/PycharmProjects/PyRates/pyrates/utility/visualization.py:508: RuntimeWarning: Channel locations not available. Disabling spatial colors.\n",
      "  return plot_raw_psd(raw, tmin=tmin, fmin=fmin, fmax=fmax, **kwargs).axes\n"
     ]
    },
    {
     "name": "stdout",
     "output_type": "stream",
     "text": [
      "Effective window size : 2.048 (s)\n",
      "Need more than one channel to make topography for eeg. Disabling interactivity.\n",
      "Creating RawArray with float64 data, n_channels=1, n_times=10000\n",
      "    Range : 0 ... 9999 =      0.000 ...     9.999 secs\n",
      "Ready.\n",
      "Effective window size : 2.048 (s)\n",
      "Need more than one channel to make topography for eeg. Disabling interactivity.\n",
      "Creating RawArray with float64 data, n_channels=1, n_times=10000\n",
      "    Range : 0 ... 9999 =      0.000 ...     9.999 secs\n",
      "Ready.\n"
     ]
    },
    {
     "name": "stderr",
     "output_type": "stream",
     "text": [
      "/home/rgast/PycharmProjects/PyRates/pyrates/utility/visualization.py:508: RuntimeWarning: Channel locations not available. Disabling spatial colors.\n",
      "  return plot_raw_psd(raw, tmin=tmin, fmin=fmin, fmax=fmax, **kwargs).axes\n",
      "/home/rgast/PycharmProjects/PyRates/pyrates/utility/visualization.py:508: RuntimeWarning: Channel locations not available. Disabling spatial colors.\n",
      "  return plot_raw_psd(raw, tmin=tmin, fmin=fmin, fmax=fmax, **kwargs).axes\n"
     ]
    },
    {
     "name": "stdout",
     "output_type": "stream",
     "text": [
      "Effective window size : 2.048 (s)\n",
      "Need more than one channel to make topography for eeg. Disabling interactivity.\n",
      "Creating RawArray with float64 data, n_channels=1, n_times=10000\n",
      "    Range : 0 ... 9999 =      0.000 ...     9.999 secs\n",
      "Ready.\n",
      "Effective window size : 2.048 (s)\n",
      "Need more than one channel to make topography for eeg. Disabling interactivity.\n",
      "Creating RawArray with float64 data, n_channels=1, n_times=10000\n",
      "    Range : 0 ... 9999 =      0.000 ...     9.999 secs\n"
     ]
    },
    {
     "name": "stderr",
     "output_type": "stream",
     "text": [
      "/home/rgast/PycharmProjects/PyRates/pyrates/utility/visualization.py:508: RuntimeWarning: Channel locations not available. Disabling spatial colors.\n",
      "  return plot_raw_psd(raw, tmin=tmin, fmin=fmin, fmax=fmax, **kwargs).axes\n",
      "/home/rgast/PycharmProjects/PyRates/pyrates/utility/visualization.py:508: RuntimeWarning: Channel locations not available. Disabling spatial colors.\n",
      "  return plot_raw_psd(raw, tmin=tmin, fmin=fmin, fmax=fmax, **kwargs).axes\n"
     ]
    },
    {
     "name": "stdout",
     "output_type": "stream",
     "text": [
      "Ready.\n",
      "Effective window size : 2.048 (s)\n",
      "Need more than one channel to make topography for eeg. Disabling interactivity.\n",
      "Creating RawArray with float64 data, n_channels=1, n_times=10000\n",
      "    Range : 0 ... 9999 =      0.000 ...     9.999 secs\n",
      "Ready.\n",
      "Effective window size : 2.048 (s)\n",
      "Need more than one channel to make topography for eeg. Disabling interactivity.\n",
      "Creating RawArray with float64 data, n_channels=1, n_times=10000\n"
     ]
    },
    {
     "name": "stderr",
     "output_type": "stream",
     "text": [
      "/home/rgast/PycharmProjects/PyRates/pyrates/utility/visualization.py:508: RuntimeWarning: Channel locations not available. Disabling spatial colors.\n",
      "  return plot_raw_psd(raw, tmin=tmin, fmin=fmin, fmax=fmax, **kwargs).axes\n",
      "/home/rgast/PycharmProjects/PyRates/pyrates/utility/visualization.py:508: RuntimeWarning: Channel locations not available. Disabling spatial colors.\n",
      "  return plot_raw_psd(raw, tmin=tmin, fmin=fmin, fmax=fmax, **kwargs).axes\n"
     ]
    },
    {
     "name": "stdout",
     "output_type": "stream",
     "text": [
      "    Range : 0 ... 9999 =      0.000 ...     9.999 secs\n",
      "Ready.\n",
      "Effective window size : 2.048 (s)\n",
      "Need more than one channel to make topography for eeg. Disabling interactivity.\n",
      "Creating RawArray with float64 data, n_channels=1, n_times=10000\n",
      "    Range : 0 ... 9999 =      0.000 ...     9.999 secs\n",
      "Ready.\n",
      "Effective window size : 2.048 (s)\n",
      "Need more than one channel to make topography for eeg. Disabling interactivity.\n",
      "Creating RawArray with float64 data, n_channels=1, n_times=10000\n",
      "    Range : 0 ... 9999 =      0.000 ...     9.999 secs\n",
      "Ready.\n"
     ]
    },
    {
     "name": "stderr",
     "output_type": "stream",
     "text": [
      "/home/rgast/PycharmProjects/PyRates/pyrates/utility/visualization.py:508: RuntimeWarning: Channel locations not available. Disabling spatial colors.\n",
      "  return plot_raw_psd(raw, tmin=tmin, fmin=fmin, fmax=fmax, **kwargs).axes\n",
      "/home/rgast/PycharmProjects/PyRates/pyrates/utility/visualization.py:508: RuntimeWarning: Channel locations not available. Disabling spatial colors.\n",
      "  return plot_raw_psd(raw, tmin=tmin, fmin=fmin, fmax=fmax, **kwargs).axes\n"
     ]
    },
    {
     "name": "stdout",
     "output_type": "stream",
     "text": [
      "Effective window size : 2.048 (s)\n",
      "Need more than one channel to make topography for eeg. Disabling interactivity.\n",
      "Creating RawArray with float64 data, n_channels=1, n_times=10000\n",
      "    Range : 0 ... 9999 =      0.000 ...     9.999 secs\n",
      "Ready.\n",
      "Effective window size : 2.048 (s)\n",
      "Need more than one channel to make topography for eeg. Disabling interactivity.\n",
      "Creating RawArray with float64 data, n_channels=1, n_times=10000\n",
      "    Range : 0 ... 9999 =      0.000 ...     9.999 secs\n",
      "Ready.\n",
      "Effective window size : 2.048 (s)\n",
      "Need more than one channel to make topography for eeg. Disabling interactivity.\n"
     ]
    },
    {
     "name": "stderr",
     "output_type": "stream",
     "text": [
      "/home/rgast/PycharmProjects/PyRates/pyrates/utility/visualization.py:508: RuntimeWarning: Channel locations not available. Disabling spatial colors.\n",
      "  return plot_raw_psd(raw, tmin=tmin, fmin=fmin, fmax=fmax, **kwargs).axes\n",
      "/home/rgast/PycharmProjects/PyRates/pyrates/utility/visualization.py:508: RuntimeWarning: Channel locations not available. Disabling spatial colors.\n",
      "  return plot_raw_psd(raw, tmin=tmin, fmin=fmin, fmax=fmax, **kwargs).axes\n",
      "/home/rgast/PycharmProjects/PyRates/pyrates/utility/visualization.py:508: RuntimeWarning: Channel locations not available. Disabling spatial colors.\n",
      "  return plot_raw_psd(raw, tmin=tmin, fmin=fmin, fmax=fmax, **kwargs).axes\n"
     ]
    },
    {
     "name": "stdout",
     "output_type": "stream",
     "text": [
      "Creating RawArray with float64 data, n_channels=1, n_times=10000\n",
      "    Range : 0 ... 9999 =      0.000 ...     9.999 secs\n",
      "Ready.\n",
      "Effective window size : 2.048 (s)\n",
      "Need more than one channel to make topography for eeg. Disabling interactivity.\n",
      "Creating RawArray with float64 data, n_channels=1, n_times=10000\n",
      "    Range : 0 ... 9999 =      0.000 ...     9.999 secs\n",
      "Ready.\n",
      "Effective window size : 2.048 (s)\n",
      "Need more than one channel to make topography for eeg. Disabling interactivity.\n",
      "Creating RawArray with float64 data, n_channels=1, n_times=10000\n"
     ]
    },
    {
     "name": "stderr",
     "output_type": "stream",
     "text": [
      "/home/rgast/PycharmProjects/PyRates/pyrates/utility/visualization.py:508: RuntimeWarning: Channel locations not available. Disabling spatial colors.\n",
      "  return plot_raw_psd(raw, tmin=tmin, fmin=fmin, fmax=fmax, **kwargs).axes\n",
      "/home/rgast/PycharmProjects/PyRates/pyrates/utility/visualization.py:508: RuntimeWarning: Channel locations not available. Disabling spatial colors.\n",
      "  return plot_raw_psd(raw, tmin=tmin, fmin=fmin, fmax=fmax, **kwargs).axes\n"
     ]
    },
    {
     "name": "stdout",
     "output_type": "stream",
     "text": [
      "    Range : 0 ... 9999 =      0.000 ...     9.999 secs\n",
      "Ready.\n",
      "Effective window size : 2.048 (s)\n",
      "Need more than one channel to make topography for eeg. Disabling interactivity.\n",
      "Creating RawArray with float64 data, n_channels=1, n_times=10000\n",
      "    Range : 0 ... 9999 =      0.000 ...     9.999 secs\n",
      "Ready.\n",
      "Effective window size : 2.048 (s)\n",
      "Need more than one channel to make topography for eeg. Disabling interactivity.\n",
      "Creating RawArray with float64 data, n_channels=1, n_times=10000\n",
      "    Range : 0 ... 9999 =      0.000 ...     9.999 secs\n",
      "Ready.\n"
     ]
    },
    {
     "name": "stderr",
     "output_type": "stream",
     "text": [
      "/home/rgast/PycharmProjects/PyRates/pyrates/utility/visualization.py:508: RuntimeWarning: Channel locations not available. Disabling spatial colors.\n",
      "  return plot_raw_psd(raw, tmin=tmin, fmin=fmin, fmax=fmax, **kwargs).axes\n",
      "/home/rgast/PycharmProjects/PyRates/pyrates/utility/visualization.py:508: RuntimeWarning: Channel locations not available. Disabling spatial colors.\n",
      "  return plot_raw_psd(raw, tmin=tmin, fmin=fmin, fmax=fmax, **kwargs).axes\n"
     ]
    },
    {
     "name": "stdout",
     "output_type": "stream",
     "text": [
      "Effective window size : 2.048 (s)\n",
      "Need more than one channel to make topography for eeg. Disabling interactivity.\n",
      "Creating RawArray with float64 data, n_channels=1, n_times=10000\n",
      "    Range : 0 ... 9999 =      0.000 ...     9.999 secs\n",
      "Ready.\n",
      "Effective window size : 2.048 (s)\n",
      "Need more than one channel to make topography for eeg. Disabling interactivity.\n",
      "Creating RawArray with float64 data, n_channels=1, n_times=10000\n"
     ]
    },
    {
     "name": "stderr",
     "output_type": "stream",
     "text": [
      "/home/rgast/PycharmProjects/PyRates/pyrates/utility/visualization.py:508: RuntimeWarning: Channel locations not available. Disabling spatial colors.\n",
      "  return plot_raw_psd(raw, tmin=tmin, fmin=fmin, fmax=fmax, **kwargs).axes\n",
      "/home/rgast/PycharmProjects/PyRates/pyrates/utility/visualization.py:508: RuntimeWarning: Channel locations not available. Disabling spatial colors.\n",
      "  return plot_raw_psd(raw, tmin=tmin, fmin=fmin, fmax=fmax, **kwargs).axes\n"
     ]
    },
    {
     "name": "stdout",
     "output_type": "stream",
     "text": [
      "    Range : 0 ... 9999 =      0.000 ...     9.999 secs\n",
      "Ready.\n",
      "Effective window size : 2.048 (s)\n",
      "Need more than one channel to make topography for eeg. Disabling interactivity.\n",
      "Creating RawArray with float64 data, n_channels=1, n_times=10000\n",
      "    Range : 0 ... 9999 =      0.000 ...     9.999 secs\n",
      "Ready.\n",
      "Effective window size : 2.048 (s)\n",
      "Need more than one channel to make topography for eeg. Disabling interactivity.\n",
      "Creating RawArray with float64 data, n_channels=1, n_times=10000\n"
     ]
    },
    {
     "name": "stderr",
     "output_type": "stream",
     "text": [
      "/home/rgast/PycharmProjects/PyRates/pyrates/utility/visualization.py:508: RuntimeWarning: Channel locations not available. Disabling spatial colors.\n",
      "  return plot_raw_psd(raw, tmin=tmin, fmin=fmin, fmax=fmax, **kwargs).axes\n",
      "/home/rgast/PycharmProjects/PyRates/pyrates/utility/visualization.py:508: RuntimeWarning: Channel locations not available. Disabling spatial colors.\n",
      "  return plot_raw_psd(raw, tmin=tmin, fmin=fmin, fmax=fmax, **kwargs).axes\n"
     ]
    },
    {
     "name": "stdout",
     "output_type": "stream",
     "text": [
      "    Range : 0 ... 9999 =      0.000 ...     9.999 secs\n",
      "Ready.\n",
      "Effective window size : 2.048 (s)\n",
      "Need more than one channel to make topography for eeg. Disabling interactivity.\n",
      "Creating RawArray with float64 data, n_channels=1, n_times=10000\n",
      "    Range : 0 ... 9999 =      0.000 ...     9.999 secs\n",
      "Ready.\n",
      "Effective window size : 2.048 (s)\n",
      "Need more than one channel to make topography for eeg. Disabling interactivity.\n",
      "Creating RawArray with float64 data, n_channels=1, n_times=10000\n",
      "    Range : 0 ... 9999 =      0.000 ...     9.999 secs\n",
      "Ready.\n"
     ]
    },
    {
     "name": "stderr",
     "output_type": "stream",
     "text": [
      "/home/rgast/PycharmProjects/PyRates/pyrates/utility/visualization.py:508: RuntimeWarning: Channel locations not available. Disabling spatial colors.\n",
      "  return plot_raw_psd(raw, tmin=tmin, fmin=fmin, fmax=fmax, **kwargs).axes\n",
      "/home/rgast/PycharmProjects/PyRates/pyrates/utility/visualization.py:508: RuntimeWarning: Channel locations not available. Disabling spatial colors.\n",
      "  return plot_raw_psd(raw, tmin=tmin, fmin=fmin, fmax=fmax, **kwargs).axes\n"
     ]
    },
    {
     "name": "stdout",
     "output_type": "stream",
     "text": [
      "Effective window size : 2.048 (s)\n",
      "Need more than one channel to make topography for eeg. Disabling interactivity.\n",
      "Creating RawArray with float64 data, n_channels=1, n_times=10000\n",
      "    Range : 0 ... 9999 =      0.000 ...     9.999 secs\n",
      "Ready.\n",
      "Effective window size : 2.048 (s)\n",
      "Need more than one channel to make topography for eeg. Disabling interactivity.\n",
      "Creating RawArray with float64 data, n_channels=1, n_times=10000\n"
     ]
    },
    {
     "name": "stderr",
     "output_type": "stream",
     "text": [
      "/home/rgast/PycharmProjects/PyRates/pyrates/utility/visualization.py:508: RuntimeWarning: Channel locations not available. Disabling spatial colors.\n",
      "  return plot_raw_psd(raw, tmin=tmin, fmin=fmin, fmax=fmax, **kwargs).axes\n",
      "/home/rgast/PycharmProjects/PyRates/pyrates/utility/visualization.py:508: RuntimeWarning: Channel locations not available. Disabling spatial colors.\n",
      "  return plot_raw_psd(raw, tmin=tmin, fmin=fmin, fmax=fmax, **kwargs).axes\n"
     ]
    },
    {
     "name": "stdout",
     "output_type": "stream",
     "text": [
      "    Range : 0 ... 9999 =      0.000 ...     9.999 secs\n",
      "Ready.\n",
      "Effective window size : 2.048 (s)\n",
      "Need more than one channel to make topography for eeg. Disabling interactivity.\n",
      "Creating RawArray with float64 data, n_channels=1, n_times=10000\n",
      "    Range : 0 ... 9999 =      0.000 ...     9.999 secs\n",
      "Ready.\n",
      "Effective window size : 2.048 (s)\n",
      "Need more than one channel to make topography for eeg. Disabling interactivity.\n",
      "Creating RawArray with float64 data, n_channels=1, n_times=10000\n",
      "    Range : 0 ... 9999 =      0.000 ...     9.999 secs\n"
     ]
    },
    {
     "name": "stderr",
     "output_type": "stream",
     "text": [
      "/home/rgast/PycharmProjects/PyRates/pyrates/utility/visualization.py:508: RuntimeWarning: Channel locations not available. Disabling spatial colors.\n",
      "  return plot_raw_psd(raw, tmin=tmin, fmin=fmin, fmax=fmax, **kwargs).axes\n",
      "/home/rgast/PycharmProjects/PyRates/pyrates/utility/visualization.py:508: RuntimeWarning: Channel locations not available. Disabling spatial colors.\n",
      "  return plot_raw_psd(raw, tmin=tmin, fmin=fmin, fmax=fmax, **kwargs).axes\n"
     ]
    },
    {
     "name": "stdout",
     "output_type": "stream",
     "text": [
      "Ready.\n",
      "Effective window size : 2.048 (s)\n",
      "Need more than one channel to make topography for eeg. Disabling interactivity.\n",
      "Creating RawArray with float64 data, n_channels=1, n_times=10000\n",
      "    Range : 0 ... 9999 =      0.000 ...     9.999 secs\n",
      "Ready.\n",
      "Effective window size : 2.048 (s)\n",
      "Need more than one channel to make topography for eeg. Disabling interactivity.\n",
      "Creating RawArray with float64 data, n_channels=1, n_times=10000\n",
      "    Range : 0 ... 9999 =      0.000 ...     9.999 secs\n",
      "Ready.\n"
     ]
    },
    {
     "name": "stderr",
     "output_type": "stream",
     "text": [
      "/home/rgast/PycharmProjects/PyRates/pyrates/utility/visualization.py:508: RuntimeWarning: Channel locations not available. Disabling spatial colors.\n",
      "  return plot_raw_psd(raw, tmin=tmin, fmin=fmin, fmax=fmax, **kwargs).axes\n",
      "/home/rgast/PycharmProjects/PyRates/pyrates/utility/visualization.py:508: RuntimeWarning: Channel locations not available. Disabling spatial colors.\n",
      "  return plot_raw_psd(raw, tmin=tmin, fmin=fmin, fmax=fmax, **kwargs).axes\n"
     ]
    },
    {
     "name": "stdout",
     "output_type": "stream",
     "text": [
      "Effective window size : 2.048 (s)\n",
      "Need more than one channel to make topography for eeg. Disabling interactivity.\n",
      "Creating RawArray with float64 data, n_channels=1, n_times=10000\n",
      "    Range : 0 ... 9999 =      0.000 ...     9.999 secs\n",
      "Ready.\n",
      "Effective window size : 2.048 (s)\n",
      "Need more than one channel to make topography for eeg. Disabling interactivity.\n",
      "Creating RawArray with float64 data, n_channels=1, n_times=10000\n"
     ]
    },
    {
     "name": "stderr",
     "output_type": "stream",
     "text": [
      "/home/rgast/PycharmProjects/PyRates/pyrates/utility/visualization.py:508: RuntimeWarning: Channel locations not available. Disabling spatial colors.\n",
      "  return plot_raw_psd(raw, tmin=tmin, fmin=fmin, fmax=fmax, **kwargs).axes\n",
      "/home/rgast/PycharmProjects/PyRates/pyrates/utility/visualization.py:508: RuntimeWarning: Channel locations not available. Disabling spatial colors.\n",
      "  return plot_raw_psd(raw, tmin=tmin, fmin=fmin, fmax=fmax, **kwargs).axes\n"
     ]
    },
    {
     "name": "stdout",
     "output_type": "stream",
     "text": [
      "    Range : 0 ... 9999 =      0.000 ...     9.999 secs\n",
      "Ready.\n",
      "Effective window size : 2.048 (s)\n",
      "Need more than one channel to make topography for eeg. Disabling interactivity.\n",
      "Creating RawArray with float64 data, n_channels=1, n_times=10000\n",
      "    Range : 0 ... 9999 =      0.000 ...     9.999 secs\n",
      "Ready.\n",
      "Effective window size : 2.048 (s)\n",
      "Need more than one channel to make topography for eeg. Disabling interactivity.\n",
      "Creating RawArray with float64 data, n_channels=1, n_times=10000\n",
      "    Range : 0 ... 9999 =      0.000 ...     9.999 secs\n",
      "Ready.\n"
     ]
    },
    {
     "name": "stderr",
     "output_type": "stream",
     "text": [
      "/home/rgast/PycharmProjects/PyRates/pyrates/utility/visualization.py:508: RuntimeWarning: Channel locations not available. Disabling spatial colors.\n",
      "  return plot_raw_psd(raw, tmin=tmin, fmin=fmin, fmax=fmax, **kwargs).axes\n",
      "/home/rgast/PycharmProjects/PyRates/pyrates/utility/visualization.py:508: RuntimeWarning: Channel locations not available. Disabling spatial colors.\n",
      "  return plot_raw_psd(raw, tmin=tmin, fmin=fmin, fmax=fmax, **kwargs).axes\n"
     ]
    },
    {
     "name": "stdout",
     "output_type": "stream",
     "text": [
      "Effective window size : 2.048 (s)\n",
      "Need more than one channel to make topography for eeg. Disabling interactivity.\n",
      "Creating RawArray with float64 data, n_channels=1, n_times=10000\n",
      "    Range : 0 ... 9999 =      0.000 ...     9.999 secs\n",
      "Ready.\n",
      "Effective window size : 2.048 (s)\n",
      "Need more than one channel to make topography for eeg. Disabling interactivity.\n",
      "Creating RawArray with float64 data, n_channels=1, n_times=10000\n"
     ]
    },
    {
     "name": "stderr",
     "output_type": "stream",
     "text": [
      "/home/rgast/PycharmProjects/PyRates/pyrates/utility/visualization.py:508: RuntimeWarning: Channel locations not available. Disabling spatial colors.\n",
      "  return plot_raw_psd(raw, tmin=tmin, fmin=fmin, fmax=fmax, **kwargs).axes\n",
      "/home/rgast/PycharmProjects/PyRates/pyrates/utility/visualization.py:508: RuntimeWarning: Channel locations not available. Disabling spatial colors.\n",
      "  return plot_raw_psd(raw, tmin=tmin, fmin=fmin, fmax=fmax, **kwargs).axes\n"
     ]
    },
    {
     "name": "stdout",
     "output_type": "stream",
     "text": [
      "    Range : 0 ... 9999 =      0.000 ...     9.999 secs\n",
      "Ready.\n",
      "Effective window size : 2.048 (s)\n",
      "Need more than one channel to make topography for eeg. Disabling interactivity.\n",
      "Creating RawArray with float64 data, n_channels=1, n_times=10000\n",
      "    Range : 0 ... 9999 =      0.000 ...     9.999 secs\n",
      "Ready.\n",
      "Effective window size : 2.048 (s)\n",
      "Need more than one channel to make topography for eeg. Disabling interactivity.\n"
     ]
    },
    {
     "name": "stderr",
     "output_type": "stream",
     "text": [
      "/home/rgast/PycharmProjects/PyRates/pyrates/utility/visualization.py:508: RuntimeWarning: Channel locations not available. Disabling spatial colors.\n",
      "  return plot_raw_psd(raw, tmin=tmin, fmin=fmin, fmax=fmax, **kwargs).axes\n",
      "/home/rgast/PycharmProjects/PyRates/pyrates/utility/visualization.py:508: RuntimeWarning: Channel locations not available. Disabling spatial colors.\n",
      "  return plot_raw_psd(raw, tmin=tmin, fmin=fmin, fmax=fmax, **kwargs).axes\n"
     ]
    },
    {
     "name": "stdout",
     "output_type": "stream",
     "text": [
      "Creating RawArray with float64 data, n_channels=1, n_times=10000\n",
      "    Range : 0 ... 9999 =      0.000 ...     9.999 secs\n",
      "Ready.\n",
      "Effective window size : 2.048 (s)\n",
      "Need more than one channel to make topography for eeg. Disabling interactivity.\n",
      "Creating RawArray with float64 data, n_channels=1, n_times=10000\n",
      "    Range : 0 ... 9999 =      0.000 ...     9.999 secs\n",
      "Ready.\n",
      "Effective window size : 2.048 (s)\n",
      "Need more than one channel to make topography for eeg. Disabling interactivity.\n",
      "Creating RawArray with float64 data, n_channels=1, n_times=10000\n",
      "    Range : 0 ... 9999 =      0.000 ...     9.999 secs\n",
      "Ready.\n",
      "Effective window size : 2.048 (s)\n",
      "Need more than one channel to make topography for eeg. Disabling interactivity.\n"
     ]
    },
    {
     "name": "stderr",
     "output_type": "stream",
     "text": [
      "/home/rgast/PycharmProjects/PyRates/pyrates/utility/visualization.py:508: RuntimeWarning: Channel locations not available. Disabling spatial colors.\n",
      "  return plot_raw_psd(raw, tmin=tmin, fmin=fmin, fmax=fmax, **kwargs).axes\n",
      "/home/rgast/PycharmProjects/PyRates/pyrates/utility/visualization.py:508: RuntimeWarning: Channel locations not available. Disabling spatial colors.\n",
      "  return plot_raw_psd(raw, tmin=tmin, fmin=fmin, fmax=fmax, **kwargs).axes\n",
      "/home/rgast/PycharmProjects/PyRates/pyrates/utility/visualization.py:508: RuntimeWarning: Channel locations not available. Disabling spatial colors.\n",
      "  return plot_raw_psd(raw, tmin=tmin, fmin=fmin, fmax=fmax, **kwargs).axes\n"
     ]
    },
    {
     "name": "stdout",
     "output_type": "stream",
     "text": [
      "Creating RawArray with float64 data, n_channels=1, n_times=10000\n",
      "    Range : 0 ... 9999 =      0.000 ...     9.999 secs\n",
      "Ready.\n",
      "Effective window size : 2.048 (s)\n",
      "Need more than one channel to make topography for eeg. Disabling interactivity.\n",
      "Creating RawArray with float64 data, n_channels=1, n_times=10000\n",
      "    Range : 0 ... 9999 =      0.000 ...     9.999 secs\n",
      "Ready.\n",
      "Effective window size : 2.048 (s)\n",
      "Need more than one channel to make topography for eeg. Disabling interactivity.\n",
      "Creating RawArray with float64 data, n_channels=1, n_times=10000\n",
      "    Range : 0 ... 9999 =      0.000 ...     9.999 secs\n",
      "Ready.\n",
      "Effective window size : 2.048 (s)\n",
      "Need more than one channel to make topography for eeg. Disabling interactivity.\n"
     ]
    },
    {
     "name": "stderr",
     "output_type": "stream",
     "text": [
      "/home/rgast/PycharmProjects/PyRates/pyrates/utility/visualization.py:508: RuntimeWarning: Channel locations not available. Disabling spatial colors.\n",
      "  return plot_raw_psd(raw, tmin=tmin, fmin=fmin, fmax=fmax, **kwargs).axes\n",
      "/home/rgast/PycharmProjects/PyRates/pyrates/utility/visualization.py:508: RuntimeWarning: Channel locations not available. Disabling spatial colors.\n",
      "  return plot_raw_psd(raw, tmin=tmin, fmin=fmin, fmax=fmax, **kwargs).axes\n",
      "/home/rgast/PycharmProjects/PyRates/pyrates/utility/visualization.py:508: RuntimeWarning: Channel locations not available. Disabling spatial colors.\n",
      "  return plot_raw_psd(raw, tmin=tmin, fmin=fmin, fmax=fmax, **kwargs).axes\n"
     ]
    },
    {
     "name": "stdout",
     "output_type": "stream",
     "text": [
      "Creating RawArray with float64 data, n_channels=1, n_times=10000\n",
      "    Range : 0 ... 9999 =      0.000 ...     9.999 secs\n",
      "Ready.\n",
      "Effective window size : 2.048 (s)\n",
      "Need more than one channel to make topography for eeg. Disabling interactivity.\n",
      "Creating RawArray with float64 data, n_channels=1, n_times=10000\n",
      "    Range : 0 ... 9999 =      0.000 ...     9.999 secs\n",
      "Ready.\n",
      "Effective window size : 2.048 (s)\n",
      "Need more than one channel to make topography for eeg. Disabling interactivity.\n",
      "Creating RawArray with float64 data, n_channels=1, n_times=10000\n",
      "    Range : 0 ... 9999 =      0.000 ...     9.999 secs\n",
      "Ready.\n"
     ]
    },
    {
     "name": "stderr",
     "output_type": "stream",
     "text": [
      "/home/rgast/PycharmProjects/PyRates/pyrates/utility/visualization.py:508: RuntimeWarning: Channel locations not available. Disabling spatial colors.\n",
      "  return plot_raw_psd(raw, tmin=tmin, fmin=fmin, fmax=fmax, **kwargs).axes\n",
      "/home/rgast/PycharmProjects/PyRates/pyrates/utility/visualization.py:508: RuntimeWarning: Channel locations not available. Disabling spatial colors.\n",
      "  return plot_raw_psd(raw, tmin=tmin, fmin=fmin, fmax=fmax, **kwargs).axes\n"
     ]
    },
    {
     "name": "stdout",
     "output_type": "stream",
     "text": [
      "Effective window size : 2.048 (s)\n",
      "Need more than one channel to make topography for eeg. Disabling interactivity.\n",
      "Creating RawArray with float64 data, n_channels=1, n_times=10000\n",
      "    Range : 0 ... 9999 =      0.000 ...     9.999 secs\n",
      "Ready.\n",
      "Effective window size : 2.048 (s)\n",
      "Need more than one channel to make topography for eeg. Disabling interactivity.\n",
      "Creating RawArray with float64 data, n_channels=1, n_times=10000\n",
      "    Range : 0 ... 9999 =      0.000 ...     9.999 secs\n",
      "Ready.\n",
      "Effective window size : 2.048 (s)\n",
      "Need more than one channel to make topography for eeg. Disabling interactivity.\n"
     ]
    },
    {
     "name": "stderr",
     "output_type": "stream",
     "text": [
      "/home/rgast/PycharmProjects/PyRates/pyrates/utility/visualization.py:508: RuntimeWarning: Channel locations not available. Disabling spatial colors.\n",
      "  return plot_raw_psd(raw, tmin=tmin, fmin=fmin, fmax=fmax, **kwargs).axes\n",
      "/home/rgast/PycharmProjects/PyRates/pyrates/utility/visualization.py:508: RuntimeWarning: Channel locations not available. Disabling spatial colors.\n",
      "  return plot_raw_psd(raw, tmin=tmin, fmin=fmin, fmax=fmax, **kwargs).axes\n",
      "/home/rgast/PycharmProjects/PyRates/pyrates/utility/visualization.py:508: RuntimeWarning: Channel locations not available. Disabling spatial colors.\n",
      "  return plot_raw_psd(raw, tmin=tmin, fmin=fmin, fmax=fmax, **kwargs).axes\n"
     ]
    },
    {
     "name": "stdout",
     "output_type": "stream",
     "text": [
      "Creating RawArray with float64 data, n_channels=1, n_times=10000\n",
      "    Range : 0 ... 9999 =      0.000 ...     9.999 secs\n",
      "Ready.\n",
      "Effective window size : 2.048 (s)\n",
      "Need more than one channel to make topography for eeg. Disabling interactivity.\n",
      "Creating RawArray with float64 data, n_channels=1, n_times=10000\n",
      "    Range : 0 ... 9999 =      0.000 ...     9.999 secs\n",
      "Ready.\n",
      "Effective window size : 2.048 (s)\n",
      "Need more than one channel to make topography for eeg. Disabling interactivity.\n",
      "Creating RawArray with float64 data, n_channels=1, n_times=10000\n"
     ]
    },
    {
     "name": "stderr",
     "output_type": "stream",
     "text": [
      "/home/rgast/PycharmProjects/PyRates/pyrates/utility/visualization.py:508: RuntimeWarning: Channel locations not available. Disabling spatial colors.\n",
      "  return plot_raw_psd(raw, tmin=tmin, fmin=fmin, fmax=fmax, **kwargs).axes\n",
      "/home/rgast/PycharmProjects/PyRates/pyrates/utility/visualization.py:508: RuntimeWarning: Channel locations not available. Disabling spatial colors.\n",
      "  return plot_raw_psd(raw, tmin=tmin, fmin=fmin, fmax=fmax, **kwargs).axes\n"
     ]
    },
    {
     "name": "stdout",
     "output_type": "stream",
     "text": [
      "    Range : 0 ... 9999 =      0.000 ...     9.999 secs\n",
      "Ready.\n",
      "Effective window size : 2.048 (s)\n",
      "Need more than one channel to make topography for eeg. Disabling interactivity.\n",
      "Creating RawArray with float64 data, n_channels=1, n_times=10000\n",
      "    Range : 0 ... 9999 =      0.000 ...     9.999 secs\n",
      "Ready.\n",
      "Effective window size : 2.048 (s)\n",
      "Need more than one channel to make topography for eeg. Disabling interactivity.\n",
      "Creating RawArray with float64 data, n_channels=1, n_times=10000\n"
     ]
    },
    {
     "name": "stderr",
     "output_type": "stream",
     "text": [
      "/home/rgast/PycharmProjects/PyRates/pyrates/utility/visualization.py:508: RuntimeWarning: Channel locations not available. Disabling spatial colors.\n",
      "  return plot_raw_psd(raw, tmin=tmin, fmin=fmin, fmax=fmax, **kwargs).axes\n",
      "/home/rgast/PycharmProjects/PyRates/pyrates/utility/visualization.py:508: RuntimeWarning: Channel locations not available. Disabling spatial colors.\n",
      "  return plot_raw_psd(raw, tmin=tmin, fmin=fmin, fmax=fmax, **kwargs).axes\n"
     ]
    },
    {
     "name": "stdout",
     "output_type": "stream",
     "text": [
      "    Range : 0 ... 9999 =      0.000 ...     9.999 secs\n",
      "Ready.\n",
      "Effective window size : 2.048 (s)\n",
      "Need more than one channel to make topography for eeg. Disabling interactivity.\n",
      "Creating RawArray with float64 data, n_channels=1, n_times=10000\n",
      "    Range : 0 ... 9999 =      0.000 ...     9.999 secs\n",
      "Ready.\n",
      "Effective window size : 2.048 (s)\n",
      "Need more than one channel to make topography for eeg. Disabling interactivity.\n",
      "Creating RawArray with float64 data, n_channels=1, n_times=10000\n",
      "    Range : 0 ... 9999 =      0.000 ...     9.999 secs\n"
     ]
    },
    {
     "name": "stderr",
     "output_type": "stream",
     "text": [
      "/home/rgast/PycharmProjects/PyRates/pyrates/utility/visualization.py:508: RuntimeWarning: Channel locations not available. Disabling spatial colors.\n",
      "  return plot_raw_psd(raw, tmin=tmin, fmin=fmin, fmax=fmax, **kwargs).axes\n",
      "/home/rgast/PycharmProjects/PyRates/pyrates/utility/visualization.py:508: RuntimeWarning: Channel locations not available. Disabling spatial colors.\n",
      "  return plot_raw_psd(raw, tmin=tmin, fmin=fmin, fmax=fmax, **kwargs).axes\n"
     ]
    },
    {
     "name": "stdout",
     "output_type": "stream",
     "text": [
      "Ready.\n",
      "Effective window size : 2.048 (s)\n",
      "Need more than one channel to make topography for eeg. Disabling interactivity.\n",
      "Creating RawArray with float64 data, n_channels=1, n_times=10000\n",
      "    Range : 0 ... 9999 =      0.000 ...     9.999 secs\n",
      "Ready.\n",
      "Effective window size : 2.048 (s)\n",
      "Need more than one channel to make topography for eeg. Disabling interactivity.\n",
      "Creating RawArray with float64 data, n_channels=1, n_times=10000\n",
      "    Range : 0 ... 9999 =      0.000 ...     9.999 secs\n",
      "Ready.\n"
     ]
    },
    {
     "name": "stderr",
     "output_type": "stream",
     "text": [
      "/home/rgast/PycharmProjects/PyRates/pyrates/utility/visualization.py:508: RuntimeWarning: Channel locations not available. Disabling spatial colors.\n",
      "  return plot_raw_psd(raw, tmin=tmin, fmin=fmin, fmax=fmax, **kwargs).axes\n",
      "/home/rgast/PycharmProjects/PyRates/pyrates/utility/visualization.py:508: RuntimeWarning: Channel locations not available. Disabling spatial colors.\n",
      "  return plot_raw_psd(raw, tmin=tmin, fmin=fmin, fmax=fmax, **kwargs).axes\n"
     ]
    },
    {
     "name": "stdout",
     "output_type": "stream",
     "text": [
      "Effective window size : 2.048 (s)\n",
      "Need more than one channel to make topography for eeg. Disabling interactivity.\n",
      "Creating RawArray with float64 data, n_channels=1, n_times=10000\n",
      "    Range : 0 ... 9999 =      0.000 ...     9.999 secs\n",
      "Ready.\n",
      "Effective window size : 2.048 (s)\n",
      "Need more than one channel to make topography for eeg. Disabling interactivity.\n",
      "Creating RawArray with float64 data, n_channels=1, n_times=10000\n",
      "    Range : 0 ... 9999 =      0.000 ...     9.999 secs\n",
      "Ready.\n"
     ]
    },
    {
     "name": "stderr",
     "output_type": "stream",
     "text": [
      "/home/rgast/PycharmProjects/PyRates/pyrates/utility/visualization.py:508: RuntimeWarning: Channel locations not available. Disabling spatial colors.\n",
      "  return plot_raw_psd(raw, tmin=tmin, fmin=fmin, fmax=fmax, **kwargs).axes\n",
      "/home/rgast/PycharmProjects/PyRates/pyrates/utility/visualization.py:508: RuntimeWarning: Channel locations not available. Disabling spatial colors.\n",
      "  return plot_raw_psd(raw, tmin=tmin, fmin=fmin, fmax=fmax, **kwargs).axes\n"
     ]
    },
    {
     "name": "stdout",
     "output_type": "stream",
     "text": [
      "Effective window size : 2.048 (s)\n",
      "Need more than one channel to make topography for eeg. Disabling interactivity.\n",
      "Creating RawArray with float64 data, n_channels=1, n_times=10000\n",
      "    Range : 0 ... 9999 =      0.000 ...     9.999 secs\n",
      "Ready.\n",
      "Effective window size : 2.048 (s)\n",
      "Need more than one channel to make topography for eeg. Disabling interactivity.\n",
      "Creating RawArray with float64 data, n_channels=1, n_times=10000\n",
      "    Range : 0 ... 9999 =      0.000 ...     9.999 secs\n",
      "Ready.\n"
     ]
    },
    {
     "name": "stderr",
     "output_type": "stream",
     "text": [
      "/home/rgast/PycharmProjects/PyRates/pyrates/utility/visualization.py:508: RuntimeWarning: Channel locations not available. Disabling spatial colors.\n",
      "  return plot_raw_psd(raw, tmin=tmin, fmin=fmin, fmax=fmax, **kwargs).axes\n",
      "/home/rgast/PycharmProjects/PyRates/pyrates/utility/visualization.py:508: RuntimeWarning: Channel locations not available. Disabling spatial colors.\n",
      "  return plot_raw_psd(raw, tmin=tmin, fmin=fmin, fmax=fmax, **kwargs).axes\n"
     ]
    },
    {
     "name": "stdout",
     "output_type": "stream",
     "text": [
      "Effective window size : 2.048 (s)\n",
      "Need more than one channel to make topography for eeg. Disabling interactivity.\n",
      "Creating RawArray with float64 data, n_channels=1, n_times=10000\n",
      "    Range : 0 ... 9999 =      0.000 ...     9.999 secs\n",
      "Ready.\n",
      "Effective window size : 2.048 (s)\n",
      "Need more than one channel to make topography for eeg. Disabling interactivity.\n",
      "Creating RawArray with float64 data, n_channels=1, n_times=10000\n",
      "    Range : 0 ... 9999 =      0.000 ...     9.999 secs\n",
      "Ready.\n"
     ]
    },
    {
     "name": "stderr",
     "output_type": "stream",
     "text": [
      "/home/rgast/PycharmProjects/PyRates/pyrates/utility/visualization.py:508: RuntimeWarning: Channel locations not available. Disabling spatial colors.\n",
      "  return plot_raw_psd(raw, tmin=tmin, fmin=fmin, fmax=fmax, **kwargs).axes\n",
      "/home/rgast/PycharmProjects/PyRates/pyrates/utility/visualization.py:508: RuntimeWarning: Channel locations not available. Disabling spatial colors.\n",
      "  return plot_raw_psd(raw, tmin=tmin, fmin=fmin, fmax=fmax, **kwargs).axes\n"
     ]
    },
    {
     "name": "stdout",
     "output_type": "stream",
     "text": [
      "Effective window size : 2.048 (s)\n",
      "Need more than one channel to make topography for eeg. Disabling interactivity.\n",
      "Creating RawArray with float64 data, n_channels=1, n_times=10000\n",
      "    Range : 0 ... 9999 =      0.000 ...     9.999 secs\n",
      "Ready.\n",
      "Effective window size : 2.048 (s)\n",
      "Need more than one channel to make topography for eeg. Disabling interactivity.\n",
      "Creating RawArray with float64 data, n_channels=1, n_times=10000\n",
      "    Range : 0 ... 9999 =      0.000 ...     9.999 secs\n",
      "Ready.\n"
     ]
    },
    {
     "name": "stderr",
     "output_type": "stream",
     "text": [
      "/home/rgast/PycharmProjects/PyRates/pyrates/utility/visualization.py:508: RuntimeWarning: Channel locations not available. Disabling spatial colors.\n",
      "  return plot_raw_psd(raw, tmin=tmin, fmin=fmin, fmax=fmax, **kwargs).axes\n",
      "/home/rgast/PycharmProjects/PyRates/pyrates/utility/visualization.py:508: RuntimeWarning: Channel locations not available. Disabling spatial colors.\n",
      "  return plot_raw_psd(raw, tmin=tmin, fmin=fmin, fmax=fmax, **kwargs).axes\n"
     ]
    },
    {
     "name": "stdout",
     "output_type": "stream",
     "text": [
      "Effective window size : 2.048 (s)\n",
      "Need more than one channel to make topography for eeg. Disabling interactivity.\n",
      "Creating RawArray with float64 data, n_channels=1, n_times=10000\n",
      "    Range : 0 ... 9999 =      0.000 ...     9.999 secs\n",
      "Ready.\n",
      "Effective window size : 2.048 (s)\n",
      "Need more than one channel to make topography for eeg. Disabling interactivity.\n",
      "Creating RawArray with float64 data, n_channels=1, n_times=10000\n",
      "    Range : 0 ... 9999 =      0.000 ...     9.999 secs\n",
      "Ready.\n"
     ]
    },
    {
     "name": "stderr",
     "output_type": "stream",
     "text": [
      "/home/rgast/PycharmProjects/PyRates/pyrates/utility/visualization.py:508: RuntimeWarning: Channel locations not available. Disabling spatial colors.\n",
      "  return plot_raw_psd(raw, tmin=tmin, fmin=fmin, fmax=fmax, **kwargs).axes\n",
      "/home/rgast/PycharmProjects/PyRates/pyrates/utility/visualization.py:508: RuntimeWarning: Channel locations not available. Disabling spatial colors.\n",
      "  return plot_raw_psd(raw, tmin=tmin, fmin=fmin, fmax=fmax, **kwargs).axes\n"
     ]
    },
    {
     "name": "stdout",
     "output_type": "stream",
     "text": [
      "Effective window size : 2.048 (s)\n",
      "Need more than one channel to make topography for eeg. Disabling interactivity.\n",
      "Creating RawArray with float64 data, n_channels=1, n_times=10000\n",
      "    Range : 0 ... 9999 =      0.000 ...     9.999 secs\n",
      "Ready.\n",
      "Effective window size : 2.048 (s)\n",
      "Need more than one channel to make topography for eeg. Disabling interactivity.\n",
      "Creating RawArray with float64 data, n_channels=1, n_times=10000\n",
      "    Range : 0 ... 9999 =      0.000 ...     9.999 secs\n",
      "Ready.\n"
     ]
    },
    {
     "name": "stderr",
     "output_type": "stream",
     "text": [
      "/home/rgast/PycharmProjects/PyRates/pyrates/utility/visualization.py:508: RuntimeWarning: Channel locations not available. Disabling spatial colors.\n",
      "  return plot_raw_psd(raw, tmin=tmin, fmin=fmin, fmax=fmax, **kwargs).axes\n",
      "/home/rgast/PycharmProjects/PyRates/pyrates/utility/visualization.py:508: RuntimeWarning: Channel locations not available. Disabling spatial colors.\n",
      "  return plot_raw_psd(raw, tmin=tmin, fmin=fmin, fmax=fmax, **kwargs).axes\n"
     ]
    },
    {
     "name": "stdout",
     "output_type": "stream",
     "text": [
      "Effective window size : 2.048 (s)\n",
      "Need more than one channel to make topography for eeg. Disabling interactivity.\n",
      "Creating RawArray with float64 data, n_channels=1, n_times=10000\n",
      "    Range : 0 ... 9999 =      0.000 ...     9.999 secs\n",
      "Ready.\n",
      "Effective window size : 2.048 (s)\n",
      "Need more than one channel to make topography for eeg. Disabling interactivity.\n",
      "Creating RawArray with float64 data, n_channels=1, n_times=10000\n",
      "    Range : 0 ... 9999 =      0.000 ...     9.999 secs\n",
      "Ready.\n"
     ]
    },
    {
     "name": "stderr",
     "output_type": "stream",
     "text": [
      "/home/rgast/PycharmProjects/PyRates/pyrates/utility/visualization.py:508: RuntimeWarning: Channel locations not available. Disabling spatial colors.\n",
      "  return plot_raw_psd(raw, tmin=tmin, fmin=fmin, fmax=fmax, **kwargs).axes\n",
      "/home/rgast/PycharmProjects/PyRates/pyrates/utility/visualization.py:508: RuntimeWarning: Channel locations not available. Disabling spatial colors.\n",
      "  return plot_raw_psd(raw, tmin=tmin, fmin=fmin, fmax=fmax, **kwargs).axes\n"
     ]
    },
    {
     "name": "stdout",
     "output_type": "stream",
     "text": [
      "Effective window size : 2.048 (s)\n",
      "Need more than one channel to make topography for eeg. Disabling interactivity.\n",
      "Creating RawArray with float64 data, n_channels=1, n_times=10000\n",
      "    Range : 0 ... 9999 =      0.000 ...     9.999 secs\n",
      "Ready.\n",
      "Effective window size : 2.048 (s)\n",
      "Need more than one channel to make topography for eeg. Disabling interactivity.\n",
      "Creating RawArray with float64 data, n_channels=1, n_times=10000\n",
      "    Range : 0 ... 9999 =      0.000 ...     9.999 secs\n",
      "Ready.\n",
      "Effective window size : 2.048 (s)\n"
     ]
    },
    {
     "name": "stderr",
     "output_type": "stream",
     "text": [
      "/home/rgast/PycharmProjects/PyRates/pyrates/utility/visualization.py:508: RuntimeWarning: Channel locations not available. Disabling spatial colors.\n",
      "  return plot_raw_psd(raw, tmin=tmin, fmin=fmin, fmax=fmax, **kwargs).axes\n",
      "/home/rgast/PycharmProjects/PyRates/pyrates/utility/visualization.py:508: RuntimeWarning: Channel locations not available. Disabling spatial colors.\n",
      "  return plot_raw_psd(raw, tmin=tmin, fmin=fmin, fmax=fmax, **kwargs).axes\n"
     ]
    },
    {
     "name": "stdout",
     "output_type": "stream",
     "text": [
      "Need more than one channel to make topography for eeg. Disabling interactivity.\n",
      "Creating RawArray with float64 data, n_channels=1, n_times=10000\n",
      "    Range : 0 ... 9999 =      0.000 ...     9.999 secs\n",
      "Ready.\n",
      "Effective window size : 2.048 (s)\n",
      "Need more than one channel to make topography for eeg. Disabling interactivity.\n",
      "Creating RawArray with float64 data, n_channels=1, n_times=10000\n",
      "    Range : 0 ... 9999 =      0.000 ...     9.999 secs\n",
      "Ready.\n"
     ]
    },
    {
     "name": "stderr",
     "output_type": "stream",
     "text": [
      "/home/rgast/PycharmProjects/PyRates/pyrates/utility/visualization.py:508: RuntimeWarning: Channel locations not available. Disabling spatial colors.\n",
      "  return plot_raw_psd(raw, tmin=tmin, fmin=fmin, fmax=fmax, **kwargs).axes\n",
      "/home/rgast/PycharmProjects/PyRates/pyrates/utility/visualization.py:508: RuntimeWarning: Channel locations not available. Disabling spatial colors.\n",
      "  return plot_raw_psd(raw, tmin=tmin, fmin=fmin, fmax=fmax, **kwargs).axes\n"
     ]
    },
    {
     "name": "stdout",
     "output_type": "stream",
     "text": [
      "Effective window size : 2.048 (s)\n",
      "Need more than one channel to make topography for eeg. Disabling interactivity.\n",
      "Creating RawArray with float64 data, n_channels=1, n_times=10000\n",
      "    Range : 0 ... 9999 =      0.000 ...     9.999 secs\n",
      "Ready.\n",
      "Effective window size : 2.048 (s)\n",
      "Need more than one channel to make topography for eeg. Disabling interactivity.\n",
      "Creating RawArray with float64 data, n_channels=1, n_times=10000\n",
      "    Range : 0 ... 9999 =      0.000 ...     9.999 secs\n",
      "Ready.\n"
     ]
    },
    {
     "name": "stderr",
     "output_type": "stream",
     "text": [
      "/home/rgast/PycharmProjects/PyRates/pyrates/utility/visualization.py:508: RuntimeWarning: Channel locations not available. Disabling spatial colors.\n",
      "  return plot_raw_psd(raw, tmin=tmin, fmin=fmin, fmax=fmax, **kwargs).axes\n",
      "/home/rgast/PycharmProjects/PyRates/pyrates/utility/visualization.py:508: RuntimeWarning: Channel locations not available. Disabling spatial colors.\n",
      "  return plot_raw_psd(raw, tmin=tmin, fmin=fmin, fmax=fmax, **kwargs).axes\n"
     ]
    },
    {
     "name": "stdout",
     "output_type": "stream",
     "text": [
      "Effective window size : 2.048 (s)\n",
      "Need more than one channel to make topography for eeg. Disabling interactivity.\n",
      "Creating RawArray with float64 data, n_channels=1, n_times=10000\n",
      "    Range : 0 ... 9999 =      0.000 ...     9.999 secs\n",
      "Ready.\n",
      "Effective window size : 2.048 (s)\n",
      "Need more than one channel to make topography for eeg. Disabling interactivity.\n",
      "Creating RawArray with float64 data, n_channels=1, n_times=10000\n",
      "    Range : 0 ... 9999 =      0.000 ...     9.999 secs\n",
      "Ready.\n"
     ]
    },
    {
     "name": "stderr",
     "output_type": "stream",
     "text": [
      "/home/rgast/PycharmProjects/PyRates/pyrates/utility/visualization.py:508: RuntimeWarning: Channel locations not available. Disabling spatial colors.\n",
      "  return plot_raw_psd(raw, tmin=tmin, fmin=fmin, fmax=fmax, **kwargs).axes\n",
      "/home/rgast/PycharmProjects/PyRates/pyrates/utility/visualization.py:508: RuntimeWarning: Channel locations not available. Disabling spatial colors.\n",
      "  return plot_raw_psd(raw, tmin=tmin, fmin=fmin, fmax=fmax, **kwargs).axes\n"
     ]
    },
    {
     "name": "stdout",
     "output_type": "stream",
     "text": [
      "Effective window size : 2.048 (s)\n",
      "Need more than one channel to make topography for eeg. Disabling interactivity.\n",
      "Creating RawArray with float64 data, n_channels=1, n_times=10000\n",
      "    Range : 0 ... 9999 =      0.000 ...     9.999 secs\n",
      "Ready.\n",
      "Effective window size : 2.048 (s)\n",
      "Need more than one channel to make topography for eeg. Disabling interactivity.\n",
      "Creating RawArray with float64 data, n_channels=1, n_times=10000\n"
     ]
    },
    {
     "name": "stderr",
     "output_type": "stream",
     "text": [
      "/home/rgast/PycharmProjects/PyRates/pyrates/utility/visualization.py:508: RuntimeWarning: Channel locations not available. Disabling spatial colors.\n",
      "  return plot_raw_psd(raw, tmin=tmin, fmin=fmin, fmax=fmax, **kwargs).axes\n",
      "/home/rgast/PycharmProjects/PyRates/pyrates/utility/visualization.py:508: RuntimeWarning: Channel locations not available. Disabling spatial colors.\n",
      "  return plot_raw_psd(raw, tmin=tmin, fmin=fmin, fmax=fmax, **kwargs).axes\n"
     ]
    },
    {
     "name": "stdout",
     "output_type": "stream",
     "text": [
      "    Range : 0 ... 9999 =      0.000 ...     9.999 secs\n",
      "Ready.\n",
      "Effective window size : 2.048 (s)\n",
      "Need more than one channel to make topography for eeg. Disabling interactivity.\n",
      "Creating RawArray with float64 data, n_channels=1, n_times=10000\n",
      "    Range : 0 ... 9999 =      0.000 ...     9.999 secs\n",
      "Ready.\n",
      "Effective window size : 2.048 (s)\n",
      "Need more than one channel to make topography for eeg. Disabling interactivity.\n",
      "Creating RawArray with float64 data, n_channels=1, n_times=10000\n",
      "    Range : 0 ... 9999 =      0.000 ...     9.999 secs\n",
      "Ready.\n",
      "Effective window size : 2.048 (s)\n",
      "Need more than one channel to make topography for eeg. Disabling interactivity.\n"
     ]
    },
    {
     "name": "stderr",
     "output_type": "stream",
     "text": [
      "/home/rgast/PycharmProjects/PyRates/pyrates/utility/visualization.py:508: RuntimeWarning: Channel locations not available. Disabling spatial colors.\n",
      "  return plot_raw_psd(raw, tmin=tmin, fmin=fmin, fmax=fmax, **kwargs).axes\n",
      "/home/rgast/PycharmProjects/PyRates/pyrates/utility/visualization.py:508: RuntimeWarning: Channel locations not available. Disabling spatial colors.\n",
      "  return plot_raw_psd(raw, tmin=tmin, fmin=fmin, fmax=fmax, **kwargs).axes\n",
      "/home/rgast/PycharmProjects/PyRates/pyrates/utility/visualization.py:508: RuntimeWarning: Channel locations not available. Disabling spatial colors.\n",
      "  return plot_raw_psd(raw, tmin=tmin, fmin=fmin, fmax=fmax, **kwargs).axes\n"
     ]
    },
    {
     "name": "stdout",
     "output_type": "stream",
     "text": [
      "Creating RawArray with float64 data, n_channels=1, n_times=10000\n",
      "    Range : 0 ... 9999 =      0.000 ...     9.999 secs\n",
      "Ready.\n",
      "Effective window size : 2.048 (s)\n",
      "Need more than one channel to make topography for eeg. Disabling interactivity.\n",
      "Creating RawArray with float64 data, n_channels=1, n_times=10000\n",
      "    Range : 0 ... 9999 =      0.000 ...     9.999 secs\n",
      "Ready.\n",
      "Effective window size : 2.048 (s)\n",
      "Need more than one channel to make topography for eeg. Disabling interactivity.\n",
      "Creating RawArray with float64 data, n_channels=1, n_times=10000\n",
      "    Range : 0 ... 9999 =      0.000 ...     9.999 secs\n",
      "Ready.\n"
     ]
    },
    {
     "name": "stderr",
     "output_type": "stream",
     "text": [
      "/home/rgast/PycharmProjects/PyRates/pyrates/utility/visualization.py:508: RuntimeWarning: Channel locations not available. Disabling spatial colors.\n",
      "  return plot_raw_psd(raw, tmin=tmin, fmin=fmin, fmax=fmax, **kwargs).axes\n",
      "/home/rgast/PycharmProjects/PyRates/pyrates/utility/visualization.py:508: RuntimeWarning: Channel locations not available. Disabling spatial colors.\n",
      "  return plot_raw_psd(raw, tmin=tmin, fmin=fmin, fmax=fmax, **kwargs).axes\n"
     ]
    },
    {
     "name": "stdout",
     "output_type": "stream",
     "text": [
      "Effective window size : 2.048 (s)\n",
      "Need more than one channel to make topography for eeg. Disabling interactivity.\n",
      "Creating RawArray with float64 data, n_channels=1, n_times=10000\n",
      "    Range : 0 ... 9999 =      0.000 ...     9.999 secs\n",
      "Ready.\n",
      "Effective window size : 2.048 (s)\n",
      "Need more than one channel to make topography for eeg. Disabling interactivity.\n",
      "Creating RawArray with float64 data, n_channels=1, n_times=10000\n",
      "    Range : 0 ... 9999 =      0.000 ...     9.999 secs\n",
      "Ready.\n"
     ]
    },
    {
     "name": "stderr",
     "output_type": "stream",
     "text": [
      "/home/rgast/PycharmProjects/PyRates/pyrates/utility/visualization.py:508: RuntimeWarning: Channel locations not available. Disabling spatial colors.\n",
      "  return plot_raw_psd(raw, tmin=tmin, fmin=fmin, fmax=fmax, **kwargs).axes\n",
      "/home/rgast/PycharmProjects/PyRates/pyrates/utility/visualization.py:508: RuntimeWarning: Channel locations not available. Disabling spatial colors.\n",
      "  return plot_raw_psd(raw, tmin=tmin, fmin=fmin, fmax=fmax, **kwargs).axes\n"
     ]
    },
    {
     "name": "stdout",
     "output_type": "stream",
     "text": [
      "Effective window size : 2.048 (s)\n",
      "Need more than one channel to make topography for eeg. Disabling interactivity.\n",
      "Creating RawArray with float64 data, n_channels=1, n_times=10000\n",
      "    Range : 0 ... 9999 =      0.000 ...     9.999 secs\n",
      "Ready.\n",
      "Effective window size : 2.048 (s)\n",
      "Need more than one channel to make topography for eeg. Disabling interactivity.\n",
      "Creating RawArray with float64 data, n_channels=1, n_times=10000\n",
      "    Range : 0 ... 9999 =      0.000 ...     9.999 secs\n",
      "Ready.\n"
     ]
    },
    {
     "name": "stderr",
     "output_type": "stream",
     "text": [
      "/home/rgast/PycharmProjects/PyRates/pyrates/utility/visualization.py:508: RuntimeWarning: Channel locations not available. Disabling spatial colors.\n",
      "  return plot_raw_psd(raw, tmin=tmin, fmin=fmin, fmax=fmax, **kwargs).axes\n",
      "/home/rgast/PycharmProjects/PyRates/pyrates/utility/visualization.py:508: RuntimeWarning: Channel locations not available. Disabling spatial colors.\n",
      "  return plot_raw_psd(raw, tmin=tmin, fmin=fmin, fmax=fmax, **kwargs).axes\n"
     ]
    },
    {
     "name": "stdout",
     "output_type": "stream",
     "text": [
      "Effective window size : 2.048 (s)\n",
      "Need more than one channel to make topography for eeg. Disabling interactivity.\n",
      "Creating RawArray with float64 data, n_channels=1, n_times=10000\n",
      "    Range : 0 ... 9999 =      0.000 ...     9.999 secs\n",
      "Ready.\n",
      "Effective window size : 2.048 (s)\n",
      "Need more than one channel to make topography for eeg. Disabling interactivity.\n",
      "Creating RawArray with float64 data, n_channels=1, n_times=10000\n",
      "    Range : 0 ... 9999 =      0.000 ...     9.999 secs\n",
      "Ready.\n"
     ]
    },
    {
     "name": "stderr",
     "output_type": "stream",
     "text": [
      "/home/rgast/PycharmProjects/PyRates/pyrates/utility/visualization.py:508: RuntimeWarning: Channel locations not available. Disabling spatial colors.\n",
      "  return plot_raw_psd(raw, tmin=tmin, fmin=fmin, fmax=fmax, **kwargs).axes\n",
      "/home/rgast/PycharmProjects/PyRates/pyrates/utility/visualization.py:508: RuntimeWarning: Channel locations not available. Disabling spatial colors.\n",
      "  return plot_raw_psd(raw, tmin=tmin, fmin=fmin, fmax=fmax, **kwargs).axes\n"
     ]
    },
    {
     "name": "stdout",
     "output_type": "stream",
     "text": [
      "Effective window size : 2.048 (s)\n",
      "Need more than one channel to make topography for eeg. Disabling interactivity.\n",
      "Creating RawArray with float64 data, n_channels=1, n_times=10000\n",
      "    Range : 0 ... 9999 =      0.000 ...     9.999 secs\n",
      "Ready.\n",
      "Effective window size : 2.048 (s)\n",
      "Need more than one channel to make topography for eeg. Disabling interactivity.\n",
      "Creating RawArray with float64 data, n_channels=1, n_times=10000\n"
     ]
    },
    {
     "name": "stderr",
     "output_type": "stream",
     "text": [
      "/home/rgast/PycharmProjects/PyRates/pyrates/utility/visualization.py:508: RuntimeWarning: Channel locations not available. Disabling spatial colors.\n",
      "  return plot_raw_psd(raw, tmin=tmin, fmin=fmin, fmax=fmax, **kwargs).axes\n",
      "/home/rgast/PycharmProjects/PyRates/pyrates/utility/visualization.py:508: RuntimeWarning: Channel locations not available. Disabling spatial colors.\n",
      "  return plot_raw_psd(raw, tmin=tmin, fmin=fmin, fmax=fmax, **kwargs).axes\n"
     ]
    },
    {
     "name": "stdout",
     "output_type": "stream",
     "text": [
      "    Range : 0 ... 9999 =      0.000 ...     9.999 secs\n",
      "Ready.\n",
      "Effective window size : 2.048 (s)\n",
      "Need more than one channel to make topography for eeg. Disabling interactivity.\n",
      "Creating RawArray with float64 data, n_channels=1, n_times=10000\n",
      "    Range : 0 ... 9999 =      0.000 ...     9.999 secs\n",
      "Ready.\n",
      "Effective window size : 2.048 (s)\n",
      "Need more than one channel to make topography for eeg. Disabling interactivity.\n",
      "Creating RawArray with float64 data, n_channels=1, n_times=10000\n",
      "    Range : 0 ... 9999 =      0.000 ...     9.999 secs\n",
      "Ready.\n"
     ]
    },
    {
     "name": "stderr",
     "output_type": "stream",
     "text": [
      "/home/rgast/PycharmProjects/PyRates/pyrates/utility/visualization.py:508: RuntimeWarning: Channel locations not available. Disabling spatial colors.\n",
      "  return plot_raw_psd(raw, tmin=tmin, fmin=fmin, fmax=fmax, **kwargs).axes\n",
      "/home/rgast/PycharmProjects/PyRates/pyrates/utility/visualization.py:508: RuntimeWarning: Channel locations not available. Disabling spatial colors.\n",
      "  return plot_raw_psd(raw, tmin=tmin, fmin=fmin, fmax=fmax, **kwargs).axes\n"
     ]
    },
    {
     "name": "stdout",
     "output_type": "stream",
     "text": [
      "Effective window size : 2.048 (s)\n",
      "Need more than one channel to make topography for eeg. Disabling interactivity.\n",
      "Creating RawArray with float64 data, n_channels=1, n_times=10000\n",
      "    Range : 0 ... 9999 =      0.000 ...     9.999 secs\n",
      "Ready.\n",
      "Effective window size : 2.048 (s)\n",
      "Need more than one channel to make topography for eeg. Disabling interactivity.\n",
      "Creating RawArray with float64 data, n_channels=1, n_times=10000\n",
      "    Range : 0 ... 9999 =      0.000 ...     9.999 secs\n",
      "Ready.\n",
      "Effective window size : 2.048 (s)\n"
     ]
    },
    {
     "name": "stderr",
     "output_type": "stream",
     "text": [
      "/home/rgast/PycharmProjects/PyRates/pyrates/utility/visualization.py:508: RuntimeWarning: Channel locations not available. Disabling spatial colors.\n",
      "  return plot_raw_psd(raw, tmin=tmin, fmin=fmin, fmax=fmax, **kwargs).axes\n",
      "/home/rgast/PycharmProjects/PyRates/pyrates/utility/visualization.py:508: RuntimeWarning: Channel locations not available. Disabling spatial colors.\n",
      "  return plot_raw_psd(raw, tmin=tmin, fmin=fmin, fmax=fmax, **kwargs).axes\n"
     ]
    },
    {
     "name": "stdout",
     "output_type": "stream",
     "text": [
      "Need more than one channel to make topography for eeg. Disabling interactivity.\n",
      "Creating RawArray with float64 data, n_channels=1, n_times=10000\n",
      "    Range : 0 ... 9999 =      0.000 ...     9.999 secs\n",
      "Ready.\n",
      "Effective window size : 2.048 (s)\n",
      "Need more than one channel to make topography for eeg. Disabling interactivity.\n",
      "Creating RawArray with float64 data, n_channels=1, n_times=10000\n",
      "    Range : 0 ... 9999 =      0.000 ...     9.999 secs\n",
      "Ready.\n",
      "Effective window size : 2.048 (s)\n"
     ]
    },
    {
     "name": "stderr",
     "output_type": "stream",
     "text": [
      "/home/rgast/PycharmProjects/PyRates/pyrates/utility/visualization.py:508: RuntimeWarning: Channel locations not available. Disabling spatial colors.\n",
      "  return plot_raw_psd(raw, tmin=tmin, fmin=fmin, fmax=fmax, **kwargs).axes\n",
      "/home/rgast/PycharmProjects/PyRates/pyrates/utility/visualization.py:508: RuntimeWarning: Channel locations not available. Disabling spatial colors.\n",
      "  return plot_raw_psd(raw, tmin=tmin, fmin=fmin, fmax=fmax, **kwargs).axes\n"
     ]
    },
    {
     "name": "stdout",
     "output_type": "stream",
     "text": [
      "Need more than one channel to make topography for eeg. Disabling interactivity.\n",
      "Creating RawArray with float64 data, n_channels=1, n_times=10000\n",
      "    Range : 0 ... 9999 =      0.000 ...     9.999 secs\n",
      "Ready.\n",
      "Effective window size : 2.048 (s)\n",
      "Need more than one channel to make topography for eeg. Disabling interactivity.\n",
      "Creating RawArray with float64 data, n_channels=1, n_times=10000\n",
      "    Range : 0 ... 9999 =      0.000 ...     9.999 secs\n",
      "Ready.\n",
      "Effective window size : 2.048 (s)\n",
      "Need more than one channel to make topography for eeg. Disabling interactivity.\n"
     ]
    },
    {
     "name": "stderr",
     "output_type": "stream",
     "text": [
      "/home/rgast/PycharmProjects/PyRates/pyrates/utility/visualization.py:508: RuntimeWarning: Channel locations not available. Disabling spatial colors.\n",
      "  return plot_raw_psd(raw, tmin=tmin, fmin=fmin, fmax=fmax, **kwargs).axes\n",
      "/home/rgast/PycharmProjects/PyRates/pyrates/utility/visualization.py:508: RuntimeWarning: Channel locations not available. Disabling spatial colors.\n",
      "  return plot_raw_psd(raw, tmin=tmin, fmin=fmin, fmax=fmax, **kwargs).axes\n",
      "/home/rgast/PycharmProjects/PyRates/pyrates/utility/visualization.py:508: RuntimeWarning: Channel locations not available. Disabling spatial colors.\n",
      "  return plot_raw_psd(raw, tmin=tmin, fmin=fmin, fmax=fmax, **kwargs).axes\n"
     ]
    },
    {
     "name": "stdout",
     "output_type": "stream",
     "text": [
      "Creating RawArray with float64 data, n_channels=1, n_times=10000\n",
      "    Range : 0 ... 9999 =      0.000 ...     9.999 secs\n",
      "Ready.\n",
      "Effective window size : 2.048 (s)\n",
      "Need more than one channel to make topography for eeg. Disabling interactivity.\n",
      "Creating RawArray with float64 data, n_channels=1, n_times=10000\n",
      "    Range : 0 ... 9999 =      0.000 ...     9.999 secs\n",
      "Ready.\n",
      "Effective window size : 2.048 (s)\n",
      "Need more than one channel to make topography for eeg. Disabling interactivity.\n",
      "Creating RawArray with float64 data, n_channels=1, n_times=10000\n",
      "    Range : 0 ... 9999 =      0.000 ...     9.999 secs\n",
      "Ready.\n"
     ]
    },
    {
     "name": "stderr",
     "output_type": "stream",
     "text": [
      "/home/rgast/PycharmProjects/PyRates/pyrates/utility/visualization.py:508: RuntimeWarning: Channel locations not available. Disabling spatial colors.\n",
      "  return plot_raw_psd(raw, tmin=tmin, fmin=fmin, fmax=fmax, **kwargs).axes\n",
      "/home/rgast/PycharmProjects/PyRates/pyrates/utility/visualization.py:508: RuntimeWarning: Channel locations not available. Disabling spatial colors.\n",
      "  return plot_raw_psd(raw, tmin=tmin, fmin=fmin, fmax=fmax, **kwargs).axes\n"
     ]
    },
    {
     "name": "stdout",
     "output_type": "stream",
     "text": [
      "Effective window size : 2.048 (s)\n",
      "Need more than one channel to make topography for eeg. Disabling interactivity.\n",
      "Creating RawArray with float64 data, n_channels=1, n_times=10000\n",
      "    Range : 0 ... 9999 =      0.000 ...     9.999 secs\n",
      "Ready.\n",
      "Effective window size : 2.048 (s)\n",
      "Need more than one channel to make topography for eeg. Disabling interactivity.\n",
      "Creating RawArray with float64 data, n_channels=1, n_times=10000\n",
      "    Range : 0 ... 9999 =      0.000 ...     9.999 secs\n",
      "Ready.\n"
     ]
    },
    {
     "name": "stderr",
     "output_type": "stream",
     "text": [
      "/home/rgast/PycharmProjects/PyRates/pyrates/utility/visualization.py:508: RuntimeWarning: Channel locations not available. Disabling spatial colors.\n",
      "  return plot_raw_psd(raw, tmin=tmin, fmin=fmin, fmax=fmax, **kwargs).axes\n",
      "/home/rgast/PycharmProjects/PyRates/pyrates/utility/visualization.py:508: RuntimeWarning: Channel locations not available. Disabling spatial colors.\n",
      "  return plot_raw_psd(raw, tmin=tmin, fmin=fmin, fmax=fmax, **kwargs).axes\n"
     ]
    },
    {
     "name": "stdout",
     "output_type": "stream",
     "text": [
      "Effective window size : 2.048 (s)\n",
      "Need more than one channel to make topography for eeg. Disabling interactivity.\n",
      "Creating RawArray with float64 data, n_channels=1, n_times=10000\n",
      "    Range : 0 ... 9999 =      0.000 ...     9.999 secs\n",
      "Ready.\n",
      "Effective window size : 2.048 (s)\n",
      "Need more than one channel to make topography for eeg. Disabling interactivity.\n",
      "Creating RawArray with float64 data, n_channels=1, n_times=10000\n"
     ]
    },
    {
     "name": "stderr",
     "output_type": "stream",
     "text": [
      "/home/rgast/PycharmProjects/PyRates/pyrates/utility/visualization.py:508: RuntimeWarning: Channel locations not available. Disabling spatial colors.\n",
      "  return plot_raw_psd(raw, tmin=tmin, fmin=fmin, fmax=fmax, **kwargs).axes\n",
      "/home/rgast/PycharmProjects/PyRates/pyrates/utility/visualization.py:508: RuntimeWarning: Channel locations not available. Disabling spatial colors.\n",
      "  return plot_raw_psd(raw, tmin=tmin, fmin=fmin, fmax=fmax, **kwargs).axes\n"
     ]
    },
    {
     "name": "stdout",
     "output_type": "stream",
     "text": [
      "    Range : 0 ... 9999 =      0.000 ...     9.999 secs\n",
      "Ready.\n",
      "Effective window size : 2.048 (s)\n",
      "Need more than one channel to make topography for eeg. Disabling interactivity.\n",
      "Creating RawArray with float64 data, n_channels=1, n_times=10000\n",
      "    Range : 0 ... 9999 =      0.000 ...     9.999 secs\n",
      "Ready.\n",
      "Effective window size : 2.048 (s)\n",
      "Need more than one channel to make topography for eeg. Disabling interactivity.\n",
      "Creating RawArray with float64 data, n_channels=1, n_times=10000\n",
      "    Range : 0 ... 9999 =      0.000 ...     9.999 secs\n",
      "Ready.\n",
      "Effective window size : 2.048 (s)\n"
     ]
    },
    {
     "name": "stderr",
     "output_type": "stream",
     "text": [
      "/home/rgast/PycharmProjects/PyRates/pyrates/utility/visualization.py:508: RuntimeWarning: Channel locations not available. Disabling spatial colors.\n",
      "  return plot_raw_psd(raw, tmin=tmin, fmin=fmin, fmax=fmax, **kwargs).axes\n",
      "/home/rgast/PycharmProjects/PyRates/pyrates/utility/visualization.py:508: RuntimeWarning: Channel locations not available. Disabling spatial colors.\n",
      "  return plot_raw_psd(raw, tmin=tmin, fmin=fmin, fmax=fmax, **kwargs).axes\n"
     ]
    },
    {
     "name": "stdout",
     "output_type": "stream",
     "text": [
      "Need more than one channel to make topography for eeg. Disabling interactivity.\n",
      "Creating RawArray with float64 data, n_channels=1, n_times=10000\n",
      "    Range : 0 ... 9999 =      0.000 ...     9.999 secs\n",
      "Ready.\n",
      "Effective window size : 2.048 (s)\n",
      "Need more than one channel to make topography for eeg. Disabling interactivity.\n",
      "Creating RawArray with float64 data, n_channels=1, n_times=10000\n"
     ]
    },
    {
     "name": "stderr",
     "output_type": "stream",
     "text": [
      "/home/rgast/PycharmProjects/PyRates/pyrates/utility/visualization.py:508: RuntimeWarning: Channel locations not available. Disabling spatial colors.\n",
      "  return plot_raw_psd(raw, tmin=tmin, fmin=fmin, fmax=fmax, **kwargs).axes\n",
      "/home/rgast/PycharmProjects/PyRates/pyrates/utility/visualization.py:508: RuntimeWarning: Channel locations not available. Disabling spatial colors.\n",
      "  return plot_raw_psd(raw, tmin=tmin, fmin=fmin, fmax=fmax, **kwargs).axes\n"
     ]
    },
    {
     "name": "stdout",
     "output_type": "stream",
     "text": [
      "    Range : 0 ... 9999 =      0.000 ...     9.999 secs\n",
      "Ready.\n",
      "Effective window size : 2.048 (s)\n",
      "Need more than one channel to make topography for eeg. Disabling interactivity.\n",
      "Creating RawArray with float64 data, n_channels=1, n_times=10000\n",
      "    Range : 0 ... 9999 =      0.000 ...     9.999 secs\n",
      "Ready.\n",
      "Effective window size : 2.048 (s)\n",
      "Need more than one channel to make topography for eeg. Disabling interactivity.\n",
      "Creating RawArray with float64 data, n_channels=1, n_times=10000\n",
      "    Range : 0 ... 9999 =      0.000 ...     9.999 secs\n",
      "Ready.\n"
     ]
    },
    {
     "name": "stderr",
     "output_type": "stream",
     "text": [
      "/home/rgast/PycharmProjects/PyRates/pyrates/utility/visualization.py:508: RuntimeWarning: Channel locations not available. Disabling spatial colors.\n",
      "  return plot_raw_psd(raw, tmin=tmin, fmin=fmin, fmax=fmax, **kwargs).axes\n",
      "/home/rgast/PycharmProjects/PyRates/pyrates/utility/visualization.py:508: RuntimeWarning: Channel locations not available. Disabling spatial colors.\n",
      "  return plot_raw_psd(raw, tmin=tmin, fmin=fmin, fmax=fmax, **kwargs).axes\n"
     ]
    },
    {
     "name": "stdout",
     "output_type": "stream",
     "text": [
      "Effective window size : 2.048 (s)\n",
      "Need more than one channel to make topography for eeg. Disabling interactivity.\n",
      "Creating RawArray with float64 data, n_channels=1, n_times=10000\n",
      "    Range : 0 ... 9999 =      0.000 ...     9.999 secs\n",
      "Ready.\n",
      "Effective window size : 2.048 (s)\n",
      "Need more than one channel to make topography for eeg. Disabling interactivity.\n",
      "Creating RawArray with float64 data, n_channels=1, n_times=10000\n",
      "    Range : 0 ... 9999 =      0.000 ...     9.999 secs\n",
      "Ready.\n"
     ]
    },
    {
     "name": "stderr",
     "output_type": "stream",
     "text": [
      "/home/rgast/PycharmProjects/PyRates/pyrates/utility/visualization.py:508: RuntimeWarning: Channel locations not available. Disabling spatial colors.\n",
      "  return plot_raw_psd(raw, tmin=tmin, fmin=fmin, fmax=fmax, **kwargs).axes\n",
      "/home/rgast/PycharmProjects/PyRates/pyrates/utility/visualization.py:508: RuntimeWarning: Channel locations not available. Disabling spatial colors.\n",
      "  return plot_raw_psd(raw, tmin=tmin, fmin=fmin, fmax=fmax, **kwargs).axes\n"
     ]
    },
    {
     "name": "stdout",
     "output_type": "stream",
     "text": [
      "Effective window size : 2.048 (s)\n",
      "Need more than one channel to make topography for eeg. Disabling interactivity.\n",
      "Creating RawArray with float64 data, n_channels=1, n_times=10000\n",
      "    Range : 0 ... 9999 =      0.000 ...     9.999 secs\n",
      "Ready.\n",
      "Effective window size : 2.048 (s)\n",
      "Need more than one channel to make topography for eeg. Disabling interactivity.\n",
      "Creating RawArray with float64 data, n_channels=1, n_times=10000\n",
      "    Range : 0 ... 9999 =      0.000 ...     9.999 secs\n",
      "Ready.\n",
      "Effective window size : 2.048 (s)\n"
     ]
    },
    {
     "name": "stderr",
     "output_type": "stream",
     "text": [
      "/home/rgast/PycharmProjects/PyRates/pyrates/utility/visualization.py:508: RuntimeWarning: Channel locations not available. Disabling spatial colors.\n",
      "  return plot_raw_psd(raw, tmin=tmin, fmin=fmin, fmax=fmax, **kwargs).axes\n",
      "/home/rgast/PycharmProjects/PyRates/pyrates/utility/visualization.py:508: RuntimeWarning: Channel locations not available. Disabling spatial colors.\n",
      "  return plot_raw_psd(raw, tmin=tmin, fmin=fmin, fmax=fmax, **kwargs).axes\n"
     ]
    },
    {
     "name": "stdout",
     "output_type": "stream",
     "text": [
      "Need more than one channel to make topography for eeg. Disabling interactivity.\n"
     ]
    },
    {
     "name": "stderr",
     "output_type": "stream",
     "text": [
      "/home/rgast/PycharmProjects/PyRates/pyrates/utility/visualization.py:508: RuntimeWarning: Channel locations not available. Disabling spatial colors.\n",
      "  return plot_raw_psd(raw, tmin=tmin, fmin=fmin, fmax=fmax, **kwargs).axes\n"
     ]
    }
   ],
   "source": [
    "# calculate PSDs\n",
    "cut_off = 1.\n",
    "max_freq = np.zeros((len(tau_i), len(tau_e)))\n",
    "freq_pow = np.zeros_like(max_freq)\n",
    "for t_e, t_i, h_e, h_i in zip(params['tau_e'], params['tau_i'], params['H_e'], params['H_i']):       # loop over conditions\n",
    "    if not results[t_e][t_i][h_e][h_i].isnull().any().any():\n",
    "        _ = plot_psd(results[t_e][t_i][h_e][h_i], tmin=cut_off, show=False)                          # calculate the psd for the condition\n",
    "        power = plt.gca().get_lines()[-1].get_ydata()                                                # extract powers\n",
    "        freqs = plt.gca().get_lines()[-1].get_xdata()                                                # extract frequencies\n",
    "        idx_c, idx_r = np.argwhere(tau_e == t_e)[0], np.argwhere(tau_i == t_i)[0]\n",
    "        p = np.max(power)                                                                            \n",
    "        f = freqs[np.argmax(power)]                                                                  # remember frequency with highest power\n",
    "        if p < 70.:\n",
    "            if f < 4.:\n",
    "                max_freq[idx_r, idx_c] = 1.\n",
    "            elif f < 8.:\n",
    "                max_freq[idx_r, idx_c] = 2.\n",
    "            elif f < 12.:\n",
    "                max_freq[idx_r, idx_c] = 3.\n",
    "            elif f < 30.:\n",
    "                max_freq[idx_r, idx_c] = 4.\n",
    "            else:\n",
    "                max_freq[idx_r, idx_c] = 5.\n",
    "        else:\n",
    "            max_freq[idx_r, idx_c] = 0.\n",
    "        freq_pow[idx_r, idx_c] = p \n",
    "        plt.close('all')"
   ]
  },
  {
   "cell_type": "markdown",
   "metadata": {},
   "source": [
    "4) "
   ]
  },
  {
   "cell_type": "code",
   "execution_count": 19,
   "metadata": {},
   "outputs": [
    {
     "data": {
      "image/png": "[encoded data removed]",
      "text/plain": [
       "<Figure size 936x792 with 2 Axes>"
      ]
     },
     "metadata": {},
     "output_type": "display_data"
    }
   ],
   "source": [
    "# create axis ticks\n",
    "yticks = (tau_i * 1e3).astype('int')\n",
    "yticks[::2] = 0.\n",
    "yticks = [str(y) if y > 0. else '' for y in yticks]\n",
    "xticks = (tau_e * 1e3).astype('int')\n",
    "xticks[::2] = 0.\n",
    "xticks = [str(x) if x > 0. else '' for x in xticks]\n",
    "\n",
    "# create a color map\n",
    "cm_red = create_cmap('pyrates_red', as_cmap=True)\n",
    "\n",
    "# plot the dominant frequencies\n",
    "fig, ax = plt.subplots(figsize=(13, 11))\n",
    "ax = plot_connectivity(max_freq, ax=ax, yticklabels=list(yticks), xticklabels=list(xticks), cmap=cm_red)\n",
    "\n",
    "# adjust labels\n",
    "ax.set_yticklabels(ax.get_yticklabels(), rotation='horizontal')\n",
    "ax.set_xticklabels(ax.get_xticklabels(), rotation='horizontal')\n",
    "ax.set_xlabel(r'$\\mathbf{\\tau_e}$ in ms', labelpad=15.)\n",
    "ax.set_ylabel(r'$\\mathbf{\\tau_i}$ in ms', labelpad=15.)\n",
    "ax.set_title(f'Dominant frequency band', pad=20.)\n",
    "cbar = plt.gcf().axes[-1]\n",
    "cbar.set_yticklabels(['hyper signal', r'$\\delta$ (1-4 Hz.)', r'$\\theta$ (4-8 Hz.)', r'$\\alpha$ (8-12) Hz.', \n",
    "                      r'$\\beta$ (12-30) Hz.', r'$\\gamma$ (> 30 Hz.)'])\n",
    "\n",
    "plt.tight_layout()\n",
    "plt.savefig('Gast_2018_PyRates_JansenRit_taus.svg', format='svg')"
   ]
  },
  {
   "cell_type": "code",
   "execution_count": null,
   "metadata": {},
   "outputs": [],
   "source": []
  }
 ],
 "metadata": {
  "kernelspec": {
   "display_name": "Python 3",
   "language": "python",
   "name": "python3"
  },
  "language_info": {
   "codemirror_mode": {
    "name": "ipython",
    "version": 3
   },
   "file_extension": ".py",
   "mimetype": "text/x-python",
   "name": "python",
   "nbconvert_exporter": "python",
   "pygments_lexer": "ipython3",
   "version": "3.6.5"
  }
 },
 "nbformat": 4,
 "nbformat_minor": 2
}
