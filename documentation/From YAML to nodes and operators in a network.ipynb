{
 "cells": [
  {
   "cell_type": "markdown",
   "metadata": {},
   "source": [
    "# From YAML to nodes and operators in a network\n",
    "This is a short overview on how to get from a template defined in YAML to an intermediate representation in PyRates that includes\n",
    "- Operators with equations and variable type specifications\n",
    "- Nodes with references to operators and variable values\n",
    "- Edges with operator references and source/target node/variable information\n",
    "\n",
    "and can be parsed to deploy on tensorflow or something else."
   ]
  },
  {
   "cell_type": "code",
   "execution_count": 1,
   "metadata": {},
   "outputs": [],
   "source": [
    "# navigate to pyrates directory, since loading of YAML templates with module initialisation is not implemented yet"
   ]
  },
  {
   "cell_type": "code",
   "execution_count": 1,
   "metadata": {},
   "outputs": [
    {
     "name": "stdout",
     "output_type": "stream",
     "text": [
      "/home/raid1/drose/PhD/12_NMM_Framework/PyRates\n"
     ]
    }
   ],
   "source": [
    "cd .."
   ]
  },
  {
   "cell_type": "markdown",
   "metadata": {},
   "source": [
    "## For reference: A simple template in YAML 1.2\n",
    "The below code prints a .yaml text file, defining a very basic operator. The YAML-file serves as both definition and documentation of a template. "
   ]
  },
  {
   "cell_type": "code",
   "execution_count": 2,
   "metadata": {},
   "outputs": [
    {
     "name": "stdout",
     "output_type": "stream",
     "text": [
      "%YAML 1.2\n",
      "\n",
      "---\n",
      "\n",
      "PotentialToRateOperator:\n",
      "\n",
      "  base: OperatorTemplate\n",
      "\n",
      "  equation: \"L_PRO * m_out = r * V\"\n",
      "\n",
      "  variables:\n",
      "\n",
      "    L_PRO:\n",
      "\n",
      "      description: Generic linear differential operator\n",
      "\n",
      "      unit: null\n",
      "\n",
      "      default: 1\n",
      "\n",
      "    m_out:\n",
      "\n",
      "      name: outgoing_firing_rate\n",
      "\n",
      "      description: Mean outgoing firing rate at axonal hillock\n",
      "\n",
      "      unit: 1/s\n",
      "\n",
      "      default: output\n",
      "\n",
      "    r:\n",
      "\n",
      "      description: Generic scaling constant that transforms voltage to firing rate.\n",
      "\n",
      "      unit: 1/(s*V)\n",
      "\n",
      "      default: 1\n",
      "\n",
      "    V:\n",
      "\n",
      "      name: membrane_potential\n",
      "\n",
      "      description: Mean somatic membrane potential\n",
      "\n",
      "      unit: V\n",
      "\n",
      "      default: input\n",
      "\n",
      "  description: \"Generic potential-to-rate operator (PRO) to be replaced\n",
      "\n",
      "    with a meaningful function. The PRO encodes the transformation of\n",
      "\n",
      "    mean somatic membrane potential to an outgoing firing rate at the\n",
      "\n",
      "    axonal hillocks of a neural population.\"\n"
     ]
    }
   ],
   "source": [
    "from ruamel.yaml import YAML\n",
    "# initialize YAML parser\n",
    "yaml = YAML(typ=\"safe\", pure=True) \n",
    "# \"safe\" disallows parsing of comments, \n",
    "# pure ensures we can use YAML 1.2\n",
    "with open(\"pyrates/axon/axon.yaml\", \"r\") as file:\n",
    "    for line in file:\n",
    "        print(line)"
   ]
  },
  {
   "cell_type": "markdown",
   "metadata": {},
   "source": [
    "__The above file is parsed as a python dictionary as follows:__"
   ]
  },
  {
   "cell_type": "code",
   "execution_count": 3,
   "metadata": {},
   "outputs": [
    {
     "data": {
      "text/plain": [
       "{'PotentialToRateOperator': {'base': 'OperatorTemplate',\n",
       "  'equation': 'L_PRO * m_out = r * V',\n",
       "  'variables': {'L_PRO': {'description': 'Generic linear differential operator',\n",
       "    'unit': None,\n",
       "    'default': 1},\n",
       "   'm_out': {'name': 'outgoing_firing_rate',\n",
       "    'description': 'Mean outgoing firing rate at axonal hillock',\n",
       "    'unit': '1/s',\n",
       "    'default': 'output'},\n",
       "   'r': {'description': 'Generic scaling constant that transforms voltage to firing rate.',\n",
       "    'unit': '1/(s*V)',\n",
       "    'default': 1},\n",
       "   'V': {'name': 'membrane_potential',\n",
       "    'description': 'Mean somatic membrane potential',\n",
       "    'unit': 'V',\n",
       "    'default': 'input'}},\n",
       "  'description': 'Generic potential-to-rate operator (PRO) to be replaced with a meaningful function. The PRO encodes the transformation of mean somatic membrane potential to an outgoing firing rate at the axonal hillocks of a neural population.'}}"
      ]
     },
     "execution_count": 3,
     "metadata": {},
     "output_type": "execute_result"
    }
   ],
   "source": [
    "with open(\"pyrates/axon/axon.yaml\", \"r\") as file:\n",
    "    parsed = yaml.load(file)\n",
    "parsed"
   ]
  },
  {
   "cell_type": "markdown",
   "metadata": {},
   "source": [
    "__Note__: Sub-templates can replace some parts or everything in their parent"
   ]
  },
  {
   "cell_type": "markdown",
   "metadata": {},
   "source": [
    "### Dynamic loading of YAML-templates into python classes\n",
    "Three elementary template classes are implemented in python:\n",
    "- OperatorTemplate: definitions of equations and their variables\n",
    "- NodeTemplate: a network node that summarises multiple operators\n",
    "- CircuitTemplate: an entire network with nodes and edges\n",
    "\n",
    "The method `.from_yaml` is a shorthand to the respective loaders"
   ]
  },
  {
   "cell_type": "code",
   "execution_count": 4,
   "metadata": {},
   "outputs": [
    {
     "name": "stderr",
     "output_type": "stream",
     "text": [
      "/nobackup/jamaika1/drose/anaconda3/envs/nmm/lib/python3.6/site-packages/h5py/__init__.py:36: FutureWarning: Conversion of the second argument of issubdtype from `float` to `np.floating` is deprecated. In future, it will be treated as `np.float64 == np.dtype(float).type`.\n",
      "  from ._conv import register_converters as _register_converters\n"
     ]
    }
   ],
   "source": [
    "from pyrates.operator.operator import OperatorTemplate"
   ]
  },
  {
   "cell_type": "code",
   "execution_count": 5,
   "metadata": {},
   "outputs": [],
   "source": [
    "path = \"pyrates.axon.templates.SigmoidPRO\""
   ]
  },
  {
   "cell_type": "code",
   "execution_count": 6,
   "metadata": {},
   "outputs": [
    {
     "data": {
      "text/plain": [
       "<OperatorTemplate 'pyrates.axon.templates.SigmoidPRO'>"
      ]
     },
     "execution_count": 6,
     "metadata": {},
     "output_type": "execute_result"
    }
   ],
   "source": [
    "template = OperatorTemplate.from_yaml(path)\n",
    "template"
   ]
  },
  {
   "cell_type": "code",
   "execution_count": 7,
   "metadata": {},
   "outputs": [
    {
     "data": {
      "text/plain": [
       "'m_out = m_max / (1 + exp(s*(V_thr - V)))'"
      ]
     },
     "execution_count": 7,
     "metadata": {},
     "output_type": "execute_result"
    }
   ],
   "source": [
    "template.equation"
   ]
  },
  {
   "cell_type": "code",
   "execution_count": 8,
   "metadata": {},
   "outputs": [
    {
     "data": {
      "text/plain": [
       "{'m_out': {'name': 'outgoing_firing_rate',\n",
       "  'description': 'Mean outgoing firing rate at axonal hillock',\n",
       "  'unit': '1/s',\n",
       "  'default': 'output'},\n",
       " 'r': {'description': 'Generic scaling constant that transforms voltage to firing rate.',\n",
       "  'unit': '1/(s*V)',\n",
       "  'default': 1},\n",
       " 'V': {'name': 'membrane_potential',\n",
       "  'description': 'Mean somatic membrane potential',\n",
       "  'unit': 'V',\n",
       "  'default': 'input'},\n",
       " 'm_max': {'name': 'max_firing_rate',\n",
       "  'description': 'Determines maximum firing rate of axon.',\n",
       "  'unit': '1/s',\n",
       "  'default': 'constant(float)',\n",
       "  'allowed_range': '>= 0'},\n",
       " 's': {'name': 'slope',\n",
       "  'description': 'Determines slope of the sigmoidal transfer function at the firing threshold.',\n",
       "  'default': 'constant(float)'},\n",
       " 'V_thr': {'name': 'firing_threshold',\n",
       "  'description': 'Determines membrane potential for which output firing rate is half the maximum firing rate.',\n",
       "  'default': 'constant(float)',\n",
       "  'unit': 'V'}}"
      ]
     },
     "execution_count": 8,
     "metadata": {},
     "output_type": "execute_result"
    }
   ],
   "source": [
    "template.variables"
   ]
  },
  {
   "cell_type": "markdown",
   "metadata": {},
   "source": [
    "__Note:__ The same can be achieved by passing the necessary data to the template class in python"
   ]
  },
  {
   "cell_type": "code",
   "execution_count": 9,
   "metadata": {},
   "outputs": [],
   "source": [
    "template2 = OperatorTemplate(template.name, template.path, template.equation, \n",
    "                             template.variables, template.__doc__, template.options)"
   ]
  },
  {
   "cell_type": "code",
   "execution_count": 10,
   "metadata": {},
   "outputs": [
    {
     "data": {
      "text/plain": [
       "True"
      ]
     },
     "execution_count": 10,
     "metadata": {},
     "output_type": "execute_result"
    }
   ],
   "source": [
    "template2.__dict__ == template.__dict__"
   ]
  },
  {
   "cell_type": "markdown",
   "metadata": {},
   "source": [
    "### Loading a circuit template\n",
    "A circuit templates contains references to templates of nodes, edges and coupling operators"
   ]
  },
  {
   "cell_type": "code",
   "execution_count": 11,
   "metadata": {},
   "outputs": [],
   "source": [
    "from pyrates.circuit import CircuitTemplate"
   ]
  },
  {
   "cell_type": "code",
   "execution_count": 12,
   "metadata": {},
   "outputs": [],
   "source": [
    "circuit_template = CircuitTemplate.from_yaml(\"pyrates.circuit.templates.JansenRitCircuit\")"
   ]
  },
  {
   "cell_type": "code",
   "execution_count": 13,
   "metadata": {},
   "outputs": [
    {
     "data": {
      "text/plain": [
       "{'JR_PC': <NodeTemplate 'pyrates.population.templates.JansenRitPC'>,\n",
       " 'JR_IIN': <NodeTemplate 'pyrates.population.templates.JansenRitIN'>,\n",
       " 'JR_EIN': <NodeTemplate 'pyrates.population.templates.JansenRitIN'>}"
      ]
     },
     "execution_count": 13,
     "metadata": {},
     "output_type": "execute_result"
    }
   ],
   "source": [
    "# note that JR_IIN and JR_EIN refer to the same template\n",
    "circuit_template.nodes"
   ]
  },
  {
   "cell_type": "code",
   "execution_count": 14,
   "metadata": {},
   "outputs": [
    {
     "data": {
      "text/plain": [
       "[['JR_PC', 'JR_IIN', 'LC', {'c': 33.75}],\n",
       " ['JR_PC', 'JR_EIN', 'LC', {'c': 135}],\n",
       " ['JR_EIN', 'JR_PC', 'LC', {'c': 108}],\n",
       " ['JR_IIN', 'JR_PC', 'LC', {'c': 33.75}]]"
      ]
     },
     "execution_count": 14,
     "metadata": {},
     "output_type": "execute_result"
    }
   ],
   "source": [
    "circuit_template.edges"
   ]
  },
  {
   "cell_type": "code",
   "execution_count": 15,
   "metadata": {},
   "outputs": [
    {
     "data": {
      "text/plain": [
       "{'LC': <OperatorTemplate 'pyrates.coupling.templates.LinearCoupling'>}"
      ]
     },
     "execution_count": 15,
     "metadata": {},
     "output_type": "execute_result"
    }
   ],
   "source": [
    "circuit_template.coupling"
   ]
  },
  {
   "cell_type": "markdown",
   "metadata": {},
   "source": [
    "### Instantiating a circuit\n",
    "A circuit instance is a networkx.MultiDiGraph, but overwrites parts of the methods. "
   ]
  },
  {
   "cell_type": "code",
   "execution_count": 16,
   "metadata": {},
   "outputs": [
    {
     "data": {
      "text/plain": [
       "<pyrates.circuit.circuit.Circuit at 0x7f43c3faa5f8>"
      ]
     },
     "execution_count": 16,
     "metadata": {},
     "output_type": "execute_result"
    }
   ],
   "source": [
    "circuit = circuit_template.apply()\n",
    "circuit"
   ]
  },
  {
   "cell_type": "code",
   "execution_count": 17,
   "metadata": {},
   "outputs": [
    {
     "data": {
      "text/plain": [
       "NodeView(('JR_PC', 'JR_IIN', 'JR_EIN'))"
      ]
     },
     "execution_count": 17,
     "metadata": {},
     "output_type": "execute_result"
    }
   ],
   "source": [
    "circuit.nodes"
   ]
  },
  {
   "cell_type": "code",
   "execution_count": 18,
   "metadata": {},
   "outputs": [
    {
     "data": {
      "text/plain": [
       "OutMultiEdgeView([('JR_PC', 'JR_IIN', 0), ('JR_PC', 'JR_EIN', 0), ('JR_IIN', 'JR_PC', 0), ('JR_EIN', 'JR_PC', 0)])"
      ]
     },
     "execution_count": 18,
     "metadata": {},
     "output_type": "execute_result"
    }
   ],
   "source": [
    "circuit.edges"
   ]
  },
  {
   "cell_type": "code",
   "execution_count": 19,
   "metadata": {},
   "outputs": [
    {
     "data": {
      "text/plain": [
       "{'equation': 'm_in = c * m_out',\n",
       " 'variables': {'m_in': {'name': 'incoming_firing_rate',\n",
       "   'description': 'Mean incoming firing rate at pre-synaptic terminal',\n",
       "   'unit': '1/s',\n",
       "   'variable_type': 'state_variable',\n",
       "   'data_type': 'float32'},\n",
       "  'c': {'name': 'connection_strength',\n",
       "   'description': 'Connectivity constant that reflects connection strength from one neural population on another.',\n",
       "   'unit': None,\n",
       "   'variable_type': 'constant',\n",
       "   'data_type': 'int32'},\n",
       "  'm_out': {'name': 'outgoing_firing_rate',\n",
       "   'description': 'Mean outgoing firing rate at axonal hillock of pre-synaptic neuron.',\n",
       "   'unit': '1/s',\n",
       "   'variable_type': 'state_variable',\n",
       "   'data_type': 'float32'}}}"
      ]
     },
     "execution_count": 19,
     "metadata": {},
     "output_type": "execute_result"
    }
   ],
   "source": [
    "# reference to coupling opeator\n",
    "circuit.edges[(\"JR_PC\", \"JR_IIN\", 0)][\"coupling\"]"
   ]
  },
  {
   "cell_type": "code",
   "execution_count": 20,
   "metadata": {},
   "outputs": [
    {
     "data": {
      "text/plain": [
       "{'c': 33.75}"
      ]
     },
     "execution_count": 20,
     "metadata": {},
     "output_type": "execute_result"
    }
   ],
   "source": [
    "# reference to connection-specific values\n",
    "circuit.edges[(\"JR_PC\", \"JR_IIN\", 0)][\"values\"]"
   ]
  },
  {
   "cell_type": "code",
   "execution_count": 21,
   "metadata": {},
   "outputs": [
    {
     "data": {
      "text/plain": [
       "True"
      ]
     },
     "execution_count": 21,
     "metadata": {},
     "output_type": "execute_result"
    }
   ],
   "source": [
    "# two edges refer to the same coupling operator\n",
    "circuit.edges[(\"JR_PC\", \"JR_IIN\", 0)][\"coupling\"] is circuit.edges[('JR_PC', 'JR_EIN', 0)][\"coupling\"]"
   ]
  },
  {
   "cell_type": "markdown",
   "metadata": {},
   "source": [
    "### Draw graph with `networkx`\n",
    "very simple way to draw the graph.\n",
    "__Note:__ Multiple edges are displayed as one line"
   ]
  },
  {
   "cell_type": "code",
   "execution_count": 22,
   "metadata": {},
   "outputs": [
    {
     "data": {
      "image/png": "[encoded data removed]",
      "text/plain": [
       "<Figure size 432x288 with 1 Axes>"
      ]
     },
     "metadata": {},
     "output_type": "display_data"
    }
   ],
   "source": [
    "import matplotlib.pyplot as plt\n",
    "import networkx as nx\n",
    "pos=nx.spring_layout(circuit)\n",
    "nx.draw_shell(circuit, with_labels=True, node_size=2000, arrowsize=30)"
   ]
  },
  {
   "cell_type": "code",
   "execution_count": null,
   "metadata": {},
   "outputs": [],
   "source": []
  }
 ],
 "metadata": {
  "kernelspec": {
   "display_name": "Python 3",
   "language": "python",
   "name": "python3"
  },
  "language_info": {
   "codemirror_mode": {
    "name": "ipython",
    "version": 3
   },
   "file_extension": ".py",
   "mimetype": "text/x-python",
   "name": "python",
   "nbconvert_exporter": "python",
   "pygments_lexer": "ipython3",
   "version": "3.6.6"
  }
 },
 "nbformat": 4,
 "nbformat_minor": 2
}
