{
 "cells": [
  {
   "cell_type": "markdown",
   "metadata": {},
   "source": [
    "# How to build and examine neurodynamic models in PyRates: \n",
    "\n",
    "## Setting up a Jansen-Rit-like cortical microcircuit using the Montbrio population model\n",
    "\n",
    "In this example, it is your task to use PyRates to build a new model of a cortical microcircuit, fusing the architecture of the Jansen-Rit model and the evolution equations for the population dynamics proposed by Montbrio and colleagues. \n",
    "\n",
    "As a reminder, Montbrio and colleagues derived a set of two coupled ODEs describing the dynamics of the average firing rate $r$ and membrane potential $v$ of a population of globally coupled quadratic integrate-and-fire neurons. The evolution equations for an excitatory QIF population are given by:\n",
    "\n",
    "$$\\tau \\dot r = \\frac{\\Delta}{\\pi\\tau} +2 r v$$\n",
    "$$\\tau \\dot v = v^2 +\\eta + I_{ext}(t) + (Jr+r_{exc}-r_{inh}) \\tau - (\\pi r \\tau)^2$$\n",
    "\n",
    "With $\\tau$ being the evolution time constant,  $J$ is the global coupling strength, $I_{ext}$ is external current and $\\eta$ and $\\Delta$ are the average and FWHM of the background input, respectively.\n",
    "\n",
    "The Jansen-Rit architecture is characterized by the following features:\n",
    "- 3 interconnected populations: Pyramidal cells, excitatory interneurons and inhibitory interneurons\n",
    "- Synaptic dynamics are expressed by convolutions with alpha kernels, describing an exponential rise and decay of the synaptic response\n",
    "\n",
    "The benefit of a QIF-based cortical microcircuit is that neural refractoriness is represented in the single cell model and not lost by the mean-field reduction of Montbrio and colleagues. This leads to more realistic synchronization behavior within populations and allows for an explicit description of the amount of synchrony within a population. Given the extensive use of neural population models to investigate neural synchronization behavior in macroscopic neural networks (i.e. connectome models), this improvement could allow to capture a number of features of neural synchronization dynamics that could not be explained by models like the Jansen-Rit model that provide no direct description of the level of neural synchronization.\n",
    "\n",
    "So lets start setting up the model.\n",
    "\n",
    "## Step I: Implementing the Montbrio population dynamics in PyRates\n",
    "\n",
    "Your first task is to set up the operators implementing the equations from above. Thereby, you should distinguish between operators for excitatory and inhibitory populations, since we need both of them in the final model. In the cell below, we already provided some of the code required to do this. You just have to fill in the blank spots, marked by `...`."
   ]
  },
  {
   "cell_type": "code",
   "execution_count": 1,
   "metadata": {},
   "outputs": [],
   "source": [
    "import numpy as np\n",
    "from pyrates.frontend import OperatorTemplate\n",
    "\n",
    "# TODO: implement your solution below\n",
    "#####################################\n",
    "\n",
    "# equations for excitatory population\n",
    "exc = ['d/dt * r = (delta/(PI*tau)+2.*r*v)/tau',\n",
    "       'd/dt * v = (v^2 + eta + I_ext + (J*r+r_exc-r_inh)*tau - (PI*r*tau)^2) / tau']\n",
    "\n",
    "# equations for inhibitory population\n",
    "inh = ['d/dt * r = (delta/(PI*tau)+2.*r*v)/tau',\n",
    "       'd/dt * v = (v^2 + eta + I_ext + (r_exc-J*r-r_inh)*tau - (PI*r*tau)^2) / tau']\n",
    "\n",
    "# equation variables\n",
    "variables = {'delta': {'default': 1.0},\n",
    "             'tau': {'default': 1.0},\n",
    "             'eta': {'default': -5.0},\n",
    "             'J': {'default': 15.0},\n",
    "             'r': {'default': 'output'},\n",
    "             'v': {'default': 'variable'},\n",
    "             'I_ext': {'default': 'input'},\n",
    "             'r_inh': {'default': 'input'},\n",
    "             'r_exc': {'default': 'input'}}\n",
    "\n",
    "# operator setup\n",
    "exc_temp = OperatorTemplate(name='Op_exc', path=None, equations=exc, variables=variables)\n",
    "inh_temp = OperatorTemplate(name='Op_inh', path=None, equations=inh, variables=variables)"
   ]
  },
  {
   "cell_type": "markdown",
   "metadata": {},
   "source": [
    "Your next task is to create a circuit with a single node representing an excitatory QIF population governed by the above defined excitatory population operator."
   ]
  },
  {
   "cell_type": "code",
   "execution_count": 3,
   "metadata": {},
   "outputs": [],
   "source": [
    "from pyrates.frontend import NodeTemplate, CircuitTemplate\n",
    "\n",
    "# TODO: implement your solution below\n",
    "#####################################\n",
    "\n",
    "# set up the node template\n",
    "node_exc_temp = NodeTemplate(name='Pop_exc', path=None, operators=[exc_temp])\n",
    "\n",
    "# set up the circuit template\n",
    "pop_exc_temp = CircuitTemplate(name='EC', path=None, nodes={'Pop_exc': node_exc_temp})\n",
    "\n",
    "# transform the circuit template into an intermediate representation\n",
    "pop_exc_ir = pop_exc_temp.apply()"
   ]
  },
  {
   "cell_type": "markdown",
   "metadata": {},
   "source": [
    "Now, let's test whether the circuit behaves as expected, by simulating its behavior given some transient input."
   ]
  },
  {
   "cell_type": "code",
   "execution_count": 4,
   "metadata": {},
   "outputs": [
    {
     "name": "stdout",
     "output_type": "stream",
     "text": [
      "Preparing simulation...\n",
      "Running simulation...\n"
     ]
    },
    {
     "name": "stderr",
     "output_type": "stream",
     "text": [
      "/home/rgast/PycharmProjects/PyRates/pyrates/backend/backend_wrapper.py:265: FutureWarning: elementwise comparison failed; returning scalar instead, but in the future will perform elementwise comparison\n",
      "  idx = results['args'].index(arg)\n"
     ]
    },
    {
     "name": "stdout",
     "output_type": "stream",
     "text": [
      "42.0s of backend behavior were simulated in 4.0575714111328125 s given a simulation resolution of 0.001 s.\n"
     ]
    }
   ],
   "source": [
    "from pyrates.backend import ComputeGraph\n",
    "\n",
    "dt = 1e-3                                      # integration step size in s\n",
    "dts = 1e-2                                     # variable storage sub-sampling step size in s\n",
    "T = 42.                                        # total simulation time in s\n",
    "inp = np.zeros((int(T/dt), 1))                 # external input to the population\n",
    "inp[int(6./dt):int((T-12.)/dt)] = 3.\n",
    "\n",
    "# TODO: implement you solution below\n",
    "####################################\n",
    "\n",
    "# set up the computation graph\n",
    "model = ComputeGraph(pop_exc_ir, name='qif_exc', build_in_place=False)\n",
    "\n",
    "# perform a numerical simulation with input delivered to I_ext and recordings of v and r\n",
    "results, _, _ = model.run(simulation_time=T, \n",
    "                         inputs={(\"Pop_exc.0\", \"Op_exc.0\", \"I_ext\"): inp},\n",
    "                         outputs={\"r\": (\"Pop_exc.0\", \"Op_exc.0\", \"r\"), \n",
    "                                  \"v\": (\"Pop_exc.0\", \"Op_exc.0\", \"v\")},\n",
    "                         sampling_step_size=dts, profile='t')"
   ]
  },
  {
   "cell_type": "markdown",
   "metadata": {},
   "source": [
    "This simulation should procude output timeseries equivalent to those shown below. Execute the next cell to visualize your simulation results and see whether they look alike.\n",
    "\n",
    "<img src=\"img/qif_exc.svg\">"
   ]
  },
  {
   "cell_type": "code",
   "execution_count": 5,
   "metadata": {},
   "outputs": [
    {
     "data": {
      "text/plain": [
       "<matplotlib.axes._subplots.AxesSubplot at 0x7f95fa87c6d8>"
      ]
     },
     "execution_count": 5,
     "metadata": {},
     "output_type": "execute_result"
    },
    {
     "data": {
      "image/png": "[encoded data removed]",
      "text/plain": [
       "<Figure size 1080x576 with 2 Axes>"
      ]
     },
     "metadata": {
      "needs_background": "light"
     },
     "output_type": "display_data"
    }
   ],
   "source": [
    "%matplotlib inline\n",
    "import matplotlib.pyplot as plt\n",
    "from pyrates.utility.visualization import plot_timeseries\n",
    "\n",
    "fig, axes = plt.subplots(nrows=2, figsize=(15, 8))\n",
    "\n",
    "# TODO: Implement your solution below\n",
    "#####################################\n",
    "\n",
    "# plot the firing rate in one axis\n",
    "plot_timeseries(results['r'], ax=axes[0])\n",
    "\n",
    "# plot the membrane potential in the other axis\n",
    "plot_timeseries(results['v'], ax=axes[1])"
   ]
  },
  {
   "cell_type": "markdown",
   "metadata": {},
   "source": [
    "## Step II: Creating a circuit of 3 interconnected QIF populations\n",
    "\n",
    "Now that the operators are set up and tested, your task is to create 3 like the one above, connect them to a Jansen-Rit like circuit and choose their parameters such that they represent a pyramidal cell, excitatory interneuron and inhibitory interneuron population. The latter leaves some room for exploration/optimization. However, for now we would like the time-scale of the inhibitory population to be twice as long as the one of the excitatory populations. For setting up the connections, a depiction of the basic connectivity profile of the Jansen-Rit model can be found below.\n",
    "\n",
    "<img src=\"img/JR_circuit_reduced.png\">"
   ]
  },
  {
   "cell_type": "code",
   "execution_count": 15,
   "metadata": {},
   "outputs": [],
   "source": [
    "# TODO: implement your solution below\n",
    "#####################################\n",
    "\n",
    "# set up the population templates\n",
    "ein_temp = NodeTemplate(name='ein', path=None, operators={exc_temp: {'eta': -0.5, 'J': 0.0}})\n",
    "iin_temp = NodeTemplate(name='iin', path=None, operators={inh_temp: {'eta': -0.5, 'J': 0.0}})\n",
    "pc_temp = NodeTemplate(name='pc', path=None, operators={exc_temp: {'eta': -2.5, 'J': 0.0}})\n",
    "\n",
    "# set up the circuit template\n",
    "circuit_ir = CircuitTemplate(name='circuit', path=None,\n",
    "                             nodes={'PC': pc_temp, 'EIN': ein_temp, 'IIN': iin_temp}).apply()\n",
    "\n",
    "# add edges between the nodes\n",
    "circuit_ir.add_edges_from([('PC/Op_exc/r', 'EIN/Op_exc/r_exc', {'weight': 13.5}),\n",
    "                           ('EIN/Op_exc/r', 'PC/Op_exc/r_exc', {'weight': 0.8*13.5}),\n",
    "                           ('PC/Op_exc/r', 'IIN/Op_inh/r_exc', {'weight': 0.5*13.5}),\n",
    "                           ('IIN/Op_inh/r', 'PC/Op_exc/r_inh', {'weight': 1.75*13.5})])\n",
    "\n",
    "# load the intermediate representation of the circuit into a compute graph\n",
    "model = ComputeGraph(circuit_ir, name='EIC', build_in_place=False, vectorization='nodes', \n",
    "                     dt=dt)"
   ]
  },
  {
   "cell_type": "markdown",
   "metadata": {},
   "source": [
    "Now, lets simulate the behavior of the 3-population model. Feel free to play around with the parameters of the operators/edges in the cell above and see how it affects the model dynamics. To proceed, fill in the gaps in the cell below."
   ]
  },
  {
   "cell_type": "code",
   "execution_count": 16,
   "metadata": {},
   "outputs": [
    {
     "name": "stdout",
     "output_type": "stream",
     "text": [
      "Preparing simulation...\n",
      "Running simulation...\n"
     ]
    },
    {
     "data": {
      "text/plain": [
       "<matplotlib.axes._subplots.AxesSubplot at 0x7f95fa12de80>"
      ]
     },
     "execution_count": 16,
     "metadata": {},
     "output_type": "execute_result"
    },
    {
     "data": {
      "image/png": "[encoded data removed]",
      "text/plain": [
       "<Figure size 1008x432 with 1 Axes>"
      ]
     },
     "metadata": {},
     "output_type": "display_data"
    }
   ],
   "source": [
    "ext_input = np.random.uniform(3., 5., (int(T/dt), 1))\n",
    "\n",
    "# TODO: implement your solution below\n",
    "#####################################\n",
    "\n",
    "# simulate the model behavior with input delivered to the PCs and recordings of all r's\n",
    "results = model.run(simulation_time = T, \n",
    "                    outputs={'r_PC': (\"PC.0\", \"Op_exc.1\", \"r\"), \n",
    "                             'r_EIN': (\"EIN.0\", \"Op_exc.2\", \"r\"), \n",
    "                             'r_IIN': (\"IIN.0\", \"Op_inh.1\", \"r\")}, \n",
    "                    inputs={(\"PC.0\", \"Op_exc.1\", \"I_ext\") : ext_input})\n",
    "\n",
    "# END TODO: Below there is plotting\n",
    "###################################\n",
    "\n",
    "fig, axes = plt.subplots(figsize=(14, 6))\n",
    "plot_timeseries(results, ax=axes)"
   ]
  },
  {
   "cell_type": "markdown",
   "metadata": {},
   "source": [
    "## Step III: Adding synaptic dynamics to the circuit\n",
    "\n",
    "To finalize the cortical microcircuit architecture, your task is to add a description of the synaptic response dynamics to each connection in the circuit. To this end, implement a simple, exponentially decaying model to each synapse type in the model (let's distinguish between excitatory and inhibitory synapses for now). The evolution equation of the synaptic current $I_{syn}$ is given by:\n",
    "\n",
    "$$\\dot{I_{syn}} = \\sum_n r_n - \\frac{I_{syn}}{\\tau_{syn}}$$\n",
    "\n",
    "with $\\tau_{syn}$ being the time-scale of the synapse. This adds a secondary time-scale to the model, which we could choose according to some experimental measurements of AMPA or GABA dynamics, for example. However, to stick close to the original Jansen-Rit model, we set the synaptic time-scales equal to the membrane time constants, such that we have one fast excitatory and one slow inhibitory time-scale. Try to re-build the operators from Step I describing the population dynamics to include these synaptic dynamics."
   ]
  },
  {
   "cell_type": "code",
   "execution_count": null,
   "metadata": {},
   "outputs": [],
   "source": [
    "# TODO: implement your solution below\n",
    "#####################################\n",
    "\n",
    "# define the equations for the excitatory populations\n",
    "exc_syn = ['d/dt * r = (delta/(PI*tau) + 2.*r*v)/tau',\n",
    "           'd/dt * v = (v^2 + eta + I_ext + (I_exc-I_inh)*tau - (PI*r*tau)^2)/tau',\n",
    "           'd/dt * I_exc = ...',\n",
    "           '...']\n",
    "\n",
    "# define the equations for the inhibitory population\n",
    "inh_syn = ['d/dt * r = (delta/(PI*tau) + 2.*r*v)/tau',\n",
    "           'd/dt * v = (v^2 + eta + I_ext + ... - (PI*r*tau)^2)/tau',\n",
    "           '...',\n",
    "           '...']\n",
    "\n",
    "# define the equation variables\n",
    "variables = {'delta': {'default': 1.0},\n",
    "             'tau': {'default': 1.0},\n",
    "             'eta': {'default': -2.5},\n",
    "             'J': {'default': 0.0},\n",
    "             'tau_exc': {'default': 1.0},\n",
    "             'tau_inh': {'default': 2.0},\n",
    "             'r': {'default': '...'},\n",
    "             'v': {'default': 'variable'},\n",
    "             'I_exc': {'default': '...'},\n",
    "             'I_inh': ...,\n",
    "             'I_ext': {'default': 'input'},\n",
    "             'r_exc': {'default': '...'},\n",
    "             'r_inh': {'default': '...'},\n",
    "             }\n",
    "\n",
    "# set up the operator templates for the excitatory and inhibitory operator\n",
    "exc_syn_temp = OperatorTemplate(name='Op_exc_syn', path=None, equations=..., variables...)\n",
    "op_syn_temp = ..."
   ]
  },
  {
   "cell_type": "markdown",
   "metadata": {},
   "source": [
    "And now, let's rebuild the circuit from Step II based on the new operators."
   ]
  },
  {
   "cell_type": "code",
   "execution_count": null,
   "metadata": {},
   "outputs": [],
   "source": [
    "# TODO: implement your solution below\n",
    "#####################################\n",
    "\n",
    "# set up the node templates with the respective operators\n",
    "pc_syn_temp = NodeTemplate(name='PCs', path=None, operators=...)\n",
    "ein_syn_temp = NodeTemplate(name='EINs', path=None, operators=...)\n",
    "iin_syn_temp = NodeTemplate(name='IINs', path=None, operators=...)\n",
    "\n",
    "# set up a template of the 3 nodes and their edges\n",
    "circuit_temp = CircuitTemplate(name='circuit', path=None,\n",
    "                               nodes={'pc': pc_syn_temp, \n",
    "                                      'ein': ein_syn_temp, \n",
    "                                      'iin': iin_syn_temp},\n",
    "                               edges=[...]\n",
    "                               )\n",
    "\n",
    "# transform the circuit template into an IR and load it into a compute graph\n",
    "circuit_ir = ...\n",
    "model = ComputeGraph(..., backend='numpy', name='circuit', build_in_place=False)"
   ]
  },
  {
   "cell_type": "markdown",
   "metadata": {},
   "source": [
    "Again, let's test how the circuit behaves."
   ]
  },
  {
   "cell_type": "code",
   "execution_count": null,
   "metadata": {},
   "outputs": [],
   "source": [
    "ext_input = np.random.uniform(3., 5., (int(T/dt), 1))\n",
    "\n",
    "# TODO: implement your solution below\n",
    "#####################################\n",
    "\n",
    "# perform a simulation with input delivered to the PCs and recordings of all r's\n",
    "results = model.run(simulation_time = T, \n",
    "                    outputs={'r_PC': ('PCs.0', '...', 'r'), \n",
    "                             'r_EIN': ..., \n",
    "                             'r_IIN': ...}, \n",
    "                    inputs={(...): ext_input})\n",
    "\n",
    "# END TODO: Below there is plotting\n",
    "###################################\n",
    "\n",
    "fig, axes = plt.subplots(nrows=2, figsize=(14, 6))\n",
    "plot_timeseries(results)"
   ]
  },
  {
   "cell_type": "markdown",
   "metadata": {},
   "source": [
    "## Step IV: Investigating the models parameter space\n",
    "\n",
    "In a final step, your task is to perform some parameter sweeps to gain an intuition of how different parameters can affect the model dynamics. Below, you will find cells with 2 different parameter sweeps. One that examines how the model response changes when the strength of the self connections $J$ of each population are altered. Since all three $J$ are changed at the same rate, this is a 1D parameter sweep. The other one examines the dependence of the model dynamcis on the connection strengths of the couplings from excitatory and inhibitory population onto the pyramidal cells. Since the connection strengths are altered independently, these results in a 2D parameter sweep. Fill in the blanks to get them running."
   ]
  },
  {
   "cell_type": "code",
   "execution_count": null,
   "metadata": {},
   "outputs": [],
   "source": [
    "from pyrates.utility.grid_search import grid_search\n",
    "from pyrates.utility.visualization import create_cmap, plot_timeseries\n",
    "import matplotlib.pyplot as plt\n",
    "\n",
    "# definition of parameter sweep values\n",
    "Js = np.linspace(0, 24, 10)\n",
    "\n",
    "# other simulation parameters\n",
    "T = 40.\n",
    "dt = 1e-3\n",
    "dts = 1e-2\n",
    "ext_input = np.random.uniform(3., 5., (int(T/dt), 1))\n",
    "\n",
    "# TODO: implement your solution below\n",
    "#####################################\n",
    "\n",
    "# perform a parameter sweep / grid search over all Js using the model from above\n",
    "results = grid_search(circuit_template, param_grid={'J': ...}, \n",
    "                      param_map={'J': {'var': [('Op_exc_syn.0', 'J'), \n",
    "                                               ('...', 'J'),\n",
    "                                               ('...', 'J')],\n",
    "                                       'nodes': ['PCs.0', '...', '...']}},\n",
    "                      simulation_time=T, dt=dt, sampling_step_size=dts,\n",
    "                      inputs={('PCs.0', 'Op_exc_syn.0', 'I_ext'): ext_input},\n",
    "                      outputs={'r': ('PCs.0', 'Op_exc_syn.0', 'r')},\n",
    "                      init_kwargs={'vectorization': 'nodes', 'build_in_place': False})\n",
    "\n",
    "# END TODO: Below there is plotting\n",
    "###################################\n",
    "\n",
    "fig, axes = plt.subplots(nrows=len(Js), figsize=(10, 20))\n",
    "cmap = create_cmap('pyrates_purple', as_cmap=False, n_colors=1, reverse=True)\n",
    "for i, ax in enumerate(axes):\n",
    "    plot_timeseries(results.iloc[:, i], ax=ax, cmap=cmap, ylabel='r')\n",
    "    ax.legend([f'J = {results.columns.values[i][0]}'], loc='upper right')"
   ]
  },
  {
   "cell_type": "code",
   "execution_count": null,
   "metadata": {},
   "outputs": [],
   "source": [
    "# definition of parameter sweep values\n",
    "w_ein_pc = np.linspace(0.5, 2, 10) * 0.8*13.5\n",
    "w_iin_pc = np.linspace(0.5, 2, 10) * 1.75*13.5\n",
    "\n",
    "# other simulation parameters\n",
    "T = 100.\n",
    "dt = 1e-3\n",
    "dts = 1e-2\n",
    "ext_input = np.random.uniform(3., 5., (int(T/dt), 1))\n",
    "\n",
    "# TODO: implement your solution below\n",
    "#####################################\n",
    "\n",
    "# perform a parameter sweep / grid search over all combinations of tau_e and tau_i\n",
    "results = grid_search(deepcopy(jrc_template), \n",
    "                      param_grid={'w_ep': ..., ...}, \n",
    "                      param_map={'w_ep': {'var': [(None, '...')],\n",
    "                                          'edges': [('EINs.0', 'PCs.0', 0)]},\n",
    "                                 'w_ip': ...},\n",
    "                      simulation_time=T, dt=dt, sampling_step_size=dts,\n",
    "                      inputs={('PCs.0', 'Op_exc_syn.0', 'I_ext'): ext_input},\n",
    "                      outputs={'r': ('PCs.0', 'Op_exc_syn.0', 'r')},\n",
    "                      init_kwargs={'vectorization': 'nodes', 'build_in_place': False},\n",
    "                      permute_grid=True)"
   ]
  },
  {
   "cell_type": "markdown",
   "metadata": {},
   "source": [
    "When the above cell executed without errors, you can run the two cells below to a) calculate the power-spectral densities of the pyramidal cell firing rate fluctuations for each condition, and b) plot the frequency with the highest power and the respective power in 2D parameter maps."
   ]
  },
  {
   "cell_type": "code",
   "execution_count": null,
   "metadata": {},
   "outputs": [],
   "source": [
    "# NO TODO: Below the spectral density is extracted\n",
    "##################################################\n",
    "\n",
    "from pyrates.utility.visualization import plot_psd\n",
    "\n",
    "# calculate power-spectral density of firing rate fluctuations\n",
    "max_freq = np.zeros((len(w_ein_pc), len(w_iin_pc)))\n",
    "max_pow = np.zeros_like(max_freq)\n",
    "for we in w_ein_pc:\n",
    "    for wi in w_iin_pc:\n",
    "        plot_psd(results[we][wi], tmin=30.0, show=False)\n",
    "        p = plt.gca().get_lines()[-1].get_ydata()\n",
    "        f = plt.gca().get_lines()[-1].get_xdata()\n",
    "        idx_r, idx_c = np.argwhere(w_ein_pc == we)[0], np.argwhere(w_iin_pc == wi)[0]\n",
    "        max_idx = np.argmax(p)\n",
    "        max_freq[idx_r, idx_c] = f[max_idx]\n",
    "        max_pow[idx_r, idx_c] = p[max_idx]\n",
    "        plt.close(plt.gcf())"
   ]
  },
  {
   "cell_type": "code",
   "execution_count": null,
   "metadata": {},
   "outputs": [],
   "source": [
    "from pyrates.utility.visualization import plot_connectivity\n",
    "\n",
    "# create 2D plots of maximum frequency and PSD for each parameter set\n",
    "fig, axes = plt.subplots(ncols=2, figsize=(12, 5))\n",
    "plot_connectivity(max_freq, yticklabels=np.round(w_ein_pc, decimals=2), \n",
    "                  xticklabels=np.round(w_iin_pc, decimals=2), ax=axes[0])\n",
    "axes[0].set_ylabel('w_ein_pc')\n",
    "axes[0].set_xlabel('w_iin_pc')\n",
    "plot_connectivity(max_pow, yticklabels=np.round(w_ein_pc, decimals=2), \n",
    "                  xticklabels=np.round(w_iin_pc, decimals=2), ax=axes[1])\n",
    "axes[1].set_ylabel('w_ein_pc')\n",
    "axes[1].set_xlabel('w_iin_pc')\n",
    "plt.tight_layout()"
   ]
  }
 ],
 "metadata": {
  "kernelspec": {
   "display_name": "Python 3",
   "language": "python",
   "name": "python3"
  },
  "language_info": {
   "codemirror_mode": {
    "name": "ipython",
    "version": 3
   },
   "file_extension": ".py",
   "mimetype": "text/x-python",
   "name": "python",
   "nbconvert_exporter": "python",
   "pygments_lexer": "ipython3",
   "version": "3.6.5"
  }
 },
 "nbformat": 4,
 "nbformat_minor": 2
}