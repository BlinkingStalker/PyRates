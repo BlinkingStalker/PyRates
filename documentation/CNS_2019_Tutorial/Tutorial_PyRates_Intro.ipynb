{
 "cells": [
  {
   "cell_type": "code",
   "execution_count": null,
   "metadata": {},
   "outputs": [],
   "source": [
    "%matplotlib inline"
   ]
  },
  {
   "cell_type": "markdown",
   "metadata": {},
   "source": [
    "# Tutorial: Setting up a Jansen-Rit network model using YAML templates\n",
    "\n",
    "This tutorial shows you how to set up a network model according to Jansen & Rit (Biol. Cybern., 1995). The following questions will be answered in the respective order:\n",
    "1. What is a YAML template file?\n",
    "2. How do I create a network model from my template?\n",
    "3. How do I run simulations on my network model?"
   ]
  },
  {
   "cell_type": "markdown",
   "metadata": {},
   "source": [
    "## Part 1: What is a YAML template file?\n",
    "\n",
    "[YAML](https://yaml.org/spec/1.2/spec.html) is a data formatting specification that aims to be human-readable and machine-readable at the same time. It's current installment can be thought of as an extension to the also popular JSON standard. \n",
    "\n",
    "PyRates uses YAML files to provide a simple and readable way to define network models without any Python code. Below you see a YAML template that defines the potential-to-rate operator (PRO) in a neural population. It defines an operator with the equation\n",
    "$$m_{out} = \\frac{m_{max}}{1. + \\exp{(r \\cdot (V_{thr} - PSP))}}$$\n",
    "as well as all variables in that equation.\n",
    "\n",
    "```yaml\n",
    "PRO:\n",
    "  base: OperatorTemplate\n",
    "  equations: \"m_out = m_max / (1. + exp(r*(V_thr - PSP)))\"\n",
    "  variables:\n",
    "    m_out:\n",
    "      default: output\n",
    "    PSP:\n",
    "      default: input\n",
    "    m_max:\n",
    "      default: 5.\n",
    "    r:\n",
    "      default: 560.\n",
    "    V_thr:\n",
    "      default: 6e-3\n",
    "```"
   ]
  },
  {
   "cell_type": "markdown",
   "metadata": {},
   "source": [
    "#### Note the following:\n",
    "- PRO defines an operator, so its **`base`** is the python class `OperatorTemplate`. \n",
    "- There can be more than one equation in `equations`, but will stick to one for now\n",
    "- with the keyword `default` it is indicated that the respective variable is a constant with the value and data type of the scalar that follows the keyword\n",
    "- Other available variable types are:\n",
    "  - `variable`: for state variables which can change over time. <br /> \n",
    "     The initial value can be specified in brackets, e.g. `default: variable(0.1)`\n",
    "  - `input`: the variable will be provided with a value from a previous operator\n",
    "  - `output`: the value of this variable will be passed to the next operator\n",
    "- You can also create sub-templates that overwrite parts of a template or extend it.\n",
    "\n",
    "#### Task: Set up an operator template for the RPO\n",
    "\n",
    "The second important operator in a Jansen-Rit model is the rate-to-potential operator (RPO). This is conceptualized as convolution with an alpha kernel, which comprises a second-order description of the synaptic response dynamics:\n",
    "\n",
    "$$\\dot{V} = V_t$$\n",
    "<br/>\n",
    "$$\\dot{V_t} = \\frac{H}{\\tau} m_{in} - \\frac{2 V_t}{\\tau} - \\frac{V}{\\tau^2}$$\n",
    "\n",
    "Fill out the blank spaces marked by `...` in the RPO YAML template in the cell below."
   ]
  },
  {
   "cell_type": "markdown",
   "metadata": {},
   "source": [
    "```yaml\n",
    "RPO:\n",
    "  base: ...\n",
    "  equations: ['d/dt * V = V_t', \n",
    "              '...']\n",
    "  variables:\n",
    "    V:\n",
    "      default: output\n",
    "    V_t:\n",
    "      default: variable\n",
    "    m_in:\n",
    "      default: output\n",
    "    tau:\n",
    "      default: 0.01\n",
    "    H:\n",
    "      default: 0.003\n",
    "    r_in:\n",
    "      default: input\n",
    "```"
   ]
  },
  {
   "cell_type": "markdown",
   "metadata": {},
   "source": [
    "#### A full network model is called a *circuit* and consists of *nodes* and *edges*, which contain *operators*. \n",
    "This is a simple node template for an inhibitory interneuron population (IIN):\n",
    "\n",
    "```yaml\n",
    "IIN:\n",
    "  base: NodeTemplate\n",
    "  operators:\n",
    "    - RPO_e\n",
    "    - PRO\n",
    "```\n",
    "\n",
    "Multiple nodes are connected via edges to a circuit. The following circuit template contains one population of pyramidal projection cells (PC), inhibitory and excitatory interneurons (IIN, EIN):\n",
    "\n",
    "```yaml\n",
    "JRC:\n",
    "  base: CircuitTemplate\n",
    "  nodes:\n",
    "    EIN: EIN\n",
    "    IIN: IIN\n",
    "    PC: PC\n",
    "  edges:\n",
    "    - [PC/PRO/m_out, IIN/RPO_e/m_in, null, {weight: 33.75}]\n",
    "    - [PC/PRO/m_out, EIN/RPO_e/m_in, null, {weight: 135.}]\n",
    "    - [EIN/PRO/m_out, PC/RPO_e_pc/m_in, null, {weight: 108.}]\n",
    "    - [IIN/PRO/m_out, PC/RPO_i/m_in, null, {weight: 33.75}]\n",
    "```\n",
    "\n",
    "`edges` are defined by a list with four entries:\n",
    "1. The source variable (`PC/PRO/m_out` refers to variable `m_out` in operator `PRO` of node `PC`)\n",
    "2. The target variable\n",
    "3. An edge template with additional operators (here, `null` means that no particular edge template is used).\n",
    "4. A dictionary of variables and values that are specific to this edge. \n",
    "\n",
    "Independent of any operators, an edge will always apply a `weight` to scale the source variable and a `delay` which defaults to zero in the above case."
   ]
  },
  {
   "cell_type": "markdown",
   "metadata": {},
   "source": [
    "## Part 2: How do I create a network model from my template?\n",
    "\n",
    "Network models are loaded using the `frontend` module of PyRates. This module defines the template classes with a handy `.from_yaml` method to load YAML templates. For example, we can load the above operator template using the `OperatorTemplate` class: \n"
   ]
  },
  {
   "cell_type": "code",
   "execution_count": null,
   "metadata": {},
   "outputs": [],
   "source": [
    "from pyrates.frontend import OperatorTemplate\n",
    "template = OperatorTemplate.from_yaml(\"model_templates.jansen_rit.simple_jansenrit.PRO\")\n",
    "template"
   ]
  },
  {
   "cell_type": "markdown",
   "metadata": {},
   "source": [
    "Template properties are accessible via attributes, e.g.:"
   ]
  },
  {
   "cell_type": "code",
   "execution_count": null,
   "metadata": {},
   "outputs": [],
   "source": [
    "template.equations"
   ]
  },
  {
   "cell_type": "code",
   "execution_count": null,
   "metadata": {},
   "outputs": [],
   "source": [
    "template.variables"
   ]
  },
  {
   "cell_type": "markdown",
   "metadata": {},
   "source": [
    "__Note:__ The same can be achieved by passing the necessary data to the template class in python. You do not need to use YAML templates, if you don't want to."
   ]
  },
  {
   "cell_type": "code",
   "execution_count": null,
   "metadata": {},
   "outputs": [],
   "source": [
    "# construct a 2nd template with the same properties, \n",
    "# but using the class constructor instead of the YAML parser\n",
    "template2 = OperatorTemplate(name=template.name, path=template.path, \n",
    "                             equations=template.equations, variables=template.variables, \n",
    "                             description=template.__doc__)"
   ]
  },
  {
   "cell_type": "code",
   "execution_count": null,
   "metadata": {},
   "outputs": [],
   "source": [
    "# verify that the contents of both templates are the same\n",
    "template2.__dict__ == template.__dict__"
   ]
  },
  {
   "cell_type": "markdown",
   "metadata": {},
   "source": [
    "### Loading a circuit template\n",
    "Just like an `OperatorTemplate`, we can use `CircuitTemplate` to load a circuit:"
   ]
  },
  {
   "cell_type": "code",
   "execution_count": null,
   "metadata": {},
   "outputs": [],
   "source": [
    "from pyrates.frontend import CircuitTemplate\n",
    "circuit_template = CircuitTemplate.from_yaml(\"model_templates.jansen_rit.simple_jansenrit.JRC\")"
   ]
  },
  {
   "cell_type": "code",
   "execution_count": null,
   "metadata": {},
   "outputs": [],
   "source": [
    "circuit_template.nodes"
   ]
  },
  {
   "cell_type": "markdown",
   "metadata": {},
   "source": [
    "### Instantiating a circuit: The Intermediate Representation\n",
    "After the model has been defined using the `frontend` layer, it will be transformed into an `intermediate representation`(IR). Every template class has an `.apply()` method that does all the heavy lifting."
   ]
  },
  {
   "cell_type": "code",
   "execution_count": null,
   "metadata": {},
   "outputs": [],
   "source": [
    "circuit = circuit_template.apply()\n",
    "circuit"
   ]
  },
  {
   "cell_type": "markdown",
   "metadata": {},
   "source": [
    "Note that the circuit IR uses the popular and powerful network graph tool `networkx`. The following interfaces are inherited from `networkx.MultiDiGraph`:"
   ]
  },
  {
   "cell_type": "code",
   "execution_count": null,
   "metadata": {},
   "outputs": [],
   "source": [
    "circuit.nodes"
   ]
  },
  {
   "cell_type": "code",
   "execution_count": null,
   "metadata": {},
   "outputs": [],
   "source": [
    "circuit.edges"
   ]
  },
  {
   "cell_type": "code",
   "execution_count": null,
   "metadata": {},
   "outputs": [],
   "source": [
    "# reference to edge operator properties\n",
    "circuit.edges[('EIN.0', 'PC.0', 0)]"
   ]
  },
  {
   "cell_type": "markdown",
   "metadata": {},
   "source": [
    "### Visualize the network\n",
    "\n",
    "Using `networkx`, we can draw a simple representation of our network:\n",
    "\n",
    "**Note:** Multiple edges are displayed as one line"
   ]
  },
  {
   "cell_type": "code",
   "execution_count": null,
   "metadata": {},
   "outputs": [],
   "source": [
    "import matplotlib.pyplot as plt\n",
    "import networkx as nx\n",
    "pos=nx.spring_layout(circuit.graph)\n",
    "nx.draw_shell(circuit.graph, with_labels=True, node_size=2000, arrowsize=30)"
   ]
  },
  {
   "cell_type": "markdown",
   "metadata": {},
   "source": [
    "Alternatively, PyRates provides a custom implementation using `pydot`:"
   ]
  },
  {
   "cell_type": "code",
   "execution_count": null,
   "metadata": {},
   "outputs": [],
   "source": [
    "from pyrates.utility.visualization import plot_network_graph\n",
    "plot_network_graph(circuit)"
   ]
  },
  {
   "cell_type": "markdown",
   "metadata": {},
   "source": [
    "## Part 3: How do I run simulations on my network model?\n",
    "\n",
    "The *intermediate representation* is a user-friendly representation of a network model. Computations are realised via a *computation backend*. In the backend, the IR is restructured into what we call the `ComputeGraph`:"
   ]
  },
  {
   "cell_type": "code",
   "execution_count": null,
   "metadata": {},
   "outputs": [],
   "source": [
    "T = 10.0\n",
    "dt = 0.0001\n",
    "from pyrates.backend import ComputeGraph\n",
    "net = ComputeGraph(circuit, vectorization=\"nodes\", dt=dt, build_in_place=False)"
   ]
  },
  {
   "cell_type": "markdown",
   "metadata": {},
   "source": [
    "Here, the keyword argument `vectorization` is used to group identical nodes such that their equations can be calculated more efficiently. A such reorganised network consists of 2 instead of 3 nodes, because the EIN and IIN nodes actually contain the same equations:"
   ]
  },
  {
   "cell_type": "code",
   "execution_count": null,
   "metadata": {},
   "outputs": [],
   "source": [
    "net.net_config.nodes"
   ]
  },
  {
   "cell_type": "markdown",
   "metadata": {},
   "source": [
    "Simulations are started using the `.run()` method of our `ComputeGraph`. Note that we are using a so called *placeholder* variable `u` to pass external input to drive the circuit. The variable `u` is contained in the operator `RPO_e_pc.0` of our `PC` node:"
   ]
  },
  {
   "cell_type": "code",
   "execution_count": null,
   "metadata": {},
   "outputs": [],
   "source": [
    "import numpy as np\n",
    "ext_input = np.random.uniform(120., 320., (int(T/dt), 1))\n",
    "results = net.run(simulation_time = T, \n",
    "                  outputs={'V_PC': ('PC.0', 'PRO.0', 'PSP'), \n",
    "                           'V_EIN': ('EIN.0', 'PRO.0', 'PSP'), \n",
    "                           'V_IIN': ('IIN.0', 'PRO.0', 'PSP')}, \n",
    "                  inputs={('PC', 'RPO_e_pc.0', 'u'): ext_input})"
   ]
  },
  {
   "cell_type": "markdown",
   "metadata": {},
   "source": [
    "The `outputs` keyword is used to indicate which state variables to record during the simulation. In this case, we record the variable `PSP` of the operator `PRO.0` on node `PC` and name it `V`. The resulting timeseries are returned as a handy `pandas.DataFrame`:"
   ]
  },
  {
   "cell_type": "code",
   "execution_count": null,
   "metadata": {},
   "outputs": [],
   "source": [
    "results.head()"
   ]
  },
  {
   "cell_type": "code",
   "execution_count": null,
   "metadata": {},
   "outputs": [],
   "source": [
    "import matplotlib.pyplot as plt\n",
    "from pyrates.utility import plot_timeseries\n",
    "fig, axes = plt.subplots(figsize=(12, 5))\n",
    "plot_timeseries(results, ax=axes, ylabel='PSP in V')"
   ]
  },
  {
   "cell_type": "markdown",
   "metadata": {},
   "source": [
    "For visualization, processing and analysis of those timeseries, PyRates provides a variety of wrappers to other open-source Python tools such as `seaborn` and `MNE Python`. Some of the available post-processing/visualization methods are used as follows: "
   ]
  },
  {
   "cell_type": "code",
   "execution_count": null,
   "metadata": {},
   "outputs": [],
   "source": [
    "from pyrates.utility import functional_connectivity, plot_connectivity\n",
    "nodes = results.columns.values\n",
    "fc = functional_connectivity(results, metric='corr')\n",
    "plot_connectivity(fc, yticklabels=nodes, xticklabels=nodes)"
   ]
  },
  {
   "cell_type": "code",
   "execution_count": null,
   "metadata": {},
   "outputs": [],
   "source": [
    "from pyrates.utility import plot_psd\n",
    "plot_psd(results)"
   ]
  },
  {
   "cell_type": "markdown",
   "metadata": {},
   "source": [
    "## Part 4: How do I run parameter studies on my model?\n",
    "\n",
    "PyRates provides functionalities to perform parameter sweeps over high-dimensional model parameter spaces. These functionalities are found in the `utilities` module. They allow to perform multi-dimensional parameter sweeps on single machines using the `grid_search()` function and on compute clusters using the `ClusterGridsearch` class. In the following, we will use `grid_search()` for a simple investigation of how the Jansen-Rit model behavior changes when its connection weights are scaled up or down. "
   ]
  },
  {
   "cell_type": "code",
   "execution_count": null,
   "metadata": {},
   "outputs": [],
   "source": [
    "from pyrates.utility import grid_search\n",
    "\n",
    "# generate 5 sets of differently scaled connection strengths\n",
    "C = [68., 128., 135., 270., 675., 1350.]\n",
    "pc_ein, ein_pc, pc_iin, iin_pc = [], [], [], []\n",
    "for c in C:\n",
    "    pc_ein.append(c)\n",
    "    ein_pc.append(0.8*c)\n",
    "    pc_iin.append(0.25*c)\n",
    "    iin_pc.append(0.25*c)\n",
    "\n",
    "# perform parameter study\n",
    "results = grid_search(\"model_templates.jansen_rit.simple_jansenrit.JRC\", \n",
    "                      param_grid={'PC_EIN': pc_ein, \n",
    "                                  'EIN_PC': ein_pc, \n",
    "                                  'PC_IIN': pc_iin,\n",
    "                                  'IIN_PC': iin_pc},\n",
    "                      param_map={'PC_EIN': {'var': [(None, 'weight')],\n",
    "                                            'edges': [('PC.0', 'EIN.0', 0)]},\n",
    "                                 'EIN_PC': {'var': [(None, 'weight')],\n",
    "                                            'edges': [('EIN.0', 'PC.0', 0)]},\n",
    "                                 'PC_IIN': {'var': [(None, 'weight')],\n",
    "                                            'edges': [('PC.0', 'IIN.0', 0)]},\n",
    "                                 'IIN_PC': {'var': [(None, 'weight')],\n",
    "                                            'edges': [('IIN.0', 'PC.0', 0)]}},\n",
    "                     simulation_time=T, dt=dt, permute_grid=False,\n",
    "                     sampling_step_size=1e-3, \n",
    "                     inputs={('PC', 'RPO_e_pc.0', 'u'): ext_input},\n",
    "                     outputs={'V': ('PC.0', 'PRO.0', 'PSP')},\n",
    "                     init_kwargs={'vectorization': 'nodes'})"
   ]
  },
  {
   "cell_type": "markdown",
   "metadata": {},
   "source": [
    "For visualization of the time series, we use a wrapper to `seaborn`."
   ]
  },
  {
   "cell_type": "code",
   "execution_count": null,
   "metadata": {
    "scrolled": false
   },
   "outputs": [],
   "source": [
    "from pyrates.utility import create_cmap, plot_timeseries\n",
    "import matplotlib.pyplot as plt\n",
    "fig, axes = plt.subplots(nrows=len(C), figsize=(10, 15))\n",
    "cmap = create_cmap('pyrates_purple', as_cmap=False, n_colors=1, reverse=True)\n",
    "for i, ax in enumerate(axes):\n",
    "    plot_timeseries(results.iloc[results.index > 1.0, i], ax=ax, cmap=cmap, \n",
    "                    ylabel='PSP')\n",
    "    ax.legend([f'C = {results.columns.values[i][1]}'], loc='upper right')"
   ]
  },
  {
   "cell_type": "code",
   "execution_count": null,
   "metadata": {},
   "outputs": [],
   "source": []
  }
 ],
 "metadata": {
  "kernelspec": {
   "display_name": "Python 3",
   "language": "python",
   "name": "python3"
  },
  "language_info": {
   "codemirror_mode": {
    "name": "ipython",
    "version": 3
   },
   "file_extension": ".py",
   "mimetype": "text/x-python",
   "name": "python",
   "nbconvert_exporter": "python",
   "pygments_lexer": "ipython3",
   "version": "3.6.5"
  }
 },
 "nbformat": 4,
 "nbformat_minor": 2
}
