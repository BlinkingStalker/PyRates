{
  "cells": [
    {
      "cell_type": "code",
      "execution_count": null,
      "metadata": {
        "collapsed": false
      },
      "outputs": [],
      "source": [
        "%matplotlib inline"
      ]
    },
    {
      "cell_type": "markdown",
      "metadata": {},
      "source": [
        "\nQIF Simulation\n===============\n\nIn this example, we load a model from the :code:`model_templates` module, simulate its behavior and plot the resulting\ntime series. The model represents the macroscopic dynamics of a population of quadratic integrate-and-fire (QIF) neurons\nand we record the average firing rate of the population.\n\nThe model equations are given by:\n\n\\begin{align}\\tau \\dot r = \\frac{\\Delta}{\\pi\\tau} + 2 r v, \n\n    \\tau \\dot v = v^2 +\\bar\\eta + I(t) + J r \\tau - (\\pi r \\tau)^2.\\end{align}\n\nwhere $r$ is the average firing rate and $v$ is the average membrane potential of the QIF population [1]_.\n\nReferences\n----------\n\n.. [1] Montbri\u00f3 et al. (2015) Phys Rev X.\n"
      ]
    },
    {
      "cell_type": "markdown",
      "metadata": {},
      "source": [
        "Step 1: Importing the frontend class for defining models\n--------------------------------------------------------\n\nAs a first step, we import the :code:`pyrates.frontend.CircuitTemplate` class, which allows us to set up a model\ndefinition in PyRates.\n\n"
      ]
    },
    {
      "cell_type": "code",
      "execution_count": null,
      "metadata": {
        "collapsed": false
      },
      "outputs": [],
      "source": [
        "from pyrates.frontend import CircuitTemplate"
      ]
    },
    {
      "cell_type": "markdown",
      "metadata": {},
      "source": [
        "Step 2: Loading a model template from the `model_templates` library\n-------------------------------------------------------------------\n\nIn the second step, we load one of the model templates that comes with PyRates via the :code:`from_yaml()` method of\nthe :code:`CircuitTemplate`. This method returns a :code:`CircuitTemplate` instance which provides the method\n:code:`apply()` for turning it into a graph-based representation, i.e. a :code:`pyrates.ir.CircuitIR` instance.\nThese are the basic steps you perform, if you want to load a model that is defined inside a yaml file.\nTo check out the different model templates provided by PyRates, have a look at the :code:`PyRates.model_templates`\nmodule.\n\n"
      ]
    },
    {
      "cell_type": "code",
      "execution_count": null,
      "metadata": {
        "collapsed": false
      },
      "outputs": [],
      "source": [
        "circuit = CircuitTemplate.from_yaml(\"model_templates.montbrio.simple_montbrio.Net1\").apply()"
      ]
    },
    {
      "cell_type": "markdown",
      "metadata": {},
      "source": [
        "Step 3: Loading the model into the backend\n------------------------------------------\n\nIn this example, we directly load the :code:`CircuitIR` instance into the backend via the  :code:`compile()` method\nwithout any further changes to the graph. This way, a :code:`pyrates.backend.NumpyBackend` instance is created.\nAfter this step, structural modifications of the network are not possible anymore.\n\n"
      ]
    },
    {
      "cell_type": "code",
      "execution_count": null,
      "metadata": {
        "collapsed": false
      },
      "outputs": [],
      "source": [
        "compute_graph = circuit.compile(backend='numpy', step_size=1e-3)"
      ]
    },
    {
      "cell_type": "markdown",
      "metadata": {},
      "source": [
        "Step 4: Numerical simulation of a the model behavior in time\n------------------------------------------------------------\n\nAfter loading the model into the backend, numerical simulations can be performed via the :code:`run()` method.\nCalling this function will solve the initial value problem of the above defined differential equations for a time\ninterval from 0 to the given simulation time.\nThis solution will be calculated numerically by a differential equation solver in the backend, starting with a defined\nstep-size.\n\n"
      ]
    },
    {
      "cell_type": "code",
      "execution_count": null,
      "metadata": {
        "collapsed": false
      },
      "outputs": [],
      "source": [
        "results = compute_graph.run(simulation_time=40.0, outputs={'r': 'Pop1/Op_e/r'})"
      ]
    },
    {
      "cell_type": "markdown",
      "metadata": {},
      "source": [
        "Step 5: Visualization of the solution\n-------------------------------------\n\nThe output of the :code:`run()` method is a :code:`pandas.Dataframe`, which comes with a :code:`plot()` method for\nplotting the timeseries it contains.\nThis timeseries represents the numerical solution of the initial value problem solved in step 4 with respect to the\nstate variable $r$ of the model.\n\n"
      ]
    },
    {
      "cell_type": "code",
      "execution_count": null,
      "metadata": {
        "collapsed": false
      },
      "outputs": [],
      "source": [
        "results.plot()"
      ]
    }
  ],
  "metadata": {
    "kernelspec": {
      "display_name": "Python 3",
      "language": "python",
      "name": "python3"
    },
    "language_info": {
      "codemirror_mode": {
        "name": "ipython",
        "version": 3
      },
      "file_extension": ".py",
      "mimetype": "text/x-python",
      "name": "python",
      "nbconvert_exporter": "python",
      "pygments_lexer": "ipython3",
      "version": "3.7.4"
    }
  },
  "nbformat": 4,
  "nbformat_minor": 0
}