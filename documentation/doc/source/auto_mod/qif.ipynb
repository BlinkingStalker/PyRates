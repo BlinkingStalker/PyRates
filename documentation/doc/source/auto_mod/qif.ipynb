{
  "cells": [
    {
      "cell_type": "code",
      "execution_count": null,
      "metadata": {
        "collapsed": false
      },
      "outputs": [],
      "source": [
        "%matplotlib inline"
      ]
    },
    {
      "cell_type": "markdown",
      "metadata": {},
      "source": [
        "\nA Mean-Field Model of a Quadratic Integrate-and-Fire (QIF) Neuron Population\n============================================================================\n\nHere, we will introduce the QIF population mean-field model, which has been derived from a population of all-to-all\ncoupled QIF neurons in [1]_. The model equations are given by:\n\n\\begin{align}\\tau \\dot r = \\frac{\\Delta}{\\pi\\tau} + 2 r v, \n\n    \\tau \\dot v = v^2 +\\bar\\eta + I(t) + J r \\tau - (\\pi r \\tau)^2,\\end{align}\n\nwhere $r$ is the average firing rate and $v$ is the average membrane potential of the QIF population [1]_.\nIt is governed by 4 parameters:\n    - $\\tau$ --> the population time constant\n    - $\\bar \\eta$ --> the mean of a Lorenzian distribution over the neural excitability in the population\n    - $\\Delta$ --> the half-width at half maximum of the Lorenzian distribution over the neural excitability\n    - $J$ --> the strength of the recurrent coupling inside the population\nThis mean-field model is an exact representation of the macroscopic firing rate and membrane potential dynamics of a\nspiking neural network consisting of QIF neurons with Lorentzian distributed background excitabilities.\nWhile the mean-field derivation is mathematically only valid for all-to-all coupled populations of infinite size,\nit has been shown that there is a close correspondence between the mean-field model and neural populations with\nsparse coupling and population sizes of a few thousand neurons [2]_. In the same work, it has been demonstrated how to\nextend the model by adding synaptic dynamics or additional adaptation currents to the single cell network, that can be\ncarried through the mean-field derivation performed in [1]_. For example, a QIF population with spike-frequency\nadaptation would be given by the following 4D system:\n\n\\begin{align}\\tau \\dot r = \\frac{\\Delta}{\\pi\\tau} + 2 r v, \n\n    \\tau \\dot v = v^2 +\\bar\\eta + I(t) + J r \\tau - A - (\\pi r \\tau)^2, \n\n    \\tau_A \\dot A = B, \n\n    \\tau_A \\dot B = \\alpha r - 2 B - A,\\end{align}\n\nwhere the evolution equations for $A$ and $B$ express a convolution of $r$ with an alpha kernel, with\nadaptation strength $\\alpha$ and time constant $\\tau_A$.\n\nIn the sections below, we will demonstrate for each model how to load the model template into pyrates, perform\nsimulations with it and visualize the results.\n\nReferences\n----------\n\n.. [1] E. Montbri\u00f3, D. Paz\u00f3, A. Roxin (2015) *Macroscopic description for networks of spiking neurons.* Physical\n       Review X, 5:021028, https://doi.org/10.1103/PhysRevX.5.021028.\n\n.. [2] R. Gast, H. Schmidt, T. R. Kn\u00f6sche (2020) *A Mean-Field Description of Bursting Dynamics in Spiking Neural\n       Networks with Short-Term Adaptation.* Neural Computation (in press).\n"
      ]
    },
    {
      "cell_type": "markdown",
      "metadata": {},
      "source": [
        "Basic QIF Model\n===============\n\nWe will start out by a step-by-step tutorial of how to use the QIF model without adaptation.\n\n"
      ]
    },
    {
      "cell_type": "markdown",
      "metadata": {},
      "source": [
        "Step 1: Importing the frontend class for defining models\n--------------------------------------------------------\n\nAs a first step, we import the :code:`pyrates.frontend.CircuitTemplate` class, which allows us to set up a model\ndefinition in PyRates.\n\n"
      ]
    },
    {
      "cell_type": "code",
      "execution_count": null,
      "metadata": {
        "collapsed": false
      },
      "outputs": [],
      "source": [
        "from pyrates.frontend import CircuitTemplate"
      ]
    },
    {
      "cell_type": "markdown",
      "metadata": {},
      "source": [
        "Step 2: Loading a model template from the `model_templates` library\n-------------------------------------------------------------------\n\nIn the second step, we load the model template for an excitatory QIF population that comes with PyRates via the\n:code:`from_yaml()` method of the :code:`CircuitTemplate`. This method returns a :code:`CircuitTemplate` instance\nwhich provides the method :code:`apply()` for turning it into a graph-based representation, i.e. a\n:code:`pyrates.ir.CircuitIR` instance. Have a look at the yaml definition of the model that can be found at the path\nused for the :code:`from_yaml()` method. You will see that all variables and parameters are already defined there.\nThese are the basic steps you perform, if you want to load a model that is\ndefined inside a yaml file. To check out the different model templates provided by PyRates, have a look at\nthe :code:`PyRates.model_templates` module.\n\n"
      ]
    },
    {
      "cell_type": "code",
      "execution_count": null,
      "metadata": {
        "collapsed": false
      },
      "outputs": [],
      "source": [
        "qif_circuit = CircuitTemplate.from_yaml(\"model_templates.montbrio.simple_montbrio.QIF_exc\").apply()"
      ]
    },
    {
      "cell_type": "markdown",
      "metadata": {},
      "source": [
        "Step 3: Loading the model into the backend\n------------------------------------------\n\nIn this example, we directly load the :code:`CircuitIR` instance into the backend via the  :code:`compile()` method\nwithout any further changes to the graph. This way, a :code:`pyrates.backend.NumpyBackend` instance is created.\nAfter this step, structural modifications of the network are not possible anymore.\n\n"
      ]
    },
    {
      "cell_type": "code",
      "execution_count": null,
      "metadata": {
        "collapsed": false
      },
      "outputs": [],
      "source": [
        "qif_compiled = qif_circuit.compile(backend='numpy', step_size=1e-3)"
      ]
    },
    {
      "cell_type": "markdown",
      "metadata": {},
      "source": [
        "Step 4: Numerical simulation of a the model behavior in time\n------------------------------------------------------------\n\nAfter loading the model into the backend, numerical simulations can be performed via the :code:`run()` method.\nCalling this function will solve the initial value problem of the above defined differential equations for a time\ninterval from 0 to the given simulation time.\nThis solution will be calculated numerically by a differential equation solver in the backend, starting with a defined\nstep-size.\n\n"
      ]
    },
    {
      "cell_type": "code",
      "execution_count": null,
      "metadata": {
        "collapsed": false
      },
      "outputs": [],
      "source": [
        "results = qif_compiled.run(simulation_time=40.0, outputs={'r': 'p/Op_e/r'})"
      ]
    },
    {
      "cell_type": "markdown",
      "metadata": {},
      "source": [
        "Step 5: Visualization of the solution\n-------------------------------------\n\nThe output of the :code:`run()` method is a :code:`pandas.Dataframe`, which comes with a :code:`plot()` method for\nplotting the timeseries it contains.\nThis timeseries represents the numerical solution of the initial value problem solved in step 4 with respect to the\nstate variable $r$ of the model.\n\n"
      ]
    },
    {
      "cell_type": "code",
      "execution_count": null,
      "metadata": {
        "collapsed": false
      },
      "outputs": [],
      "source": [
        "results.plot()"
      ]
    },
    {
      "cell_type": "markdown",
      "metadata": {},
      "source": [
        "QIF SFA Model\n=============\n\nNow, lets have a look at the QIF model with spike-frequency adaptation. We will follow the same steps as outlined\nabove.\n\n"
      ]
    },
    {
      "cell_type": "code",
      "execution_count": null,
      "metadata": {
        "collapsed": false
      },
      "outputs": [],
      "source": [
        "qif_sfa_circuit = CircuitTemplate.from_yaml(\"model_templates.montbrio.simple_montbrio.QIF_sfa\").apply()\nqif_sfa_compiled = qif_sfa_circuit.compile(backend='numpy', step_size=1e-3)\nresults = qif_sfa_compiled.run(simulation_time=40.0, outputs={'r': 'p/Op_sfa/r'})\nresults.plot()"
      ]
    },
    {
      "cell_type": "markdown",
      "metadata": {},
      "source": [
        "you can see that, by adding the adaptation variable to the model, we introduced synchronized bursting behavior to\nthe model. Check out [2]_ if you would like to test out some different parameter regimes and would like to know what\nkind of model behavior to expect if you make changes to the adaptation parameters. To change the parameters, you need\nto derive a new operator template from the given operator template in a yaml file and simply set the parameter you\nwould like to change. For a detailed introduction on how to handle model definitions via YAML files, have a look at\nthe model definition gallery.\n\n"
      ]
    }
  ],
  "metadata": {
    "kernelspec": {
      "display_name": "Python 3",
      "language": "python",
      "name": "python3"
    },
    "language_info": {
      "codemirror_mode": {
        "name": "ipython",
        "version": 3
      },
      "file_extension": ".py",
      "mimetype": "text/x-python",
      "name": "python",
      "nbconvert_exporter": "python",
      "pygments_lexer": "ipython3",
      "version": "3.7.4"
    }
  },
  "nbformat": 4,
  "nbformat_minor": 0
}