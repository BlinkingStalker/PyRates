{
  "cells": [
    {
      "cell_type": "code",
      "execution_count": null,
      "metadata": {
        "collapsed": false
      },
      "outputs": [],
      "source": [
        "%matplotlib inline"
      ]
    },
    {
      "cell_type": "markdown",
      "metadata": {},
      "source": [
        "\nYAML-Based Model Definitions\n============================\n\nIn this tutorial, you will learn how to use YAML definition files to implement a neurodynamic model with multiple\ninterconnected neural populations. In this process, the following questions will be answered:\n\n1. What is a YAML template file?\n2. How do I use the YAML templates to define my model\n3. What are the roles of the different types of YAML templates used in PyRates?\n4. How do I create a network model from a YAML template in Python?\n\nThroughout the tutorial, we will make use of the Jansen-Rit neural mass model [1]_, which describes the dynamic\ninteractions between 3 neural populations via their average firing rates. It has been used to describe the macroscopic,\nelectrophysiological activity within a cortical column. A graphic representation of such a model, placed inside a brain\nnetwork, can be found in the figure below.\n\n\n.. figure:: ../../../model_definition/images/pyrates_model.png\n   :width: 700\n\n   Figure 1\n\nThe structure of the full Jansen-Rit model is depicted in `fig1` B. As visualized for the pyramidal cell\npopulation in `fig1`C, the model can be decomposed into a number of generic mathematical operators that can be\nused to build the dynamic equations for the Jansen-Rit model. We will use this decomposition to introduce the different\npossibilities that exist in PyRates to compose the dynamic equations of a neural population from different operators.\nThis will be done for all 3 nodes (i.e. populations), which will then be connected via edges to yield the full\nJansen-Rit neural mass model. An alternative, single-operator way of the model definition will be introduced as well.\n\nReferences\n^^^^^^^^^^\n\n.. [1] B.H. Jansen & V.G. Rit (1995) *Electroencephalogram and visual evoked potential generation in a mathematical\n       model of coupled cortical columns.* Biological Cybernetics, 73(4): 357-366.\n"
      ]
    },
    {
      "cell_type": "markdown",
      "metadata": {},
      "source": [
        "What is a YAML template file?\n-----------------------------\n\n`YAML <https://yaml.org/spec/1.2/spec.html>`_ is a data formatting specification that aims to be human-readable\nand machine-readable at the same time. It's current installment can be thought of as an extension to the also popular\nJSON standard. PyRates uses YAML files to provide a simple and readable way to define network models without any\nPython code. Each yaml-based model definition will have to be placed inside a yaml file in order to be interpreted\nproperly, i.e. the file needs to have the ending *.yaml* or *.yml*.\n\n"
      ]
    },
    {
      "cell_type": "markdown",
      "metadata": {},
      "source": [
        "Part 1: Operator Templates\n--------------------------\n\nOperator templates are the way to define the governing mathematical equations of a model in PyRates.\nThey are called operators, since the dynamic equations of neural models can often be decomposed into meaningful\nmathematical operators that can be re-used at multiple instances. By defining such mathematical operators as distinct\noperator templates in PyRates, these operators just have to be defined once and can then be used to define different\nparts of a model. We will now go through the 2 major operators that the Jansen-Rit model can be decomposed into.\n\n"
      ]
    },
    {
      "cell_type": "markdown",
      "metadata": {},
      "source": [
        "Operator template for the PRO\n^^^^^^^^^^^^^^^^^^^^^^^^^^^^^\n\nBelow you see a YAML template that defines the so-called potential-to-rate operator (PRO) used within each neural\npopulation of the Jansen-Rit model. As the name suggests, this operator transforms the average membrane potential\nwithin a population into an average firing rate. It is defined by the following instantaneous, sigmoidal transform:\n\n\\begin{align}m_{out} = \\frac{m_{max}}{1 + e^{(r (V_{thr} - V))}}.\\end{align}\n\nIn this equation, $m_{out}$ and $V$ represent the average firing rate and membrane potential,\nrespectively, while $m_{max}$, $r$ and $V_{thr}$ are constants defining the maximum firing rate,\nfiring threshold variance and average firing threshold within the modeled population, respectively.\nA YAML template representation of this operator would look as follows:\n\n.. code-block:: yaml\n\n      PRO:\n          base: OperatorTemplate\n          equations: \"m_out = m_max / (1. + exp(r*(V_thr - V)))\"\n          variables:\n              m_out:\n                  default: output\n              V:\n                  default: input\n              m_max:\n                  default: 5.\n              r:\n                  default: 560.\n              V_thr:\n                  default: 6e-3\n\nAs can be seen, this operator takes a membrane potential $V$ as input, and returns a firing rate\n$m_{out}$ as output. Its typical, sigmoidal shape can be seen in `fig1` C.\n\n"
      ]
    },
    {
      "cell_type": "markdown",
      "metadata": {},
      "source": [
        "Operator template structure:\n^^^^^^^^^^^^^^^^^^^^^^^^^^^^\n\nAs can be seen from this definition of an operator, each operator template requires 3 fields:\n:code:`base`, :code:`equations` and :code:`variables`.\n\n:code:`base`\n  - indicates, which operator template to derive this template from\n  - The default base for an operator template is the python class :code:`OperatorTemplate`\n  - If you have other operator templates defined that are derived from :code:`OperatorTemplate`, you can use them as\n    base as well. In this case, you will inherit all equations and variables of this operator template. You can add\n    additional variables, or overwrite existing ones. Equations can only be added, but not overwritten.\n\n:code:`equations`\n  - contains the defining equations of this operator\n  - equations are defined as strings of characters\n  - if the operator is defined by a single equation, you can just provide the string\n  - If there is more than one equation, a list of string-based equations has to be provided. We will see an example of\n    this later.\n\n:code:`variables`\n  - contains the type and value definitions for each variable that appears in :code:`equations`\n  - each variable has to be scalar\n  - each variable definition starts with the name of the variable (i.e. the variable key)\n  - using the keyword :code:`default`, the default value and type of the scalar variable are defined\n  - possible keywords that can follow :code:`default` are\n\n      * :code:`variable` -> for state variables which can change over time. The initial value can be specified in\n        brackets, e.g. :code:`default: variable(0.1)`\n      * :code:`input` -> the variable will be provided with a value from a previous operator or external,\n        user-defined input\n      * :code:`output` -> the value of this variable can be connected to another operator\n      * a scalar value, e.g. :code:`default: 1.0` -> indicates that this variable is a constant with value 1.0\n\n\n"
      ]
    },
    {
      "cell_type": "markdown",
      "metadata": {},
      "source": [
        "Operator template for the RPO\n^^^^^^^^^^^^^^^^^^^^^^^^^^^^^\n\nThe second important operator in a Jansen-Rit model is the rate-to-potential operator (RPO). It is conceptualized\nas convolution with an alpha kernel, which can be expressed as a second-order description of the synaptic response\ndynamics:\n\n\\begin{align}\\dot V = I, \\\\\n      \\dot I = \\frac{H}{\\tau} m_{in} - \\frac{2 I}{\\tau} - \\frac{V}{\\tau^2}.\\end{align}\n\nIn these equations, $V$ represents the average post-synaptic potential and $H$ and $\\tau$ are the\nefficacy and the time-scale of the synapse, respectively.\nA PyRates YAML template for the RPO could look as shown below:\n\n.. code-block:: yaml\n\n      RPO_e:\n          base: OperatorTemplate\n          equations: ['d/dt * V = V_t',\n                      'd/dt * V_t = H/tau * m_in - 2 * V_t/tau - V/tau^2']\n          variables:\n              V:\n                  default: output\n              I:\n                  default: variable\n              m_in:\n                  default: input\n              tau:\n                  default: 0.01\n              H:\n                  default: 0.00325\n\nThis is an example of an operator with multiple equations, which are provided as a list of strings. The operator takes\na firing rate $m_{in}$ as input and returns a membrane potential $V$ as an output. The unit response of\nthat operator is depicted in `fig1` C. We use the sub-script *e* to denote that this operator defines the\nsynaptic response dynamic for an excitatory synapse. Since the PC population of the Jansen-Rit model expresses\ninhibitory synapses as well (see `fig1` B and C), we also need to define an inhibitory version of such a\nsynapse. This operator for this synapse will differ from the :code:`RPO_e` operator only in the constant values for\n$H$ and $\\tau$, i.e. it will have a different strength and different decay rate. However, since the\ngoverning equations will be equal, we can use the :code:`RPO_e` operator as the base template:\n\n.. code-block:: yaml\n\n      RPO_i:\n          base: RPO_e\n          variables:\n              tau:\n                  default: 0.02\n              H:\n                  default: -0.022\n\nNote, that we only re-defined the constants that needed to be changed, whereas everything else will be inherited from\n:code:`RPO_e`.\n\n"
      ]
    },
    {
      "cell_type": "markdown",
      "metadata": {},
      "source": [
        "Part 2: Node Templates\n----------------------\n\nNode templates are what is used in PyRates to define the dynamic equations of a network node\n(e.g. a neural population) via a hierarchy of operators, such as the ones defined above.\nUsing the two operator templates defined above (PRO and RPO), each population of the Jansen-Rit model can be defined.\nAs shown in `fig1` B, there exist 3 of those: pyramidal cells (PCs), excitatory interneurons (EINs) and\ninhibitory interneurons (IINs). We will now define separate node templates for each population.\n\n"
      ]
    },
    {
      "cell_type": "markdown",
      "metadata": {},
      "source": [
        "Node template for the EIN population\n^^^^^^^^^^^^^^^^^^^^^^^^^^^^^^^^^^^^\n\nAs can be seen in in `fig1` B, the EIN population receives its only (excitatory) input from the PC population.\nTo model the dynamic changes in the membrane potential that are caused by the firing rate input from the PC\npopulation, the :code:`RPO_e` operator is used. Furthermore, the EIN population projects back to the PC population\nvia an excitatory synapse. To receive the average firing rate of the EIN population that is required to implement this\nprojection, the PRO operator has to be applied to the output of the RPO operator. This provides the operator hierarchy\nthat governs the role of the EIN population in the Jansen-Rit model. A node template of this population would look as\nfollows:\n\n.. code-block:: yaml\n\n      EIN:\n          base: NodeTemplate\n          operators:\n              - RPO_e\n              - PRO\n\n"
      ]
    },
    {
      "cell_type": "markdown",
      "metadata": {},
      "source": [
        "Node template structure\n^^^^^^^^^^^^^^^^^^^^^^^\n\nIn comparison to operator templates, node templates only require the definition of 2 fields:\n:code:`base` and :code:`operators`.\n\n:code:`base`\n  - defines which node template to derive this specific node template from\n  - The default base for a node template is the python class :code:`NodeTemplate`\n  - If you have other node templates defined that are derived from :code:`NodeTemplate`, you can use them as base as\n    well. In this case, you will inherit all operators of this template. You can add additional\n    operators, but not overwrite existing ones.\n\n:code:`operators`\n  - contains a list of names of previously defined operators\n  - each list entry starts with a :code:`-` on a new line\n  - operator hierarchies are automatically derived from the :code:`input` and :code:`output` variables of each\n    operator\n  - thus, the sequence in which the operators are placed inside the node template does not matter\n  - however, circular dependencies between the operator inputs and outputs should be prevented (PyRates throws an\n    error if such circularities are detected)\n  - thus, an output variable on one operator, that should connect to the input variable of another operator, needs to\n    have the same name as this input variable\n\n"
      ]
    },
    {
      "cell_type": "markdown",
      "metadata": {},
      "source": [
        "Node template for the IIN population\n^^^^^^^^^^^^^^^^^^^^^^^^^^^^^^^^^^^^\n\nAs can be seen in `fig1` B, the IIN population shows an identical connectivity to the PC population as the EIN\npopulation. Thus, it expresses an identical operator structure. The only difference between EIN and IIN population is\nhow their projections back to the PC population affect the PC membrane potential, which is excitatory and inhibitory,\nrespectively. Hence, we will define the IIN population template as follows:\n\n.. code-block:: yaml\n\n      EIN:\n          base: NodeTemplate\n          operators:\n              - RPO_e\n              - PRO\n\n"
      ]
    },
    {
      "cell_type": "markdown",
      "metadata": {},
      "source": [
        "Node template for the PC population\n^^^^^^^^^^^^^^^^^^^^^^^^^^^^^^^^^^^\n\nNow, the center piece of the Jansen-Rit model is the PC population, which receives input from both the EIN and the IIN\npopulation. Their synapses have opposing influences on its membrane potential (note the different signs of the\nsynaptic efficacies $H$ used for the :code:`RPO_e` and :code:`RPO_i` operator definitions) and need to be\nimplemented via two separate operators that govern the synaptic dynamics of the EIN to PC and IIN to PC projections.\nOtherwise, the structure of the PC population is the same as that of the EIN and IIN population:\n\n.. code-block:: yaml\n\n      PC:\n          base: NodeTemplate\n          operators:\n              - RPO_e\n              - RPO_i\n              - PRO\n\nSince both the :code:`RPO_e` and the :code:`RPO_i` operator express an output variable $V$ and the :code:`PRO`\noperator requires $V$ as an input, PyRates will detect that there are multiple outputs mapping to a single\ninput variable. In such a case, a sum will be calculated over all output variables first, which is then provided as\ninput variable to the respective operator. In this specific example, the input $m_{in}$ of the PRO operator on\nthe PC population will be calculated as $m_{in} = V_e + V_i$ where $V_e$ and $V_i$ refer to the\noutput variables of the :code:`RPO_e` and :code:`RPO_i` operators, respectively.\n\n"
      ]
    },
    {
      "cell_type": "markdown",
      "metadata": {},
      "source": [
        "Part 3: Edge Templates\n----------------------\n\nEdge templates allow to define the dynamic equations for projections between nodes. For example, they could be used to\nmodel axonal delay distributions via a convolution with a delay distribution function. For this purpose, PyRates\nprovides the :code:`EdgeTemplate` base template. It follows exactly the same structure as a\n:code:`NodeTemplate`, i.e. it is defined via a :code:`base` and a colletion of :code:`operators`. Since the Jansen-Rit\nmodel uses very simple, linear projection operations (see the coupling operator *CO* in `fig1` D), no edge\ntemplates are required for this model. A detailed tutorial for how to implement different forms of edge operations\nsuch as delays, convolutions etc., will be provided by the *edge definitions* example in this gallery.\n\n"
      ]
    },
    {
      "cell_type": "markdown",
      "metadata": {},
      "source": [
        "Part 4: Circuit Templates\n-------------------------\n\nA circuit template is what is used in PyRates to combine a set of nodes and edges to a full network model.\n\n"
      ]
    },
    {
      "cell_type": "markdown",
      "metadata": {},
      "source": [
        "A circuit template for the Jansen-Rit model\n^^^^^^^^^^^^^^^^^^^^^^^^^^^^^^^^^^^^^^^^^^^\n\nIn the case of the Jansen-Rit model, this translates to connecting the PC, EIN and IIN populations via simple, linear\nedges that can be set up within the :code:`CircuitTemplate` as follows:\n\n.. code-block:: yaml\n\n      JRC:\n          base: CircuitTemplate\n          nodes:\n              EIN: EIN\n              IIN: IIN\n              PC: PC\n          edges:\n              - [PC/PRO/m_out, IIN/RPO_e/m_in, null, {weight: 33.75}]\n              - [PC/PRO/m_out, EIN/RPO_e/m_in, null, {weight: 135.}]\n              - [EIN/PRO/m_out, PC/RPO_e/m_in, null, {weight: 108.}]\n              - [IIN/PRO/m_out, PC/RPO_i/m_in, null, {weight: 33.75}]\n\nThis concludes the YAML-based definition of the Jansen-Rit model in PyRates.\n\n"
      ]
    },
    {
      "cell_type": "markdown",
      "metadata": {},
      "source": [
        "Circuit template structure\n^^^^^^^^^^^^^^^^^^^^^^^^^^\n\nA circuit template requires the definition of 3 fields: :code:`base`, :code:`nodes` and :code:`edges`.\n\n:code:`base`\n  - defines which circuit template to derive this specific circuit template from\n  - The default base for a circuit template is the python class :code:`CircuitTemplate`\n  - If you have other circuit templates defined that are derived from :code:`CircuitTemplate`, you can use them as\n     base as well. In this case, you will inherit all nodes and edges of this template. You can add additional\n     nodes and edges and overwrite existing nodes, but not edges.\n\n:code:`nodes`\n  - lists all nodes that this circuit is composed of\n  - each node definition starts in a new line, with the name that is given to the node within the circuit, followed\n    by the name of the node template that should be used (:code:`name_within_circuit: name_of_node_template`)\n\n:code:`edges`\n  - if no edges exist in circuit, this field can be skipped\n  - else, edges are defined by lists with four entries:\n\n      1. The source variable (`PC/PRO/m_out` refers to variable `m_out` in operator `PRO` of node `PC`)\n      2. The target variable\n      3. An edge template with additional operators (here, `null` means that no particular edge template is used).\n      4. A dictionary of variables and values that are specific to this edge.\n\n  - more complex syntax can be used within the four entries to define more complex edges. A tutorial on how to use\n    these will be provided by the *edge definitions* example in this gallery.\n\n"
      ]
    }
  ],
  "metadata": {
    "kernelspec": {
      "display_name": "Python 3",
      "language": "python",
      "name": "python3"
    },
    "language_info": {
      "codemirror_mode": {
        "name": "ipython",
        "version": 3
      },
      "file_extension": ".py",
      "mimetype": "text/x-python",
      "name": "python",
      "nbconvert_exporter": "python",
      "pygments_lexer": "ipython3",
      "version": "3.7.4"
    }
  },
  "nbformat": 4,
  "nbformat_minor": 0
}