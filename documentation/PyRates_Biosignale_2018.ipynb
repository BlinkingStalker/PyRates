{
 "cells": [
  {
   "cell_type": "code",
   "execution_count": null,
   "metadata": {
    "slideshow": {
     "slide_type": "skip"
    }
   },
   "outputs": [],
   "source": [
    "# plotting\n",
    "import matplotlib.pyplot as plt\n",
    "import matplotlib as mpl\n",
    "% matplotlib inline\n",
    "plt.style.reload_library()\n",
    "plt.style.use('ggplot')\n",
    "mpl.rcParams['lines.linewidth'] = 4\n",
    "mpl.rcParams['axes.titlesize'] = 20\n",
    "mpl.rcParams['axes.labelsize'] = 18\n",
    "mpl.rcParams['xtick.labelsize'] = 16\n",
    "mpl.rcParams['ytick.labelsize'] = 16\n",
    "mpl.rcParams['legend.fontsize'] = 16\n",
    "mpl.rcParams['figure.figsize'] = (5.0, 3.0)\n",
    "#mpl.rcParams['image.cmap'] = 'jet'\n",
    "%load_ext autoreload\n",
    "%autoreload 2\n",
    "\n",
    "# general\n",
    "import numpy as np\n",
    "import time, sys\n",
    "\n",
    "# slide stuff\n",
    "from traitlets.config.manager import BaseJSONConfigManager\n",
    "path = \"/home/rgast/anaconda3/envs/mne_presentation/etc/jupyter/nbconfig\"\n",
    "cm = BaseJSONConfigManager(config_dir=path)\n",
    "cm.update(\"livereveal\", {\n",
    "              \"theme\": \"simple\",\n",
    "              \"transition\": \"zoom\",\n",
    "              \"start_slideshow_at\": \"selected\"\n",
    "})"
   ]
  },
  {
   "cell_type": "markdown",
   "metadata": {
    "slideshow": {
     "slide_type": "slide"
    }
   },
   "source": [
    "<center>Biosignale 2018, 22.03.18\n",
    "----------------------------------\n",
    "\n",
    "<br></br>\n",
    "<img src=\"img/PyRates_logo.png\" alt=\"logo\" width=250 style=\"margin: 20px 30px\" ALIGN=\"left\" >\n",
    "\n",
    "<font color=\"red\">PyRates - A Python Framework for Rate-Based Neural Simulations</font>\n",
    "====================================\n",
    "\n",
    "<br></br>\n",
    "<br></br>\n",
    "\n",
    "\n",
    "*<center>Developed by Richard Gast & Daniel Rose within the MEG and Cortical Networks group and the Neurophysics department at the MPI CBS Leipzig*"
   ]
  },
  {
   "cell_type": "markdown",
   "metadata": {
    "slideshow": {
     "slide_type": "subslide"
    }
   },
   "source": [
    "<center>Overview\n",
    "----------------\n",
    "\n",
    "**<font color=\"red\">1. Introduction to Neural Mass Modeling (NMM)**\n",
    "    - Relevance for neuroscientific research\n",
    "    - Basic formalism\n",
    "**<font color=\"red\">2. PyRates**\n",
    "    - Framework structure\n",
    "    - Building NMMs in PyRates\n",
    "**<font color=\"red\">3. Example Simulations: The Jansen-Rit NMM**\n",
    "    - Bifurcations of the Jansen-Rit model\n",
    "    - SPectral responses of the Jansen-Rit model"
   ]
  },
  {
   "cell_type": "markdown",
   "metadata": {
    "slideshow": {
     "slide_type": "slide"
    }
   },
   "source": [
    "<img src=\"img/PyRates_logo.png\" width=350 style=\"float:right; margin: 20px 30px\">\n",
    "<font color=\"red\">1. Introduction\n",
    "---------------------------------"
   ]
  },
  {
   "cell_type": "markdown",
   "metadata": {
    "slideshow": {
     "slide_type": "subslide"
    }
   },
   "source": [
    "<img src=\"img/David_EEGsignal_origin.png\",width=600,height=400, ALIGN=\"right\">\n",
    "\n",
    "<font color=\"red\">What do we need computational modeling in neuroscience for?\n",
    "-----------------------------------------------------------------------------"
   ]
  },
  {
   "cell_type": "markdown",
   "metadata": {
    "slideshow": {
     "slide_type": "fragment"
    }
   },
   "source": [
    "* <font size=5>EEG/MEG signals mainly result from extracellular current flow"
   ]
  },
  {
   "cell_type": "markdown",
   "metadata": {
    "slideshow": {
     "slide_type": "fragment"
    }
   },
   "source": [
    "* <font size=5>They arise from large numbers of synchronously de- or hyperpolarized cells aligned in parallel"
   ]
  },
  {
   "cell_type": "markdown",
   "metadata": {
    "slideshow": {
     "slide_type": "fragment"
    }
   },
   "source": [
    "* <font size=5>A substantial amount of the brain's state variables cannot be observed non-invasively"
   ]
  },
  {
   "cell_type": "markdown",
   "metadata": {
    "slideshow": {
     "slide_type": "subslide"
    }
   },
   "source": [
    "<font color=\"red\">Neural Mass Models: Computational Models of neural population dynamics\n",
    "----------------------------------------------------------------------------------------"
   ]
  },
  {
   "cell_type": "markdown",
   "metadata": {
    "slideshow": {
     "slide_type": "fragment"
    }
   },
   "source": [
    "\n",
    "* <font size=6>biophysically motivated: They model average membrane potentials & firing rates of large cell populations"
   ]
  },
  {
   "cell_type": "markdown",
   "metadata": {
    "slideshow": {
     "slide_type": "fragment"
    }
   },
   "source": [
    "* <font size=6>Computationally feasible: They lump large cell numbers into a single state equation"
   ]
  },
  {
   "cell_type": "markdown",
   "metadata": {
    "slideshow": {
     "slide_type": "fragment"
    }
   },
   "source": [
    "* <font size=6>Can be compared with & informed by electrophysiological and MRI data"
   ]
  },
  {
   "cell_type": "markdown",
   "metadata": {
    "slideshow": {
     "slide_type": "subslide"
    }
   },
   "source": [
    "<font color=\"red\">Neural Mass Models: Basic Formalism\n",
    "-----------------------------------------------------"
   ]
  },
  {
   "cell_type": "markdown",
   "metadata": {
    "slideshow": {
     "slide_type": "fragment"
    }
   },
   "source": [
    "* <font size=6>Average membrane potential given by rate-to-potential operator (RTPO):</font>\n",
    "    \n",
    "    - <font size=5 color=\"b30000\">Explicit leaky capacitor (LC): <font size=6 color=\"Black\"> $\\dot{v(t)} = \\frac{I_{syn} + I_{leak}}{C}$</font>\n",
    "    \n",
    "        * <font color='black'>with $I_{syn} = \\sum\\nolimits_{s \\in syn} \\int_{t' = -\\infty}^{t} h_{s}(t - t') \\cdot p_s(t') dt'$ </font> \n",
    "    - <font size=5>Implicit LC: <font size=6 color=\"Black\">$v(t) = \\sum\\nolimits_{s \\in syn}\\int_{t' = -\\infty}^{t} h_{s}(t - t') \\cdot p_s(t') dt'$</font>\n",
    "    \n",
    "    - <font size=5>with a synaptic kernel typically given by: <font size=6 color=\"Black\">$h_{s}(t) = \\frac{H_{s} t \\exp(\\frac{-t}{\\tau_{s}})}{\\tau_{s}}$</font>"
   ]
  },
  {
   "cell_type": "markdown",
   "metadata": {
    "slideshow": {
     "slide_type": "fragment"
    }
   },
   "source": [
    "* <font size=6>Average firing rate given by potential-to-rate operator (PTRO).</font> \n",
    "    \n",
    "    - <font size=5 color=\"#b30000\">Often, a sigmoidal form is used: <font size=6 color=\"Black\">$p(t) = \\frac{2e_0}{1 + \\exp(r(v_0 - v(t)))}$"
   ]
  },
  {
   "cell_type": "markdown",
   "metadata": {
    "slideshow": {
     "slide_type": "subslide"
    }
   },
   "source": [
    "<font color=\"red\">Neural Mass Models: The Jansen-Rit Model\n",
    "----------------------------------------------------------\n",
    "\n",
    "Jansen & Rit (1995), Jansen et al. (1993)\n",
    "\n",
    "<img src=\"img/JRC_structure.png\" width=1000 ALIGN=\"left\" style=\"margin: 70px 100px\">"
   ]
  },
  {
   "cell_type": "markdown",
   "metadata": {
    "slideshow": {
     "slide_type": "slide"
    }
   },
   "source": [
    "<img src=\"img/PyRates_logo.png\" width=350 style=\"float:right; margin: 20px 30px\">\n",
    "<font color=\"red\">2. PyRates\n",
    "-----------------------------"
   ]
  },
  {
   "cell_type": "markdown",
   "metadata": {
    "slideshow": {
     "slide_type": "subslide"
    }
   },
   "source": [
    "<font color=\"red\">2. PyRates\n",
    "----------------------------"
   ]
  },
  {
   "cell_type": "markdown",
   "metadata": {
    "slideshow": {
     "slide_type": "fragment"
    }
   },
   "source": [
    "<img src=\"img/PyRates_structure.png\" width=600 style=\"float:right; margin:10px 20px\">\n",
    "\n",
    "<br></br>\n",
    "<br></br>\n",
    "Organized into 4 modules: \n",
    "* Axon\n",
    "* Synapse\n",
    "* Population \n",
    "* Circuit\n"
   ]
  },
  {
   "cell_type": "markdown",
   "metadata": {
    "slideshow": {
     "slide_type": "subslide"
    }
   },
   "source": [
    "<font color=\"red\">Creating custom neural masses in PyRates\n",
    "----------------------------------------------------------\n",
    "<font size=6>Axon module: No restrictions on functional form of potential-to-rate transform"
   ]
  },
  {
   "cell_type": "code",
   "execution_count": 55,
   "metadata": {
    "scrolled": false,
    "slideshow": {
     "slide_type": "fragment"
    }
   },
   "outputs": [
    {
     "data": {
      "image/png": "[encoded data removed]",
      "text/plain": [
       "<matplotlib.figure.Figure at 0x7f7b614525c0>"
      ]
     },
     "metadata": {},
     "output_type": "display_data"
    }
   ],
   "source": [
    "from core.axon import Axon, SigmoidAxon, JansenRitAxon\n",
    "\n",
    "axon = Axon(lambda x: 0.5*x)\n",
    "#axon = SigmoidAxon(max_firing_rate=1., membrane_potential_threshold=0., sigmoid_steepness=100.)\n",
    "ax = axon.plot_transfer_function(np.arange(-5, 5, 1), create_plot=False)"
   ]
  },
  {
   "cell_type": "markdown",
   "metadata": {
    "slideshow": {
     "slide_type": "subslide"
    }
   },
   "source": [
    "<font color=\"red\">Creating custom neural masses in PyRates\n",
    "----------------------------------------------\n",
    "<font size=6>Synapse module: Kernel convolutions of any functional form"
   ]
  },
  {
   "cell_type": "code",
   "execution_count": 56,
   "metadata": {
    "scrolled": false,
    "slideshow": {
     "slide_type": "fragment"
    }
   },
   "outputs": [
    {
     "data": {
      "image/png": "[encoded data removed]",
      "text/plain": [
       "<matplotlib.figure.Figure at 0x7f7b61639278>"
      ]
     },
     "metadata": {},
     "output_type": "display_data"
    }
   ],
   "source": [
    "from core.synapse import Synapse, DoubleExponentialSynapse, JansenRitExcitatorySynapse\n",
    "\n",
    "synapse = JansenRitExcitatorySynapse()\n",
    "synapse = DoubleExponentialSynapse(efficacy=1e-3, tau_rise=0.01, tau_decay=0.1, bin_size=0.001, max_delay=0.3)\n",
    "p = synapse.plot_synaptic_kernel(create_plot=False)"
   ]
  },
  {
   "cell_type": "markdown",
   "metadata": {
    "slideshow": {
     "slide_type": "subslide"
    }
   },
   "source": [
    "<font color=\"red\">Creating custom neural masses in PyRates\n",
    "----------------------------------------------------------\n",
    "<font size=5>Population module: Dynamic, automated choice of underlying equations solved during state updates "
   ]
  },
  {
   "cell_type": "code",
   "execution_count": 58,
   "metadata": {
    "slideshow": {
     "slide_type": "fragment"
    }
   },
   "outputs": [
    {
     "name": "stdout",
     "output_type": "stream",
     "text": [
      "Leaky capacitor formalism is used:           True\n",
      "Synaptic kernels are evaluated numerically:  False\n",
      "Plasticity mechanisms are enabled:           False\n"
     ]
    }
   ],
   "source": [
    "from core.population import Population\n",
    "\n",
    "population = Population(step_size=1e-3, \n",
    "                        synapses=['JansenRitExcitatorySynapse', 'JansenRitInhibitorySynapse'], \n",
    "                        axon='JansenRitAxon', synapse_class='ExponentialSynapse')\n",
    "\n",
    "print('Leaky capacitor formalism is used:          ', population.leaky_capacitor)\n",
    "print('Synaptic kernels are evaluated numerically: ', population.integro_differential)\n",
    "print('Plasticity mechanisms are enabled:          ', population.synaptic_plasticity or population.axonal_plasticity)"
   ]
  },
  {
   "cell_type": "markdown",
   "metadata": {
    "slideshow": {
     "slide_type": "subslide"
    }
   },
   "source": [
    "<font color=\"red\">Setting up NMMs in PyRates\n",
    "--------------------------------------------\n",
    "<font size=5>Circuit module: Multiple ways to construct networks of populations\n",
    "    \n",
    "* From population objects"
   ]
  },
  {
   "cell_type": "code",
   "execution_count": null,
   "metadata": {},
   "outputs": [],
   "source": [
    "from core.circuit import Circuit\n",
    "from core.population import Population\n",
    "\n",
    "pcs = Population(synapses=['JansenRitExcitatorySynapse', 'JansenRitInhibitorySynapse'], axon='JansenRitAxon',\n",
    "                 step_size=1e-3, synapse_class='ExponentialSynapse')\n",
    "eins = Population(synapses=['JansenRitExcitatorySynapse'], axon='JansenRitAxon', step_size=1e-3, synapse_class='ExponentialSynapse')\n",
    "iins = Population(synapses=['JansenRitExcitatorySynapse'], axon='JansenRitAxon', step_size=1e-3, synapse_class='ExponentialSynapse')\n",
    "\n",
    "connectivity = np.zeros((3, 3, 2))\n",
    "connectivity[[0, 1, 2], [1, 0, 0], 0] = [128., 135., 64.]\n",
    "connectivity[0, 2, 1] = 64.\n",
    "\n",
    "jrc0 = Circuit(populations=[pcs, eins, iins], connectivity=connectivity, delays=np.zeros((3, 3)), step_size=1e-3)"
   ]
  },
  {
   "cell_type": "markdown",
   "metadata": {
    "slideshow": {
     "slide_type": "subslide"
    }
   },
   "source": [
    "<font color=\"red\">Setting up NMMs in PyRates\n",
    "--------------------------------------------\n",
    "<font size=5>Circuit module: Multiple ways to construct networks of populations\n",
    "\n",
    "* From population types and connectivity information"
   ]
  },
  {
   "cell_type": "code",
   "execution_count": 59,
   "metadata": {
    "slideshow": {
     "slide_type": "fragment"
    }
   },
   "outputs": [],
   "source": [
    "from core.circuit import CircuitFromPopulations\n",
    "\n",
    "populations = ['JansenRitPyramidalCells', 'JansenRitInterneurons', 'JansenRitInterneurons']\n",
    "jrc1 = CircuitFromPopulations(population_types=populations, connectivity=jrc0.C, step_size=1e-3, tau_leak=None)"
   ]
  },
  {
   "cell_type": "markdown",
   "metadata": {
    "slideshow": {
     "slide_type": "subslide"
    }
   },
   "source": [
    "<font color=\"red\">Setting up NMMs in PyRates\n",
    "--------------------------------------------\n",
    "<font size=5>Circuit module: Multiple ways to construct networks of populations\n",
    "\n",
    "* From available templates"
   ]
  },
  {
   "cell_type": "code",
   "execution_count": null,
   "metadata": {
    "slideshow": {
     "slide_type": "fragment"
    }
   },
   "outputs": [],
   "source": [
    "from core.circuit import JansenRitCircuit\n",
    "\n",
    "jrc2 = JansenRitCircuit(step_size=1e-3)"
   ]
  },
  {
   "cell_type": "markdown",
   "metadata": {
    "slideshow": {
     "slide_type": "subslide"
    }
   },
   "source": [
    "<font color=\"red\">Setting up NMMs in PyRates\n",
    "--------------------------------------------\n",
    "<font size=5>Circuit module: Multiple ways to construct networks of populations\n",
    "\n",
    "* From a set of existing circuits"
   ]
  },
  {
   "cell_type": "code",
   "execution_count": null,
   "metadata": {
    "slideshow": {
     "slide_type": "fragment"
    }
   },
   "outputs": [],
   "source": [
    "from core.circuit import CircuitFromCircuit\n",
    "\n",
    "jrc4 = CircuitFromCircuit([jrc0, jrc1, jrc2], connection_strengths=[100., 50.], source_populations=[0, 3], target_populations=[3, 6], target_synapses=[0, 0])"
   ]
  },
  {
   "cell_type": "markdown",
   "metadata": {
    "slideshow": {
     "slide_type": "subslide"
    }
   },
   "source": [
    "<font color=\"red\">Setting up NMMs in PyRates\n",
    "--------------------------------------------\n",
    "<font size=5>Circuit module: Multiple ways to construct networks of populations\n",
    "\n",
    "* From a stored circuit configuration file"
   ]
  },
  {
   "cell_type": "code",
   "execution_count": null,
   "metadata": {
    "slideshow": {
     "slide_type": "fragment"
    }
   },
   "outputs": [],
   "source": [
    "from core.utility.construct import construct_circuit_from_file\n",
    "\n",
    "jrc5 = construct_circuit_from_file('../tests/resources/test_4_1_JR_alpha.json')"
   ]
  },
  {
   "cell_type": "markdown",
   "metadata": {
    "slideshow": {
     "slide_type": "slide"
    }
   },
   "source": [
    "<img src=\"img/PyRates_logo.png\" width=350 style=\"float:right; margin: 20px 30px\">\n",
    "<font color=\"red\">3. Example Simulations: <br><br/>The Jansen-Rit NMM\n",
    "------------------------------------------------------------"
   ]
  },
  {
   "cell_type": "code",
   "execution_count": 61,
   "metadata": {
    "slideshow": {
     "slide_type": "subslide"
    }
   },
   "outputs": [
    {
     "data": {
      "image/png": "[encoded data removed]",
      "text/plain": [
       "<matplotlib.figure.Figure at 0x7f7b619f49b0>"
      ]
     },
     "metadata": {},
     "output_type": "display_data"
    }
   ],
   "source": [
    "from core.circuit import JansenRitCircuit\n",
    "\n",
    "step_size=1e-3\n",
    "#synapse_params = [{'tau': 3e-3, 'efficacy': 3.25e-3 * (10e-3 / 3e-3)}, {'tau': 3e-3, 'efficacy': -22e-3 * (20e-3 / 3e-3)}]\n",
    "circuit = JansenRitCircuit(step_size=step_size, connectivity_scaling=100., synapse_params=None)\n",
    "\n",
    "simulation_time = 1.\n",
    "synaptic_input = np.zeros((int(simulation_time / step_size), 3, 2))\n",
    "synaptic_input[:, 0, 0] = np.random.uniform(120, 320, int(simulation_time / step_size))\n",
    "\n",
    "circuit.run(synaptic_input, simulation_time)\n",
    "fig, axes = plt.subplots(figsize=(14, 4))\n",
    "axes = circuit.plot_population_states(create_plot=False, axes=axes)"
   ]
  },
  {
   "cell_type": "markdown",
   "metadata": {
    "slideshow": {
     "slide_type": "slide"
    }
   },
   "source": [
    "<font color=\"red\">4. Conclusion\n",
    "-------------------------------"
   ]
  },
  {
   "cell_type": "markdown",
   "metadata": {
    "slideshow": {
     "slide_type": "fragment"
    }
   },
   "source": [
    "* <font size=5>PyRates is a novel, Python based NMM framework"
   ]
  },
  {
   "cell_type": "markdown",
   "metadata": {
    "slideshow": {
     "slide_type": "fragment"
    }
   },
   "source": [
    "* <font size=5>It provides a high degree of flexibility in designing each neural mass in a network"
   ]
  },
  {
   "cell_type": "markdown",
   "metadata": {
    "slideshow": {
     "slide_type": "fragment"
    }
   },
   "source": [
    "* <font size=5>Standard NMM networks are set up & simulated within a few lines of comprehensible code "
   ]
  },
  {
   "cell_type": "markdown",
   "metadata": {
    "slideshow": {
     "slide_type": "fragment"
    }
   },
   "source": [
    "* <font size=5>Tests, documentations and working examples are provided for nearly every functionality in PyRates"
   ]
  },
  {
   "cell_type": "markdown",
   "metadata": {
    "slideshow": {
     "slide_type": "fragment"
    }
   },
   "source": [
    "* <font size=5>Interfaces to other Python packages (e.g. for subsequent analyses) are provided:\n",
    "    <font size=4>\n",
    "    - networkx\n",
    "    - MNE"
   ]
  },
  {
   "cell_type": "markdown",
   "metadata": {
    "slideshow": {
     "slide_type": "slide"
    }
   },
   "source": [
    "<center><font color=\"red\">Thank you!\n",
    "====================================\n",
    "\n",
    "<center><img src=\"img/PyRates_logo.png\" width=300>\n",
    "    \n",
    "**<center>We expect to make PyRates available on Github in July 2018**"
   ]
  }
 ],
 "metadata": {
  "celltoolbar": "Slideshow",
  "kernelspec": {
   "display_name": "Python 3",
   "language": "python",
   "name": "python3"
  },
  "language_info": {
   "codemirror_mode": {
    "name": "ipython",
    "version": 3
   },
   "file_extension": ".py",
   "mimetype": "text/x-python",
   "name": "python",
   "nbconvert_exporter": "python",
   "pygments_lexer": "ipython3",
   "version": "3.6.2"
  }
 },
 "nbformat": 4,
 "nbformat_minor": 2
}
