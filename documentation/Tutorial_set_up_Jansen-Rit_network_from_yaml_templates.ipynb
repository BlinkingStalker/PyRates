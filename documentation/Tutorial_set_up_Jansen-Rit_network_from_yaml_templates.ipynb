{
 "cells": [
  {
   "cell_type": "markdown",
   "metadata": {},
   "source": [
    "# Tutorial: Setting up a Jansen-Rit network model using YAML templates\n",
    "\n",
    "This tutorial shows you how to set up a network model according to Jansen & Rit (Biol. Cybern., 1995). The following questions will be answered in the respective order:\n",
    "1. What is a YAML template file?\n",
    "2. How do I create a network model from my template?\n",
    "3. How do I run simulations on my network model?\n",
    "    \n",
    "@Richard: Soll das Jansen-Rit-Modell hier erklärt werden oder passiert das vorher?"
   ]
  },
  {
   "cell_type": "markdown",
   "metadata": {},
   "source": [
    "## Part 1: What is a YAML template file?\n",
    "\n",
    "[YAML](https://yaml.org/spec/1.2/spec.html) is a data formatting specification that aims to be human-readable and machine-readable at the same time. It's current installment can be thought of an extension to the also popular JSON standard. \n",
    "\n",
    "We use YAML files to provide a simple and readable way to define network models without any Python code. Below you see a YAML template that defines the potential-to-rate operator (PRO) in a neural population. It defines an operator with the equation\n",
    "$$m_{out} = \\frac{m_{max}}{1. + \\exp{(r \\cdot (V_{thr} - PSP))}}$$\n",
    "as well as all variables in that equation.\n",
    "\n",
    "```yaml\n",
    "PRO:\n",
    "  base: OperatorTemplate\n",
    "  equations: \"m_out = m_max / (1. + exp(r*(V_thr - PSP)))\"\n",
    "  variables:\n",
    "    m_out:\n",
    "      default: output\n",
    "    PSP:\n",
    "      default: input\n",
    "    m_max:\n",
    "      default: 5.\n",
    "    r:\n",
    "      default: 560.\n",
    "    V_thr:\n",
    "      default: 6e-3\n",
    "```"
   ]
  },
  {
   "cell_type": "markdown",
   "metadata": {},
   "source": [
    "#### Note the following:\n",
    "- PRO defines an operator, so its **`base`** is the python class `OperatorTemplate`. \n",
    "- There can be more than one equation in `equations`, but will stick to one for now\n",
    "- with the keyword `default` the type and default value of variables in the given equations, the following are special variable types:\n",
    "  - `input`: the variable will be provided with a value from a previous operator\n",
    "  - `output`: the value of this variable will be passed to next operator\n",
    "- You can also create sub-templates that overwrite parts of a template or extend it."
   ]
  },
  {
   "cell_type": "markdown",
   "metadata": {},
   "source": [
    "#### A full network model is called a *circuit* and consists of *nodes* and *edges*, which contain *operators*. \n",
    "This is a simple node template for an inhibitory interneuron population (IIN):\n",
    "\n",
    "```yaml\n",
    "IIN:\n",
    "  base: NodeTemplate\n",
    "  operators:\n",
    "    - RPO_e\n",
    "    - PRO\n",
    "```\n",
    "\n",
    "Multiple nodes are connected with edges to a circuit. The following circuit template contains one population each of pyramidal projection cells (PC), inhibitory and excitatory interneurons (IIN, EIN):\n",
    "\n",
    "```yaml\n",
    "JRC:\n",
    "  base: CircuitTemplate\n",
    "  nodes:\n",
    "    EIN: EIN\n",
    "    IIN: IIN\n",
    "    PC: PC\n",
    "  edges:\n",
    "    - [PC/PRO/m_out, IIN/RPO_e/m_in, null, {weight: 33.75}]\n",
    "    - [PC/PRO/m_out, EIN/RPO_e/m_in, null, {weight: 135.}]\n",
    "    - [EIN/PRO/m_out, PC/RPO_e_pc/m_in, null, {weight: 108.}]\n",
    "    - [IIN/PRO/m_out, PC/RPO_i/m_in, null, {weight: 33.75}]\n",
    "```\n",
    "\n",
    "`edges` are defined by a list with four entries:\n",
    "1. The source variable (`PC/PRO/m_out` refers to variable `m_out` in operator `PRO` of node `PC`)\n",
    "2. The target variable\n",
    "3. An edge template with additional operators (here, `null` means that no particular edge template is used).\n",
    "4. A dictionary of variables and values that are specific to this edge. \n",
    "\n",
    "Independent of any operators, an edge will always apply a `weight` to scale the source variable and a `delay` which defaults to zero in the above case."
   ]
  },
  {
   "cell_type": "markdown",
   "metadata": {},
   "source": [
    "## Part 2: How do I create a network model from my template?\n",
    "\n",
    "Network models are loaded using the `frontend` module of PyRates. This module defines the template classes with a handy `.from_yaml` method to load YAML templates. For example, we can load the above operator template using the `OperatorTemplate` class: \n"
   ]
  },
  {
   "cell_type": "code",
   "execution_count": 44,
   "metadata": {},
   "outputs": [
    {
     "data": {
      "text/plain": [
       "<OperatorTemplate '../model_templates/jansen_rit/simple_jansenrit/PRO'>"
      ]
     },
     "execution_count": 44,
     "metadata": {},
     "output_type": "execute_result"
    }
   ],
   "source": [
    "from pyrates.frontend import OperatorTemplate\n",
    "template = OperatorTemplate.from_yaml(\"../model_templates/jansen_rit/simple_jansenrit/PRO\")\n",
    "template"
   ]
  },
  {
   "cell_type": "markdown",
   "metadata": {},
   "source": [
    "Template properties are accessible via attributes, e.g.:"
   ]
  },
  {
   "cell_type": "code",
   "execution_count": 45,
   "metadata": {},
   "outputs": [
    {
     "data": {
      "text/plain": [
       "['m_out = m_max / (1. + exp(r*(V_thr - PSP)))']"
      ]
     },
     "execution_count": 45,
     "metadata": {},
     "output_type": "execute_result"
    }
   ],
   "source": [
    "template.equations"
   ]
  },
  {
   "cell_type": "code",
   "execution_count": 46,
   "metadata": {},
   "outputs": [
    {
     "data": {
      "text/plain": [
       "{'m_out': {'default': 'output'},\n",
       " 'PSP': {'default': 'input'},\n",
       " 'm_max': {'default': 5.0},\n",
       " 'r': {'default': 560.0},\n",
       " 'V_thr': {'default': 0.006}}"
      ]
     },
     "execution_count": 46,
     "metadata": {},
     "output_type": "execute_result"
    }
   ],
   "source": [
    "template.variables"
   ]
  },
  {
   "cell_type": "markdown",
   "metadata": {},
   "source": [
    "__Note:__ The same can be achieved by passing the necessary data to the template class in python. You do not need to use YAML templates, if you don't want to."
   ]
  },
  {
   "cell_type": "code",
   "execution_count": 47,
   "metadata": {},
   "outputs": [],
   "source": [
    "# construct a 2nd template with the same properties, but using the class constructor instead of the YAML parser\n",
    "template2 = OperatorTemplate(template.name, template.path, template.equations, \n",
    "                             template.variables, template.__doc__)"
   ]
  },
  {
   "cell_type": "code",
   "execution_count": 48,
   "metadata": {},
   "outputs": [
    {
     "data": {
      "text/plain": [
       "True"
      ]
     },
     "execution_count": 48,
     "metadata": {},
     "output_type": "execute_result"
    }
   ],
   "source": [
    "# verify that the contents of both templates are the same\n",
    "template2.__dict__ == template.__dict__"
   ]
  },
  {
   "cell_type": "markdown",
   "metadata": {},
   "source": [
    "### Loading a circuit template\n",
    "Just like an `OperatorTemplate`, we can use `CircuitTemplate` to load a circuit:"
   ]
  },
  {
   "cell_type": "code",
   "execution_count": 49,
   "metadata": {},
   "outputs": [],
   "source": [
    "from pyrates.frontend import CircuitTemplate\n",
    "circuit_template = CircuitTemplate.from_yaml(\"../model_templates/jansen_rit/simple_jansenrit/JRC\")"
   ]
  },
  {
   "cell_type": "code",
   "execution_count": 50,
   "metadata": {},
   "outputs": [
    {
     "data": {
      "text/plain": [
       "{'EIN': <NodeTemplate '..\\model_templates\\jansen_rit\\simple_jansenrit\\EIN'>,\n",
       " 'IIN': <NodeTemplate '..\\model_templates\\jansen_rit\\simple_jansenrit\\IIN'>,\n",
       " 'PC': <NodeTemplate '..\\model_templates\\jansen_rit\\simple_jansenrit\\PC'>}"
      ]
     },
     "execution_count": 50,
     "metadata": {},
     "output_type": "execute_result"
    }
   ],
   "source": [
    "circuit_template.nodes"
   ]
  },
  {
   "cell_type": "markdown",
   "metadata": {},
   "source": [
    "### Instantiating a circuit: The Intermediate Representation\n",
    "After the model has been defined using the `frontend` layer, it will be transformed into an `intermediate representation`(IR). Every template class has an `.apply()` method that does all the heavy lifting."
   ]
  },
  {
   "cell_type": "code",
   "execution_count": 51,
   "metadata": {},
   "outputs": [
    {
     "data": {
      "text/plain": [
       "<pyrates.ir.circuit.CircuitIR at 0x1de4ee415c0>"
      ]
     },
     "execution_count": 51,
     "metadata": {},
     "output_type": "execute_result"
    }
   ],
   "source": [
    "circuit = circuit_template.apply()\n",
    "circuit"
   ]
  },
  {
   "cell_type": "markdown",
   "metadata": {},
   "source": [
    "Note that the circuit IR the popular and powerful network graph tool `networkx`. The following interfaces are inherited from `networkx.MultiDiGraph`:"
   ]
  },
  {
   "cell_type": "code",
   "execution_count": 52,
   "metadata": {},
   "outputs": [
    {
     "data": {
      "text/plain": [
       "NodeView(('EIN.0', 'IIN.0', 'PC.0'))"
      ]
     },
     "execution_count": 52,
     "metadata": {},
     "output_type": "execute_result"
    }
   ],
   "source": [
    "circuit.nodes"
   ]
  },
  {
   "cell_type": "code",
   "execution_count": 53,
   "metadata": {},
   "outputs": [
    {
     "data": {
      "text/plain": [
       "OutMultiEdgeView([('EIN.0', 'PC.0', 0), ('IIN.0', 'PC.0', 0), ('PC.0', 'IIN.0', 0), ('PC.0', 'EIN.0', 0)])"
      ]
     },
     "execution_count": 53,
     "metadata": {},
     "output_type": "execute_result"
    }
   ],
   "source": [
    "circuit.edges"
   ]
  },
  {
   "cell_type": "code",
   "execution_count": 54,
   "metadata": {},
   "outputs": [
    {
     "data": {
      "text/plain": [
       "{'edge_ir': <pyrates.ir.edge.EdgeIR at 0x1de4ee41668>,\n",
       " 'weight': 108.0,\n",
       " 'delay': None,\n",
       " 'source_var': 'PRO.0/m_out',\n",
       " 'target_var': 'RPO_e_pc.0/m_in'}"
      ]
     },
     "execution_count": 54,
     "metadata": {},
     "output_type": "execute_result"
    }
   ],
   "source": [
    "# reference to edge properties opeator\n",
    "circuit.edges[('EIN.0', 'PC.0', 0)]"
   ]
  },
  {
   "cell_type": "markdown",
   "metadata": {},
   "source": [
    "### Visualize the network\n",
    "\n",
    "Using `networkx`, we can draw a simple representation of our network:\n",
    "\n",
    "**Note:** Multiple edges are displayed as one line"
   ]
  },
  {
   "cell_type": "code",
   "execution_count": 55,
   "metadata": {},
   "outputs": [
    {
     "data": {
      "image/png": "[encoded data removed]",
      "text/plain": [
       "<Figure size 432x288 with 1 Axes>"
      ]
     },
     "metadata": {},
     "output_type": "display_data"
    }
   ],
   "source": [
    "import matplotlib.pyplot as plt\n",
    "import networkx as nx\n",
    "pos=nx.spring_layout(circuit.graph)\n",
    "nx.draw_shell(circuit.graph, with_labels=True, node_size=2000, arrowsize=30)"
   ]
  },
  {
   "cell_type": "markdown",
   "metadata": {},
   "source": [
    "The following a custom implementation using `pydot`:"
   ]
  },
  {
   "cell_type": "code",
   "execution_count": 56,
   "metadata": {},
   "outputs": [
    {
     "data": {
      "image/png": "[encoded data removed]",
      "text/plain": [
       "<IPython.core.display.Image object>"
      ]
     },
     "execution_count": 56,
     "metadata": {},
     "output_type": "execute_result"
    }
   ],
   "source": [
    "from pyrates.utility.visualization import plot_network_graph\n",
    "plot_network_graph(circuit)"
   ]
  },
  {
   "cell_type": "markdown",
   "metadata": {},
   "source": [
    "## Part 3: How do I run simulations on my network model?\n",
    "\n",
    "The *intermediate representation* is a user-friendly representation of a network model. Computations are realised via a *computation backend*. In the backend, the IR is restructured into what we call the `ComputeGraph`:"
   ]
  },
  {
   "cell_type": "code",
   "execution_count": 57,
   "metadata": {},
   "outputs": [],
   "source": [
    "T = 10.0\n",
    "dt = 0.0001\n",
    "from pyrates.backend import ComputeGraph\n",
    "net = ComputeGraph(circuit , vectorization=\"nodes\", dt=dt)\n"
   ]
  },
  {
   "cell_type": "markdown",
   "metadata": {},
   "source": [
    "Note that the reorganised network consists of 2 instead of 3 nodes, because the EIN and IIN nodes actually contain the same equations:"
   ]
  },
  {
   "cell_type": "code",
   "execution_count": 80,
   "metadata": {},
   "outputs": [
    {
     "data": {
      "text/plain": [
       "NodeView(('IIN_EIN_all.0', 'PC_all.0'))"
      ]
     },
     "execution_count": 80,
     "metadata": {},
     "output_type": "execute_result"
    }
   ],
   "source": [
    "net.net_config.nodes"
   ]
  },
  {
   "cell_type": "markdown",
   "metadata": {},
   "source": [
    "Simulations are started using the `.run` method of our `ComputeGraph`. Note that we are using a so called *placeholder* variable `u` to pass external input to drive the circuit. The variable `u` is contained in the operator `RPO_e_pc.0` of our `PC` node:"
   ]
  },
  {
   "cell_type": "code",
   "execution_count": 87,
   "metadata": {},
   "outputs": [],
   "source": [
    "import numpy as np\n",
    "ext_input = 200 +  np.random.normal(scale=20*np.sqrt(dt), size=int(T/dt))\n",
    "results = net.run(simulation_time = T, \n",
    "                  outputs={'V': ('PC', 'PRO.0', 'PSP')}, \n",
    "                  inputs={('PC', 'RPO_e_pc.0', 'u'): ext_input})"
   ]
  },
  {
   "cell_type": "markdown",
   "metadata": {},
   "source": [
    "Simulation results are returned as a handy `pandas.DataFrame`:"
   ]
  },
  {
   "cell_type": "code",
   "execution_count": 89,
   "metadata": {},
   "outputs": [
    {
     "data": {
      "text/html": [
       "<div>\n",
       "<style scoped>\n",
       "    .dataframe tbody tr th:only-of-type {\n",
       "        vertical-align: middle;\n",
       "    }\n",
       "\n",
       "    .dataframe tbody tr th {\n",
       "        vertical-align: top;\n",
       "    }\n",
       "\n",
       "    .dataframe thead tr th {\n",
       "        text-align: left;\n",
       "    }\n",
       "</style>\n",
       "<table border=\"1\" class=\"dataframe\">\n",
       "  <thead>\n",
       "    <tr>\n",
       "      <th>var</th>\n",
       "      <th>V</th>\n",
       "    </tr>\n",
       "    <tr>\n",
       "      <th>node</th>\n",
       "      <th>PC</th>\n",
       "    </tr>\n",
       "  </thead>\n",
       "  <tbody>\n",
       "    <tr>\n",
       "      <th>0.0000</th>\n",
       "      <td>0.000000e+00</td>\n",
       "    </tr>\n",
       "    <tr>\n",
       "      <th>0.0001</th>\n",
       "      <td>6.489055e-07</td>\n",
       "    </tr>\n",
       "    <tr>\n",
       "      <th>0.0002</th>\n",
       "      <td>1.932033e-06</td>\n",
       "    </tr>\n",
       "    <tr>\n",
       "      <th>0.0003</th>\n",
       "      <td>3.835627e-06</td>\n",
       "    </tr>\n",
       "    <tr>\n",
       "      <th>0.0004</th>\n",
       "      <td>6.345845e-06</td>\n",
       "    </tr>\n",
       "  </tbody>\n",
       "</table>\n",
       "</div>"
      ],
      "text/plain": [
       "var                V\n",
       "node              PC\n",
       "0.0000  0.000000e+00\n",
       "0.0001  6.489055e-07\n",
       "0.0002  1.932033e-06\n",
       "0.0003  3.835627e-06\n",
       "0.0004  6.345845e-06"
      ]
     },
     "execution_count": 89,
     "metadata": {},
     "output_type": "execute_result"
    }
   ],
   "source": [
    "results.head()"
   ]
  },
  {
   "cell_type": "code",
   "execution_count": 88,
   "metadata": {},
   "outputs": [
    {
     "data": {
      "text/plain": [
       "<matplotlib.axes._subplots.AxesSubplot at 0x1de55f2e9e8>"
      ]
     },
     "execution_count": 88,
     "metadata": {},
     "output_type": "execute_result"
    },
    {
     "data": {
      "image/png": "[encoded data removed]",
      "text/plain": [
       "<Figure size 432x288 with 1 Axes>"
      ]
     },
     "metadata": {
      "needs_background": "light"
     },
     "output_type": "display_data"
    }
   ],
   "source": [
    "results.plot()"
   ]
  }
 ],
 "metadata": {
  "kernelspec": {
   "display_name": "Python 3",
   "language": "python",
   "name": "python3"
  },
  "language_info": {
   "codemirror_mode": {
    "name": "ipython",
    "version": 3
   },
   "file_extension": ".py",
   "mimetype": "text/x-python",
   "name": "python",
   "nbconvert_exporter": "python",
   "pygments_lexer": "ipython3",
   "version": "3.6.8"
  }
 },
 "nbformat": 4,
 "nbformat_minor": 2
}
